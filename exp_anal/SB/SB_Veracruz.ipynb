{
 "cells": [
  {
   "cell_type": "markdown",
   "metadata": {},
   "source": [
    "# SB Results: Bad Bids "
   ]
  },
  {
   "cell_type": "markdown",
   "metadata": {},
   "source": [
    "## Imports"
   ]
  },
  {
   "cell_type": "code",
   "execution_count": 1,
   "metadata": {},
   "outputs": [],
   "source": [
    "%load_ext autoreload\n",
    "%autoreload 2"
   ]
  },
  {
   "cell_type": "code",
   "execution_count": 2,
   "metadata": {},
   "outputs": [],
   "source": [
    "import pathlib\n",
    "import warnings\n",
    "warnings.filterwarnings(\"ignore\")\n",
    "\n",
    "import pathlib\n",
    "import pandas as pd\n",
    "from pathlib import Path\n",
    "import numpy as np\n",
    "from datetime import timedelta\n",
    "\n",
    "import matplotlib\n",
    "import matplotlib.pyplot as plt\n",
    "import seaborn as sns\n",
    "import plotly.express as px\n",
    "from plotly.subplots import make_subplots\n",
    "import plotly.graph_objects as go\n",
    "import plotly.offline as pyo\n",
    "\n",
    "\n",
    "\n",
    "from src.download import download_experiment_data, download_recprice_data, download_order_data, download_bid_data\n",
    "from src.metrics import calculate_absolute_metrics, get_switchback_results, calculate_ratio_metrics\n",
    "from src.prepare import prepare_recprice_data, prepare_order_data, prepare_bid_data, get_orders_with_recprice_df, get_hex, add_algo_name_new\n",
    "from src.visualization import plot_conversions_by_time, plot_prices_by_time, plot_times_by_time\n",
    "from src.visualization import plot_metric_by_time, plot_metric_by_hex, plot_switches_matrix\n",
    "from src.distributions import plot_density_anime, plot_density, plot_density_simple, plot_density_overlay\n",
    "from src.heatmap import plot_heatmap\n"
   ]
  },
  {
   "cell_type": "markdown",
   "metadata": {},
   "source": [
    "## __Veracruz [Mexico, 4180]__\n",
    "\n",
    "- https://ab.aws.indriverapp.com/switchbacks/new_order/2762"
   ]
  },
  {
   "cell_type": "markdown",
   "metadata": {},
   "source": [
    "### Parameters"
   ]
  },
  {
   "cell_type": "markdown",
   "metadata": {},
   "source": [
    "Essential metrics"
   ]
  },
  {
   "cell_type": "code",
   "execution_count": 3,
   "metadata": {},
   "outputs": [],
   "source": [
    "from src.metrics import METRIC_LIST\n",
    "\n",
    "NOT_ESSENTIAL_METRIC_LIST = [\n",
    "    # market\n",
    "    [\"cp2bid\", \"start_price_bid_orders_count\", \"calcprices_count\"],\n",
    "    [\"cp2start_price_bid\", \"start_price_bid_orders_count\", \"calcprices_count\"],\n",
    "    [\"cp2done\", \"rides_count\", \"calcprices_count\"],\n",
    "    ['tenders_per_order', 'tenders_count', 'orders_count'],    \n",
    "    ['tenders_per_driver', 'tenders_count', 'drivers_count'],\n",
    "    ['tenders_per_order_with_bid', 'tenders_count', 'orders_with_bids_count'],\n",
    "    \n",
    "    # prices\n",
    "    ['price_bid_option_other1', 'bids_option_other1_bid_price_currency_sum', 'bids_option_other1_count'],\n",
    "    ['price_bid_option_other2', 'bids_option_other2_bid_price_currency_sum', 'bids_option_other2_count'],\n",
    "    ['price_bid_option_other3', 'bids_option_other3_bid_price_currency_sum', 'bids_option_other3_count'],\n",
    "    [\"price_tender_usd\", \"price_tender_usd_sum\", \"tenders_count\"],\n",
    "    \n",
    "    # orders\n",
    "    # order2bid\n",
    "    ['order2bid_option_other1', 'orders_with_bid_option_other1_count', 'orders_count'],\n",
    "    ['order2bid_option_other2', 'orders_with_bid_option_other2_count', 'orders_count'],\n",
    "    ['order2bid_option_other3', 'orders_with_bid_option_other3_count', 'orders_count'],\n",
    "    # order2accept\n",
    "    ['order2accept_option_other1', 'accepted_bids_option_other1_count', 'orders_count'],\n",
    "    ['order2accept_option_other2', 'accepted_bids_option_other2_count', 'orders_count'],\n",
    "    ['order2accept_option_other3', 'accepted_bids_option_other3_count', 'orders_count'],\n",
    "    # order2done\n",
    "    ['order2done_bid_option_other1', 'rides_by_bid_option_other1_count', 'orders_count'],\n",
    "    ['order2done_bid_option_other2', 'rides_by_bid_option_other2_count', 'orders_count'],\n",
    "    ['order2done_bid_option_other3', 'rides_by_bid_option_other3_count', 'orders_count'],\n",
    "    # bid2accept\n",
    "    ['bid_option_other12accept', 'accepted_bids_option_other1_count', 'orders_with_bid_option_other1_count'],\n",
    "    ['bid_option_other22accept', 'accepted_bids_option_other2_count', 'orders_with_bid_option_other2_count'],\n",
    "    ['bid_option_other32accept', 'accepted_bids_option_other3_count', 'orders_with_bid_option_other3_count'],\n",
    "    # accept2done\n",
    "    ['accepted_bids_option_other12done', 'rides_by_bid_option_other1_count', 'accepted_bids_option_other1_count'],\n",
    "    ['accepted_bids_option_other22done', 'rides_by_bid_option_other2_count', 'accepted_bids_option_other2_count'],\n",
    "    ['accepted_bids_option_other32done', 'rides_by_bid_option_other3_count', 'accepted_bids_option_other3_count'],\n",
    "    # bid2done\n",
    "    ['bid_option_other12done', 'rides_by_bid_option_other1_count', 'orders_with_bid_option_other1_count'],\n",
    "    ['bid_option_other22done', 'rides_by_bid_option_other2_count', 'orders_with_bid_option_other2_count'],\n",
    "    ['bid_option_other32done', 'rides_by_bid_option_other3_count', 'orders_with_bid_option_other3_count'],\n",
    "\n",
    "    # bids\n",
    "    # options shares\n",
    "    ['bids_option_startprice_share', 'bids_option_startprice_count', 'bids_count'],\n",
    "    ['bids_option_option1_share', 'bids_option_option1_count', 'bids_count'],\n",
    "    ['bids_option_option2_share', 'bids_option_option2_count', 'bids_count'],\n",
    "    ['bids_option_option3_share', 'bids_option_option3_count', 'bids_count'],\n",
    "    ['bids_option_other1_share', 'bids_option_other1_count', 'bids_count'],\n",
    "    ['bids_option_other2_share', 'bids_option_other2_count', 'bids_count'],\n",
    "    ['bids_option_other3_share', 'bids_option_other3_count', 'bids_count'],\n",
    "    ## share of accepted \n",
    "    ['accepted_bids_share', 'accepted_bids_count', 'bids_count'],\n",
    "    ['accepted_share_bid_option_startprice', 'accepted_bids_option_startprice_count', 'bids_option_startprice_count'],\n",
    "    ['accepted_share_bid_option_option1', 'accepted_bids_option_option1_count', 'bids_option_option1_count'],\n",
    "    ['accepted_share_bid_option_option2', 'accepted_bids_option_option2_count', 'bids_option_option2_count'],\n",
    "    ['accepted_share_bid_option_option3', 'accepted_bids_option_option3_count', 'bids_option_option3_count'],\n",
    "    ['accepted_share_bid_option_other1', 'accepted_bids_option_other1_count', 'bids_option_other1_count'],\n",
    "    ['accepted_share_bid_option_other2', 'accepted_bids_option_other2_count', 'bids_option_other2_count'],\n",
    "    ['accepted_share_bid_option_other3', 'accepted_bids_option_other3_count', 'bids_option_other3_count'],\n",
    "    ## share of done \n",
    "    ['done_share_bid_option_startprice', 'rides_by_bid_option_startprice_count', 'accepted_bids_option_startprice_count'],\n",
    "    ['done_share_bid_option_option1', 'rides_by_bid_option_option1_count', 'accepted_bids_option_option1_count'],\n",
    "    ['done_share_bid_option_option2', 'rides_by_bid_option_option2_count', 'accepted_bids_option_option2_count'],\n",
    "    ['done_share_bid_option_option3', 'rides_by_bid_option_option3_count', 'accepted_bids_option_option3_count'],\n",
    "    ['done_share_bid_option_other1', 'rides_by_bid_option_other1_count', 'accepted_bids_option_other1_count'],\n",
    "    ['done_share_bid_option_other2', 'rides_by_bid_option_other2_count', 'accepted_bids_option_other2_count'],\n",
    "    ['done_share_bid_option_other3', 'rides_by_bid_option_other3_count', 'accepted_bids_option_other3_count'],\n",
    "\n",
    "    # times\n",
    "    #\n",
    "]\n",
    "\n",
    "ESSENTIAL_METRIC_LIST = [item for item in METRIC_LIST if item not in NOT_ESSENTIAL_METRIC_LIST]\n"
   ]
  },
  {
   "cell_type": "markdown",
   "metadata": {},
   "source": [
    "Bad Bids Experiment Specific Parameters"
   ]
  },
  {
   "cell_type": "code",
   "execution_count": 4,
   "metadata": {},
   "outputs": [],
   "source": [
    "t = 254\n",
    "alpha = 0.1"
   ]
  },
  {
   "cell_type": "markdown",
   "metadata": {},
   "source": [
    "Mutable"
   ]
  },
  {
   "cell_type": "code",
   "execution_count": 5,
   "metadata": {},
   "outputs": [],
   "source": [
    "EXP_ID = 2762\n",
    "USER_NAME = 'nusuev_sb'+str(EXP_ID)\n",
    "\n",
    "ORDER_TYPE = 'auto_econom'\n",
    "ORDER_TYPE_ID = 1\n",
    "\n",
    "DAYS_BEFORE = 15"
   ]
  },
  {
   "cell_type": "markdown",
   "metadata": {},
   "source": [
    "Immutable"
   ]
  },
  {
   "cell_type": "code",
   "execution_count": 6,
   "metadata": {},
   "outputs": [],
   "source": [
    "DATA_ROOT_PATH = pathlib.Path(f'data/exp_id={EXP_ID}')\n",
    "if not DATA_ROOT_PATH.exists():\n",
    "    DATA_ROOT_PATH.mkdir(parents=True, exist_ok=True)\n",
    "    \n",
    "\n",
    "PLOT_ROOT_PATH = pathlib.Path(f'plots/exp_id={EXP_ID}')\n",
    "if not PLOT_ROOT_PATH.exists():\n",
    "    PLOT_ROOT_PATH.mkdir(parents=True, exist_ok=True)"
   ]
  },
  {
   "cell_type": "markdown",
   "metadata": {},
   "source": [
    "### __Experiment Data__"
   ]
  },
  {
   "cell_type": "markdown",
   "metadata": {},
   "source": [
    "#### Download"
   ]
  },
  {
   "cell_type": "code",
   "execution_count": null,
   "metadata": {},
   "outputs": [],
   "source": [
    "df_exp = download_experiment_data(exp_id=EXP_ID, user_name=USER_NAME)\n",
    "\n",
    "df_exp['hour'] = df_exp['switch_start_dttm'].dt.hour\n",
    "df_exp['hour'] = df_exp['hour'].astype('category')\n",
    "df_exp['weekday_name'] = df_exp['switch_start_dttm'].dt.day_name()\n",
    "df_exp['weekday_name'] = df_exp['weekday_name'].astype('category')\n",
    "\n",
    "df_exp.to_parquet(DATA_ROOT_PATH / 'df_exp.pqt')\n",
    "\n",
    "EXP_START_DATE = df_exp.utc_start_dttm.dt.date.astype('str').iloc[0]\n",
    "EXP_STOP_DATE = df_exp.utc_finish_dttm.dt.date.astype('str').iloc[0]\n",
    "BEFORE_START_DATE = (df_exp.utc_start_dttm.dt.date - timedelta(days=DAYS_BEFORE)).astype('str').iloc[0]\n",
    "CITY_ID = df_exp.city_id.iloc[0]\n",
    "EXP_NAME = df_exp.exp_name.iloc[0]\n",
    "\n",
    "print(\n",
    "    f\"\"\"\n",
    "    before_start_date: {BEFORE_START_DATE}\n",
    "    exp_start_date: {EXP_START_DATE}\n",
    "    exp_stop_date: {EXP_STOP_DATE}\n",
    "    city_id: {CITY_ID}\n",
    "    exp_name: {EXP_NAME}\n",
    "    \"\"\"\n",
    ")"
   ]
  },
  {
   "cell_type": "markdown",
   "metadata": {},
   "source": [
    "#### Check Validity"
   ]
  },
  {
   "cell_type": "markdown",
   "metadata": {},
   "source": [
    "Switch Splitting. Total."
   ]
  },
  {
   "cell_type": "code",
   "execution_count": null,
   "metadata": {},
   "outputs": [],
   "source": [
    "df_exp.groupby('group_name').size()"
   ]
  },
  {
   "cell_type": "markdown",
   "metadata": {},
   "source": [
    "Switch Splitting. By week day and hour."
   ]
  },
  {
   "cell_type": "code",
   "execution_count": null,
   "metadata": {},
   "outputs": [],
   "source": [
    "plot_switches_matrix(\n",
    "    df_exp,\n",
    "    plot_root_path=PLOT_ROOT_PATH,\n",
    "    is_show=True,\n",
    ")"
   ]
  },
  {
   "cell_type": "markdown",
   "metadata": {},
   "source": [
    "### __Metrics Data__"
   ]
  },
  {
   "cell_type": "markdown",
   "metadata": {},
   "source": [
    "#### Recprice"
   ]
  },
  {
   "cell_type": "code",
   "execution_count": 15,
   "metadata": {},
   "outputs": [],
   "source": [
    "df_recprice = download_recprice_data(\n",
    "    start_date=BEFORE_START_DATE,\n",
    "    stop_date=EXP_STOP_DATE,\n",
    "    city_id=CITY_ID,\n",
    "    user_name=USER_NAME,\n",
    "    printBool=False\n",
    ")\n",
    "df_recprice.to_parquet(DATA_ROOT_PATH / 'df_recprice.pqt')"
   ]
  },
  {
   "cell_type": "code",
   "execution_count": 16,
   "metadata": {},
   "outputs": [],
   "source": [
    "df_recprice = pd.read_parquet(DATA_ROOT_PATH / 'df_recprice.pqt')\n",
    "df_recprice_prepared = prepare_recprice_data(df_recprice)\n",
    "df_recprice_prepared.to_parquet(DATA_ROOT_PATH / 'df_recprice_prepared.pqt')"
   ]
  },
  {
   "cell_type": "markdown",
   "metadata": {},
   "source": [
    "#### Bids"
   ]
  },
  {
   "cell_type": "code",
   "execution_count": 13,
   "metadata": {},
   "outputs": [],
   "source": [
    "df_bids = download_bid_data(\n",
    "    start_date=BEFORE_START_DATE,\n",
    "    stop_date=EXP_STOP_DATE,\n",
    "    city_id=CITY_ID,\n",
    "    user_name=USER_NAME,\n",
    "    printBool=False\n",
    ")\n",
    "\n",
    "df_bids.to_parquet(DATA_ROOT_PATH / 'df_bids.pqt')"
   ]
  },
  {
   "cell_type": "code",
   "execution_count": null,
   "metadata": {},
   "outputs": [],
   "source": [
    "df_bids = pd.read_parquet(DATA_ROOT_PATH / 'df_bids.pqt')\n",
    "df_bids_prepared = prepare_bid_data(df_bids, t_param=t)\n",
    "df_bids_prepared.to_parquet(DATA_ROOT_PATH / 'df_bids_prepared.pqt')"
   ]
  },
  {
   "cell_type": "markdown",
   "metadata": {},
   "source": [
    "#### Orders (with recprice)"
   ]
  },
  {
   "cell_type": "code",
   "execution_count": 17,
   "metadata": {},
   "outputs": [],
   "source": [
    "df_orders = download_order_data(\n",
    "    start_date=BEFORE_START_DATE,\n",
    "    stop_date=EXP_STOP_DATE,\n",
    "    city_id=CITY_ID,\n",
    "    user_name=USER_NAME,\n",
    "    printBool=False\n",
    ")\n",
    "df_orders.to_parquet(DATA_ROOT_PATH / 'df_orders.pqt')"
   ]
  },
  {
   "cell_type": "code",
   "execution_count": 18,
   "metadata": {},
   "outputs": [],
   "source": [
    "df_orders = pd.read_parquet(DATA_ROOT_PATH / 'df_orders.pqt')\n",
    "df_orders_prepared = prepare_order_data(df_orders)\n",
    "df_orders_prepared.to_parquet(DATA_ROOT_PATH / 'df_orders_prepared.pqt')"
   ]
  },
  {
   "cell_type": "code",
   "execution_count": null,
   "metadata": {},
   "outputs": [],
   "source": [
    "df_orders_with_recprice = get_orders_with_recprice_df(df_orders_prepared, df_recprice_prepared)\n",
    "df_orders_with_recprice['group_name'] = df_orders_with_recprice['recprice_group_name']\n",
    "df_orders_with_recprice.to_parquet(DATA_ROOT_PATH / 'df_orders_with_recprice.pqt')"
   ]
  },
  {
   "cell_type": "markdown",
   "metadata": {},
   "source": [
    "### __Total Results__"
   ]
  },
  {
   "cell_type": "code",
   "execution_count": 18,
   "metadata": {},
   "outputs": [],
   "source": [
    "for var in ['df_recprice_prepared', 'df_orders_with_recprice', 'df_bids_prepared',\n",
    "            'df_recprice', 'df_orders', 'df_bids']:\n",
    "    try:\n",
    "        del globals()[var]\n",
    "    except:\n",
    "        pass\n",
    "\n",
    "df_recprice_prepared = pd.read_parquet(DATA_ROOT_PATH / 'df_recprice_prepared.pqt')\n",
    "df_orders_with_recprice = pd.read_parquet(DATA_ROOT_PATH / 'df_orders_with_recprice.pqt')\n",
    "df_bids_prepared = pd.read_parquet(DATA_ROOT_PATH / 'df_bids_prepared.pqt')"
   ]
  },
  {
   "cell_type": "code",
   "execution_count": null,
   "metadata": {},
   "outputs": [],
   "source": [
    "pd.reset_option('display.max_rows')\n",
    "\n",
    "df_metrics_total = calculate_absolute_metrics(\n",
    "    df_recprice_prepared,\n",
    "    df_orders_with_recprice,\n",
    "    df_bids_prepared,\n",
    "    group_cols=['group_name', 'switch_start_dttm', 'switch_finish_dttm'],\n",
    ")\n",
    "\n",
    "metrics_total_tbl = get_switchback_results(df_metrics_total, alpha=0.05)[\n",
    "    ['metric', 'control_value', 'experimental_value', 'uplift_rel', 'pvalue', 'is_significant']\n",
    "]\n",
    "\n",
    "metrics_total_tbl.head()"
   ]
  },
  {
   "cell_type": "markdown",
   "metadata": {},
   "source": [
    "### __Results by Segment__"
   ]
  },
  {
   "cell_type": "markdown",
   "metadata": {},
   "source": [
    "Specify Segment"
   ]
  },
  {
   "cell_type": "code",
   "execution_count": 7,
   "metadata": {},
   "outputs": [],
   "source": [
    "for var in ['df_recprice_prepared', 'df_orders_with_recprice', 'df_bids_prepared',\n",
    "            'df_recprice', 'df_orders', 'df_bids']:\n",
    "    try:\n",
    "        del globals()[var]\n",
    "    except:\n",
    "        pass\n",
    "\n",
    "df_recprice_prepared = pd.read_parquet(DATA_ROOT_PATH / 'df_recprice_prepared.pqt')\n",
    "df_orders_with_recprice = pd.read_parquet(DATA_ROOT_PATH / 'df_orders_with_recprice.pqt')\n",
    "df_bids_prepared = pd.read_parquet(DATA_ROOT_PATH / 'df_bids_prepared.pqt')\n",
    "\n",
    "condition_on_recprice = df_recprice_prepared.order_type_id == ORDER_TYPE_ID\n",
    "condition_on_orders = df_orders_with_recprice.order_type == ORDER_TYPE\n",
    "condition_on_bids = df_bids_prepared.order_type == ORDER_TYPE\n",
    "\n",
    "df_recprice_prepared = df_recprice_prepared[condition_on_recprice]\n",
    "df_orders_with_recprice = df_orders_with_recprice[condition_on_orders]\n",
    "df_bids_prepared = df_bids_prepared[condition_on_bids]"
   ]
  },
  {
   "cell_type": "code",
   "execution_count": 8,
   "metadata": {},
   "outputs": [],
   "source": [
    "# df_bids_prepared = pd.read_parquet(DATA_ROOT_PATH / 'df_bids_prepared.pqt')\n",
    "# condition_on_bids = df_bids_prepared.order_type == ORDER_TYPE\n",
    "# df_bids_prepared = df_bids_prepared[condition_on_bids]\n",
    "# df_orders_with_recprice = pd.read_parquet(DATA_ROOT_PATH / 'df_orders_with_recprice.pqt')\n",
    "# condition_on_orders = df_orders_with_recprice.order_type == ORDER_TYPE\n",
    "# df_orders_with_recprice = df_orders_with_recprice[condition_on_orders]\n"
   ]
  },
  {
   "cell_type": "markdown",
   "metadata": {},
   "source": [
    "Calculate Metrics"
   ]
  },
  {
   "cell_type": "code",
   "execution_count": null,
   "metadata": {},
   "outputs": [],
   "source": [
    "pd.set_option('display.max_rows', None)\n",
    "\n",
    "df_metrics_total = calculate_absolute_metrics(\n",
    "    df_recprice_prepared[condition_on_recprice].copy(),\n",
    "    df_orders_with_recprice[condition_on_orders].copy(),\n",
    "    df_bids_prepared[condition_on_bids].copy(),\n",
    "    group_cols=['group_name', 'switch_start_dttm', 'switch_finish_dttm'],\n",
    ")\n",
    "\n",
    "metrics_total_tbl = get_switchback_results(df_metrics_total, alpha=0.05)[\n",
    "    ['metric', 'control_value', 'experimental_value', 'uplift_rel', 'pvalue', 'is_significant']\n",
    "]\n",
    "\n",
    "metrics_total_tbl.to_csv(DATA_ROOT_PATH / 'metrics_total_tbl.csv', index=False)\n",
    "print(f\"\"\"csv file saved to {DATA_ROOT_PATH / 'metrics_total_tbl.csv'}\"\"\")\n",
    "\n",
    "metrics_total_tbl"
   ]
  },
  {
   "cell_type": "markdown",
   "metadata": {},
   "source": [
    "Show Some Metrics"
   ]
  },
  {
   "cell_type": "code",
   "execution_count": null,
   "metadata": {},
   "outputs": [],
   "source": [
    "ordered_metrics = [\n",
    "    'bid2start_price_ratio', 'bid_option_startprice2start_price_ratio',\n",
    "    'bid_option_option12start_price_ratio', 'bid_option_option22start_price_ratio',\n",
    "    'bid_option_option32start_price_ratio'\n",
    "]\n",
    "\n",
    "filtered = metrics_total_tbl[metrics_total_tbl['metric'].isin(ordered_metrics)].copy()\n",
    "filtered['metric'] = pd.Categorical(filtered['metric'], categories=ordered_metrics, ordered=True)\n",
    "filtered = filtered.sort_values('metric').reset_index(drop=True)\n",
    "filtered\n"
   ]
  },
  {
   "cell_type": "code",
   "execution_count": null,
   "metadata": {},
   "outputs": [],
   "source": [
    "ordered_metrics = [\n",
    "    'bids_per_order', 'order2bid', 'bids_per_order_with_bid', \n",
    "    'bid2accept', 'order2accept', 'order2done', \n",
    "    'price_bid_currency', 'price_bid_currency_accepted_bids'\n",
    "]\n",
    "\n",
    "filtered = metrics_total_tbl[metrics_total_tbl['metric'].isin(ordered_metrics)].copy()\n",
    "filtered['metric'] = pd.Categorical(filtered['metric'], categories=ordered_metrics, ordered=True)\n",
    "filtered = filtered.sort_values('metric').reset_index(drop=True)\n",
    "filtered\n"
   ]
  },
  {
   "cell_type": "code",
   "execution_count": null,
   "metadata": {},
   "outputs": [],
   "source": [
    "ordered_metrics = [\n",
    "    'order2accept', 'startprice_accepts_per_order',\n",
    "    'option1_accepts_per_order', 'option2_accepts_per_order', 'option3_accepts_per_order', \n",
    "]\n",
    "\n",
    "filtered = metrics_total_tbl[metrics_total_tbl['metric'].isin(ordered_metrics)].copy()\n",
    "filtered['metric'] = pd.Categorical(filtered['metric'], categories=ordered_metrics, ordered=True)\n",
    "filtered = filtered.sort_values('metric').reset_index(drop=True)\n",
    "filtered\n"
   ]
  },
  {
   "cell_type": "code",
   "execution_count": null,
   "metadata": {},
   "outputs": [],
   "source": [
    "ordered_metrics = [\n",
    "    'accepted_bids_share', 'startprice_AR',\n",
    "    'option1_AR', 'option2_AR', 'option3_AR', \n",
    "]\n",
    "\n",
    "filtered = metrics_total_tbl[metrics_total_tbl['metric'].isin(ordered_metrics)].copy()\n",
    "filtered['metric'] = pd.Categorical(filtered['metric'], categories=ordered_metrics, ordered=True)\n",
    "filtered = filtered.sort_values('metric').reset_index(drop=True)\n",
    "filtered\n"
   ]
  },
  {
   "cell_type": "code",
   "execution_count": null,
   "metadata": {},
   "outputs": [],
   "source": [
    "ordered_metrics = [\n",
    "    'bids_per_order', 'bids_startprice_per_order',\n",
    "    'bids_option1_per_order', 'bids_option2_per_order', 'bids_option3_per_order', \n",
    "    # 'bids_other1_per_order', 'bids_other2_per_order', 'bids_other3_per_order'\n",
    "]\n",
    "\n",
    "filtered = metrics_total_tbl[metrics_total_tbl['metric'].isin(ordered_metrics)].copy()\n",
    "filtered['metric'] = pd.Categorical(filtered['metric'], categories=ordered_metrics, ordered=True)\n",
    "filtered = filtered.sort_values('metric').reset_index(drop=True)\n",
    "filtered\n"
   ]
  },
  {
   "cell_type": "code",
   "execution_count": null,
   "metadata": {},
   "outputs": [],
   "source": [
    "ordered_metrics = [\n",
    "    'price_bid_currency', 'price_bid_option_startprice',\n",
    "    'price_bid_option_option1', 'price_bid_option_option2', 'price_bid_option_option3', \n",
    "]\n",
    "\n",
    "filtered = metrics_total_tbl[metrics_total_tbl['metric'].isin(ordered_metrics)].copy()\n",
    "filtered['metric'] = pd.Categorical(filtered['metric'], categories=ordered_metrics, ordered=True)\n",
    "filtered = filtered.sort_values('metric').reset_index(drop=True)\n",
    "filtered\n"
   ]
  },
  {
   "cell_type": "code",
   "execution_count": null,
   "metadata": {},
   "outputs": [],
   "source": [
    "ordered_metrics = [\n",
    "    'price_bid_currency_accepted_bids', 'price_bid_currency_accepted_bids_startprice',\n",
    "    'price_bid_currency_accepted_bids_option1', 'price_bid_currency_accepted_bids_option2', 'price_bid_currency_accepted_bids_option3', \n",
    "]\n",
    "\n",
    "filtered = metrics_total_tbl[metrics_total_tbl['metric'].isin(ordered_metrics)].copy()\n",
    "filtered['metric'] = pd.Categorical(filtered['metric'], categories=ordered_metrics, ordered=True)\n",
    "filtered = filtered.sort_values('metric').reset_index(drop=True)\n",
    "filtered\n"
   ]
  },
  {
   "cell_type": "code",
   "execution_count": null,
   "metadata": {},
   "outputs": [],
   "source": [
    "ordered_metrics = [\n",
    "    'etr', 'etr_orders_without_bids', 'etr_orders_with_bids',\n",
    "    'etr_orders_with_accepted_bids', 'etr_orders_without_accepted_bids',\n",
    "    'etr_done_orders'\n",
    "]\n",
    "\n",
    "filtered = metrics_total_tbl[metrics_total_tbl['metric'].isin(ordered_metrics)].copy()\n",
    "filtered['metric'] = pd.Categorical(filtered['metric'], categories=ordered_metrics, ordered=True)\n",
    "filtered = filtered.sort_values('metric').reset_index(drop=True)\n",
    "filtered\n"
   ]
  },
  {
   "cell_type": "code",
   "execution_count": null,
   "metadata": {},
   "outputs": [],
   "source": [
    "ordered_metrics = [\n",
    "    'eta', \n",
    "    'eta_accepted_bids',\n",
    "    'eta_done_bids',\n",
    "    'rta'\n",
    "]\n",
    "\n",
    "filtered = metrics_total_tbl[metrics_total_tbl['metric'].isin(ordered_metrics)].copy()\n",
    "filtered['metric'] = pd.Categorical(filtered['metric'], categories=ordered_metrics, ordered=True)\n",
    "filtered = filtered.sort_values('metric').reset_index(drop=True)\n",
    "filtered\n"
   ]
  },
  {
   "cell_type": "code",
   "execution_count": null,
   "metadata": {},
   "outputs": [],
   "source": [
    "ordered_metrics = [\n",
    "    'time_to_1st_bid_sec', \n",
    "    'time_1st_bid_to_accept_sec'\n",
    "]\n",
    "\n",
    "filtered = metrics_total_tbl[metrics_total_tbl['metric'].isin(ordered_metrics)].copy()\n",
    "filtered['metric'] = pd.Categorical(filtered['metric'], categories=ordered_metrics, ordered=True)\n",
    "filtered = filtered.sort_values('metric').reset_index(drop=True)\n",
    "filtered\n"
   ]
  },
  {
   "cell_type": "code",
   "execution_count": 20,
   "metadata": {},
   "outputs": [],
   "source": [
    "pd.reset_option('display.max_rows')"
   ]
  },
  {
   "cell_type": "markdown",
   "metadata": {},
   "source": [
    "### __Plots__"
   ]
  },
  {
   "cell_type": "markdown",
   "metadata": {},
   "source": [
    "##### Distributions"
   ]
  },
  {
   "cell_type": "markdown",
   "metadata": {},
   "source": [
    "Get Data"
   ]
  },
  {
   "cell_type": "code",
   "execution_count": 21,
   "metadata": {},
   "outputs": [],
   "source": [
    "GROUP_COLS = ['group_name', 'switch_start_dttm', 'switch_finish_dttm']\n",
    "df_metrics_ratios= calculate_ratio_metrics(df_metrics_total)\n",
    "df_metrics_ratios = df_metrics_ratios[GROUP_COLS + pd.DataFrame(ESSENTIAL_METRIC_LIST)[0].tolist()]"
   ]
  },
  {
   "cell_type": "markdown",
   "metadata": {},
   "source": [
    "Draw figures"
   ]
  },
  {
   "cell_type": "code",
   "execution_count": null,
   "metadata": {},
   "outputs": [],
   "source": [
    "plot_density_anime(df_metrics_ratios, \n",
    "                   metrics=df_metrics_ratios.columns.difference(GROUP_COLS), \n",
    "                   title='Metrics Distribution (switches)')"
   ]
  },
  {
   "cell_type": "code",
   "execution_count": null,
   "metadata": {},
   "outputs": [],
   "source": [
    "plot_density_overlay(df_bids_prepared.groupby(['group_name', 'order_uuid'])['bid_uuid'].nunique().reset_index(name='bids_per_order_with_bid'),\n",
    "                      metric='bids_per_order_with_bid', title='', bins=10, PLOT_ROOT_PATH=PLOT_ROOT_PATH, EXP_ID=EXP_ID)"
   ]
  },
  {
   "cell_type": "code",
   "execution_count": null,
   "metadata": {},
   "outputs": [],
   "source": [
    "plot_density_overlay(df_bids_prepared, metric='bid_price_currency', title='all bids', bins=20, PLOT_ROOT_PATH=PLOT_ROOT_PATH, EXP_ID=EXP_ID)"
   ]
  },
  {
   "cell_type": "code",
   "execution_count": null,
   "metadata": {},
   "outputs": [],
   "source": [
    "plot_density_overlay(df_bids_prepared[df_bids_prepared['is_bid_accepted'] == True], metric='bid_price_currency',\n",
    "                     bins=20, title='(accepted bids)', PLOT_ROOT_PATH=PLOT_ROOT_PATH, EXP_ID=EXP_ID)"
   ]
  },
  {
   "cell_type": "code",
   "execution_count": null,
   "metadata": {},
   "outputs": [],
   "source": [
    "plot_density_overlay(df_bids_prepared, metric='bid2rec', bins=50, title='all bids', PLOT_ROOT_PATH=PLOT_ROOT_PATH, EXP_ID=EXP_ID)"
   ]
  },
  {
   "cell_type": "code",
   "execution_count": null,
   "metadata": {},
   "outputs": [],
   "source": [
    "plot_density_overlay(df_bids_prepared[df_bids_prepared['is_bid_accepted'] == True], metric='bid2rec', bins=50, \n",
    "                     title='accepted bids', PLOT_ROOT_PATH=PLOT_ROOT_PATH, EXP_ID=EXP_ID)"
   ]
  },
  {
   "cell_type": "code",
   "execution_count": null,
   "metadata": {},
   "outputs": [],
   "source": [
    "def plot_ratio_scatter_line(data, metric, bins=30, \n",
    "                            height=600, width=1100, title=None):\n",
    "    # 1. Filter only relevant groups\n",
    "    subset = data.loc[data['group_name'].isin(['Control', 'A']), \n",
    "                      [metric, 'group_name', 'is_bid_accepted', 'bid_uuid']].copy()\n",
    "\n",
    "    # 2. Clip metric to common 1–99 percentile\n",
    "    lower = min(subset[subset['group_name'] == 'Control'][metric].quantile(0.01),\n",
    "                subset[subset['group_name'] == 'A'][metric].quantile(0.01))\n",
    "    upper = max(subset[subset['group_name'] == 'Control'][metric].quantile(0.99),\n",
    "                subset[subset['group_name'] == 'A'][metric].quantile(0.99))\n",
    "    \n",
    "    subset[metric] = subset[metric].clip(lower=lower, upper=upper)\n",
    "\n",
    "    # 3. Create bin edges and assign intervals\n",
    "    bin_edges = np.linspace(lower, upper, bins + 1)\n",
    "    subset['metric_bin'] = pd.cut(subset[metric], bins=bin_edges, include_lowest=True)\n",
    "\n",
    "    # 4. Group by group and bin, and calculate counts\n",
    "    grouped = (\n",
    "        subset.groupby(['group_name', 'metric_bin'])\n",
    "        .agg(\n",
    "            numerator=('is_bid_accepted', 'sum'),\n",
    "            denominator=('bid_uuid', 'count')\n",
    "        )\n",
    "        .reset_index()\n",
    "    )\n",
    "\n",
    "    # 5. Compute ratio\n",
    "    grouped['ratio'] = grouped['numerator'] / grouped['denominator']\n",
    "\n",
    "    # 6. X-axis as bin start (left)\n",
    "    grouped['bin_left'] = grouped['metric_bin'].apply(lambda x: x.left)\n",
    "\n",
    "    # 7. Plot\n",
    "    fig = go.Figure()\n",
    "    for group, color in zip(['Control', 'A'], ['steelblue', 'indianred']):\n",
    "        group_data = grouped[grouped['group_name'] == group]\n",
    "        fig.add_trace(go.Scatter(\n",
    "            x=group_data['bin_left'],\n",
    "            y=group_data['ratio'],\n",
    "            mode='lines+markers',\n",
    "            name=group,\n",
    "            line=dict(color=color),\n",
    "            marker=dict(size=8)\n",
    "        ))\n",
    "\n",
    "    fig.add_trace(go.Scatter(\n",
    "            x=grouped[grouped['group_name'] == 'Control']['bin_left'],\n",
    "            y=(grouped[grouped['group_name'] == 'A']['ratio'].reset_index(drop=True) - \n",
    "               grouped[grouped['group_name'] == 'Control']['ratio'].reset_index(drop=True)) / \n",
    "               grouped[grouped['group_name'] == 'Control']['ratio'].reset_index(drop=True),\n",
    "            mode='lines+markers',\n",
    "            name='Rel Diff',\n",
    "            line=dict(color='mediumseagreen'),\n",
    "            marker=dict(size=8)\n",
    "        ))\n",
    "\n",
    "    fig.update_layout(\n",
    "        title=f\"Accepted / Total (per bin)\",\n",
    "        xaxis_title=f\"{metric}\",\n",
    "        yaxis_title=\"Share\",\n",
    "        template=\"simple_white\",\n",
    "        height=height,\n",
    "        width=width,\n",
    "    )\n",
    "\n",
    "    return fig\n",
    "\n",
    "plot_ratio_scatter_line(df_bids_prepared, metric='bid2rec', bins=20)\n"
   ]
  },
  {
   "cell_type": "code",
   "execution_count": null,
   "metadata": {},
   "outputs": [],
   "source": [
    "plot_density_overlay(df_bids_prepared, metric='bidMPH2recMPH', bins=20, title='all bids', PLOT_ROOT_PATH=PLOT_ROOT_PATH, EXP_ID=EXP_ID)"
   ]
  },
  {
   "cell_type": "code",
   "execution_count": null,
   "metadata": {},
   "outputs": [],
   "source": [
    "plot_density_overlay(df_bids_prepared[df_bids_prepared['is_bid_accepted'] == True], metric='bidMPH2recMPH', bins=20,\n",
    "                     title='accepted bids', PLOT_ROOT_PATH=PLOT_ROOT_PATH, EXP_ID=EXP_ID)"
   ]
  },
  {
   "cell_type": "code",
   "execution_count": null,
   "metadata": {},
   "outputs": [],
   "source": [
    "plot_ratio_scatter_line(df_bids_prepared, metric='bidMPH2recMPH', bins=20)\n"
   ]
  },
  {
   "cell_type": "code",
   "execution_count": null,
   "metadata": {},
   "outputs": [],
   "source": [
    "plot_density_overlay(df_orders_with_recprice, \n",
    "                     metric='duration_sec', bins=100, title='all orders', PLOT_ROOT_PATH=PLOT_ROOT_PATH, EXP_ID=EXP_ID)"
   ]
  },
  {
   "cell_type": "code",
   "execution_count": null,
   "metadata": {},
   "outputs": [],
   "source": [
    "plot_density_overlay(df_orders_with_recprice[df_orders_with_recprice['is_order_with_tender'] == True], \n",
    "                     metric='duration_sec', bins=100, title='orders with tender', PLOT_ROOT_PATH=PLOT_ROOT_PATH, EXP_ID=EXP_ID)"
   ]
  },
  {
   "cell_type": "code",
   "execution_count": null,
   "metadata": {},
   "outputs": [],
   "source": [
    "plot_density_overlay(df_orders_with_recprice[df_orders_with_recprice['is_order_with_tender'] == False], \n",
    "                     metric='duration_sec', bins=100, title='orders with no tender', PLOT_ROOT_PATH=PLOT_ROOT_PATH, EXP_ID=EXP_ID)"
   ]
  },
  {
   "cell_type": "code",
   "execution_count": null,
   "metadata": {},
   "outputs": [],
   "source": [
    "plot_density_overlay(df_orders_with_recprice[(df_orders_with_recprice['is_order_with_tender'] == True) & (df_orders_with_recprice['is_order_accepted'] == True)], \n",
    "                     metric='duration_sec', bins=50, title='orders with tender accepted', PLOT_ROOT_PATH=PLOT_ROOT_PATH, EXP_ID=EXP_ID)"
   ]
  },
  {
   "cell_type": "code",
   "execution_count": null,
   "metadata": {},
   "outputs": [],
   "source": [
    "plot_density_overlay(df_orders_with_recprice[(df_orders_with_recprice['is_order_with_tender'] == True) & (df_orders_with_recprice['is_order_accepted'] == False)], \n",
    "                     metric='duration_sec', bins=50, title='orders with tender NOT accepted', PLOT_ROOT_PATH=PLOT_ROOT_PATH, EXP_ID=EXP_ID)"
   ]
  },
  {
   "cell_type": "code",
   "execution_count": null,
   "metadata": {},
   "outputs": [],
   "source": [
    "plot_density_overlay(df_bids_prepared, metric='eta', bins=50, title='all bids', PLOT_ROOT_PATH=PLOT_ROOT_PATH, EXP_ID=EXP_ID)"
   ]
  },
  {
   "cell_type": "markdown",
   "metadata": {},
   "source": [
    "##### Heatmap of the Algorithm"
   ]
  },
  {
   "cell_type": "markdown",
   "metadata": {},
   "source": [
    "Get Data and Check Validity"
   ]
  },
  {
   "cell_type": "code",
   "execution_count": 37,
   "metadata": {},
   "outputs": [],
   "source": [
    "GROUP_COLS = ['group_name', 'switch_start_dttm', 'switch_finish_dttm']"
   ]
  },
  {
   "cell_type": "code",
   "execution_count": null,
   "metadata": {},
   "outputs": [],
   "source": [
    "# Prepare data\n",
    "\n",
    "# condition_on_bids = df_bids_prepared.order_type == ORDER_TYPE\n",
    "# df_bids_filtered = df_bids_prepared[condition_on_bids].copy()\n",
    "\n",
    "df_bids_prepared = add_algo_name_new(df_bids_prepared, t, alpha)\n",
    "print(f\"\"\"\n",
    "t: {t}sec, \n",
    "alpha: {alpha} \\n\n",
    "\"\"\")"
   ]
  },
  {
   "cell_type": "code",
   "execution_count": null,
   "metadata": {},
   "outputs": [],
   "source": [
    "# Создаем три разных подсчета\n",
    "total_counts = df_bids_prepared.groupby('group_name').size()\n",
    "bidmph_counts = df_bids_prepared[df_bids_prepared['bidding_algorithm_name'] == 'bid_mph'].groupby('group_name').size()\n",
    "algo_bidmph_counts = df_bids_prepared[df_bids_prepared['algo_name_new'] == 'algo_bidmph'].groupby('group_name').size()\n",
    "\n",
    "# Объединяем результаты в один датафрейм\n",
    "result = pd.DataFrame({\n",
    "    'Всего строк': total_counts,\n",
    "    'Строк bidmph': bidmph_counts,\n",
    "    'Строк algo_bidmph': algo_bidmph_counts,\n",
    "    'Доля algo_bidmph': (algo_bidmph_counts / total_counts).round(2)\n",
    "})\n",
    "\n",
    "# Заполняем NaN нулями, если какие-то группы не имеют значений\n",
    "result = result.fillna(0)\n",
    "\n",
    "# Сортируем по общему количеству строк\n",
    "result = result.sort_values('Всего строк', ascending=False)\n",
    "\n",
    "print(\"Распределение по group_name:\")\n",
    "print(result)\n",
    "\n",
    "# # Добавим итоговую строку\n",
    "# print(\"\\nИтого:\")\n",
    "# print(result.sum())\n",
    "\n",
    "del total_counts, bidmph_counts, algo_bidmph_counts, result"
   ]
  },
  {
   "cell_type": "code",
   "execution_count": 40,
   "metadata": {},
   "outputs": [],
   "source": [
    "from src.metrics import metric_bids_count, metric_bids_option_option3_count, metric_eta_sum, metric_accepted_bids_count, metric_bids_bid_price_currency_sum, metric_accepted_bids_bid_price_currency_sum\n",
    "\n",
    "def metric_algo_bidmph_bids_count(df, group_cols):\n",
    "    return (df[df.algo_name_new.str.contains('algo_bidmph')]\n",
    "            .groupby(group_cols)\n",
    "            .agg(algo_bidmph_bids_count=('bid_uuid', 'nunique'))\n",
    "            .reset_index())\n",
    "\n",
    "def metric_algo_bidmph_accepted_bids_count(df, group_cols):\n",
    "    return (df[(df.is_bid_accepted) & (df.algo_name_new.str.contains('algo_bidmph'))]\n",
    "            .groupby(group_cols)\n",
    "            .agg(algo_bidmph_accepted_bids_count=('bid_uuid', 'nunique'))\n",
    "            .reset_index())\n",
    "\n",
    "def metric_algo_default_bids_count(df, group_cols):\n",
    "    return (df[df.algo_name_new.str.contains('algo_default')]\n",
    "            .groupby(group_cols)\n",
    "            .agg(algo_default_bids_count=('bid_uuid', 'nunique'))\n",
    "            .reset_index())\n",
    "\n",
    "def metric_algo_default_accepted_bids_count(df, group_cols):\n",
    "    return (df[(df.is_bid_accepted) & (df.algo_name_new.str.contains('algo_default'))]\n",
    "            .groupby(group_cols)\n",
    "            .agg(algo_default_accepted_bids_count=('bid_uuid', 'nunique'))\n",
    "            .reset_index())\n",
    "\n",
    "def metric_ones(df, group_cols):\n",
    "    grouped = df.groupby(group_cols).size().reset_index(name='temp')\n",
    "    grouped['ones'] = 1\n",
    "    return grouped[group_cols + ['ones']]\n",
    "\n",
    "def metric_total_bids_count(df, group_cols):\n",
    "    grouped = df.groupby(group_cols).size().reset_index(name='temp')\n",
    "    grouped['total_bids_count'] = len(df)\n",
    "    return grouped[group_cols + ['total_bids_count']]\n",
    "\n",
    "def metric_total_accepts_count(df, group_cols):\n",
    "    grouped = df.groupby(group_cols).size().reset_index(name='temp')\n",
    "    grouped['total_accepts_count'] = len(df[df['is_bid_accepted'] == True])\n",
    "    return grouped[group_cols + ['total_accepts_count']]\n",
    "\n",
    "def metric_algo_bidmph_price_diff_sum(df, group_cols):\n",
    "    return (df\n",
    "            .groupby(group_cols)\n",
    "            .agg(price_diff_sum=('price_diff', 'sum'))\n",
    "            .reset_index())\n",
    "\n",
    "def metric_bidmph2recmph_sum(df, group_cols):\n",
    "    return (df\n",
    "            .groupby(group_cols)\n",
    "            .agg(price_diff_sum=('bidMPH2recMPH', 'sum'))\n",
    "            .reset_index())\n",
    "\n",
    "def metric_bids_bidmph_count(df, group_cols):\n",
    "    return (df[df.algo_name_new.str.contains('algo_bidmph')]\n",
    "            .groupby(group_cols)\n",
    "            .agg(bids_bidmph_count=('bid_uuid', 'nunique'))\n",
    "            .reset_index())\n",
    "\n",
    "def metric_total_bids_bidmph_count(df, group_cols):\n",
    "    grouped = df.groupby(group_cols).size().reset_index(name='temp')\n",
    "    grouped['total_bids_bidmph_count'] = len(df[df.algo_name_new.str.contains('algo_bidmph')])\n",
    "    return grouped[group_cols + ['total_bids_bidmph_count']]\n",
    "\n",
    "def metric_available_prices_max_perc_sum(df, group_cols):\n",
    "    return (df\n",
    "            .groupby(group_cols)\n",
    "            .agg(price_diff_sum=('price_diff', 'sum'))\n",
    "            .reset_index())\n",
    "\n",
    "def metric_available_prices_unique_sum(df, group_cols):\n",
    "    return (df\n",
    "            .groupby(group_cols)\n",
    "            .agg(price_diff_sum=('unique_available_prices', 'sum'))\n",
    "            .reset_index())\n",
    "\n",
    "def metric_algo_bidmph_count(df, group_cols):\n",
    "    return (df[df['algo_name_new'] == 'algo_bidmph']\n",
    "            .groupby(group_cols)\n",
    "            .agg(algo_bidmph_count=('algo_name_new', 'count'))\n",
    "            .reset_index())"
   ]
  },
  {
   "cell_type": "code",
   "execution_count": null,
   "metadata": {},
   "outputs": [],
   "source": [
    "tmp = metric_algo_bidmph_count(df_bids_prepared.copy(), GROUP_COLS)\n",
    "tmp = tmp.merge(metric_bids_count(df_bids_prepared.copy(), GROUP_COLS), on=GROUP_COLS, how='left')\n",
    "tmp = tmp.merge(metric_algo_default_bids_count(df_bids_prepared.copy(), GROUP_COLS), on=GROUP_COLS, how='left')\n",
    "tmp = tmp.merge(metric_algo_bidmph_bids_count(df_bids_prepared.copy(), GROUP_COLS), on=GROUP_COLS, how='left')\n",
    "tmp = get_switchback_results(tmp, alpha=0.05, metric_list=[['badbids_share', 'algo_bidmph_count', 'bids_count'],\n",
    "                                                           ['algo_bidmph_per_algo_default', 'algo_bidmph_bids_count', 'algo_default_bids_count'],\n",
    "                                                           ['test', 'algo_bidmph_bids_count', 'algo_bidmph_count']])[\n",
    "    ['metric', 'control_value', 'experimental_value', 'uplift_rel', 'pvalue', 'is_significant']\n",
    "]\n",
    "tmp"
   ]
  },
  {
   "cell_type": "code",
   "execution_count": null,
   "metadata": {},
   "outputs": [],
   "source": [
    "condition_1 = df_bids_prepared.eta >= 300\n",
    "\n",
    "tmp = metric_algo_bidmph_count(df_bids_prepared[condition_1].copy(), GROUP_COLS).merge(metric_bids_count(df_bids_prepared[condition_1].copy(), GROUP_COLS), on=GROUP_COLS, how='left')\n",
    "tmp = get_switchback_results(tmp, alpha=0.05, metric_list=[['badbids_share', 'algo_bidmph_count', 'bids_count']])[\n",
    "    ['metric', 'control_value', 'experimental_value', 'uplift_rel', 'pvalue', 'is_significant']\n",
    "]\n",
    "tmp"
   ]
  },
  {
   "cell_type": "code",
   "execution_count": null,
   "metadata": {},
   "outputs": [],
   "source": [
    "condition_2 = df_bids_prepared.eta < 300\n",
    "\n",
    "tmp = metric_algo_bidmph_count(df_bids_prepared[condition_2].copy(), GROUP_COLS)\n",
    "tmp = tmp.merge(metric_bids_count(df_bids_prepared[condition_2].copy(), GROUP_COLS), on=GROUP_COLS, how='left')\n",
    "tmp = tmp.merge(metric_algo_default_bids_count(df_bids_prepared[condition_2].copy(), GROUP_COLS), on=GROUP_COLS, how='left')\n",
    "tmp = tmp.merge(metric_algo_bidmph_bids_count(df_bids_prepared[condition_2].copy(), GROUP_COLS), on=GROUP_COLS, how='left')\n",
    "tmp = get_switchback_results(tmp, alpha=0.05, metric_list=[['badbids_share', 'algo_bidmph_count', 'bids_count'],\n",
    "                                                           ['algo_bidmph_per_algo_default', 'algo_bidmph_bids_count', 'algo_default_bids_count']])[\n",
    "    ['metric', 'control_value', 'experimental_value', 'uplift_rel', 'pvalue', 'is_significant']\n",
    "]\n",
    "tmp"
   ]
  },
  {
   "cell_type": "code",
   "execution_count": null,
   "metadata": {},
   "outputs": [],
   "source": [
    "condition_3 = df_bids_prepared.etr < 1000\n",
    "\n",
    "tmp = metric_algo_bidmph_count(df_bids_prepared[condition_3].copy(), GROUP_COLS).merge(metric_bids_count(df_bids_prepared[condition_3].copy(), GROUP_COLS), on=GROUP_COLS, how='left')\n",
    "tmp = get_switchback_results(tmp, alpha=0.05, metric_list=[['badbids_share', 'algo_bidmph_count', 'bids_count']])[\n",
    "    ['metric', 'control_value', 'experimental_value', 'uplift_rel', 'pvalue', 'is_significant']\n",
    "]\n",
    "tmp"
   ]
  },
  {
   "cell_type": "code",
   "execution_count": null,
   "metadata": {},
   "outputs": [],
   "source": [
    "condition_4 = df_bids_prepared.etr >= 1000\n",
    "\n",
    "tmp = metric_algo_bidmph_count(df_bids_prepared[condition_4].copy(), GROUP_COLS).merge(metric_bids_count(df_bids_prepared[condition_4].copy(), GROUP_COLS), on=GROUP_COLS, how='left')\n",
    "tmp = get_switchback_results(tmp, alpha=0.05, metric_list=[['badbids_share', 'algo_bidmph_count', 'bids_count']])[\n",
    "    ['metric', 'control_value', 'experimental_value', 'uplift_rel', 'pvalue', 'is_significant']\n",
    "]\n",
    "tmp"
   ]
  },
  {
   "cell_type": "markdown",
   "metadata": {},
   "source": [
    "Heatmap"
   ]
  },
  {
   "cell_type": "code",
   "execution_count": null,
   "metadata": {},
   "outputs": [],
   "source": [
    "plot_heatmap(df_bids_prepared, \n",
    "             metric='bids_dist', \n",
    "             numerator_func=metric_bids_count,\n",
    "             denominator_func=metric_total_bids_count,\n",
    "             min_samples=20, PLOT_ROOT_PATH=PLOT_ROOT_PATH, EXP_ID=EXP_ID)"
   ]
  },
  {
   "cell_type": "code",
   "execution_count": null,
   "metadata": {},
   "outputs": [],
   "source": [
    "plot_heatmap(df_bids_prepared, \n",
    "             metric='accepts_dist', \n",
    "             numerator_func=metric_accepted_bids_count,\n",
    "             denominator_func=metric_total_accepts_count,\n",
    "             min_samples=20, PLOT_ROOT_PATH=PLOT_ROOT_PATH, EXP_ID=EXP_ID)"
   ]
  },
  {
   "cell_type": "code",
   "execution_count": null,
   "metadata": {},
   "outputs": [],
   "source": [
    "plot_heatmap(df_bids_prepared, \n",
    "             metric='price_bid_currency', \n",
    "             numerator_func=metric_bids_bid_price_currency_sum,\n",
    "             denominator_func=metric_bids_count,\n",
    "             min_samples=20, PLOT_ROOT_PATH=PLOT_ROOT_PATH, EXP_ID=EXP_ID)"
   ]
  },
  {
   "cell_type": "code",
   "execution_count": null,
   "metadata": {},
   "outputs": [],
   "source": [
    "plot_heatmap(df_bids_prepared, \n",
    "             metric='price_bid_currency_accepted_bids', \n",
    "             numerator_func=metric_accepted_bids_bid_price_currency_sum,\n",
    "             denominator_func=metric_accepted_bids_count,\n",
    "             min_samples=20, PLOT_ROOT_PATH=PLOT_ROOT_PATH, EXP_ID=EXP_ID)"
   ]
  },
  {
   "cell_type": "code",
   "execution_count": null,
   "metadata": {},
   "outputs": [],
   "source": [
    "plot_heatmap(df_bids_prepared, \n",
    "             metric='badbids_share', \n",
    "             numerator_func=metric_algo_bidmph_bids_count,\n",
    "             denominator_func=metric_bids_count,\n",
    "             min_samples=20,\n",
    "             zmin2=-0.15, zmax2=0.15, PLOT_ROOT_PATH=PLOT_ROOT_PATH, EXP_ID=EXP_ID)"
   ]
  },
  {
   "cell_type": "code",
   "execution_count": null,
   "metadata": {},
   "outputs": [],
   "source": [
    "plot_heatmap(df_bids_prepared, \n",
    "             metric='algo_bidmph_per_algo_default', \n",
    "             numerator_func=metric_algo_bidmph_bids_count,\n",
    "             denominator_func=metric_algo_default_bids_count,\n",
    "             min_samples=20, PLOT_ROOT_PATH=PLOT_ROOT_PATH, EXP_ID=EXP_ID)"
   ]
  },
  {
   "cell_type": "code",
   "execution_count": null,
   "metadata": {},
   "outputs": [],
   "source": [
    "plot_heatmap(df_bids_prepared, \n",
    "             metric='bidmph2recmph', \n",
    "             numerator_func=metric_bidmph2recmph_sum,\n",
    "             denominator_func=metric_bids_count,\n",
    "             min_samples=20, zmid1=1.0+alpha, \n",
    "             PLOT_ROOT_PATH=PLOT_ROOT_PATH, EXP_ID=EXP_ID)"
   ]
  },
  {
   "cell_type": "code",
   "execution_count": null,
   "metadata": {},
   "outputs": [],
   "source": [
    "plot_heatmap(df_bids_prepared, \n",
    "             metric='bids_bidmph_dist', \n",
    "             numerator_func=metric_bids_bidmph_count,\n",
    "             denominator_func=metric_total_bids_bidmph_count,\n",
    "             min_samples=20, PLOT_ROOT_PATH=PLOT_ROOT_PATH, EXP_ID=EXP_ID)"
   ]
  },
  {
   "cell_type": "code",
   "execution_count": null,
   "metadata": {},
   "outputs": [],
   "source": [
    "plot_heatmap(df_bids_prepared, \n",
    "             metric='bids_option_option3_dist', \n",
    "             numerator_func=metric_bids_option_option3_count,\n",
    "             denominator_func=metric_total_bids_count,\n",
    "             min_samples=20, PLOT_ROOT_PATH=PLOT_ROOT_PATH, EXP_ID=EXP_ID)"
   ]
  },
  {
   "cell_type": "code",
   "execution_count": null,
   "metadata": {},
   "outputs": [],
   "source": [
    "plot_heatmap(df_bids_prepared, \n",
    "             metric='eta_avg', \n",
    "             numerator_func=metric_eta_sum,\n",
    "             denominator_func=metric_total_bids_count,\n",
    "             min_samples=20, PLOT_ROOT_PATH=PLOT_ROOT_PATH, EXP_ID=EXP_ID)"
   ]
  },
  {
   "cell_type": "code",
   "execution_count": null,
   "metadata": {},
   "outputs": [],
   "source": [
    "plot_heatmap(df_bids_prepared, \n",
    "             metric='accepted_share', \n",
    "             numerator_func=metric_accepted_bids_count,\n",
    "             denominator_func=metric_bids_count,\n",
    "             min_samples=20, PLOT_ROOT_PATH=PLOT_ROOT_PATH, EXP_ID=EXP_ID)"
   ]
  },
  {
   "cell_type": "code",
   "execution_count": null,
   "metadata": {},
   "outputs": [],
   "source": [
    "plot_heatmap(df_bids_prepared, \n",
    "             metric='algo_bidmph2accept', \n",
    "             numerator_func=metric_algo_bidmph_accepted_bids_count,\n",
    "             denominator_func=metric_algo_bidmph_bids_count,\n",
    "             min_samples=20, PLOT_ROOT_PATH=PLOT_ROOT_PATH, EXP_ID=EXP_ID)"
   ]
  },
  {
   "cell_type": "code",
   "execution_count": null,
   "metadata": {},
   "outputs": [],
   "source": [
    "plot_heatmap(df_bids_prepared, \n",
    "             metric='algo_bidmph_AR', \n",
    "             numerator_func=metric_algo_bidmph_accepted_bids_count,\n",
    "             denominator_func=metric_algo_default_accepted_bids_count,\n",
    "             min_samples=20, PLOT_ROOT_PATH=PLOT_ROOT_PATH, EXP_ID=EXP_ID)"
   ]
  },
  {
   "cell_type": "code",
   "execution_count": null,
   "metadata": {},
   "outputs": [],
   "source": [
    "plot_heatmap(df_bids_prepared, \n",
    "             metric='algo_bidmph_count', \n",
    "             numerator_func=metric_algo_bidmph_bids_count,\n",
    "             denominator_func=metric_ones,\n",
    "             min_samples=20, PLOT_ROOT_PATH=PLOT_ROOT_PATH, EXP_ID=EXP_ID)"
   ]
  },
  {
   "cell_type": "code",
   "execution_count": null,
   "metadata": {},
   "outputs": [],
   "source": [
    "plot_heatmap(df_bids_prepared, \n",
    "             metric='algo_bidmph_accepted_count', \n",
    "             numerator_func=metric_algo_bidmph_accepted_bids_count,\n",
    "             denominator_func=metric_ones,\n",
    "             min_samples=20, PLOT_ROOT_PATH=PLOT_ROOT_PATH, EXP_ID=EXP_ID)"
   ]
  },
  {
   "cell_type": "code",
   "execution_count": null,
   "metadata": {},
   "outputs": [],
   "source": [
    "plot_heatmap(df_bids_prepared, \n",
    "             metric='available_prices_max_perc', \n",
    "             numerator_func=metric_available_prices_max_perc_sum,\n",
    "             denominator_func=metric_bids_count,\n",
    "             min_samples=20, PLOT_ROOT_PATH=PLOT_ROOT_PATH, EXP_ID=EXP_ID)"
   ]
  },
  {
   "cell_type": "code",
   "execution_count": null,
   "metadata": {},
   "outputs": [],
   "source": [
    "plot_heatmap(df_bids_prepared, \n",
    "             metric='algo_bidmph_accepted_count', \n",
    "             numerator_func=metric_available_prices_unique_sum,\n",
    "             denominator_func=metric_bids_count,\n",
    "             min_samples=20, PLOT_ROOT_PATH=PLOT_ROOT_PATH, EXP_ID=EXP_ID)"
   ]
  },
  {
   "cell_type": "code",
   "execution_count": null,
   "metadata": {},
   "outputs": [],
   "source": [
    "plot_heatmap(df_bids_prepared, metric='accepted_bids_share', numerator_func=metric_accepted_bids_count, denominator_func=metric_bids_count, \n",
    "             min_samples=20, PLOT_ROOT_PATH=PLOT_ROOT_PATH, EXP_ID=EXP_ID)"
   ]
  },
  {
   "cell_type": "markdown",
   "metadata": {},
   "source": [
    "##### vs ETR"
   ]
  },
  {
   "cell_type": "code",
   "execution_count": 42,
   "metadata": {},
   "outputs": [],
   "source": [
    "condition_on_recprice = df_recprice_prepared.order_type_id == ORDER_TYPE_ID\n",
    "condition_on_orders = df_orders_with_recprice.order_type == ORDER_TYPE\n",
    "condition_on_bids = df_bids_prepared.order_type == ORDER_TYPE"
   ]
  },
  {
   "cell_type": "code",
   "execution_count": 43,
   "metadata": {},
   "outputs": [],
   "source": [
    "def create_duration_bin(df):\n",
    "    df['duration_sec'] = df['duration_in_min'] * 60\n",
    "    duration_percentile = df['duration_sec'].quantile(0.99)\n",
    "    duration_max = int(np.ceil(duration_percentile / 60.0)) * 60 \n",
    "\n",
    "    df['duration_bin'] = pd.cut(\n",
    "        df['duration_sec'],\n",
    "        bins=np.arange(0, duration_max, 60*5),\n",
    "        labels=[f\"{i}\" for i in range(0, duration_max - 60*5, 60*5)],\n",
    "        right=False\n",
    "        )\n",
    "    return df"
   ]
  },
  {
   "cell_type": "code",
   "execution_count": 44,
   "metadata": {},
   "outputs": [],
   "source": [
    "def create_duration_bin(df, reference_df, num_bins=30):\n",
    "    # Convert minutes to seconds in both dataframes if needed\n",
    "    df['duration_sec'] = df['duration_in_min'] * 60\n",
    "    \n",
    "    if 'duration_sec' not in reference_df.columns:\n",
    "        reference_df = reference_df.copy()\n",
    "        reference_df['duration_sec'] = reference_df['duration_in_min'] * 60\n",
    "    \n",
    "    # Calculate bin edges from reference dataframe\n",
    "    bin_edges = [reference_df['duration_sec'].min()]\n",
    "    bin_edges.extend([\n",
    "        reference_df['duration_sec'].quantile(q) \n",
    "        for q in np.linspace(0, 1, num_bins+1)[1:]\n",
    "    ])\n",
    "    bin_edges = sorted(list(set(bin_edges)))  # Remove duplicates and sort\n",
    "    # print(bin_edges)\n",
    "    # Create labels based on percentile ranges\n",
    "    labels = bin_edges[:-1]\n",
    "    \n",
    "    # Apply these bins to the target dataframe\n",
    "    df['duration_bin'] = pd.cut(\n",
    "        df['duration_sec'],\n",
    "        bins=bin_edges,\n",
    "        labels=labels,\n",
    "        right=False\n",
    "    )\n",
    "    \n",
    "    return df"
   ]
  },
  {
   "cell_type": "code",
   "execution_count": 45,
   "metadata": {},
   "outputs": [],
   "source": [
    "# Create a single reference dataframe for consistent binning\n",
    "reference_df = df_orders_with_recprice.copy()  # Use complete dataset as reference\n",
    "\n",
    "df_metrics_total = calculate_absolute_metrics(\n",
    "    df_order_with_recprice=create_duration_bin(\n",
    "        df_orders_with_recprice[condition_on_orders].copy(),\n",
    "        reference_df=reference_df\n",
    "    ), \n",
    "    df_bid=create_duration_bin(\n",
    "        df_bids_prepared,\n",
    "        reference_df=reference_df\n",
    "    ), \n",
    "    group_cols=['group_name', 'duration_bin']\n",
    ")\n",
    "\n",
    "df_metrics_vs_ETR = calculate_ratio_metrics(df_metrics_total, metric_list=ESSENTIAL_METRIC_LIST)"
   ]
  },
  {
   "cell_type": "code",
   "execution_count": null,
   "metadata": {},
   "outputs": [],
   "source": [
    "# fig = go.Figure()\n",
    "# for metric in [column for column in df_metrics_vs_ETR.columns if column not in ['group_name', 'duration_bin'] + pd.DataFrame(ESSENTIAL_METRIC_LIST)[0].tolist()]:\n",
    "#     for group in [group for group in df_metrics_vs_ETR['group_name'].unique() if group not in ['Before']]:\n",
    "#         fig.add_trace(go.Scatter(\n",
    "#             x=df_metrics_vs_ETR[df_metrics_vs_ETR['group_name'] == group]['duration_bin'].reset_index(drop=True),\n",
    "#             y=df_metrics_vs_ETR[df_metrics_vs_ETR['group_name'] == group][metric].reset_index(drop=True),\n",
    "#             mode='lines + markers',\n",
    "#             name=f'{metric} ({group})'\n",
    "#         ))\n",
    "\n",
    "# fig.update_layout(\n",
    "#     height=900,\n",
    "#     width=1300,\n",
    "# )\n",
    "# fig.show()\n",
    "\n",
    "# fig = go.Figure()\n",
    "# for metric in [column for column in df_metrics_vs_ETR.columns if column not in ['group_name', 'duration_bin'] + pd.DataFrame(ESSENTIAL_METRIC_LIST)[0].tolist()]:\n",
    "#     fig.add_trace(go.Scatter(\n",
    "#         x=df_metrics_vs_ETR[df_metrics_vs_ETR['group_name'] == 'Control']['duration_bin'].reset_index(drop=True),\n",
    "#         y=(df_metrics_vs_ETR[df_metrics_vs_ETR['group_name'] == 'A'][metric].reset_index(drop=True) - \n",
    "#         df_metrics_vs_ETR[df_metrics_vs_ETR['group_name'] == 'Control'][metric].reset_index(drop=True)) / \n",
    "#         df_metrics_vs_ETR[df_metrics_vs_ETR['group_name'] == 'Control'][metric].reset_index(drop=True),\n",
    "#         mode='lines + markers',\n",
    "#         name=f'{metric} (Rel Diff)'\n",
    "#         ))\n",
    "\n",
    "# fig.update_layout(\n",
    "#     height=900,\n",
    "#     width=1300,\n",
    "# )\n",
    "# fig.show()\n",
    "\n",
    "fig = go.Figure()\n",
    "for metric in ['order2bid', 'bids_per_order_with_bid', 'bid2accept', 'order2accept', 'order2done', 'bids_per_order', 'price_bid_currency', 'price_bid_currency_accepted_bids', 'eta']:\n",
    "    for group in [group for group in df_metrics_vs_ETR['group_name'].unique() if group not in ['Before']]:\n",
    "        fig.add_trace(go.Scatter(\n",
    "            x=df_metrics_vs_ETR[df_metrics_vs_ETR['group_name'] == group]['duration_bin'].reset_index(drop=True),\n",
    "            y=df_metrics_vs_ETR[df_metrics_vs_ETR['group_name'] == group][metric].reset_index(drop=True),\n",
    "            mode='lines + markers',\n",
    "            name=f'{metric} ({group})'\n",
    "        ))\n",
    "\n",
    "fig.update_layout(\n",
    "    height=900,\n",
    "    width=1300,\n",
    ")\n",
    "fig.show()\n",
    "\n",
    "fig = go.Figure()\n",
    "for metric in ['order2bid', 'bids_per_order_with_bid', 'bid2accept', 'order2accept', 'order2done', 'bids_per_order', 'price_bid_currency', 'price_bid_currency_accepted_bids', 'eta']:\n",
    "    fig.add_trace(go.Scatter(\n",
    "        x=df_metrics_vs_ETR[df_metrics_vs_ETR['group_name'] == 'Control']['duration_bin'].reset_index(drop=True),\n",
    "        y=(df_metrics_vs_ETR[df_metrics_vs_ETR['group_name'] == 'A'][metric].reset_index(drop=True) - \n",
    "        df_metrics_vs_ETR[df_metrics_vs_ETR['group_name'] == 'Control'][metric].reset_index(drop=True)) / \n",
    "        df_metrics_vs_ETR[df_metrics_vs_ETR['group_name'] == 'Control'][metric].reset_index(drop=True),\n",
    "        mode='lines + markers',\n",
    "        name=f'{metric}'\n",
    "        ))\n",
    "\n",
    "fig.update_layout(\n",
    "    xaxis_title='ETR',\n",
    "    yaxis_title='Value',\n",
    "    yaxis_tickformat='.0%',\n",
    "    template='plotly_white',\n",
    "    height=900,\n",
    "    width=1000,\n",
    "    title='Metrics vs ETR, Rel Diff'\n",
    ")\n",
    "\n",
    "fig.show()\n"
   ]
  },
  {
   "cell_type": "code",
   "execution_count": null,
   "metadata": {},
   "outputs": [],
   "source": [
    "# algo_bidmph_share\n",
    "df_filtered = df_bids_filtered.copy()\n",
    "\n",
    "df_filtered['duration_sec'] = df_filtered['duration_in_min'] * 60\n",
    "duration_percentile = df_filtered['duration_sec'].quantile(0.99)\n",
    "duration_max = int(np.ceil(duration_percentile / 60.0)) * 60 \n",
    "\n",
    "df_filtered['duration_bin'] = pd.cut(\n",
    "        df_filtered['duration_sec'],\n",
    "        bins=np.arange(0, duration_max, 60*5),\n",
    "        labels=[f\"{i}\" for i in range(0, duration_max - 60*5, 60*5)],\n",
    "        right=False\n",
    "        )\n",
    "\n",
    "df_numerator = df_filtered[df_bids_filtered['algo_name_new'] == 'algo_bidmph'].groupby(['duration_bin', 'group_name']).size().reset_index(name='bids_algo_bidmph_count')\n",
    "df_denominator = df_filtered.groupby(['duration_bin', 'group_name']).size().reset_index(name='bids_count')\n",
    "\n",
    "df_tmp = df_numerator.merge(df_denominator, on=['duration_bin', 'group_name'], how='left')\n",
    "\n",
    "df_tmp['algo_bidmph_share'] = df_tmp['bids_algo_bidmph_count'] / df_tmp['bids_count']\n",
    "df_grouped = df_tmp[['duration_bin', 'group_name', 'algo_bidmph_share']]\n",
    "\n",
    "# order2accept\n",
    "from src.metrics import metric_accepted_orders_count, metric_orders_count\n",
    "condition_on_orders = df_orders_with_recprice.order_type == ORDER_TYPE\n",
    "df_filtered = df_orders_with_recprice[condition_on_orders].copy()\n",
    "\n",
    "df_filtered['duration_sec'] = df_filtered['duration_in_min'] * 60\n",
    "duration_percentile = df_filtered['duration_sec'].quantile(0.99)\n",
    "duration_max = int(np.ceil(duration_percentile / 60.0)) * 60 \n",
    "\n",
    "df_filtered['duration_bin'] = pd.cut(\n",
    "        df_filtered['duration_sec'],\n",
    "        bins=np.arange(0, duration_max, 60*5),\n",
    "        labels=[f\"{i}\" for i in range(0, duration_max - 60*5, 60*5)],\n",
    "        right=False\n",
    "        )\n",
    "\n",
    "df_numerator = metric_accepted_orders_count(df_filtered,\n",
    "                                                group_cols=['duration_bin', 'group_name'])\n",
    "df_denominator = metric_orders_count(df_filtered,\n",
    "                                     group_cols=['duration_bin', 'group_name'])\n",
    "df_tmp = df_numerator.merge(df_denominator, on=['duration_bin', 'group_name'], how='left')\n",
    "df_tmp['order2accept'] = df_tmp['accepted_orders_count'] / df_tmp['orders_count']\n",
    "df_grouped = df_grouped.merge(df_tmp[['duration_bin', 'group_name', 'order2accept']], on=['duration_bin', 'group_name'], how='left')\n",
    "\n",
    "# orders_without_bids_share\n",
    "from src.metrics import metric_orders_without_bids_count, metric_orders_count\n",
    "condition_on_orders = df_orders_with_recprice.order_type == ORDER_TYPE\n",
    "df_filtered = df_orders_with_recprice[condition_on_orders].copy()\n",
    "\n",
    "df_filtered['duration_sec'] = df_filtered['duration_in_min'] * 60\n",
    "duration_percentile = df_filtered['duration_sec'].quantile(0.99)\n",
    "duration_max = int(np.ceil(duration_percentile / 60.0)) * 60 \n",
    "\n",
    "df_filtered['duration_bin'] = pd.cut(\n",
    "        df_filtered['duration_sec'],\n",
    "        bins=np.arange(0, duration_max, 60*5),\n",
    "        labels=[f\"{i}\" for i in range(0, duration_max - 60*5, 60*5)],\n",
    "        right=False\n",
    "        )\n",
    "\n",
    "df_numerator = metric_orders_without_bids_count(df_filtered,\n",
    "                                                group_cols=['duration_bin', 'group_name'])\n",
    "df_denominator = metric_orders_count(df_filtered,\n",
    "                                     group_cols=['duration_bin', 'group_name'])\n",
    "df_tmp = df_numerator.merge(df_denominator, on=['duration_bin', 'group_name'], how='left')\n",
    "df_tmp['orders_without_bids_share'] = df_tmp['orders_without_bids_count'] / df_tmp['orders_count']\n",
    "df_grouped = df_grouped.merge(df_tmp[['duration_bin', 'group_name', 'orders_without_bids_share']], on=['duration_bin', 'group_name'], how='left')"
   ]
  },
  {
   "cell_type": "code",
   "execution_count": null,
   "metadata": {},
   "outputs": [],
   "source": [
    "fig = px.line(\n",
    "    df_grouped.sort_values(by=['group_name', 'duration_bin']),\n",
    "    x='duration_bin',\n",
    "    y='orders_without_bids_share',\n",
    "    color='group_name',\n",
    "    markers=True,\n",
    ")\n",
    "\n",
    "fig.add_trace(go.Scatter(\n",
    "    x=df_grouped[df_grouped['group_name'] == 'A']['duration_bin'].reset_index(drop=True),\n",
    "    y=(df_grouped[df_grouped['group_name'] == 'A']['orders_without_bids_share'].reset_index(drop=True) - \n",
    "    df_grouped[df_grouped['group_name'] == 'Control']['orders_without_bids_share'].reset_index(drop=True)) / df_grouped[df_grouped['group_name'] == 'Control']['orders_without_bids_share'].reset_index(drop=True),\n",
    "    mode='lines',\n",
    "    name='Rel Diff'\n",
    "))\n",
    "\n",
    "fig.add_trace(go.Scatter(\n",
    "    x=df_grouped[df_grouped['group_name'] == 'A']['duration_bin'].reset_index(drop=True),\n",
    "    y=df_grouped[df_grouped['group_name'] == 'Control']['algo_bidmph_share'].reset_index(drop=True),\n",
    "    mode='lines',\n",
    "    name='coverage, Control',\n",
    "))\n",
    "\n",
    "fig.add_trace(go.Scatter(\n",
    "    x=df_grouped[df_grouped['group_name'] == 'A']['duration_bin'].reset_index(drop=True),\n",
    "    y=df_grouped[df_grouped['group_name'] == 'A']['algo_bidmph_share'].reset_index(drop=True),\n",
    "    mode='lines',\n",
    "    name='coverage, A',\n",
    "))\n",
    "\n",
    "fig.add_trace(go.Scatter(\n",
    "    x=df_grouped[df_grouped['group_name'] == 'A']['duration_bin'].reset_index(drop=True),\n",
    "    y=df_grouped[df_grouped['group_name'] == 'Control']['order2accept'].reset_index(drop=True),\n",
    "    mode='lines',\n",
    "    name='order2accept, Control',\n",
    "))\n",
    "\n",
    "fig.add_trace(go.Scatter(\n",
    "    x=df_grouped[df_grouped['group_name'] == 'A']['duration_bin'].reset_index(drop=True),\n",
    "    y=df_grouped[df_grouped['group_name'] == 'A']['order2accept'].reset_index(drop=True),\n",
    "    mode='lines',\n",
    "    name='order2accept, A',\n",
    "))\n",
    "\n",
    "fig.add_trace(go.Scatter(\n",
    "    x=df_grouped[df_grouped['group_name'] == 'A']['duration_bin'].reset_index(drop=True),\n",
    "    y=df_grouped[df_grouped['group_name'] == 'A']['order2accept'].reset_index(drop=True) - \n",
    "    df_grouped[df_grouped['group_name'] == 'Control']['order2accept'].reset_index(drop=True),\n",
    "    mode='lines',\n",
    "    name='order2accept, Diff',\n",
    "))\n",
    "\n",
    "fig.update_layout(\n",
    "    xaxis_title='ETR',\n",
    "    yaxis_title='Share',\n",
    "    yaxis_tickformat='.0%',\n",
    "    template='plotly_white',\n",
    "    height=900,\n",
    "    width=1000,\n",
    "    title='orders_without_bids_share + coverage + order2accept'\n",
    ")\n",
    "\n",
    "fig.show()\n"
   ]
  },
  {
   "cell_type": "markdown",
   "metadata": {},
   "source": [
    "##### Time Series"
   ]
  },
  {
   "cell_type": "markdown",
   "metadata": {},
   "source": [
    "Get Data"
   ]
  },
  {
   "cell_type": "code",
   "execution_count": 186,
   "metadata": {},
   "outputs": [],
   "source": [
    "GROUP_COLS = ['group_name', 'time']"
   ]
  },
  {
   "cell_type": "code",
   "execution_count": 187,
   "metadata": {},
   "outputs": [],
   "source": [
    "condition_on_recprice = df_recprice_prepared.order_type_id == ORDER_TYPE_ID\n",
    "condition_on_orders = df_orders_with_recprice.order_type == ORDER_TYPE\n",
    "condition_on_bids = df_bids_prepared.order_type == ORDER_TYPE\n",
    "\n",
    "# Calculate Absolute Metrics\n",
    "df_metrics_grouped = calculate_absolute_metrics(\n",
    "    df_recprice_prepared[condition_on_recprice].copy(),\n",
    "    df_orders_with_recprice[condition_on_orders].copy(),\n",
    "    df_bids_prepared[condition_on_bids].copy(),\n",
    "    group_cols=GROUP_COLS,\n",
    ")\n",
    "\n",
    "# Calculate Ratio Metrics\n",
    "df_metrics_grouped_ts = calculate_ratio_metrics(df_metrics_grouped)"
   ]
  },
  {
   "cell_type": "markdown",
   "metadata": {},
   "source": [
    "Conversions"
   ]
  },
  {
   "cell_type": "code",
   "execution_count": null,
   "metadata": {},
   "outputs": [],
   "source": [
    "plot_conversions_by_time(\n",
    "    df_metrics_grouped,\n",
    "    grouped_column='time',\n",
    "    plot_root_path=PLOT_ROOT_PATH,\n",
    "    is_before=True,\n",
    "    is_show=True,\n",
    ")"
   ]
  },
  {
   "cell_type": "markdown",
   "metadata": {},
   "source": [
    "Prices"
   ]
  },
  {
   "cell_type": "code",
   "execution_count": null,
   "metadata": {},
   "outputs": [],
   "source": [
    "plot_prices_by_time(\n",
    "    df_metrics_grouped,\n",
    "    grouped_column='time',\n",
    "    plot_root_path=PLOT_ROOT_PATH,\n",
    "    is_before=True,\n",
    "    is_show=True,\n",
    ")"
   ]
  },
  {
   "cell_type": "markdown",
   "metadata": {},
   "source": [
    "Times"
   ]
  },
  {
   "cell_type": "code",
   "execution_count": null,
   "metadata": {},
   "outputs": [],
   "source": [
    "plot_times_by_time(\n",
    "    df_metrics_grouped,\n",
    "    grouped_column='time',\n",
    "    plot_root_path=PLOT_ROOT_PATH,\n",
    "    is_before=True,\n",
    "    is_show=True\n",
    ")"
   ]
  },
  {
   "cell_type": "markdown",
   "metadata": {},
   "source": [
    "#### Results by ETR"
   ]
  },
  {
   "cell_type": "code",
   "execution_count": null,
   "metadata": {},
   "outputs": [],
   "source": [
    "print(f\"\"\"Median ETR: {df_metrics_grouped_dist[df_metrics_grouped_dist['group_name'] == 'Control']['etr'].median()}sec\"\"\")\n",
    "value = df_metrics_grouped_dist[df_metrics_grouped_dist['group_name'] == 'Control']['etr'].median() / 60"
   ]
  },
  {
   "cell_type": "code",
   "execution_count": 251,
   "metadata": {},
   "outputs": [],
   "source": [
    "condition_on_recprice_L = (df_recprice_prepared.order_type_id == ORDER_TYPE_ID) & (df_recprice_prepared.log_duration_in_min <= value)\n",
    "condition_on_orders_L = (df_orders_with_recprice.order_type == ORDER_TYPE) & (df_orders_with_recprice.log_duration_in_min <= value)\n",
    "condition_on_bids_L = (df_bids_prepared.order_type == ORDER_TYPE) & (df_bids_prepared.duration_in_min <= value)\n",
    "\n",
    "condition_on_recprice_R = (df_recprice_prepared.order_type_id == ORDER_TYPE_ID) & (df_recprice_prepared.log_duration_in_min > value)\n",
    "condition_on_orders_R = (df_orders_with_recprice.order_type == ORDER_TYPE) & (df_orders_with_recprice.log_duration_in_min>= value)\n",
    "condition_on_bids_R = (df_bids_prepared.order_type == ORDER_TYPE) & (df_bids_prepared.duration_in_min>= value)"
   ]
  },
  {
   "cell_type": "code",
   "execution_count": null,
   "metadata": {},
   "outputs": [],
   "source": [
    "pd.set_option('display.max_rows', None)\n",
    "\n",
    "df_metrics_total = calculate_absolute_metrics(\n",
    "    df_recprice_prepared[condition_on_recprice_L].copy(),\n",
    "    df_orders_with_recprice[condition_on_orders_L].copy(),\n",
    "    df_bids_prepared[condition_on_bids_L].copy(),\n",
    "    group_cols=['group_name', 'switch_start_dttm', 'switch_finish_dttm'],\n",
    ")\n",
    "\n",
    "metrics_total_tbl_L = get_switchback_results(df_metrics_total, alpha=0.05)[\n",
    "    ['metric', 'control_value', 'experimental_value', 'uplift_rel', 'pvalue', 'is_significant']\n",
    "]\n",
    "\n",
    "# metrics_total_tbl.to_csv(DATA_ROOT_PATH / 'metrics_total_tbl.csv', index=False)\n",
    "# print(f\"\"\"csv file saved to {DATA_ROOT_PATH / 'metrics_total_tbl.csv'}\"\"\")\n",
    "\n",
    "df_metrics_total = calculate_absolute_metrics(\n",
    "    df_recprice_prepared[condition_on_recprice_R].copy(),\n",
    "    df_orders_with_recprice[condition_on_orders_R].copy(),\n",
    "    df_bids_prepared[condition_on_bids_R].copy(),\n",
    "    group_cols=['group_name', 'switch_start_dttm', 'switch_finish_dttm'],\n",
    ")\n",
    "\n",
    "metrics_total_tbl_R = get_switchback_results(df_metrics_total, alpha=0.05)[\n",
    "    ['metric', 'control_value', 'experimental_value', 'uplift_rel', 'pvalue', 'is_significant']\n",
    "]\n",
    "\n",
    "metrics_total_tbl = metrics_total_tbl_L.merge(metrics_total_tbl_R, on='metric', how='left', suffixes=('_L', '_R'))\n",
    "metrics_total_tbl"
   ]
  },
  {
   "cell_type": "markdown",
   "metadata": {},
   "source": [
    "##### __Plots__"
   ]
  },
  {
   "cell_type": "markdown",
   "metadata": {},
   "source": [
    "##### Distributions"
   ]
  },
  {
   "cell_type": "markdown",
   "metadata": {},
   "source": [
    "Get Data"
   ]
  },
  {
   "cell_type": "code",
   "execution_count": null,
   "metadata": {},
   "outputs": [],
   "source": [
    "GROUP_COLS = ['group_name', 'switch_start_dttm', 'switch_finish_dttm']"
   ]
  },
  {
   "cell_type": "code",
   "execution_count": null,
   "metadata": {},
   "outputs": [],
   "source": [
    "# Calculate Absolute Metrics\n",
    "df_metrics_grouped = calculate_absolute_metrics(\n",
    "    df_recprice_prepared[condition_on_recprice].copy(),\n",
    "    df_orders_with_recprice[condition_on_orders].copy(),\n",
    "    df_bids_prepared[condition_on_bids].copy(),\n",
    "    group_cols=GROUP_COLS\n",
    ")\n",
    "\n",
    "# Calculate Ratio Metrics\n",
    "df_metrics_grouped= calculate_ratio_metrics(df_metrics_grouped)\n",
    "\n",
    "# Filter essential metrics\n",
    "df_metrics_grouped_dist = df_metrics_grouped[GROUP_COLS + pd.DataFrame(ESSENTIAL_METRIC_LIST)[0].tolist()]"
   ]
  },
  {
   "cell_type": "code",
   "execution_count": null,
   "metadata": {},
   "outputs": [],
   "source": [
    "plot_density_anime(df_metrics_grouped_dist, metrics=df_metrics_grouped.columns.difference(GROUP_COLS))"
   ]
  },
  {
   "cell_type": "code",
   "execution_count": null,
   "metadata": {},
   "outputs": [],
   "source": [
    "#plot_density_simple(df_metrics_grouped_dist, metric='rta', bins=70)\n",
    "plot_density_overlay(df_metrics_grouped_dist, metric='price_bid_currency_accepted_bids', bins=100)"
   ]
  },
  {
   "cell_type": "code",
   "execution_count": null,
   "metadata": {},
   "outputs": [],
   "source": [
    "plot_density_overlay(df_metrics_grouped_dist, metric='price_bid_currency', bins=100)"
   ]
  },
  {
   "cell_type": "markdown",
   "metadata": {},
   "source": [
    "##### Time Series"
   ]
  },
  {
   "cell_type": "markdown",
   "metadata": {},
   "source": [
    "Get Data"
   ]
  },
  {
   "cell_type": "code",
   "execution_count": 37,
   "metadata": {},
   "outputs": [],
   "source": [
    "GROUP_COLS = ['group_name', 'time']"
   ]
  },
  {
   "cell_type": "code",
   "execution_count": 38,
   "metadata": {},
   "outputs": [],
   "source": [
    "# Calculate Absolute Metrics\n",
    "df_metrics_grouped = calculate_absolute_metrics(\n",
    "    df_recprice_prepared[condition_on_recprice].copy(),\n",
    "    df_orders_with_recprice[condition_on_orders].copy(),\n",
    "    df_bids_prepared[condition_on_bids].copy(),\n",
    "    group_cols=GROUP_COLS,\n",
    ")\n",
    "\n",
    "# Calculate Ratio Metrics\n",
    "df_metrics_grouped = calculate_ratio_metrics(df_metrics_grouped)"
   ]
  },
  {
   "cell_type": "markdown",
   "metadata": {},
   "source": [
    "Conversions"
   ]
  },
  {
   "cell_type": "code",
   "execution_count": null,
   "metadata": {},
   "outputs": [],
   "source": [
    "plot_conversions_by_time(\n",
    "    df_metrics_grouped,\n",
    "    grouped_column='time',\n",
    "    plot_root_path=PLOT_ROOT_PATH,\n",
    "    is_before=True,\n",
    "    is_show=True,\n",
    ")"
   ]
  },
  {
   "cell_type": "markdown",
   "metadata": {},
   "source": [
    "Prices"
   ]
  },
  {
   "cell_type": "code",
   "execution_count": null,
   "metadata": {},
   "outputs": [],
   "source": [
    "plot_prices_by_time(\n",
    "    df_metrics_grouped,\n",
    "    grouped_column='time',\n",
    "    plot_root_path=PLOT_ROOT_PATH,\n",
    "    is_before=True,\n",
    "    is_show=True,\n",
    ")"
   ]
  },
  {
   "cell_type": "markdown",
   "metadata": {},
   "source": [
    "Times"
   ]
  },
  {
   "cell_type": "code",
   "execution_count": null,
   "metadata": {},
   "outputs": [],
   "source": [
    "plot_times_by_time(\n",
    "    df_metrics_grouped,\n",
    "    grouped_column='time',\n",
    "    plot_root_path=PLOT_ROOT_PATH,\n",
    "    is_before=True,\n",
    "    is_show=True\n",
    ")"
   ]
  },
  {
   "cell_type": "markdown",
   "metadata": {},
   "source": [
    "#### Results by ETA"
   ]
  },
  {
   "cell_type": "code",
   "execution_count": null,
   "metadata": {},
   "outputs": [],
   "source": [
    "print(f\"\"\"Median ETR: {df_metrics_grouped_dist[df_metrics_grouped_dist['group_name'] == 'Control']['eta'].median()}sec\"\"\")\n",
    "value = df_metrics_grouped_dist[df_metrics_grouped_dist['group_name'] == 'Control']['eta'].median() / 60"
   ]
  },
  {
   "cell_type": "code",
   "execution_count": null,
   "metadata": {},
   "outputs": [],
   "source": [
    "condition_on_bids_L = (df_bids_prepared.order_type == ORDER_TYPE) & (df_bids_prepared.eta <= value)\n",
    "\n",
    "condition_on_bids_R = (df_bids_prepared.order_type == ORDER_TYPE) & (df_bids_prepared.eta>= value)"
   ]
  },
  {
   "cell_type": "code",
   "execution_count": null,
   "metadata": {},
   "outputs": [],
   "source": [
    "pd.set_option('display.max_rows', None)\n",
    "\n",
    "df_metrics_total = calculate_absolute_metrics(\n",
    "    df_bid=df_bids_prepared[condition_on_bids_L].copy(),\n",
    "    group_cols=['group_name', 'switch_start_dttm', 'switch_finish_dttm'],\n",
    ")\n",
    "\n",
    "metrics_total_tbl_L = get_switchback_results(df_metrics_total, alpha=0.05)[\n",
    "    ['metric', 'control_value', 'experimental_value', 'uplift_rel', 'pvalue', 'is_significant']\n",
    "]\n",
    "\n",
    "# metrics_total_tbl.to_csv(DATA_ROOT_PATH / 'metrics_total_tbl.csv', index=False)\n",
    "# print(f\"\"\"csv file saved to {DATA_ROOT_PATH / 'metrics_total_tbl.csv'}\"\"\")\n",
    "\n",
    "df_metrics_total = calculate_absolute_metrics(\n",
    "    df_bid=df_bids_prepared[condition_on_bids_R].copy(),\n",
    "    group_cols=['group_name', 'switch_start_dttm', 'switch_finish_dttm'],\n",
    ")\n",
    "\n",
    "metrics_total_tbl_R = get_switchback_results(df_metrics_total, alpha=0.05)[\n",
    "    ['metric', 'control_value', 'experimental_value', 'uplift_rel', 'pvalue', 'is_significant']\n",
    "]\n",
    "\n",
    "metrics_total_tbl = metrics_total_tbl_L.merge(metrics_total_tbl_R, on='metric', how='left', suffixes=('_L', '_R'))\n",
    "metrics_total_tbl"
   ]
  },
  {
   "cell_type": "markdown",
   "metadata": {},
   "source": [
    "# Foot note"
   ]
  },
  {
   "cell_type": "markdown",
   "metadata": {},
   "source": [
    "##### More heatmaps"
   ]
  },
  {
   "cell_type": "code",
   "execution_count": null,
   "metadata": {},
   "outputs": [],
   "source": [
    "from src.metrics import metric_price_bid_done_currency_sum, metric_orders_count\n",
    "\n",
    "plot_heatmap(df_bids_prepared, \n",
    "             metric='GMV per ordersTotal', \n",
    "             numerator_func=metric_price_bid_done_currency_sum,\n",
    "             denominator_func=None,\n",
    "             denom_values_dict=dict(zip(metric_orders_count(df_orders_with_recprice, ['group_name'])['group_name'],\n",
    "                                        metric_orders_count(df_orders_with_recprice, ['group_name'])['orders_count'])),\n",
    "             min_samples=20, PLOT_ROOT_PATH=PLOT_ROOT_PATH, EXP_ID=EXP_ID,\n",
    "            #  zmin1=0.0, zmax1=0.02, zmin2=None, zmax2=None,\n",
    "             num_bins=20\n",
    "             )"
   ]
  },
  {
   "cell_type": "code",
   "execution_count": null,
   "metadata": {},
   "outputs": [],
   "source": [
    "from src.metrics import metric_price_bid_done_option_startprice_currency_sum, metric_price_bid_done_option_option1_currency_sum\n",
    "from src.metrics import metric_price_bid_done_option_option2_currency_sum, metric_price_bid_done_option_option3_currency_sum\n",
    "\n",
    "plot_heatmap(df_bids_prepared, \n",
    "             metric='GMV_SP per ordersTOTAL', \n",
    "             numerator_func=metric_price_bid_done_option_startprice_currency_sum,\n",
    "             denominator_func=None,\n",
    "             denom_values_dict=dict(zip(metric_orders_count(df_orders_with_recprice, ['group_name'])['group_name'],\n",
    "                                        metric_orders_count(df_orders_with_recprice, ['group_name'])['orders_count'])),\n",
    "             min_samples=20, PLOT_ROOT_PATH=PLOT_ROOT_PATH, EXP_ID=EXP_ID,\n",
    "            #  zmin1=0.0, zmax1=0.02, zmin2=-0.1, zmax2=0.1\n",
    "            num_bins=20\n",
    "             )\n",
    "\n",
    "plot_heatmap(df_bids_prepared, \n",
    "             metric='GMV_Op1 per ordersTOTAL', \n",
    "             numerator_func=metric_price_bid_done_option_option1_currency_sum,\n",
    "             denominator_func=None,\n",
    "             denom_values_dict=dict(zip(metric_orders_count(df_orders_with_recprice, ['group_name'])['group_name'],\n",
    "                                        metric_orders_count(df_orders_with_recprice, ['group_name'])['orders_count'])),\n",
    "             min_samples=20, PLOT_ROOT_PATH=PLOT_ROOT_PATH, EXP_ID=EXP_ID,\n",
    "            #  zmin1=0.0, zmax1=0.02, zmin2=-0.1, zmax2=0.1\n",
    "            num_bins=20\n",
    "             )\n",
    "\n",
    "plot_heatmap(df_bids_prepared, \n",
    "             metric='GMV_Op2 per ordersTOTAL', \n",
    "             numerator_func=metric_price_bid_done_option_option2_currency_sum,\n",
    "             denominator_func=None,\n",
    "             denom_values_dict=dict(zip(metric_orders_count(df_orders_with_recprice, ['group_name'])['group_name'],\n",
    "                                        metric_orders_count(df_orders_with_recprice, ['group_name'])['orders_count'])),\n",
    "             min_samples=20, PLOT_ROOT_PATH=PLOT_ROOT_PATH, EXP_ID=EXP_ID,\n",
    "            #  zmin1=0.0, zmax1=0.02, zmin2=-0.1, zmax2=0.1\n",
    "            num_bins=20\n",
    "             )\n",
    "\n",
    "plot_heatmap(df_bids_prepared, \n",
    "             metric='GMV_Op3 per ordersTOTAL', \n",
    "             numerator_func=metric_price_bid_done_option_option3_currency_sum,\n",
    "             denominator_func=None,\n",
    "             denom_values_dict=dict(zip(metric_orders_count(df_orders_with_recprice, ['group_name'])['group_name'],\n",
    "                                        metric_orders_count(df_orders_with_recprice, ['group_name'])['orders_count'])),\n",
    "             min_samples=20, PLOT_ROOT_PATH=PLOT_ROOT_PATH, EXP_ID=EXP_ID,\n",
    "            #  zmin1=0.0, zmax1=0.02, zmin2=-0.1, zmax2=0.1\n",
    "            num_bins=20\n",
    "             )"
   ]
  },
  {
   "cell_type": "code",
   "execution_count": null,
   "metadata": {},
   "outputs": [],
   "source": [
    "plot_heatmap(df_bids_prepared, \n",
    "             metric='badbids per ordersTOTAL', \n",
    "             numerator_func=metric_algo_bidmph_bids_count,\n",
    "             denominator_func=None,\n",
    "             denom_values_dict=dict(zip(metric_orders_count(df_orders_with_recprice, ['group_name'])['group_name'],\n",
    "                                        metric_orders_count(df_orders_with_recprice, ['group_name'])['orders_count'])),\n",
    "             min_samples=20, PLOT_ROOT_PATH=PLOT_ROOT_PATH, EXP_ID=EXP_ID,\n",
    "             zmin1=0.0, zmax1=0.02, zmin2=None, zmax2=None)"
   ]
  },
  {
   "cell_type": "code",
   "execution_count": null,
   "metadata": {},
   "outputs": [],
   "source": [
    "plot_heatmap(df_bids_prepared, \n",
    "             metric='defaultbids per ordersTOTAL', \n",
    "             numerator_func=metric_algo_default_bids_count,\n",
    "             denominator_func=None,\n",
    "             denom_values_dict=dict(zip(metric_orders_count(df_orders_with_recprice, ['group_name'])['group_name'],\n",
    "                                        metric_orders_count(df_orders_with_recprice, ['group_name'])['orders_count'])),\n",
    "             min_samples=20, PLOT_ROOT_PATH=PLOT_ROOT_PATH, EXP_ID=EXP_ID,\n",
    "             zmin1=0.0, zmax1=0.02, zmin2=None, zmax2=None)"
   ]
  },
  {
   "cell_type": "code",
   "execution_count": null,
   "metadata": {},
   "outputs": [],
   "source": [
    "plot_heatmap(df_bids_prepared, \n",
    "             metric='bids per orderTOTAL', \n",
    "             numerator_func=metric_bids_count,\n",
    "             denominator_func=None,\n",
    "             denom_values_dict=dict(zip(metric_orders_count(df_orders_with_recprice, ['group_name'])['group_name'],\n",
    "                                        metric_orders_count(df_orders_with_recprice, ['group_name'])['orders_count'])),\n",
    "             min_samples=20, PLOT_ROOT_PATH=PLOT_ROOT_PATH, EXP_ID=EXP_ID,\n",
    "            #  zmin1=0.0, zmax1=0.02, zmin2=None, zmax2=None\n",
    "            num_bins=20\n",
    "             )"
   ]
  },
  {
   "cell_type": "code",
   "execution_count": null,
   "metadata": {},
   "outputs": [],
   "source": [
    "from src.metrics import metric_bids_option_startprice_count, metric_bids_option_option1_count\n",
    "from src.metrics import metric_bids_option_option2_count, metric_bids_option_option3_count\n",
    "\n",
    "plot_heatmap(df_bids_prepared, \n",
    "             metric='Bids_SP per ordersTOTAL', \n",
    "             numerator_func=metric_bids_option_startprice_count,\n",
    "             denominator_func=None,\n",
    "             denom_values_dict=dict(zip(metric_orders_count(df_orders_with_recprice, ['group_name'])['group_name'],\n",
    "                                        metric_orders_count(df_orders_with_recprice, ['group_name'])['orders_count'])),\n",
    "             min_samples=20, PLOT_ROOT_PATH=PLOT_ROOT_PATH, EXP_ID=EXP_ID,\n",
    "            #  zmin1=0.0, zmax1=0.02, zmin2=-0.1, zmax2=0.1\n",
    "            num_bins=20\n",
    "             )\n",
    "\n",
    "plot_heatmap(df_bids_prepared, \n",
    "             metric='Bids_Op1 per ordersTOTAL', \n",
    "             numerator_func=metric_bids_option_option1_count,\n",
    "             denominator_func=None,\n",
    "             denom_values_dict=dict(zip(metric_orders_count(df_orders_with_recprice, ['group_name'])['group_name'],\n",
    "                                        metric_orders_count(df_orders_with_recprice, ['group_name'])['orders_count'])),\n",
    "             min_samples=20, PLOT_ROOT_PATH=PLOT_ROOT_PATH, EXP_ID=EXP_ID,\n",
    "            #  zmin1=0.0, zmax1=0.02, zmin2=-0.1, zmax2=0.1\n",
    "            num_bins=20\n",
    "             )\n",
    "\n",
    "plot_heatmap(df_bids_prepared, \n",
    "             metric='Bids_Op2 per ordersTOTAL', \n",
    "             numerator_func=metric_bids_option_option2_count,\n",
    "             denominator_func=None,\n",
    "             denom_values_dict=dict(zip(metric_orders_count(df_orders_with_recprice, ['group_name'])['group_name'],\n",
    "                                        metric_orders_count(df_orders_with_recprice, ['group_name'])['orders_count'])),\n",
    "             min_samples=20, PLOT_ROOT_PATH=PLOT_ROOT_PATH, EXP_ID=EXP_ID,\n",
    "            #  zmin1=0.0, zmax1=0.02, zmin2=-0.1, zmax2=0.1\n",
    "            num_bins=20\n",
    "             )\n",
    "\n",
    "plot_heatmap(df_bids_prepared, \n",
    "             metric='Bids_Op3 per ordersTOTAL', \n",
    "             numerator_func=metric_bids_option_option3_count,\n",
    "             denominator_func=None,\n",
    "             denom_values_dict=dict(zip(metric_orders_count(df_orders_with_recprice, ['group_name'])['group_name'],\n",
    "                                        metric_orders_count(df_orders_with_recprice, ['group_name'])['orders_count'])),\n",
    "             min_samples=20, PLOT_ROOT_PATH=PLOT_ROOT_PATH, EXP_ID=EXP_ID,\n",
    "            #  zmin1=0.0, zmax1=0.02, zmin2=-0.1, zmax2=0.1\n",
    "            num_bins=20\n",
    "             )"
   ]
  },
  {
   "cell_type": "code",
   "execution_count": null,
   "metadata": {},
   "outputs": [],
   "source": [
    "plot_heatmap(df_bids_prepared, \n",
    "             metric='Accepts per ordersTOTAL', \n",
    "             numerator_func=metric_accepted_bids_count,\n",
    "             denominator_func=None,\n",
    "             denom_values_dict=dict(zip(metric_orders_count(df_orders_with_recprice, ['group_name'])['group_name'],\n",
    "                                        metric_orders_count(df_orders_with_recprice, ['group_name'])['orders_count'])),\n",
    "             min_samples=20, PLOT_ROOT_PATH=PLOT_ROOT_PATH, EXP_ID=EXP_ID,\n",
    "             #zmin1=0.0, zmax1=0.02, zmin2=-0.1, zmax2=0.1, \n",
    "             #num_bins=5\n",
    "             )"
   ]
  },
  {
   "cell_type": "code",
   "execution_count": null,
   "metadata": {},
   "outputs": [],
   "source": [
    "from src.metrics import metric_accepted_bids_option_startprice_count, metric_accepted_bids_option_option1_count\n",
    "from src.metrics import metric_accepted_bids_option_option2_count, metric_accepted_bids_option_option3_count\n",
    "\n",
    "plot_heatmap(df_bids_prepared, \n",
    "             metric='Accepts_SP per ordersTOTAL', \n",
    "             numerator_func=metric_accepted_bids_option_startprice_count,\n",
    "             denominator_func=None,\n",
    "             denom_values_dict=dict(zip(metric_orders_count(df_orders_with_recprice, ['group_name'])['group_name'],\n",
    "                                        metric_orders_count(df_orders_with_recprice, ['group_name'])['orders_count'])),\n",
    "             min_samples=20, PLOT_ROOT_PATH=PLOT_ROOT_PATH, EXP_ID=EXP_ID,\n",
    "            #  zmin1=0.0, zmax1=0.02, zmin2=-0.1, zmax2=0.1\n",
    "            num_bins=20\n",
    "             )\n",
    "\n",
    "plot_heatmap(df_bids_prepared, \n",
    "             metric='Accepts_Op1 per ordersTOTAL', \n",
    "             numerator_func=metric_accepted_bids_option_option1_count,\n",
    "             denominator_func=None,\n",
    "             denom_values_dict=dict(zip(metric_orders_count(df_orders_with_recprice, ['group_name'])['group_name'],\n",
    "                                        metric_orders_count(df_orders_with_recprice, ['group_name'])['orders_count'])),\n",
    "             min_samples=20, PLOT_ROOT_PATH=PLOT_ROOT_PATH, EXP_ID=EXP_ID,\n",
    "            #  zmin1=0.0, zmax1=0.02, zmin2=-0.1, zmax2=0.1\n",
    "            num_bins=20\n",
    "             )\n",
    "\n",
    "plot_heatmap(df_bids_prepared, \n",
    "             metric='Accepts_Op2 per ordersTOTAL', \n",
    "             numerator_func=metric_accepted_bids_option_option2_count,\n",
    "             denominator_func=None,\n",
    "             denom_values_dict=dict(zip(metric_orders_count(df_orders_with_recprice, ['group_name'])['group_name'],\n",
    "                                        metric_orders_count(df_orders_with_recprice, ['group_name'])['orders_count'])),\n",
    "             min_samples=20, PLOT_ROOT_PATH=PLOT_ROOT_PATH, EXP_ID=EXP_ID,\n",
    "            #  zmin1=0.0, zmax1=0.02, zmin2=-0.1, zmax2=0.1\n",
    "            num_bins=20\n",
    "             )\n",
    "\n",
    "plot_heatmap(df_bids_prepared, \n",
    "             metric='Accepts_Op3 per ordersTOTAL', \n",
    "             numerator_func=metric_accepted_bids_option_option3_count,\n",
    "             denominator_func=None,\n",
    "             denom_values_dict=dict(zip(metric_orders_count(df_orders_with_recprice, ['group_name'])['group_name'],\n",
    "                                        metric_orders_count(df_orders_with_recprice, ['group_name'])['orders_count'])),\n",
    "             min_samples=20, PLOT_ROOT_PATH=PLOT_ROOT_PATH, EXP_ID=EXP_ID,\n",
    "            #  zmin1=0.0, zmax1=0.02, zmin2=-0.1, zmax2=0.1\n",
    "            num_bins=20\n",
    "             )"
   ]
  },
  {
   "cell_type": "code",
   "execution_count": null,
   "metadata": {},
   "outputs": [],
   "source": [
    "plot_heatmap(df_bids_prepared, \n",
    "             metric='accepted_bids_share', \n",
    "             numerator_func=metric_accepted_bids_count, denominator_func=metric_bids_count, \n",
    "             min_samples=20, PLOT_ROOT_PATH=PLOT_ROOT_PATH, EXP_ID=EXP_ID,\n",
    "             num_bins=20\n",
    "             )"
   ]
  },
  {
   "cell_type": "code",
   "execution_count": null,
   "metadata": {},
   "outputs": [],
   "source": [
    "from src.metrics import metric_accepted_bids_option_startprice_count, metric_accepted_bids_option_option1_count\n",
    "from src.metrics import metric_accepted_bids_option_option2_count, metric_accepted_bids_option_option3_count\n",
    "\n",
    "plot_heatmap(df_bids_prepared, \n",
    "             metric='AR_SP per ordersTOTAL', \n",
    "             numerator_func=metric_accepted_bids_option_startprice_count,\n",
    "             denominator_func=metric_bids_option_startprice_count,\n",
    "             min_samples=20, PLOT_ROOT_PATH=PLOT_ROOT_PATH, EXP_ID=EXP_ID,\n",
    "            #  zmin1=0.0, zmax1=0.02, zmin2=-0.1, zmax2=0.1\n",
    "            num_bins=20\n",
    "             )\n",
    "\n",
    "plot_heatmap(df_bids_prepared, \n",
    "             metric='AR_Op1 per ordersTOTAL', \n",
    "             numerator_func=metric_accepted_bids_option_option1_count,\n",
    "             denominator_func=metric_bids_option_option1_count,\n",
    "             min_samples=20, PLOT_ROOT_PATH=PLOT_ROOT_PATH, EXP_ID=EXP_ID,\n",
    "            #  zmin1=0.0, zmax1=0.02, zmin2=-0.1, zmax2=0.1\n",
    "            num_bins=20\n",
    "             )\n",
    "\n",
    "plot_heatmap(df_bids_prepared, \n",
    "             metric='AR_Op2 per ordersTOTAL', \n",
    "             numerator_func=metric_accepted_bids_option_option2_count,\n",
    "             denominator_func=metric_bids_option_option2_count,\n",
    "             min_samples=20, PLOT_ROOT_PATH=PLOT_ROOT_PATH, EXP_ID=EXP_ID,\n",
    "            #  zmin1=0.0, zmax1=0.02, zmin2=-0.1, zmax2=0.1\n",
    "            num_bins=20\n",
    "             )\n",
    "\n",
    "plot_heatmap(df_bids_prepared, \n",
    "             metric='AR_Op3 per ordersTOTAL', \n",
    "             numerator_func=metric_accepted_bids_option_option3_count,\n",
    "             denominator_func=metric_bids_option_option3_count,\n",
    "             min_samples=20, PLOT_ROOT_PATH=PLOT_ROOT_PATH, EXP_ID=EXP_ID,\n",
    "            #  zmin1=0.0, zmax1=0.02, zmin2=-0.1, zmax2=0.1\n",
    "            num_bins=20\n",
    "             )"
   ]
  },
  {
   "cell_type": "code",
   "execution_count": null,
   "metadata": {},
   "outputs": [],
   "source": [
    "from src.metrics import metric_time_1st_bid_to_accept_sec_sum\n",
    "plot_heatmap(df_bids_prepared, \n",
    "             metric='time_1st_bid_to_accept', \n",
    "             numerator_func=metric_time_1st_bid_to_accept_sec_sum,\n",
    "             denominator_func=metric_accepted_bids_count,\n",
    "             min_samples=20, PLOT_ROOT_PATH=PLOT_ROOT_PATH, EXP_ID=EXP_ID)"
   ]
  },
  {
   "cell_type": "code",
   "execution_count": null,
   "metadata": {},
   "outputs": [],
   "source": [
    "plot_heatmap(df_bids_prepared[df_bids_prepared['algo_name_new'] == 'algo_bidmph'], \n",
    "             metric='algo_bidmph_price_bid_currency', \n",
    "             numerator_func=metric_bids_bid_price_currency_sum,\n",
    "             denominator_func=metric_bids_count,\n",
    "             min_samples=20, PLOT_ROOT_PATH=PLOT_ROOT_PATH, EXP_ID=EXP_ID)"
   ]
  },
  {
   "cell_type": "code",
   "execution_count": null,
   "metadata": {},
   "outputs": [],
   "source": [
    "plot_heatmap(df_bids_prepared[df_bids_prepared['algo_name_new'] == 'algo_default'], \n",
    "             metric='algo_default_price_bid_currency', \n",
    "             numerator_func=metric_bids_bid_price_currency_sum,\n",
    "             denominator_func=metric_bids_count,\n",
    "             min_samples=20, PLOT_ROOT_PATH=PLOT_ROOT_PATH, EXP_ID=EXP_ID)"
   ]
  },
  {
   "cell_type": "code",
   "execution_count": null,
   "metadata": {},
   "outputs": [],
   "source": [
    "plot_heatmap(df_bids_prepared[df_bids_prepared['algo_name_new'] == 'algo_default'], \n",
    "             metric='algo_default_price_bid_currency', \n",
    "             numerator_func=metric_bids_bid_price_currency_sum,\n",
    "             denominator_func=metric_bids_count,\n",
    "             min_samples=20, PLOT_ROOT_PATH=PLOT_ROOT_PATH, EXP_ID=EXP_ID)"
   ]
  },
  {
   "cell_type": "code",
   "execution_count": null,
   "metadata": {},
   "outputs": [],
   "source": [
    "import plotly.graph_objects as go\n",
    "from plotly.subplots import make_subplots\n",
    "import numpy as np\n",
    "import pandas as pd\n",
    "\n",
    "def plot_heatmap_with_distributions_plotly(df_bids, df_orders, x_metric='duration_sec', y_metric='eta', \n",
    "                                          bins=50, PLOT_ROOT_PATH=None, EXP_ID=None):\n",
    "    \"\"\"\n",
    "    Create an interactive heatmap with marginal distributions along each axis using Plotly.\n",
    "    \"\"\"\n",
    "    \n",
    "    # Create subplot layout\n",
    "    fig = make_subplots(\n",
    "        rows=2, cols=2,\n",
    "        column_widths=[0.8, 0.2],\n",
    "        row_heights=[0.2, 0.8],\n",
    "        specs=[\n",
    "            [{\"type\": \"histogram\"}, {\"type\": \"scatter\"}],\n",
    "            [{\"type\": \"heatmap\"}, {\"type\": \"histogram\"}]\n",
    "        ],\n",
    "        horizontal_spacing=0.05,\n",
    "        vertical_spacing=0.05\n",
    "    )\n",
    "    \n",
    "    # Get data and filter outliers\n",
    "    x = df_orders[pd.to_numeric(df_orders[x_metric], errors='coerce').notna()][x_metric].astype(float).values\n",
    "    y = df_bids[pd.to_numeric(df_bids[y_metric], errors='coerce').notna()][y_metric].astype(float).values\n",
    "    \n",
    "    # Проверка, что у нас есть данные\n",
    "    if len(x) == 0 or len(y) == 0:\n",
    "        print(\"No valid data found for x or y. Please check your data.\")\n",
    "        return None\n",
    "    \n",
    "    # Calculate reasonable range limits (1st-99th percentile to exclude outliers)\n",
    "    x_min, x_max = np.percentile(x, [1, 99])\n",
    "    y_min, y_max = np.percentile(y, [1, 99])\n",
    "    \n",
    "    # Filter out extreme values for better visualization\n",
    "    x_filtered = x[(x >= x_min) & (x <= x_max)]\n",
    "    y_filtered = y[(y >= y_min) & (y <= y_max)]\n",
    "    \n",
    "    # Create bins for x and y axes\n",
    "    x_bins = np.linspace(x_min, x_max, bins+1)\n",
    "    y_bins = np.linspace(y_min, y_max, bins+1)\n",
    "    \n",
    "    # Calculate bin centers for heatmap\n",
    "    x_centers = (x_bins[:-1] + x_bins[1:]) / 2\n",
    "    y_centers = (y_bins[:-1] + y_bins[1:]) / 2\n",
    "    \n",
    "    # Create histograms for each axis\n",
    "    x_hist, _ = np.histogram(x_filtered, bins=x_bins)\n",
    "    y_hist, _ = np.histogram(y_filtered, bins=y_bins)\n",
    "    \n",
    "    # Create a base grid that simulates a joint distribution\n",
    "    base_grid = np.outer(x_hist, y_hist)\n",
    "    \n",
    "    # Add some random noise to make it look more natural\n",
    "    np.random.seed(42)  # For reproducibility\n",
    "    noise = np.random.normal(0, base_grid.std()*0.1, base_grid.shape)\n",
    "    heatmap_data = base_grid + noise\n",
    "    \n",
    "    # Ensure non-negative values\n",
    "    heatmap_data = np.maximum(0, heatmap_data)\n",
    "    \n",
    "    # Create heatmap\n",
    "    fig.add_trace(\n",
    "        go.Heatmap(\n",
    "            z=heatmap_data.T,  # Transpose for correct orientation\n",
    "            x=x_centers,\n",
    "            y=y_centers,\n",
    "            colorscale='Viridis',\n",
    "            showscale=True,\n",
    "            colorbar=dict(\n",
    "                title=\"Density\",\n",
    "                x=0.85,\n",
    "                y=0.45\n",
    "            )\n",
    "        ),\n",
    "        row=2, col=1\n",
    "    )\n",
    "    \n",
    "    # Add X-axis distribution (Top histogram)\n",
    "    for group_name, group_df in df_orders.groupby('group_name'):\n",
    "        # Ensure numeric data\n",
    "        group_df_numeric = group_df[pd.to_numeric(group_df[x_metric], errors='coerce').notna()]\n",
    "        if len(group_df_numeric) == 0:\n",
    "            continue  # Skip if no valid data\n",
    "            \n",
    "        group_data = group_df_numeric[x_metric].astype(float).values\n",
    "        group_data = group_data[(group_data >= x_min) & (group_data <= x_max)]\n",
    "        \n",
    "        if len(group_data) < 2:  # Minimum needed for histogram\n",
    "            continue\n",
    "        \n",
    "        color = 'blue' if group_name == 'Control' else 'orange'\n",
    "        \n",
    "        # Add histogram\n",
    "        fig.add_trace(\n",
    "            go.Histogram(\n",
    "                x=group_data,\n",
    "                nbinsx=bins,\n",
    "                marker_color=color,\n",
    "                opacity=0.6,\n",
    "                name=f\"{group_name} - {x_metric}\",\n",
    "                histnorm='probability density'\n",
    "            ),\n",
    "            row=1, col=1\n",
    "        )\n",
    "    \n",
    "    # Add Y-axis distribution (Right histogram)\n",
    "    for group_name, group_df in df_bids.groupby('group_name'):\n",
    "        # Ensure numeric data\n",
    "        group_df_numeric = group_df[pd.to_numeric(group_df[y_metric], errors='coerce').notna()]\n",
    "        if len(group_df_numeric) == 0:\n",
    "            continue  # Skip if no valid data\n",
    "            \n",
    "        group_data = group_df_numeric[y_metric].astype(float).values\n",
    "        group_data = group_data[(group_data >= y_min) & (group_data <= y_max)]\n",
    "        \n",
    "        if len(group_data) < 2:  # Minimum needed for histogram\n",
    "            continue\n",
    "        \n",
    "        color = 'blue' if group_name == 'Control' else 'orange'\n",
    "        \n",
    "        # Add histogram\n",
    "        fig.add_trace(\n",
    "            go.Histogram(\n",
    "                y=group_data,\n",
    "                nbinsy=bins,\n",
    "                marker_color=color,\n",
    "                opacity=0.6,\n",
    "                name=f\"{group_name} - {y_metric}\",\n",
    "                histnorm='probability density'\n",
    "            ),\n",
    "            row=2, col=2\n",
    "        )\n",
    "    \n",
    "    # Update layout\n",
    "    fig.update_layout(\n",
    "        title={\n",
    "            'text': 'Heatmap of Bids Distribution by ETR and ETA',\n",
    "            'y':0.98,\n",
    "            'x':0.5,\n",
    "            'xanchor': 'center',\n",
    "            'yanchor': 'top'\n",
    "        },\n",
    "        xaxis_title=f\"ETR ({x_metric})\",\n",
    "        yaxis_title=f\"ETA ({y_metric})\",\n",
    "        legend=dict(\n",
    "            orientation=\"h\",\n",
    "            yanchor=\"bottom\",\n",
    "            y=1.02,\n",
    "            xanchor=\"center\",\n",
    "            x=0.5\n",
    "        ),\n",
    "        height=800,\n",
    "        width=900,\n",
    "        hovermode='closest',\n",
    "        template='plotly_white'\n",
    "    )\n",
    "    \n",
    "    # Update axes\n",
    "    fig.update_yaxes(title_text=f\"ETA ({y_metric})\", row=2, col=1)\n",
    "    fig.update_xaxes(title_text=f\"ETR ({x_metric})\", row=2, col=1)\n",
    "    fig.update_yaxes(title_text=\"Density\", row=1, col=1)\n",
    "    fig.update_xaxes(title_text=\"Density\", row=2, col=2)\n",
    "    \n",
    "    # Synchronize axes\n",
    "    fig.update_xaxes(range=[x_min, x_max], row=2, col=1)\n",
    "    fig.update_xaxes(range=[x_min, x_max], row=1, col=1)\n",
    "    fig.update_yaxes(range=[y_min, y_max], row=2, col=1)\n",
    "    fig.update_yaxes(range=[y_min, y_max], row=2, col=2)\n",
    "    \n",
    "    # # Save if path is provided\n",
    "    # if PLOT_ROOT_PATH and EXP_ID:\n",
    "    #     import os\n",
    "    #     os.makedirs(f\"{PLOT_ROOT_PATH}/{EXP_ID}\", exist_ok=True)\n",
    "    #     fig.write_html(f\"{PLOT_ROOT_PATH}/{EXP_ID}/heatmap_with_distributions.html\")\n",
    "    #     fig.write_image(f\"{PLOT_ROOT_PATH}/{EXP_ID}/heatmap_with_distributions.png\", scale=2)\n",
    "    \n",
    "    return fig\n",
    "\n",
    "# Вызов функции для создания графика\n",
    "fig = plot_heatmap_with_distributions_plotly(\n",
    "    df_bids=df_bids_prepared,\n",
    "    df_orders=df_orders_with_recprice,\n",
    "    x_metric='duration_sec',  # ETR колонка в orders\n",
    "    y_metric='eta',           # ETA колонка в bids\n",
    "    bins=50,\n",
    "    PLOT_ROOT_PATH=PLOT_ROOT_PATH,\n",
    "    EXP_ID=EXP_ID\n",
    ")\n",
    "\n",
    "# Отображение интерактивного графика\n",
    "fig.show()"
   ]
  },
  {
   "cell_type": "markdown",
   "metadata": {},
   "source": [
    "##### Bimodal ETA issue discovery"
   ]
  },
  {
   "cell_type": "code",
   "execution_count": null,
   "metadata": {},
   "outputs": [],
   "source": [
    "GROUP_COLS = ['local_hour', 'group_name', 'switch_start_dttm', 'switch_finish_dttm']\n",
    "\n",
    "# Calculate Absolute Metrics\n",
    "df_metrics_grouped = calculate_absolute_metrics(\n",
    "    df_recprice_prepared[condition_on_recprice].copy(),\n",
    "    df_orders_with_recprice[condition_on_orders].copy(),\n",
    "    df_bids_prepared[condition_on_bids].copy(),\n",
    "    group_cols=GROUP_COLS\n",
    ")\n",
    "\n",
    "# Calculate Ratio Metrics\n",
    "df_metrics_grouped= calculate_ratio_metrics(df_metrics_grouped)\n",
    "\n",
    "# Filter essential metrics\n",
    "df_metrics_grouped_dist = df_metrics_grouped[GROUP_COLS + pd.DataFrame(ESSENTIAL_METRIC_LIST)[0].tolist()]\n",
    "\n",
    "# Draw density plots\n",
    "metric = 'eta'\n",
    "bin_col = 'local_hour'\n",
    "bins = 100\n",
    "\n",
    "# Remove extreme values (above 99th percentile)\n",
    "data = df_metrics_grouped_dist[df_metrics_grouped_dist[metric] <= df_metrics_grouped_dist[metric].quantile(0.99)].copy()\n",
    "\n",
    "# Define common range\n",
    "x_range = [data[metric].min(), data[metric].max()]\n",
    "\n",
    "# Create figure\n",
    "fig = go.Figure()\n",
    "\n",
    "for group in data['group_name'].unique():\n",
    "    for bin in data[bin_col].unique():\n",
    "        fig.add_trace(go.Histogram(\n",
    "                x=data[(data['group_name'] == group) & (data[bin_col] == bin)][metric],\n",
    "                nbinsx=bins,\n",
    "                histnorm='probability density',\n",
    "                marker_color='steelblue',\n",
    "                opacity=0.5,\n",
    "                name=f\"\"\"{group} bin:{bin}\"\"\"\n",
    "            ))\n",
    "\n",
    "# Update layout\n",
    "fig.update_layout(\n",
    "        title_text=f\"Metric: {metric}\",\n",
    "        xaxis_title='Value',\n",
    "        yaxis_title='Density',\n",
    "        bargap=0.05,\n",
    "        barmode='overlay',  # Enables overlapping histograms\n",
    "        template=\"simple_white\",\n",
    "        height=600,\n",
    "        width=1200,\n",
    "        xaxis_range=[data[metric].min(), data[metric].max()]\n",
    "    )"
   ]
  },
  {
   "cell_type": "code",
   "execution_count": null,
   "metadata": {},
   "outputs": [],
   "source": [
    "df_grouped = (\n",
    "    df_bids_prepared[condition_on_bids].copy()\n",
    "    .groupby(['local_hour', 'group_name'])\n",
    "    .agg(\n",
    "        total_count=('eta', 'count'),\n",
    "        count_eta_less_230=('eta', lambda x: (x < 230).sum())\n",
    "    )\n",
    "    .reset_index()\n",
    ")\n",
    "df_grouped['share_less_230'] = df_grouped['count_eta_less_230'] / df_grouped['total_count']\n",
    "df_grouped.sort_values(by=['group_name', 'local_hour'], ascending=[True, True]).describe()"
   ]
  },
  {
   "cell_type": "code",
   "execution_count": null,
   "metadata": {},
   "outputs": [],
   "source": [
    "fig = px.line(\n",
    "    df_grouped.sort_values(by=['group_name', 'local_hour']),\n",
    "    x='local_hour',\n",
    "    y='share_less_230',\n",
    "    color='group_name',\n",
    "    markers=True,\n",
    "    title='Share of bids with ETA < 230'\n",
    ")\n",
    "\n",
    "fig.update_layout(\n",
    "    xaxis_title='Local Hour',\n",
    "    yaxis_title='Share',\n",
    "    yaxis_tickformat='.0%',\n",
    "    template='plotly_white',\n",
    "    height=600,\n",
    "    width=1200\n",
    ")\n",
    "\n",
    "fig.show()\n"
   ]
  },
  {
   "cell_type": "code",
   "execution_count": null,
   "metadata": {},
   "outputs": [],
   "source": [
    "GROUP_COLS = ['local_hour', 'group_name', 'switch_start_dttm', 'switch_finish_dttm']\n",
    "\n",
    "# Draw density plots\n",
    "metric = 'eta'\n",
    "bin_col = 'local_hour'\n",
    "bins = 100\n",
    "\n",
    "# Remove extreme values (above 99th percentile)\n",
    "data = df_bids_prepared[df_bids_prepared[metric] <= df_bids_prepared[metric].quantile(0.99)].copy()\n",
    "\n",
    "# Define common range\n",
    "x_range = [data[metric].min(), data[metric].max()]\n",
    "\n",
    "# Create figure\n",
    "fig = go.Figure()\n",
    "\n",
    "for group in data['group_name'].unique():\n",
    "    for bin in data[bin_col].unique():\n",
    "        fig.add_trace(go.Histogram(\n",
    "                x=data[(data['group_name'] == group) & (data[bin_col] == bin)][metric],\n",
    "                nbinsx=bins,\n",
    "                histnorm='probability density',\n",
    "                marker_color='steelblue',\n",
    "                opacity=0.5,\n",
    "                name=f\"\"\"{group} bin:{bin}\"\"\"\n",
    "            ))\n",
    "\n",
    "# Update layout\n",
    "fig.update_layout(\n",
    "        title_text=f\"Metric: {metric}\",\n",
    "        xaxis_title='Value',\n",
    "        yaxis_title='Density',\n",
    "        bargap=0.05,\n",
    "        barmode='overlay',  # Enables overlapping histograms\n",
    "        template=\"simple_white\",\n",
    "        height=600,\n",
    "        width=1200,\n",
    "        xaxis_range=[data[metric].min(), data[metric].max()]\n",
    "    )"
   ]
  },
  {
   "cell_type": "code",
   "execution_count": null,
   "metadata": {},
   "outputs": [],
   "source": []
  }
 ],
 "metadata": {
  "kernelspec": {
   "display_name": "py38",
   "language": "python",
   "name": "python3"
  },
  "language_info": {
   "codemirror_mode": {
    "name": "ipython",
    "version": 3
   },
   "file_extension": ".py",
   "mimetype": "text/x-python",
   "name": "python",
   "nbconvert_exporter": "python",
   "pygments_lexer": "ipython3",
   "version": "3.8.19"
  }
 },
 "nbformat": 4,
 "nbformat_minor": 2
}
