{
 "cells": [
  {
   "cell_type": "code",
   "execution_count": 1,
   "metadata": {},
   "outputs": [],
   "source": [
    "%load_ext autoreload\n",
    "%autoreload 2"
   ]
  },
  {
   "cell_type": "code",
   "execution_count": 2,
   "metadata": {},
   "outputs": [],
   "source": [
    "import pathlib\n",
    "import warnings\n",
    "warnings.filterwarnings(\"ignore\")\n",
    "\n",
    "import pathlib\n",
    "import pandas as pd\n",
    "from pathlib import Path\n",
    "import numpy as np\n",
    "from datetime import timedelta\n",
    "\n",
    "import matplotlib.pyplot as plt\n",
    "import seaborn as sns\n",
    "import plotly.express as px\n",
    "from plotly.subplots import make_subplots\n",
    "import plotly.graph_objects as go\n",
    "import plotly.offline as pyo\n",
    "import mmh3\n",
    "from typing import Dict\n",
    "\n",
    "\n",
    "\n",
    "from src.download_AB import download_experiment_data, download_recprice_data, download_order_data, download_bid_data\n",
    "from src.metrics_AB import calculate_absolute_metrics, get_switchback_results, calculate_ratio_metrics\n",
    "from src.prepare import prepare_recprice_data, prepare_order_data, prepare_bid_data, get_orders_with_recprice_df, get_hex\n",
    "from src.visualization import plot_switches_matrix, plot_conversions_by_time, plot_prices_by_time\n",
    "from src.visualization import plot_metric_by_time, plot_metric_by_hex"
   ]
  },
  {
   "cell_type": "markdown",
   "metadata": {},
   "source": [
    "## SB Results: Bad Bids\n",
    "\n",
    "- link"
   ]
  },
  {
   "cell_type": "markdown",
   "metadata": {},
   "source": [
    "### Костыли"
   ]
  },
  {
   "cell_type": "code",
   "execution_count": 7,
   "metadata": {},
   "outputs": [],
   "source": [
    "# salt - рандомная строка длиной 8 хранится в experiment.salt\n",
    "# distribution_map - словарь вида {\"GroupA\": 50, \"Control\": 50}, где сумма значений должна быть 100\n",
    "#  Порядок важен! Control всегда последний\n",
    "def group_name(split_id: str, salt: str, distribution_map: Dict[str, int]):\n",
    "    if sum(distribution_map.values()) != 100:\n",
    "        raise Exception(\"Incorrect distribution\")\n",
    "\n",
    "    if list(distribution_map.keys())[-1] != \"Control\":\n",
    "        raise Exception(\"Last group should be Control\")\n",
    "\n",
    "    if len(salt) != 8:\n",
    "        raise Exception(\"Incorrect salt\")\n",
    "\n",
    "    # Хэш по соль экспа + split_id (id пользователя или девайса)\n",
    "    murmur_hash: int = mmh3.hash(f\"{salt}{split_id}\", 1, False)\n",
    "    reminder = murmur_hash % 100\n",
    "    s = 0\n",
    "    for k, v in distribution_map.items():\n",
    "        s += v\n",
    "        if reminder < s:\n",
    "            return k"
   ]
  },
  {
   "cell_type": "markdown",
   "metadata": {},
   "source": [
    "### Parameters"
   ]
  },
  {
   "cell_type": "markdown",
   "metadata": {},
   "source": [
    "__Mutable__"
   ]
  },
  {
   "cell_type": "code",
   "execution_count": 4,
   "metadata": {},
   "outputs": [],
   "source": [
    "EXP_ID = 2641\n",
    "USER_NAME = 'nusuev_ab'+str(EXP_ID)\n",
    "\n",
    "ORDER_TYPE = 'auto_econom'\n",
    "ORDER_TYPE_ID = 1\n",
    "\n",
    "DAYS_BEFORE = 0"
   ]
  },
  {
   "cell_type": "markdown",
   "metadata": {},
   "source": [
    "__Immutable__"
   ]
  },
  {
   "cell_type": "code",
   "execution_count": 5,
   "metadata": {},
   "outputs": [],
   "source": [
    "DATA_ROOT_PATH = pathlib.Path(f'data/exp_id={EXP_ID}')\n",
    "if not DATA_ROOT_PATH.exists():\n",
    "    DATA_ROOT_PATH.mkdir(parents=True, exist_ok=True)\n",
    "    \n",
    "\n",
    "PLOT_ROOT_PATH = pathlib.Path(f'data/exp_id={EXP_ID}/plots')\n",
    "if not PLOT_ROOT_PATH.exists():\n",
    "    PLOT_ROOT_PATH.mkdir(parents=True, exist_ok=True)"
   ]
  },
  {
   "cell_type": "markdown",
   "metadata": {},
   "source": [
    "### Experiment Data"
   ]
  },
  {
   "cell_type": "markdown",
   "metadata": {},
   "source": [
    "__Download__"
   ]
  },
  {
   "cell_type": "code",
   "execution_count": 10,
   "metadata": {},
   "outputs": [
    {
     "name": "stdout",
     "output_type": "stream",
     "text": [
      "\n",
      "    before_start_date: 2025-02-28\n",
      "    exp_start_date: 2025-02-28\n",
      "    exp_stop_date: 2025-03-28\n",
      "    city_id: 4241\n",
      "    exp_salt: QKLy5R6k\n",
      "    distribution_map: {'GroupA': 50, 'Control': 50}\n",
      "    \n"
     ]
    }
   ],
   "source": [
    "df_exp = download_experiment_data(exp_id=EXP_ID, user_name=USER_NAME)\n",
    "\n",
    "# df_exp['hour'] = df_exp['switch_start_dttm'].dt.hour\n",
    "# df_exp['hour'] = df_exp['hour'].astype('category')\n",
    "# df_exp['weekday_name'] = df_exp['switch_start_dttm'].dt.day_name()\n",
    "# df_exp['weekday_name'] = df_exp['weekday_name'].astype('category')\n",
    "\n",
    "df_exp.to_parquet(DATA_ROOT_PATH / 'df_exp.pqt')\n",
    "\n",
    "EXP_START_DATE = df_exp.utc_start_dttm.dt.date.astype('str').iloc[0]\n",
    "EXP_STOP_DATE = df_exp.utc_finish_dttm.dt.date.astype('str').iloc[0]\n",
    "BEFORE_START_DATE = (df_exp.utc_start_dttm.dt.date - timedelta(days=DAYS_BEFORE)).astype('str').iloc[0]\n",
    "CITY_ID = df_exp.city_id.iloc[0]\n",
    "# EXP_NAME = df_exp.exp_name.iloc[0]\n",
    "\n",
    "EXP_SALT = df_exp['exp_salt'].iloc[0]\n",
    "DISTRIBUTION_MAP = {\"GroupA\": 50, \"Control\": 50}\n",
    "\n",
    "print(\n",
    "    f\"\"\"\n",
    "    before_start_date: {BEFORE_START_DATE}\n",
    "    exp_start_date: {EXP_START_DATE}\n",
    "    exp_stop_date: {EXP_STOP_DATE}\n",
    "    city_id: {CITY_ID}\n",
    "    exp_salt: {EXP_SALT}\n",
    "    distribution_map: {DISTRIBUTION_MAP}\n",
    "    \"\"\"\n",
    ")"
   ]
  },
  {
   "cell_type": "markdown",
   "metadata": {},
   "source": [
    "__Validity__"
   ]
  },
  {
   "cell_type": "markdown",
   "metadata": {},
   "source": [
    "### Metrics Data"
   ]
  },
  {
   "cell_type": "markdown",
   "metadata": {},
   "source": [
    "__Recprice__"
   ]
  },
  {
   "cell_type": "code",
   "execution_count": 11,
   "metadata": {},
   "outputs": [],
   "source": [
    "df_recprice = download_recprice_data(\n",
    "    start_date=BEFORE_START_DATE,\n",
    "    stop_date=EXP_STOP_DATE,\n",
    "    city_id=CITY_ID,\n",
    "    user_name=USER_NAME,\n",
    "    # printBool=True\n",
    ")\n",
    "\n",
    "# Применяем функцию group_name к каждой строке, используя user_id как split_id\n",
    "df_recprice['recprice_group_name'] = df_recprice.apply(\n",
    "    lambda row: 'Before' if row['utc_recprice_dttm'] < pd.Timestamp(EXP_START_DATE, tz='UTC') \n",
    "    else group_name(row['user_id'], EXP_SALT, DISTRIBUTION_MAP),\n",
    "    axis=1\n",
    ")\n",
    "\n",
    "df_recprice.to_parquet(DATA_ROOT_PATH / 'df_recprice.pqt')"
   ]
  },
  {
   "cell_type": "code",
   "execution_count": 12,
   "metadata": {},
   "outputs": [],
   "source": [
    "df_recprice = pd.read_parquet(DATA_ROOT_PATH / 'df_recprice.pqt')\n",
    "df_recprice_prepared = prepare_recprice_data(df_recprice)\n",
    "df_recprice_prepared.to_parquet(DATA_ROOT_PATH / 'df_recprice_prepared.pqt')"
   ]
  },
  {
   "cell_type": "markdown",
   "metadata": {},
   "source": [
    "__Bids__"
   ]
  },
  {
   "cell_type": "code",
   "execution_count": 13,
   "metadata": {},
   "outputs": [],
   "source": [
    "df_bids = download_bid_data(\n",
    "    start_date=BEFORE_START_DATE,\n",
    "    stop_date=EXP_STOP_DATE,\n",
    "    city_id=CITY_ID,\n",
    "    user_name=USER_NAME,\n",
    "    # printBool=True\n",
    ")\n",
    "\n",
    "# Применяем функцию group_name к каждой строке, используя user_id как split_id\n",
    "df_bids['bid_group_name'] = df_bids.apply(\n",
    "    lambda row: 'Before' if row['utc_order_dttm'] < pd.Timestamp(EXP_START_DATE, tz='UTC') \n",
    "    else group_name(row['user_id'], EXP_SALT, DISTRIBUTION_MAP),\n",
    "    axis=1\n",
    ")\n",
    "\n",
    "df_bids.to_parquet(DATA_ROOT_PATH / 'df_bids.pqt')"
   ]
  },
  {
   "cell_type": "code",
   "execution_count": 14,
   "metadata": {},
   "outputs": [],
   "source": [
    "df_bids = pd.read_parquet(DATA_ROOT_PATH / 'df_bids.pqt')\n",
    "df_bids_prepared = prepare_bid_data(df_bids)\n",
    "df_bids_prepared.to_parquet(DATA_ROOT_PATH / 'df_bids_prepared.pqt')"
   ]
  },
  {
   "cell_type": "markdown",
   "metadata": {},
   "source": [
    "__Orders (with recprice)__"
   ]
  },
  {
   "cell_type": "code",
   "execution_count": 15,
   "metadata": {},
   "outputs": [],
   "source": [
    "df_orders = download_order_data(\n",
    "    start_date=BEFORE_START_DATE,\n",
    "    stop_date=EXP_STOP_DATE,\n",
    "    city_id=CITY_ID,\n",
    "    user_name=USER_NAME,\n",
    "    # printBool=False\n",
    ")\n",
    "\n",
    "# Применяем функцию group_name к каждой строке, используя user_id как split_id\n",
    "df_orders['order_group_name'] = df_orders.apply(\n",
    "    lambda row: 'Before' if row['utc_order_dttm'] < pd.Timestamp(EXP_START_DATE, tz='UTC') \n",
    "    else group_name(row['user_id'], EXP_SALT, DISTRIBUTION_MAP),\n",
    "    axis=1\n",
    ")\n",
    "\n",
    "df_orders.to_parquet(DATA_ROOT_PATH / 'df_orders.pqt')"
   ]
  },
  {
   "cell_type": "code",
   "execution_count": 16,
   "metadata": {},
   "outputs": [],
   "source": [
    "df_orders = pd.read_parquet(DATA_ROOT_PATH / 'df_orders.pqt')\n",
    "df_orders_prepared = prepare_order_data(df_orders)\n",
    "df_orders_prepared.to_parquet(DATA_ROOT_PATH / 'df_orders_prepared.pqt')"
   ]
  },
  {
   "cell_type": "code",
   "execution_count": 17,
   "metadata": {},
   "outputs": [
    {
     "name": "stdout",
     "output_type": "stream",
     "text": [
      "только уникальные ордера? – True\n",
      "доля оставшихся ордеров: 0.9728\n"
     ]
    }
   ],
   "source": [
    "df_orders_with_recprice = get_orders_with_recprice_df(df_orders_prepared, df_recprice_prepared)\n",
    "df_orders_with_recprice['group_name'] = df_orders_with_recprice['recprice_group_name']\n",
    "df_orders_with_recprice.to_parquet(DATA_ROOT_PATH / 'df_orders_with_recprice.pqt')"
   ]
  },
  {
   "cell_type": "markdown",
   "metadata": {},
   "source": [
    "### Results"
   ]
  },
  {
   "cell_type": "code",
   "execution_count": 18,
   "metadata": {},
   "outputs": [],
   "source": [
    "# EXP_ID = 2574\n",
    "# DATA_ROOT_PATH = pathlib.Path(f'data/exp_id={EXP_ID}')\n",
    "\n",
    "# df_recprice_prepared = pd.read_parquet(DATA_ROOT_PATH / 'df_recprice_prepared.pqt')\n",
    "# df_orders_with_recprice = pd.read_parquet(DATA_ROOT_PATH / 'df_orders_with_recprice.pqt')"
   ]
  },
  {
   "cell_type": "code",
   "execution_count": 14,
   "metadata": {},
   "outputs": [],
   "source": [
    "pd.set_option('display.max_rows', None)\n",
    "# pd.reset_option('display.max_rows')"
   ]
  },
  {
   "cell_type": "code",
   "execution_count": 6,
   "metadata": {},
   "outputs": [],
   "source": [
    "df_recprice_prepared = pd.read_parquet(DATA_ROOT_PATH / 'df_recprice_prepared.pqt')\n",
    "df_orders_with_recprice = pd.read_parquet(DATA_ROOT_PATH / 'df_orders_with_recprice.pqt')\n",
    "df_bids_prepared = pd.read_parquet(DATA_ROOT_PATH / 'df_bids_prepared.pqt')"
   ]
  },
  {
   "cell_type": "markdown",
   "metadata": {},
   "source": [
    "__Total__"
   ]
  },
  {
   "cell_type": "code",
   "execution_count": 9,
   "metadata": {},
   "outputs": [
    {
     "name": "stderr",
     "output_type": "stream",
     "text": [
      "WARNING:root:Ошибка при обработке метрики drivers_per_order: float division by zero\n",
      "WARNING:root:Ошибка при обработке метрики bids_per_order: float division by zero\n",
      "WARNING:root:Ошибка при обработке метрики bids_per_driver: float division by zero\n",
      "WARNING:root:Ошибка при обработке метрики bids_per_order_with_bid: float division by zero\n",
      "WARNING:root:Ошибка при обработке метрики bids_per_done_order: float division by zero\n",
      "WARNING:root:Ошибка при обработке метрики drivers_per_orders_with_bid: float division by zero\n",
      "WARNING:root:Ошибка при обработке метрики bids_accepted_per_driver: float division by zero\n",
      "WARNING:root:Ошибка при обработке метрики price_highrate_usd: float division by zero\n",
      "WARNING:root:Ошибка при обработке метрики price_highrate_usd_rides: float division by zero\n",
      "WARNING:root:Ошибка при обработке метрики price_highrate_usd_orders_without_bids: float division by zero\n",
      "WARNING:root:Ошибка при обработке метрики price_start_usd: float division by zero\n",
      "WARNING:root:Ошибка при обработке метрики price_start_usd_rides: float division by zero\n",
      "WARNING:root:Ошибка при обработке метрики price_start_usd_orders_without_bids: float division by zero\n",
      "WARNING:root:Ошибка при обработке метрики price_bid_currency: float division by zero\n",
      "WARNING:root:Ошибка при обработке метрики price_bid_option_startprice: float division by zero\n",
      "WARNING:root:Ошибка при обработке метрики price_bid_option_option1: float division by zero\n",
      "WARNING:root:Ошибка при обработке метрики price_bid_option_option2: float division by zero\n",
      "WARNING:root:Ошибка при обработке метрики price_bid_option_option3: float division by zero\n",
      "WARNING:root:Ошибка при обработке метрики price_bid_option_other1: float division by zero\n",
      "WARNING:root:Ошибка при обработке метрики price_bid_option_other2: float division by zero\n",
      "WARNING:root:Ошибка при обработке метрики price_bid_option_other3: float division by zero\n",
      "WARNING:root:Ошибка при обработке метрики price_tender_usd: float division by zero\n",
      "WARNING:root:Ошибка при обработке метрики price_done_usd: float division by zero\n",
      "WARNING:root:Ошибка при обработке метрики order2bid: float division by zero\n",
      "WARNING:root:Ошибка при обработке метрики order2bid_option_startprice: float division by zero\n",
      "WARNING:root:Ошибка при обработке метрики order2bid_option_option1: float division by zero\n",
      "WARNING:root:Ошибка при обработке метрики order2bid_option_option2: float division by zero\n",
      "WARNING:root:Ошибка при обработке метрики order2bid_option_option3: float division by zero\n",
      "WARNING:root:Ошибка при обработке метрики order2bid_option_other1: float division by zero\n",
      "WARNING:root:Ошибка при обработке метрики order2bid_option_other2: float division by zero\n",
      "WARNING:root:Ошибка при обработке метрики order2bid_option_other3: float division by zero\n",
      "WARNING:root:Ошибка при обработке метрики order2accept: float division by zero\n",
      "WARNING:root:Ошибка при обработке метрики order2accept_option_startprice: float division by zero\n",
      "WARNING:root:Ошибка при обработке метрики order2accept_option_option1: float division by zero\n",
      "WARNING:root:Ошибка при обработке метрики order2accept_option_option2: float division by zero\n",
      "WARNING:root:Ошибка при обработке метрики order2accept_option_option3: float division by zero\n",
      "WARNING:root:Ошибка при обработке метрики order2accept_option_other1: float division by zero\n",
      "WARNING:root:Ошибка при обработке метрики order2accept_option_other2: float division by zero\n",
      "WARNING:root:Ошибка при обработке метрики order2accept_option_other3: float division by zero\n",
      "WARNING:root:Ошибка при обработке метрики order2done: float division by zero\n",
      "WARNING:root:Ошибка при обработке метрики order2done_bid_option_startprice: float division by zero\n",
      "WARNING:root:Ошибка при обработке метрики order2done_bid_option_option1: float division by zero\n",
      "WARNING:root:Ошибка при обработке метрики order2done_bid_option_option2: float division by zero\n",
      "WARNING:root:Ошибка при обработке метрики order2done_bid_option_option3: float division by zero\n",
      "WARNING:root:Ошибка при обработке метрики order2done_bid_option_other1: float division by zero\n",
      "WARNING:root:Ошибка при обработке метрики order2done_bid_option_other2: float division by zero\n",
      "WARNING:root:Ошибка при обработке метрики order2done_bid_option_other3: float division by zero\n",
      "WARNING:root:Ошибка при обработке метрики bid2accept: float division by zero\n",
      "WARNING:root:Ошибка при обработке метрики bid_option_startprice2accept: float division by zero\n",
      "WARNING:root:Ошибка при обработке метрики bid_option_option12accept: float division by zero\n",
      "WARNING:root:Ошибка при обработке метрики bid_option_option22accept: float division by zero\n",
      "WARNING:root:Ошибка при обработке метрики bid_option_option32accept: float division by zero\n",
      "WARNING:root:Ошибка при обработке метрики bid_option_other12accept: float division by zero\n",
      "WARNING:root:Ошибка при обработке метрики bid_option_other22accept: float division by zero\n",
      "WARNING:root:Ошибка при обработке метрики bid_option_other32accept: float division by zero\n",
      "WARNING:root:Ошибка при обработке метрики accept2done: float division by zero\n",
      "WARNING:root:Ошибка при обработке метрики accepted_bids_option_startprice2done: float division by zero\n",
      "WARNING:root:Ошибка при обработке метрики accepted_bids_option_option12done: float division by zero\n",
      "WARNING:root:Ошибка при обработке метрики accepted_bids_option_option22done: float division by zero\n",
      "WARNING:root:Ошибка при обработке метрики accepted_bids_option_option32done: float division by zero\n",
      "WARNING:root:Ошибка при обработке метрики accepted_bids_option_other12done: float division by zero\n",
      "WARNING:root:Ошибка при обработке метрики accepted_bids_option_other22done: float division by zero\n",
      "WARNING:root:Ошибка при обработке метрики bid2done: float division by zero\n",
      "WARNING:root:Ошибка при обработке метрики bid_option_startprice2done: float division by zero\n",
      "WARNING:root:Ошибка при обработке метрики bid_option_option12done: float division by zero\n",
      "WARNING:root:Ошибка при обработке метрики bid_option_option22done: float division by zero\n",
      "WARNING:root:Ошибка при обработке метрики bid_option_option32done: float division by zero\n",
      "WARNING:root:Ошибка при обработке метрики bid_option_other12done: float division by zero\n",
      "WARNING:root:Ошибка при обработке метрики bid_option_other22done: float division by zero\n",
      "WARNING:root:Ошибка при обработке метрики bid_option_other32done: float division by zero\n",
      "WARNING:root:Ошибка при обработке метрики bids_option_startprice_share: float division by zero\n",
      "WARNING:root:Ошибка при обработке метрики bids_option_option1_share: float division by zero\n",
      "WARNING:root:Ошибка при обработке метрики bids_option_option2_share: float division by zero\n",
      "WARNING:root:Ошибка при обработке метрики bids_option_option3_share: float division by zero\n",
      "WARNING:root:Ошибка при обработке метрики bids_option_other1_share: float division by zero\n",
      "WARNING:root:Ошибка при обработке метрики bids_option_other2_share: float division by zero\n",
      "WARNING:root:Ошибка при обработке метрики bids_option_other3_share: float division by zero\n",
      "WARNING:root:Ошибка при обработке метрики accepted_bids_share: float division by zero\n",
      "WARNING:root:Ошибка при обработке метрики accepted_share_bid_option_startprice: float division by zero\n",
      "WARNING:root:Ошибка при обработке метрики accepted_share_bid_option_option1: float division by zero\n",
      "WARNING:root:Ошибка при обработке метрики accepted_share_bid_option_option2: float division by zero\n",
      "WARNING:root:Ошибка при обработке метрики accepted_share_bid_option_option3: float division by zero\n",
      "WARNING:root:Ошибка при обработке метрики accepted_share_bid_option_other1: float division by zero\n",
      "WARNING:root:Ошибка при обработке метрики accepted_share_bid_option_other2: float division by zero\n",
      "WARNING:root:Ошибка при обработке метрики accepted_share_bid_option_other3: float division by zero\n",
      "WARNING:root:Ошибка при обработке метрики done_share_bid_option_startprice: float division by zero\n",
      "WARNING:root:Ошибка при обработке метрики done_share_bid_option_option1: float division by zero\n",
      "WARNING:root:Ошибка при обработке метрики done_share_bid_option_option2: float division by zero\n",
      "WARNING:root:Ошибка при обработке метрики done_share_bid_option_option3: float division by zero\n",
      "WARNING:root:Ошибка при обработке метрики done_share_bid_option_other1: float division by zero\n",
      "WARNING:root:Ошибка при обработке метрики done_share_bid_option_other2: float division by zero\n",
      "WARNING:root:Ошибка при обработке метрики eta: float division by zero\n",
      "WARNING:root:Ошибка при обработке метрики rta: float division by zero\n",
      "WARNING:root:Ошибка при обработке метрики etr: float division by zero\n",
      "WARNING:root:Ошибка при обработке метрики rtr: float division by zero\n",
      "WARNING:root:Ошибка при обработке метрики eta_done_orders: float division by zero\n",
      "WARNING:root:Ошибка при обработке метрики eta_accepted_bids: float division by zero\n",
      "WARNING:root:Ошибка при обработке метрики etr_orders_with_bids: float division by zero\n",
      "WARNING:root:Ошибка при обработке метрики etr_orders_with_accepted_bids: float division by zero\n",
      "WARNING:root:Ошибка при обработке метрики etr_done_orders: float division by zero\n",
      "WARNING:root:Ошибка при обработке метрики etr_orders_without_bids: float division by zero\n",
      "WARNING:root:Ошибка при обработке метрики time_to_1st_bid: float division by zero\n",
      "WARNING:root:Ошибка при обработке метрики time_1st_bid_to_accept: float division by zero\n"
     ]
    },
    {
     "data": {
      "text/html": [
       "<div>\n",
       "<style scoped>\n",
       "    .dataframe tbody tr th:only-of-type {\n",
       "        vertical-align: middle;\n",
       "    }\n",
       "\n",
       "    .dataframe tbody tr th {\n",
       "        vertical-align: top;\n",
       "    }\n",
       "\n",
       "    .dataframe thead th {\n",
       "        text-align: right;\n",
       "    }\n",
       "</style>\n",
       "<table border=\"1\" class=\"dataframe\">\n",
       "  <thead>\n",
       "    <tr style=\"text-align: right;\">\n",
       "      <th></th>\n",
       "      <th>metric</th>\n",
       "      <th>control_value</th>\n",
       "      <th>experimental_value</th>\n",
       "      <th>uplift_rel</th>\n",
       "      <th>pvalue</th>\n",
       "      <th>is_significant</th>\n",
       "    </tr>\n",
       "  </thead>\n",
       "  <tbody>\n",
       "    <tr>\n",
       "      <th>0</th>\n",
       "      <td>drivers_per_order</td>\n",
       "      <td>None</td>\n",
       "      <td>None</td>\n",
       "      <td>None</td>\n",
       "      <td>None</td>\n",
       "      <td>False</td>\n",
       "    </tr>\n",
       "    <tr>\n",
       "      <th>1</th>\n",
       "      <td>bids_per_order</td>\n",
       "      <td>None</td>\n",
       "      <td>None</td>\n",
       "      <td>None</td>\n",
       "      <td>None</td>\n",
       "      <td>False</td>\n",
       "    </tr>\n",
       "    <tr>\n",
       "      <th>2</th>\n",
       "      <td>bids_per_driver</td>\n",
       "      <td>None</td>\n",
       "      <td>None</td>\n",
       "      <td>None</td>\n",
       "      <td>None</td>\n",
       "      <td>False</td>\n",
       "    </tr>\n",
       "    <tr>\n",
       "      <th>3</th>\n",
       "      <td>bids_per_order_with_bid</td>\n",
       "      <td>None</td>\n",
       "      <td>None</td>\n",
       "      <td>None</td>\n",
       "      <td>None</td>\n",
       "      <td>False</td>\n",
       "    </tr>\n",
       "    <tr>\n",
       "      <th>4</th>\n",
       "      <td>bids_per_done_order</td>\n",
       "      <td>None</td>\n",
       "      <td>None</td>\n",
       "      <td>None</td>\n",
       "      <td>None</td>\n",
       "      <td>False</td>\n",
       "    </tr>\n",
       "  </tbody>\n",
       "</table>\n",
       "</div>"
      ],
      "text/plain": [
       "                    metric control_value experimental_value uplift_rel pvalue  \\\n",
       "0        drivers_per_order          None               None       None   None   \n",
       "1           bids_per_order          None               None       None   None   \n",
       "2          bids_per_driver          None               None       None   None   \n",
       "3  bids_per_order_with_bid          None               None       None   None   \n",
       "4      bids_per_done_order          None               None       None   None   \n",
       "\n",
       "   is_significant  \n",
       "0           False  \n",
       "1           False  \n",
       "2           False  \n",
       "3           False  \n",
       "4           False  "
      ]
     },
     "execution_count": 9,
     "metadata": {},
     "output_type": "execute_result"
    }
   ],
   "source": [
    "df_metrics_total = calculate_absolute_metrics(\n",
    "    df_recprice_prepared,\n",
    "    df_orders_with_recprice,\n",
    "    df_bids_prepared,\n",
    "    group_cols=['group_name', 'order_uuid'],\n",
    ")\n",
    "\n",
    "metrics_total_tbl = get_switchback_results(df_metrics_total, alpha=0.05)[\n",
    "    ['metric', 'control_value', 'experimental_value', 'uplift_rel', 'pvalue', 'is_significant']\n",
    "]\n",
    "\n",
    "metrics_total_tbl.head()"
   ]
  },
  {
   "cell_type": "markdown",
   "metadata": {},
   "source": [
    "__By segment__"
   ]
  },
  {
   "cell_type": "code",
   "execution_count": 10,
   "metadata": {},
   "outputs": [
    {
     "ename": "KeyError",
     "evalue": "'switch_start_dttm'",
     "output_type": "error",
     "traceback": [
      "\u001b[0;31m---------------------------------------------------------------------------\u001b[0m",
      "\u001b[0;31mKeyError\u001b[0m                                  Traceback (most recent call last)",
      "Cell \u001b[0;32mIn[10], line 5\u001b[0m\n\u001b[1;32m      2\u001b[0m condition_on_orders \u001b[38;5;241m=\u001b[39m df_orders_with_recprice\u001b[38;5;241m.\u001b[39morder_type \u001b[38;5;241m==\u001b[39m ORDER_TYPE\n\u001b[1;32m      3\u001b[0m condition_on_bids \u001b[38;5;241m=\u001b[39m df_bids_prepared\u001b[38;5;241m.\u001b[39morder_type \u001b[38;5;241m==\u001b[39m ORDER_TYPE\n\u001b[0;32m----> 5\u001b[0m df_metrics_total \u001b[38;5;241m=\u001b[39m \u001b[43mcalculate_absolute_metrics\u001b[49m\u001b[43m(\u001b[49m\n\u001b[1;32m      6\u001b[0m \u001b[43m    \u001b[49m\u001b[43mdf_recprice_prepared\u001b[49m\u001b[43m[\u001b[49m\u001b[43mcondition_on_recprice\u001b[49m\u001b[43m]\u001b[49m\u001b[38;5;241;43m.\u001b[39;49m\u001b[43mcopy\u001b[49m\u001b[43m(\u001b[49m\u001b[43m)\u001b[49m\u001b[43m,\u001b[49m\n\u001b[1;32m      7\u001b[0m \u001b[43m    \u001b[49m\u001b[43mdf_orders_with_recprice\u001b[49m\u001b[43m[\u001b[49m\u001b[43mcondition_on_orders\u001b[49m\u001b[43m]\u001b[49m\u001b[38;5;241;43m.\u001b[39;49m\u001b[43mcopy\u001b[49m\u001b[43m(\u001b[49m\u001b[43m)\u001b[49m\u001b[43m,\u001b[49m\n\u001b[1;32m      8\u001b[0m \u001b[43m    \u001b[49m\u001b[43mdf_bids_prepared\u001b[49m\u001b[43m[\u001b[49m\u001b[43mcondition_on_bids\u001b[49m\u001b[43m]\u001b[49m\u001b[38;5;241;43m.\u001b[39;49m\u001b[43mcopy\u001b[49m\u001b[43m(\u001b[49m\u001b[43m)\u001b[49m\u001b[43m,\u001b[49m\n\u001b[1;32m      9\u001b[0m \u001b[43m    \u001b[49m\u001b[43mgroup_cols\u001b[49m\u001b[38;5;241;43m=\u001b[39;49m\u001b[43m[\u001b[49m\u001b[38;5;124;43m'\u001b[39;49m\u001b[38;5;124;43mgroup_name\u001b[39;49m\u001b[38;5;124;43m'\u001b[39;49m\u001b[43m,\u001b[49m\u001b[43m \u001b[49m\u001b[38;5;124;43m'\u001b[39;49m\u001b[38;5;124;43mswitch_start_dttm\u001b[39;49m\u001b[38;5;124;43m'\u001b[39;49m\u001b[43m,\u001b[49m\u001b[43m \u001b[49m\u001b[38;5;124;43m'\u001b[39;49m\u001b[38;5;124;43mswitch_finish_dttm\u001b[39;49m\u001b[38;5;124;43m'\u001b[39;49m\u001b[43m]\u001b[49m\u001b[43m,\u001b[49m\n\u001b[1;32m     10\u001b[0m \u001b[43m)\u001b[49m\n\u001b[1;32m     12\u001b[0m metrics_total_tbl \u001b[38;5;241m=\u001b[39m get_switchback_results(df_metrics_total, alpha\u001b[38;5;241m=\u001b[39m\u001b[38;5;241m0.05\u001b[39m)[\n\u001b[1;32m     13\u001b[0m     [\u001b[38;5;124m'\u001b[39m\u001b[38;5;124mmetric\u001b[39m\u001b[38;5;124m'\u001b[39m, \u001b[38;5;124m'\u001b[39m\u001b[38;5;124mcontrol_value\u001b[39m\u001b[38;5;124m'\u001b[39m, \u001b[38;5;124m'\u001b[39m\u001b[38;5;124mexperimental_value\u001b[39m\u001b[38;5;124m'\u001b[39m, \u001b[38;5;124m'\u001b[39m\u001b[38;5;124muplift_rel\u001b[39m\u001b[38;5;124m'\u001b[39m, \u001b[38;5;124m'\u001b[39m\u001b[38;5;124mpvalue\u001b[39m\u001b[38;5;124m'\u001b[39m, \u001b[38;5;124m'\u001b[39m\u001b[38;5;124mis_significant\u001b[39m\u001b[38;5;124m'\u001b[39m]\n\u001b[1;32m     14\u001b[0m ]\n\u001b[1;32m     16\u001b[0m metrics_total_tbl\n",
      "File \u001b[0;32m~/PycharmProjects/work/badbids/exp_anal/SB/results/src/metrics_AB.py:855\u001b[0m, in \u001b[0;36mcalculate_absolute_metrics\u001b[0;34m(df_recprice, df_order_with_recprice, df_bid, group_cols)\u001b[0m\n\u001b[1;32m    853\u001b[0m \u001b[38;5;28;01mdef\u001b[39;00m \u001b[38;5;21mcalculate_absolute_metrics\u001b[39m(df_recprice, df_order_with_recprice, df_bid, group_cols):\n\u001b[1;32m    854\u001b[0m     dfm \u001b[38;5;241m=\u001b[39m (\u001b[38;5;66;03m#metric_calcprices_count(df_recprice, group_cols)\u001b[39;00m\n\u001b[0;32m--> 855\u001b[0m            \u001b[43mmetric_orders_count\u001b[49m\u001b[43m(\u001b[49m\u001b[43mdf_order_with_recprice\u001b[49m\u001b[43m,\u001b[49m\u001b[43m \u001b[49m\u001b[43mgroup_cols\u001b[49m\u001b[43m)\u001b[49m\n\u001b[1;32m    856\u001b[0m            \u001b[38;5;241m.\u001b[39mmerge(metric_orders_without_bids_count(df_order_with_recprice, group_cols), on\u001b[38;5;241m=\u001b[39mgroup_cols, how\u001b[38;5;241m=\u001b[39m\u001b[38;5;124m'\u001b[39m\u001b[38;5;124mleft\u001b[39m\u001b[38;5;124m'\u001b[39m)\n\u001b[1;32m    857\u001b[0m            \u001b[38;5;241m.\u001b[39mmerge(metric_drivers_count(df_bid, group_cols), on\u001b[38;5;241m=\u001b[39mgroup_cols, how\u001b[38;5;241m=\u001b[39m\u001b[38;5;124m'\u001b[39m\u001b[38;5;124mleft\u001b[39m\u001b[38;5;124m'\u001b[39m)\n\u001b[1;32m    858\u001b[0m            \u001b[38;5;241m.\u001b[39mmerge(metric_bids_count(df_bid, group_cols), on\u001b[38;5;241m=\u001b[39mgroup_cols, how\u001b[38;5;241m=\u001b[39m\u001b[38;5;124m'\u001b[39m\u001b[38;5;124mleft\u001b[39m\u001b[38;5;124m'\u001b[39m)\n\u001b[1;32m    859\u001b[0m            \u001b[38;5;241m.\u001b[39mmerge(metric_bids_for_done_orders_count(df_bid, group_cols), on\u001b[38;5;241m=\u001b[39mgroup_cols, how\u001b[38;5;241m=\u001b[39m\u001b[38;5;124m'\u001b[39m\u001b[38;5;124mleft\u001b[39m\u001b[38;5;124m'\u001b[39m)\n\u001b[1;32m    860\u001b[0m            \u001b[38;5;241m.\u001b[39mmerge(metric_bids_bid_price_currency_sum(df_bid, group_cols), on\u001b[38;5;241m=\u001b[39mgroup_cols, how\u001b[38;5;241m=\u001b[39m\u001b[38;5;124m'\u001b[39m\u001b[38;5;124mleft\u001b[39m\u001b[38;5;124m'\u001b[39m)\n\u001b[1;32m    861\u001b[0m            \u001b[38;5;241m.\u001b[39mmerge(metric_accepted_bids_count(df_bid, group_cols), on\u001b[38;5;241m=\u001b[39mgroup_cols, how\u001b[38;5;241m=\u001b[39m\u001b[38;5;124m'\u001b[39m\u001b[38;5;124mleft\u001b[39m\u001b[38;5;124m'\u001b[39m)\n\u001b[1;32m    862\u001b[0m            \u001b[38;5;241m.\u001b[39mmerge(metric_accepted_bids_bid_price_currency_sum(df_bid, group_cols), on\u001b[38;5;241m=\u001b[39mgroup_cols, how\u001b[38;5;241m=\u001b[39m\u001b[38;5;124m'\u001b[39m\u001b[38;5;124mleft\u001b[39m\u001b[38;5;124m'\u001b[39m)\n\u001b[1;32m    863\u001b[0m            \u001b[38;5;241m.\u001b[39mmerge(metric_tenders_count(df_order_with_recprice, group_cols), on\u001b[38;5;241m=\u001b[39mgroup_cols, how\u001b[38;5;241m=\u001b[39m\u001b[38;5;124m'\u001b[39m\u001b[38;5;124mleft\u001b[39m\u001b[38;5;124m'\u001b[39m)\n\u001b[1;32m    864\u001b[0m            \u001b[38;5;241m.\u001b[39mmerge(metric_orders_with_bids_count(df_order_with_recprice, group_cols), on\u001b[38;5;241m=\u001b[39mgroup_cols, how\u001b[38;5;241m=\u001b[39m\u001b[38;5;124m'\u001b[39m\u001b[38;5;124mleft\u001b[39m\u001b[38;5;124m'\u001b[39m)\n\u001b[1;32m    865\u001b[0m            \u001b[38;5;241m.\u001b[39mmerge(metric_start_price_bid_orders_count(df_order_with_recprice, group_cols), on\u001b[38;5;241m=\u001b[39mgroup_cols, how\u001b[38;5;241m=\u001b[39m\u001b[38;5;124m'\u001b[39m\u001b[38;5;124mleft\u001b[39m\u001b[38;5;124m'\u001b[39m)\n\u001b[1;32m    866\u001b[0m            \u001b[38;5;241m.\u001b[39mmerge(metric_start_price_bid_accepted_orders_count(df_order_with_recprice, group_cols), on\u001b[38;5;241m=\u001b[39mgroup_cols, how\u001b[38;5;241m=\u001b[39m\u001b[38;5;124m'\u001b[39m\u001b[38;5;124mleft\u001b[39m\u001b[38;5;124m'\u001b[39m)\n\u001b[1;32m    867\u001b[0m            \u001b[38;5;241m.\u001b[39mmerge(metric_start_price_bid_rides_count(df_order_with_recprice, group_cols), on\u001b[38;5;241m=\u001b[39mgroup_cols, how\u001b[38;5;241m=\u001b[39m\u001b[38;5;124m'\u001b[39m\u001b[38;5;124mleft\u001b[39m\u001b[38;5;124m'\u001b[39m)\n\u001b[1;32m    868\u001b[0m            \u001b[38;5;241m.\u001b[39mmerge(metric_accepted_orders_count(df_order_with_recprice, group_cols), on\u001b[38;5;241m=\u001b[39mgroup_cols, how\u001b[38;5;241m=\u001b[39m\u001b[38;5;124m'\u001b[39m\u001b[38;5;124mleft\u001b[39m\u001b[38;5;124m'\u001b[39m)\n\u001b[1;32m    869\u001b[0m            \u001b[38;5;241m.\u001b[39mmerge(metric_rides_count(df_order_with_recprice, group_cols), on\u001b[38;5;241m=\u001b[39mgroup_cols, how\u001b[38;5;241m=\u001b[39m\u001b[38;5;124m'\u001b[39m\u001b[38;5;124mleft\u001b[39m\u001b[38;5;124m'\u001b[39m)\n\u001b[1;32m    870\u001b[0m            \u001b[38;5;241m.\u001b[39mmerge(TEST_rides_count_by_bids(df_bid, group_cols), on\u001b[38;5;241m=\u001b[39mgroup_cols, how\u001b[38;5;241m=\u001b[39m\u001b[38;5;124m'\u001b[39m\u001b[38;5;124mleft\u001b[39m\u001b[38;5;124m'\u001b[39m)\n\u001b[1;32m    871\u001b[0m            \u001b[38;5;241m.\u001b[39mmerge(metric_price_start_usd_sum(df_order_with_recprice, group_cols), on\u001b[38;5;241m=\u001b[39mgroup_cols, how\u001b[38;5;241m=\u001b[39m\u001b[38;5;124m'\u001b[39m\u001b[38;5;124mleft\u001b[39m\u001b[38;5;124m'\u001b[39m)\n\u001b[1;32m    872\u001b[0m            \u001b[38;5;241m.\u001b[39mmerge(metric_rides_price_start_usd_sum(df_order_with_recprice, group_cols), on\u001b[38;5;241m=\u001b[39mgroup_cols, how\u001b[38;5;241m=\u001b[39m\u001b[38;5;124m'\u001b[39m\u001b[38;5;124mleft\u001b[39m\u001b[38;5;124m'\u001b[39m)\n\u001b[1;32m    873\u001b[0m            \u001b[38;5;241m.\u001b[39mmerge(metric_orders_without_bids_price_start_usd_sum(df_order_with_recprice, group_cols), on\u001b[38;5;241m=\u001b[39mgroup_cols, how\u001b[38;5;241m=\u001b[39m\u001b[38;5;124m'\u001b[39m\u001b[38;5;124mleft\u001b[39m\u001b[38;5;124m'\u001b[39m)           \n\u001b[1;32m    874\u001b[0m            \u001b[38;5;241m.\u001b[39mmerge(metric_price_highrate_usd_sum(df_order_with_recprice, group_cols), on\u001b[38;5;241m=\u001b[39mgroup_cols, how\u001b[38;5;241m=\u001b[39m\u001b[38;5;124m'\u001b[39m\u001b[38;5;124mleft\u001b[39m\u001b[38;5;124m'\u001b[39m)\n\u001b[1;32m    875\u001b[0m            \u001b[38;5;241m.\u001b[39mmerge(metric_rides_price_highrate_usd_sum(df_order_with_recprice, group_cols), on\u001b[38;5;241m=\u001b[39mgroup_cols, how\u001b[38;5;241m=\u001b[39m\u001b[38;5;124m'\u001b[39m\u001b[38;5;124mleft\u001b[39m\u001b[38;5;124m'\u001b[39m)\n\u001b[1;32m    876\u001b[0m            \u001b[38;5;241m.\u001b[39mmerge(metric_orders_without_bids_price_highrate_usd_sum(df_order_with_recprice, group_cols), on\u001b[38;5;241m=\u001b[39mgroup_cols, how\u001b[38;5;241m=\u001b[39m\u001b[38;5;124m'\u001b[39m\u001b[38;5;124mleft\u001b[39m\u001b[38;5;124m'\u001b[39m)\n\u001b[1;32m    877\u001b[0m            \u001b[38;5;241m.\u001b[39mmerge(metric_price_tender_usd_sum(df_order_with_recprice, group_cols), on\u001b[38;5;241m=\u001b[39mgroup_cols, how\u001b[38;5;241m=\u001b[39m\u001b[38;5;124m'\u001b[39m\u001b[38;5;124mleft\u001b[39m\u001b[38;5;124m'\u001b[39m)\n\u001b[1;32m    878\u001b[0m            \u001b[38;5;241m.\u001b[39mmerge(metric_price_done_usd_sum(df_order_with_recprice, group_cols), on\u001b[38;5;241m=\u001b[39mgroup_cols, how\u001b[38;5;241m=\u001b[39m\u001b[38;5;124m'\u001b[39m\u001b[38;5;124mleft\u001b[39m\u001b[38;5;124m'\u001b[39m)\n\u001b[1;32m    879\u001b[0m            \u001b[38;5;66;03m#\u001b[39;00m\n\u001b[1;32m    880\u001b[0m            \u001b[38;5;241m.\u001b[39mmerge(metric_good_orders_count(df_order_with_recprice, group_cols), on\u001b[38;5;241m=\u001b[39mgroup_cols, how\u001b[38;5;241m=\u001b[39m\u001b[38;5;124m'\u001b[39m\u001b[38;5;124mleft\u001b[39m\u001b[38;5;124m'\u001b[39m)\n\u001b[1;32m    881\u001b[0m         \u001b[38;5;66;03m#    .merge(metric_price_base_usd_sum(df_recprice, group_cols), on=group_cols, how='left')\u001b[39;00m\n\u001b[1;32m    882\u001b[0m         \u001b[38;5;66;03m#    .merge(metric_recprice_usd_sum(df_recprice, group_cols), on=group_cols, how='left')\u001b[39;00m\n\u001b[1;32m    883\u001b[0m         \u001b[38;5;66;03m#    .merge(metric_minprice_usd_sum(df_recprice, group_cols), on=group_cols, how='left')\u001b[39;00m\n\u001b[1;32m    884\u001b[0m         \u001b[38;5;66;03m#    .merge(metric_surge_sum(df_recprice, group_cols), on=group_cols, how='left')\u001b[39;00m\n\u001b[1;32m    885\u001b[0m         \u001b[38;5;66;03m#    .merge(metric_surge_gr_1_sum(df_recprice, group_cols), on=group_cols, how='left')\u001b[39;00m\n\u001b[1;32m    886\u001b[0m         \u001b[38;5;66;03m#    .merge(metric_surge_gr_1_calcprices_count(df_recprice, group_cols), on=group_cols, how='left')\u001b[39;00m\n\u001b[1;32m    887\u001b[0m         \u001b[38;5;66;03m#    .merge(metric_surge_le_1_sum(df_recprice, group_cols), on=group_cols, how='left')\u001b[39;00m\n\u001b[1;32m    888\u001b[0m         \u001b[38;5;66;03m#    .merge(metric_surge_le_1_calcprices_count(df_recprice, group_cols), on=group_cols, how='left')\u001b[39;00m\n\u001b[1;32m    889\u001b[0m            \u001b[38;5;241m.\u001b[39mmerge(metric_orders_by_minprice_count(df_order_with_recprice, group_cols), on\u001b[38;5;241m=\u001b[39mgroup_cols, how\u001b[38;5;241m=\u001b[39m\u001b[38;5;124m'\u001b[39m\u001b[38;5;124mleft\u001b[39m\u001b[38;5;124m'\u001b[39m)\n\u001b[1;32m    890\u001b[0m            \u001b[38;5;241m.\u001b[39mmerge(metric_orders_by_minprice_with_bids_count(df_order_with_recprice, group_cols), on\u001b[38;5;241m=\u001b[39mgroup_cols, how\u001b[38;5;241m=\u001b[39m\u001b[38;5;124m'\u001b[39m\u001b[38;5;124mleft\u001b[39m\u001b[38;5;124m'\u001b[39m)\n\u001b[1;32m    891\u001b[0m            \u001b[38;5;241m.\u001b[39mmerge(metric_accepted_orders_by_minprice_count(df_order_with_recprice, group_cols), on\u001b[38;5;241m=\u001b[39mgroup_cols, how\u001b[38;5;241m=\u001b[39m\u001b[38;5;124m'\u001b[39m\u001b[38;5;124mleft\u001b[39m\u001b[38;5;124m'\u001b[39m)\n\u001b[1;32m    892\u001b[0m            \u001b[38;5;241m.\u001b[39mmerge(metric_rides_by_minprice_count(df_order_with_recprice, group_cols), on\u001b[38;5;241m=\u001b[39mgroup_cols, how\u001b[38;5;241m=\u001b[39m\u001b[38;5;124m'\u001b[39m\u001b[38;5;124mleft\u001b[39m\u001b[38;5;124m'\u001b[39m)\n\u001b[1;32m    893\u001b[0m            \u001b[38;5;241m.\u001b[39mmerge(metric_surge_gr_1_orders_count(df_order_with_recprice, group_cols), on\u001b[38;5;241m=\u001b[39mgroup_cols, how\u001b[38;5;241m=\u001b[39m\u001b[38;5;124m'\u001b[39m\u001b[38;5;124mleft\u001b[39m\u001b[38;5;124m'\u001b[39m)\n\u001b[1;32m    894\u001b[0m            \u001b[38;5;241m.\u001b[39mmerge(metric_surge_le_1_orders_count(df_order_with_recprice, group_cols), on\u001b[38;5;241m=\u001b[39mgroup_cols, how\u001b[38;5;241m=\u001b[39m\u001b[38;5;124m'\u001b[39m\u001b[38;5;124mleft\u001b[39m\u001b[38;5;124m'\u001b[39m)\n\u001b[1;32m    895\u001b[0m            \u001b[38;5;241m.\u001b[39mmerge(metric_surge_gr_1_orders_with_bids_count(df_order_with_recprice, group_cols), on\u001b[38;5;241m=\u001b[39mgroup_cols, how\u001b[38;5;241m=\u001b[39m\u001b[38;5;124m'\u001b[39m\u001b[38;5;124mleft\u001b[39m\u001b[38;5;124m'\u001b[39m)\n\u001b[1;32m    896\u001b[0m            \u001b[38;5;241m.\u001b[39mmerge(metric_surge_le_1_orders_with_bids_count(df_order_with_recprice, group_cols), on\u001b[38;5;241m=\u001b[39mgroup_cols, how\u001b[38;5;241m=\u001b[39m\u001b[38;5;124m'\u001b[39m\u001b[38;5;124mleft\u001b[39m\u001b[38;5;124m'\u001b[39m)\n\u001b[1;32m    897\u001b[0m            \u001b[38;5;241m.\u001b[39mmerge(metric_surge_gr_1_start_price_bid_orders_count(df_order_with_recprice, group_cols), on\u001b[38;5;241m=\u001b[39mgroup_cols, how\u001b[38;5;241m=\u001b[39m\u001b[38;5;124m'\u001b[39m\u001b[38;5;124mleft\u001b[39m\u001b[38;5;124m'\u001b[39m)\n\u001b[1;32m    898\u001b[0m            \u001b[38;5;241m.\u001b[39mmerge(metric_surge_le_1_start_price_bid_orders_count(df_order_with_recprice, group_cols), on\u001b[38;5;241m=\u001b[39mgroup_cols, how\u001b[38;5;241m=\u001b[39m\u001b[38;5;124m'\u001b[39m\u001b[38;5;124mleft\u001b[39m\u001b[38;5;124m'\u001b[39m)\n\u001b[1;32m    899\u001b[0m            \u001b[38;5;241m.\u001b[39mmerge(metric_surge_gr_1_accepted_orders_count(df_order_with_recprice, group_cols), on\u001b[38;5;241m=\u001b[39mgroup_cols, how\u001b[38;5;241m=\u001b[39m\u001b[38;5;124m'\u001b[39m\u001b[38;5;124mleft\u001b[39m\u001b[38;5;124m'\u001b[39m)\n\u001b[1;32m    900\u001b[0m            \u001b[38;5;241m.\u001b[39mmerge(metric_surge_le_1_accepted_orders_count(df_order_with_recprice, group_cols), on\u001b[38;5;241m=\u001b[39mgroup_cols, how\u001b[38;5;241m=\u001b[39m\u001b[38;5;124m'\u001b[39m\u001b[38;5;124mleft\u001b[39m\u001b[38;5;124m'\u001b[39m)\n\u001b[1;32m    901\u001b[0m            \u001b[38;5;241m.\u001b[39mmerge(metric_surge_gr_1_rides_count(df_order_with_recprice, group_cols), on\u001b[38;5;241m=\u001b[39mgroup_cols, how\u001b[38;5;241m=\u001b[39m\u001b[38;5;124m'\u001b[39m\u001b[38;5;124mleft\u001b[39m\u001b[38;5;124m'\u001b[39m)\n\u001b[1;32m    902\u001b[0m            \u001b[38;5;241m.\u001b[39mmerge(metric_surge_le_1_rides_count(df_order_with_recprice, group_cols), on\u001b[38;5;241m=\u001b[39mgroup_cols, how\u001b[38;5;241m=\u001b[39m\u001b[38;5;124m'\u001b[39m\u001b[38;5;124mleft\u001b[39m\u001b[38;5;124m'\u001b[39m)\n\u001b[1;32m    903\u001b[0m            \u001b[38;5;66;03m#\u001b[39;00m\n\u001b[1;32m    904\u001b[0m            \u001b[38;5;241m.\u001b[39mmerge(metric_rides_by_bid_option_startprice_count(df_bid, group_cols), on\u001b[38;5;241m=\u001b[39mgroup_cols, how\u001b[38;5;241m=\u001b[39m\u001b[38;5;124m'\u001b[39m\u001b[38;5;124mleft\u001b[39m\u001b[38;5;124m'\u001b[39m)\n\u001b[1;32m    905\u001b[0m            \u001b[38;5;241m.\u001b[39mmerge(metric_bids_option_startprice_count(df_bid, group_cols), on\u001b[38;5;241m=\u001b[39mgroup_cols, how\u001b[38;5;241m=\u001b[39m\u001b[38;5;124m'\u001b[39m\u001b[38;5;124mleft\u001b[39m\u001b[38;5;124m'\u001b[39m)\n\u001b[1;32m    906\u001b[0m            \u001b[38;5;241m.\u001b[39mmerge(metric_bids_option_startprice_bid_price_currency_sum(df_bid, group_cols), on\u001b[38;5;241m=\u001b[39mgroup_cols, how\u001b[38;5;241m=\u001b[39m\u001b[38;5;124m'\u001b[39m\u001b[38;5;124mleft\u001b[39m\u001b[38;5;124m'\u001b[39m)\n\u001b[1;32m    907\u001b[0m            \u001b[38;5;241m.\u001b[39mmerge(metric_accepted_bids_option_startprice_count(df_bid, group_cols), on\u001b[38;5;241m=\u001b[39mgroup_cols, how\u001b[38;5;241m=\u001b[39m\u001b[38;5;124m'\u001b[39m\u001b[38;5;124mleft\u001b[39m\u001b[38;5;124m'\u001b[39m)\n\u001b[1;32m    908\u001b[0m            \u001b[38;5;241m.\u001b[39mmerge(metric_bids_option_startprice_accepted_bid_price_currency_sum(df_bid, group_cols), on\u001b[38;5;241m=\u001b[39mgroup_cols, how\u001b[38;5;241m=\u001b[39m\u001b[38;5;124m'\u001b[39m\u001b[38;5;124mleft\u001b[39m\u001b[38;5;124m'\u001b[39m)\n\u001b[1;32m    909\u001b[0m            \u001b[38;5;241m.\u001b[39mmerge(metric_rides_by_bid_option_option1_count(df_bid, group_cols), on\u001b[38;5;241m=\u001b[39mgroup_cols, how\u001b[38;5;241m=\u001b[39m\u001b[38;5;124m'\u001b[39m\u001b[38;5;124mleft\u001b[39m\u001b[38;5;124m'\u001b[39m)\n\u001b[1;32m    910\u001b[0m            \u001b[38;5;241m.\u001b[39mmerge(metric_bids_option_option1_count(df_bid, group_cols), on\u001b[38;5;241m=\u001b[39mgroup_cols, how\u001b[38;5;241m=\u001b[39m\u001b[38;5;124m'\u001b[39m\u001b[38;5;124mleft\u001b[39m\u001b[38;5;124m'\u001b[39m)\n\u001b[1;32m    911\u001b[0m            \u001b[38;5;241m.\u001b[39mmerge(metric_bids_option_option1_bid_price_currency_sum(df_bid, group_cols), on\u001b[38;5;241m=\u001b[39mgroup_cols, how\u001b[38;5;241m=\u001b[39m\u001b[38;5;124m'\u001b[39m\u001b[38;5;124mleft\u001b[39m\u001b[38;5;124m'\u001b[39m)\n\u001b[1;32m    912\u001b[0m            \u001b[38;5;241m.\u001b[39mmerge(metric_accepted_bids_option_option1_count(df_bid, group_cols), on\u001b[38;5;241m=\u001b[39mgroup_cols, how\u001b[38;5;241m=\u001b[39m\u001b[38;5;124m'\u001b[39m\u001b[38;5;124mleft\u001b[39m\u001b[38;5;124m'\u001b[39m)\n\u001b[1;32m    913\u001b[0m            \u001b[38;5;241m.\u001b[39mmerge(metric_accepted_bids_option_option1_bid_price_currency_sum(df_bid, group_cols), on\u001b[38;5;241m=\u001b[39mgroup_cols, how\u001b[38;5;241m=\u001b[39m\u001b[38;5;124m'\u001b[39m\u001b[38;5;124mleft\u001b[39m\u001b[38;5;124m'\u001b[39m)\n\u001b[1;32m    914\u001b[0m            \u001b[38;5;241m.\u001b[39mmerge(metric_rides_by_bid_option_option2_count(df_bid, group_cols), on\u001b[38;5;241m=\u001b[39mgroup_cols, how\u001b[38;5;241m=\u001b[39m\u001b[38;5;124m'\u001b[39m\u001b[38;5;124mleft\u001b[39m\u001b[38;5;124m'\u001b[39m)\n\u001b[1;32m    915\u001b[0m            \u001b[38;5;241m.\u001b[39mmerge(metric_bids_option_option2_count(df_bid, group_cols), on\u001b[38;5;241m=\u001b[39mgroup_cols, how\u001b[38;5;241m=\u001b[39m\u001b[38;5;124m'\u001b[39m\u001b[38;5;124mleft\u001b[39m\u001b[38;5;124m'\u001b[39m)\n\u001b[1;32m    916\u001b[0m            \u001b[38;5;241m.\u001b[39mmerge(metric_bids_option_option2_bid_price_currency_sum(df_bid, group_cols), on\u001b[38;5;241m=\u001b[39mgroup_cols, how\u001b[38;5;241m=\u001b[39m\u001b[38;5;124m'\u001b[39m\u001b[38;5;124mleft\u001b[39m\u001b[38;5;124m'\u001b[39m)\n\u001b[1;32m    917\u001b[0m            \u001b[38;5;241m.\u001b[39mmerge(metric_accepted_bids_option_option2_count(df_bid, group_cols), on\u001b[38;5;241m=\u001b[39mgroup_cols, how\u001b[38;5;241m=\u001b[39m\u001b[38;5;124m'\u001b[39m\u001b[38;5;124mleft\u001b[39m\u001b[38;5;124m'\u001b[39m)\n\u001b[1;32m    918\u001b[0m            \u001b[38;5;241m.\u001b[39mmerge(metric_accepted_bids_option_option2_bid_price_currency_sum(df_bid, group_cols), on\u001b[38;5;241m=\u001b[39mgroup_cols, how\u001b[38;5;241m=\u001b[39m\u001b[38;5;124m'\u001b[39m\u001b[38;5;124mleft\u001b[39m\u001b[38;5;124m'\u001b[39m)\n\u001b[1;32m    919\u001b[0m            \u001b[38;5;241m.\u001b[39mmerge(metric_rides_by_bid_option_option3_count(df_bid, group_cols), on\u001b[38;5;241m=\u001b[39mgroup_cols, how\u001b[38;5;241m=\u001b[39m\u001b[38;5;124m'\u001b[39m\u001b[38;5;124mleft\u001b[39m\u001b[38;5;124m'\u001b[39m)\n\u001b[1;32m    920\u001b[0m            \u001b[38;5;241m.\u001b[39mmerge(metric_bids_option_option3_count(df_bid, group_cols), on\u001b[38;5;241m=\u001b[39mgroup_cols, how\u001b[38;5;241m=\u001b[39m\u001b[38;5;124m'\u001b[39m\u001b[38;5;124mleft\u001b[39m\u001b[38;5;124m'\u001b[39m)\n\u001b[1;32m    921\u001b[0m            \u001b[38;5;241m.\u001b[39mmerge(metric_bids_option_option3_bid_price_currency_sum(df_bid, group_cols), on\u001b[38;5;241m=\u001b[39mgroup_cols, how\u001b[38;5;241m=\u001b[39m\u001b[38;5;124m'\u001b[39m\u001b[38;5;124mleft\u001b[39m\u001b[38;5;124m'\u001b[39m)\n\u001b[1;32m    922\u001b[0m            \u001b[38;5;241m.\u001b[39mmerge(metric_accepted_bids_option_option3_count(df_bid, group_cols), on\u001b[38;5;241m=\u001b[39mgroup_cols, how\u001b[38;5;241m=\u001b[39m\u001b[38;5;124m'\u001b[39m\u001b[38;5;124mleft\u001b[39m\u001b[38;5;124m'\u001b[39m)\n\u001b[1;32m    923\u001b[0m            \u001b[38;5;241m.\u001b[39mmerge(metric_accepted_bids_option_option3_bid_price_currency_sum(df_bid, group_cols), on\u001b[38;5;241m=\u001b[39mgroup_cols, how\u001b[38;5;241m=\u001b[39m\u001b[38;5;124m'\u001b[39m\u001b[38;5;124mleft\u001b[39m\u001b[38;5;124m'\u001b[39m)\n\u001b[1;32m    924\u001b[0m            \u001b[38;5;241m.\u001b[39mmerge(metric_rides_by_bid_option_other1_count(df_bid, group_cols), on\u001b[38;5;241m=\u001b[39mgroup_cols, how\u001b[38;5;241m=\u001b[39m\u001b[38;5;124m'\u001b[39m\u001b[38;5;124mleft\u001b[39m\u001b[38;5;124m'\u001b[39m)\n\u001b[1;32m    925\u001b[0m            \u001b[38;5;241m.\u001b[39mmerge(metric_bids_option_other1_count(df_bid, group_cols), on\u001b[38;5;241m=\u001b[39mgroup_cols, how\u001b[38;5;241m=\u001b[39m\u001b[38;5;124m'\u001b[39m\u001b[38;5;124mleft\u001b[39m\u001b[38;5;124m'\u001b[39m)\n\u001b[1;32m    926\u001b[0m            \u001b[38;5;241m.\u001b[39mmerge(metric_bids_option_other1_bid_price_currency_sum(df_bid, group_cols), on\u001b[38;5;241m=\u001b[39mgroup_cols, how\u001b[38;5;241m=\u001b[39m\u001b[38;5;124m'\u001b[39m\u001b[38;5;124mleft\u001b[39m\u001b[38;5;124m'\u001b[39m)\n\u001b[1;32m    927\u001b[0m            \u001b[38;5;241m.\u001b[39mmerge(metric_accepted_bids_option_other1_count(df_bid, group_cols), on\u001b[38;5;241m=\u001b[39mgroup_cols, how\u001b[38;5;241m=\u001b[39m\u001b[38;5;124m'\u001b[39m\u001b[38;5;124mleft\u001b[39m\u001b[38;5;124m'\u001b[39m)\n\u001b[1;32m    928\u001b[0m            \u001b[38;5;241m.\u001b[39mmerge(metric_accepted_bids_option_other1_bid_price_currency_sum(df_bid, group_cols), on\u001b[38;5;241m=\u001b[39mgroup_cols, how\u001b[38;5;241m=\u001b[39m\u001b[38;5;124m'\u001b[39m\u001b[38;5;124mleft\u001b[39m\u001b[38;5;124m'\u001b[39m)\n\u001b[1;32m    929\u001b[0m            \u001b[38;5;241m.\u001b[39mmerge(metric_rides_by_bid_option_other2_count(df_bid, group_cols), on\u001b[38;5;241m=\u001b[39mgroup_cols, how\u001b[38;5;241m=\u001b[39m\u001b[38;5;124m'\u001b[39m\u001b[38;5;124mleft\u001b[39m\u001b[38;5;124m'\u001b[39m)\n\u001b[1;32m    930\u001b[0m            \u001b[38;5;241m.\u001b[39mmerge(metric_bids_option_other2_count(df_bid, group_cols), on\u001b[38;5;241m=\u001b[39mgroup_cols, how\u001b[38;5;241m=\u001b[39m\u001b[38;5;124m'\u001b[39m\u001b[38;5;124mleft\u001b[39m\u001b[38;5;124m'\u001b[39m)\n\u001b[1;32m    931\u001b[0m            \u001b[38;5;241m.\u001b[39mmerge(metric_bids_option_other2_bid_price_currency_sum(df_bid, group_cols), on\u001b[38;5;241m=\u001b[39mgroup_cols, how\u001b[38;5;241m=\u001b[39m\u001b[38;5;124m'\u001b[39m\u001b[38;5;124mleft\u001b[39m\u001b[38;5;124m'\u001b[39m)\n\u001b[1;32m    932\u001b[0m            \u001b[38;5;241m.\u001b[39mmerge(metric_accepted_bids_option_other2_count(df_bid, group_cols), on\u001b[38;5;241m=\u001b[39mgroup_cols, how\u001b[38;5;241m=\u001b[39m\u001b[38;5;124m'\u001b[39m\u001b[38;5;124mleft\u001b[39m\u001b[38;5;124m'\u001b[39m)\n\u001b[1;32m    933\u001b[0m            \u001b[38;5;241m.\u001b[39mmerge(metric_accepted_bids_option_other2_bid_price_currency_sum(df_bid, group_cols), on\u001b[38;5;241m=\u001b[39mgroup_cols, how\u001b[38;5;241m=\u001b[39m\u001b[38;5;124m'\u001b[39m\u001b[38;5;124mleft\u001b[39m\u001b[38;5;124m'\u001b[39m)\n\u001b[1;32m    934\u001b[0m            \u001b[38;5;241m.\u001b[39mmerge(metric_rides_by_bid_option_other3_count(df_bid, group_cols), on\u001b[38;5;241m=\u001b[39mgroup_cols, how\u001b[38;5;241m=\u001b[39m\u001b[38;5;124m'\u001b[39m\u001b[38;5;124mleft\u001b[39m\u001b[38;5;124m'\u001b[39m)\n\u001b[1;32m    935\u001b[0m            \u001b[38;5;241m.\u001b[39mmerge(metric_bids_option_other3_count(df_bid, group_cols), on\u001b[38;5;241m=\u001b[39mgroup_cols, how\u001b[38;5;241m=\u001b[39m\u001b[38;5;124m'\u001b[39m\u001b[38;5;124mleft\u001b[39m\u001b[38;5;124m'\u001b[39m)\n\u001b[1;32m    936\u001b[0m            \u001b[38;5;241m.\u001b[39mmerge(metric_bids_option_other3_bid_price_currency_sum(df_bid, group_cols), on\u001b[38;5;241m=\u001b[39mgroup_cols, how\u001b[38;5;241m=\u001b[39m\u001b[38;5;124m'\u001b[39m\u001b[38;5;124mleft\u001b[39m\u001b[38;5;124m'\u001b[39m)\n\u001b[1;32m    937\u001b[0m            \u001b[38;5;241m.\u001b[39mmerge(metric_accepted_bids_option_other3_count(df_bid, group_cols), on\u001b[38;5;241m=\u001b[39mgroup_cols, how\u001b[38;5;241m=\u001b[39m\u001b[38;5;124m'\u001b[39m\u001b[38;5;124mleft\u001b[39m\u001b[38;5;124m'\u001b[39m)\n\u001b[1;32m    938\u001b[0m            \u001b[38;5;241m.\u001b[39mmerge(metric_accepted_bids_option_other3_bid_price_currency_sum(df_bid, group_cols), on\u001b[38;5;241m=\u001b[39mgroup_cols, how\u001b[38;5;241m=\u001b[39m\u001b[38;5;124m'\u001b[39m\u001b[38;5;124mleft\u001b[39m\u001b[38;5;124m'\u001b[39m)\n\u001b[1;32m    939\u001b[0m            \u001b[38;5;66;03m#\u001b[39;00m\n\u001b[1;32m    940\u001b[0m            \u001b[38;5;241m.\u001b[39mmerge(metric_orders_with_bid_option_startprice_count(df_bid, group_cols), on\u001b[38;5;241m=\u001b[39mgroup_cols, how\u001b[38;5;241m=\u001b[39m\u001b[38;5;124m'\u001b[39m\u001b[38;5;124mleft\u001b[39m\u001b[38;5;124m'\u001b[39m)\n\u001b[1;32m    941\u001b[0m            \u001b[38;5;241m.\u001b[39mmerge(metric_orders_with_bid_option_option1_count(df_bid, group_cols), on\u001b[38;5;241m=\u001b[39mgroup_cols, how\u001b[38;5;241m=\u001b[39m\u001b[38;5;124m'\u001b[39m\u001b[38;5;124mleft\u001b[39m\u001b[38;5;124m'\u001b[39m)\n\u001b[1;32m    942\u001b[0m            \u001b[38;5;241m.\u001b[39mmerge(metric_orders_with_bid_option_option2_count(df_bid, group_cols), on\u001b[38;5;241m=\u001b[39mgroup_cols, how\u001b[38;5;241m=\u001b[39m\u001b[38;5;124m'\u001b[39m\u001b[38;5;124mleft\u001b[39m\u001b[38;5;124m'\u001b[39m)\n\u001b[1;32m    943\u001b[0m            \u001b[38;5;241m.\u001b[39mmerge(metric_orders_with_bid_option_option3_count(df_bid, group_cols), on\u001b[38;5;241m=\u001b[39mgroup_cols, how\u001b[38;5;241m=\u001b[39m\u001b[38;5;124m'\u001b[39m\u001b[38;5;124mleft\u001b[39m\u001b[38;5;124m'\u001b[39m)\n\u001b[1;32m    944\u001b[0m            \u001b[38;5;241m.\u001b[39mmerge(metric_orders_with_bid_option_other1_count(df_bid, group_cols), on\u001b[38;5;241m=\u001b[39mgroup_cols, how\u001b[38;5;241m=\u001b[39m\u001b[38;5;124m'\u001b[39m\u001b[38;5;124mleft\u001b[39m\u001b[38;5;124m'\u001b[39m)\n\u001b[1;32m    945\u001b[0m            \u001b[38;5;241m.\u001b[39mmerge(metric_orders_with_bid_option_other2_count(df_bid, group_cols), on\u001b[38;5;241m=\u001b[39mgroup_cols, how\u001b[38;5;241m=\u001b[39m\u001b[38;5;124m'\u001b[39m\u001b[38;5;124mleft\u001b[39m\u001b[38;5;124m'\u001b[39m)\n\u001b[1;32m    946\u001b[0m            \u001b[38;5;241m.\u001b[39mmerge(metric_orders_with_bid_option_other3_count(df_bid, group_cols), on\u001b[38;5;241m=\u001b[39mgroup_cols, how\u001b[38;5;241m=\u001b[39m\u001b[38;5;124m'\u001b[39m\u001b[38;5;124mleft\u001b[39m\u001b[38;5;124m'\u001b[39m)\n\u001b[1;32m    947\u001b[0m            \u001b[38;5;66;03m#\u001b[39;00m\n\u001b[1;32m    948\u001b[0m            \u001b[38;5;241m.\u001b[39mmerge(metric_time_to_1st_bid_sec(df_bid, group_cols), on\u001b[38;5;241m=\u001b[39mgroup_cols, how\u001b[38;5;241m=\u001b[39m\u001b[38;5;124m'\u001b[39m\u001b[38;5;124mleft\u001b[39m\u001b[38;5;124m'\u001b[39m)\n\u001b[1;32m    949\u001b[0m            \u001b[38;5;241m.\u001b[39mmerge(metric_time_1st_bid_to_accept_sec(df_bid, group_cols), on\u001b[38;5;241m=\u001b[39mgroup_cols, how\u001b[38;5;241m=\u001b[39m\u001b[38;5;124m'\u001b[39m\u001b[38;5;124mleft\u001b[39m\u001b[38;5;124m'\u001b[39m)\n\u001b[1;32m    950\u001b[0m            \u001b[38;5;241m.\u001b[39mmerge(metric_rta_sum(df_order_with_recprice, group_cols), on\u001b[38;5;241m=\u001b[39mgroup_cols, how\u001b[38;5;241m=\u001b[39m\u001b[38;5;124m'\u001b[39m\u001b[38;5;124mleft\u001b[39m\u001b[38;5;124m'\u001b[39m)\n\u001b[1;32m    951\u001b[0m            \u001b[38;5;241m.\u001b[39mmerge(metric_rtr_sum(df_order_with_recprice, group_cols), on\u001b[38;5;241m=\u001b[39mgroup_cols, how\u001b[38;5;241m=\u001b[39m\u001b[38;5;124m'\u001b[39m\u001b[38;5;124mleft\u001b[39m\u001b[38;5;124m'\u001b[39m)\n\u001b[1;32m    952\u001b[0m            \u001b[38;5;241m.\u001b[39mmerge(metric_eta_sum(df_bid, group_cols), on\u001b[38;5;241m=\u001b[39mgroup_cols, how\u001b[38;5;241m=\u001b[39m\u001b[38;5;124m'\u001b[39m\u001b[38;5;124mleft\u001b[39m\u001b[38;5;124m'\u001b[39m)\n\u001b[1;32m    953\u001b[0m            \u001b[38;5;241m.\u001b[39mmerge(metric_etr_sum(df_order_with_recprice, group_cols), on\u001b[38;5;241m=\u001b[39mgroup_cols, how\u001b[38;5;241m=\u001b[39m\u001b[38;5;124m'\u001b[39m\u001b[38;5;124mleft\u001b[39m\u001b[38;5;124m'\u001b[39m)\n\u001b[1;32m    954\u001b[0m            \u001b[38;5;241m.\u001b[39mmerge(metric_eta_done_orders_sum(df_bid, group_cols), on\u001b[38;5;241m=\u001b[39mgroup_cols, how\u001b[38;5;241m=\u001b[39m\u001b[38;5;124m'\u001b[39m\u001b[38;5;124mleft\u001b[39m\u001b[38;5;124m'\u001b[39m)\n\u001b[1;32m    955\u001b[0m            \u001b[38;5;241m.\u001b[39mmerge(metric_eta_accepted_bids_sum(df_bid, group_cols), on\u001b[38;5;241m=\u001b[39mgroup_cols, how\u001b[38;5;241m=\u001b[39m\u001b[38;5;124m'\u001b[39m\u001b[38;5;124mleft\u001b[39m\u001b[38;5;124m'\u001b[39m)\n\u001b[1;32m    956\u001b[0m            \u001b[38;5;241m.\u001b[39mmerge(metric_etr_orders_with_bids_sum(df_order_with_recprice, group_cols), on\u001b[38;5;241m=\u001b[39mgroup_cols, how\u001b[38;5;241m=\u001b[39m\u001b[38;5;124m'\u001b[39m\u001b[38;5;124mleft\u001b[39m\u001b[38;5;124m'\u001b[39m)\n\u001b[1;32m    957\u001b[0m            \u001b[38;5;241m.\u001b[39mmerge(metric_etr_orders_with_accepted_bids_sum(df_order_with_recprice, group_cols), on\u001b[38;5;241m=\u001b[39mgroup_cols, how\u001b[38;5;241m=\u001b[39m\u001b[38;5;124m'\u001b[39m\u001b[38;5;124mleft\u001b[39m\u001b[38;5;124m'\u001b[39m)\n\u001b[1;32m    958\u001b[0m            \u001b[38;5;241m.\u001b[39mmerge(metric_etr_done_orders_sum(df_order_with_recprice, group_cols), on\u001b[38;5;241m=\u001b[39mgroup_cols, how\u001b[38;5;241m=\u001b[39m\u001b[38;5;124m'\u001b[39m\u001b[38;5;124mleft\u001b[39m\u001b[38;5;124m'\u001b[39m)\n\u001b[1;32m    959\u001b[0m            \u001b[38;5;241m.\u001b[39mmerge(metric_etr_orders_without_bids_sum(df_order_with_recprice, group_cols), on\u001b[38;5;241m=\u001b[39mgroup_cols, how\u001b[38;5;241m=\u001b[39m\u001b[38;5;124m'\u001b[39m\u001b[38;5;124mleft\u001b[39m\u001b[38;5;124m'\u001b[39m))\n\u001b[1;32m    960\u001b[0m     \u001b[38;5;28;01mreturn\u001b[39;00m dfm\n",
      "File \u001b[0;32m~/PycharmProjects/work/badbids/exp_anal/SB/results/src/metrics_AB.py:215\u001b[0m, in \u001b[0;36mmetric_orders_count\u001b[0;34m(df, group_cols)\u001b[0m\n\u001b[1;32m    214\u001b[0m \u001b[38;5;28;01mdef\u001b[39;00m \u001b[38;5;21mmetric_orders_count\u001b[39m(df, group_cols):\n\u001b[0;32m--> 215\u001b[0m     \u001b[38;5;28;01mreturn\u001b[39;00m (\u001b[43mdf\u001b[49m\n\u001b[1;32m    216\u001b[0m \u001b[43m            \u001b[49m\u001b[38;5;241;43m.\u001b[39;49m\u001b[43mgroupby\u001b[49m\u001b[43m(\u001b[49m\u001b[43mgroup_cols\u001b[49m\u001b[43m)\u001b[49m\n\u001b[1;32m    217\u001b[0m             \u001b[38;5;241m.\u001b[39magg(orders_count\u001b[38;5;241m=\u001b[39m(\u001b[38;5;124m'\u001b[39m\u001b[38;5;124morder_uuid\u001b[39m\u001b[38;5;124m'\u001b[39m, \u001b[38;5;124m'\u001b[39m\u001b[38;5;124mnunique\u001b[39m\u001b[38;5;124m'\u001b[39m))\n\u001b[1;32m    218\u001b[0m             \u001b[38;5;241m.\u001b[39mreset_index())\n",
      "File \u001b[0;32m~/miniconda3/envs/py38/lib/python3.8/site-packages/pandas/core/frame.py:8252\u001b[0m, in \u001b[0;36mDataFrame.groupby\u001b[0;34m(self, by, axis, level, as_index, sort, group_keys, observed, dropna)\u001b[0m\n\u001b[1;32m   8249\u001b[0m     \u001b[38;5;28;01mraise\u001b[39;00m \u001b[38;5;167;01mTypeError\u001b[39;00m(\u001b[38;5;124m\"\u001b[39m\u001b[38;5;124mYou have to supply one of \u001b[39m\u001b[38;5;124m'\u001b[39m\u001b[38;5;124mby\u001b[39m\u001b[38;5;124m'\u001b[39m\u001b[38;5;124m and \u001b[39m\u001b[38;5;124m'\u001b[39m\u001b[38;5;124mlevel\u001b[39m\u001b[38;5;124m'\u001b[39m\u001b[38;5;124m\"\u001b[39m)\n\u001b[1;32m   8250\u001b[0m axis \u001b[38;5;241m=\u001b[39m \u001b[38;5;28mself\u001b[39m\u001b[38;5;241m.\u001b[39m_get_axis_number(axis)\n\u001b[0;32m-> 8252\u001b[0m \u001b[38;5;28;01mreturn\u001b[39;00m \u001b[43mDataFrameGroupBy\u001b[49m\u001b[43m(\u001b[49m\n\u001b[1;32m   8253\u001b[0m \u001b[43m    \u001b[49m\u001b[43mobj\u001b[49m\u001b[38;5;241;43m=\u001b[39;49m\u001b[38;5;28;43mself\u001b[39;49m\u001b[43m,\u001b[49m\n\u001b[1;32m   8254\u001b[0m \u001b[43m    \u001b[49m\u001b[43mkeys\u001b[49m\u001b[38;5;241;43m=\u001b[39;49m\u001b[43mby\u001b[49m\u001b[43m,\u001b[49m\n\u001b[1;32m   8255\u001b[0m \u001b[43m    \u001b[49m\u001b[43maxis\u001b[49m\u001b[38;5;241;43m=\u001b[39;49m\u001b[43maxis\u001b[49m\u001b[43m,\u001b[49m\n\u001b[1;32m   8256\u001b[0m \u001b[43m    \u001b[49m\u001b[43mlevel\u001b[49m\u001b[38;5;241;43m=\u001b[39;49m\u001b[43mlevel\u001b[49m\u001b[43m,\u001b[49m\n\u001b[1;32m   8257\u001b[0m \u001b[43m    \u001b[49m\u001b[43mas_index\u001b[49m\u001b[38;5;241;43m=\u001b[39;49m\u001b[43mas_index\u001b[49m\u001b[43m,\u001b[49m\n\u001b[1;32m   8258\u001b[0m \u001b[43m    \u001b[49m\u001b[43msort\u001b[49m\u001b[38;5;241;43m=\u001b[39;49m\u001b[43msort\u001b[49m\u001b[43m,\u001b[49m\n\u001b[1;32m   8259\u001b[0m \u001b[43m    \u001b[49m\u001b[43mgroup_keys\u001b[49m\u001b[38;5;241;43m=\u001b[39;49m\u001b[43mgroup_keys\u001b[49m\u001b[43m,\u001b[49m\n\u001b[1;32m   8260\u001b[0m \u001b[43m    \u001b[49m\u001b[43mobserved\u001b[49m\u001b[38;5;241;43m=\u001b[39;49m\u001b[43mobserved\u001b[49m\u001b[43m,\u001b[49m\n\u001b[1;32m   8261\u001b[0m \u001b[43m    \u001b[49m\u001b[43mdropna\u001b[49m\u001b[38;5;241;43m=\u001b[39;49m\u001b[43mdropna\u001b[49m\u001b[43m,\u001b[49m\n\u001b[1;32m   8262\u001b[0m \u001b[43m\u001b[49m\u001b[43m)\u001b[49m\n",
      "File \u001b[0;32m~/miniconda3/envs/py38/lib/python3.8/site-packages/pandas/core/groupby/groupby.py:931\u001b[0m, in \u001b[0;36mGroupBy.__init__\u001b[0;34m(self, obj, keys, axis, level, grouper, exclusions, selection, as_index, sort, group_keys, observed, dropna)\u001b[0m\n\u001b[1;32m    928\u001b[0m \u001b[38;5;28mself\u001b[39m\u001b[38;5;241m.\u001b[39mdropna \u001b[38;5;241m=\u001b[39m dropna\n\u001b[1;32m    930\u001b[0m \u001b[38;5;28;01mif\u001b[39;00m grouper \u001b[38;5;129;01mis\u001b[39;00m \u001b[38;5;28;01mNone\u001b[39;00m:\n\u001b[0;32m--> 931\u001b[0m     grouper, exclusions, obj \u001b[38;5;241m=\u001b[39m \u001b[43mget_grouper\u001b[49m\u001b[43m(\u001b[49m\n\u001b[1;32m    932\u001b[0m \u001b[43m        \u001b[49m\u001b[43mobj\u001b[49m\u001b[43m,\u001b[49m\n\u001b[1;32m    933\u001b[0m \u001b[43m        \u001b[49m\u001b[43mkeys\u001b[49m\u001b[43m,\u001b[49m\n\u001b[1;32m    934\u001b[0m \u001b[43m        \u001b[49m\u001b[43maxis\u001b[49m\u001b[38;5;241;43m=\u001b[39;49m\u001b[43maxis\u001b[49m\u001b[43m,\u001b[49m\n\u001b[1;32m    935\u001b[0m \u001b[43m        \u001b[49m\u001b[43mlevel\u001b[49m\u001b[38;5;241;43m=\u001b[39;49m\u001b[43mlevel\u001b[49m\u001b[43m,\u001b[49m\n\u001b[1;32m    936\u001b[0m \u001b[43m        \u001b[49m\u001b[43msort\u001b[49m\u001b[38;5;241;43m=\u001b[39;49m\u001b[43msort\u001b[49m\u001b[43m,\u001b[49m\n\u001b[1;32m    937\u001b[0m \u001b[43m        \u001b[49m\u001b[43mobserved\u001b[49m\u001b[38;5;241;43m=\u001b[39;49m\u001b[43mobserved\u001b[49m\u001b[43m,\u001b[49m\n\u001b[1;32m    938\u001b[0m \u001b[43m        \u001b[49m\u001b[43mdropna\u001b[49m\u001b[38;5;241;43m=\u001b[39;49m\u001b[38;5;28;43mself\u001b[39;49m\u001b[38;5;241;43m.\u001b[39;49m\u001b[43mdropna\u001b[49m\u001b[43m,\u001b[49m\n\u001b[1;32m    939\u001b[0m \u001b[43m    \u001b[49m\u001b[43m)\u001b[49m\n\u001b[1;32m    941\u001b[0m \u001b[38;5;28mself\u001b[39m\u001b[38;5;241m.\u001b[39mobj \u001b[38;5;241m=\u001b[39m obj\n\u001b[1;32m    942\u001b[0m \u001b[38;5;28mself\u001b[39m\u001b[38;5;241m.\u001b[39maxis \u001b[38;5;241m=\u001b[39m obj\u001b[38;5;241m.\u001b[39m_get_axis_number(axis)\n",
      "File \u001b[0;32m~/miniconda3/envs/py38/lib/python3.8/site-packages/pandas/core/groupby/grouper.py:985\u001b[0m, in \u001b[0;36mget_grouper\u001b[0;34m(obj, key, axis, level, sort, observed, validate, dropna)\u001b[0m\n\u001b[1;32m    983\u001b[0m         in_axis, level, gpr \u001b[38;5;241m=\u001b[39m \u001b[38;5;28;01mFalse\u001b[39;00m, gpr, \u001b[38;5;28;01mNone\u001b[39;00m\n\u001b[1;32m    984\u001b[0m     \u001b[38;5;28;01melse\u001b[39;00m:\n\u001b[0;32m--> 985\u001b[0m         \u001b[38;5;28;01mraise\u001b[39;00m \u001b[38;5;167;01mKeyError\u001b[39;00m(gpr)\n\u001b[1;32m    986\u001b[0m \u001b[38;5;28;01melif\u001b[39;00m \u001b[38;5;28misinstance\u001b[39m(gpr, Grouper) \u001b[38;5;129;01mand\u001b[39;00m gpr\u001b[38;5;241m.\u001b[39mkey \u001b[38;5;129;01mis\u001b[39;00m \u001b[38;5;129;01mnot\u001b[39;00m \u001b[38;5;28;01mNone\u001b[39;00m:\n\u001b[1;32m    987\u001b[0m     \u001b[38;5;66;03m# Add key to exclusions\u001b[39;00m\n\u001b[1;32m    988\u001b[0m     exclusions\u001b[38;5;241m.\u001b[39madd(gpr\u001b[38;5;241m.\u001b[39mkey)\n",
      "\u001b[0;31mKeyError\u001b[0m: 'switch_start_dttm'"
     ]
    }
   ],
   "source": [
    "condition_on_recprice = df_recprice_prepared.order_type_id == ORDER_TYPE_ID\n",
    "condition_on_orders = df_orders_with_recprice.order_type == ORDER_TYPE\n",
    "condition_on_bids = df_bids_prepared.order_type == ORDER_TYPE\n",
    "\n",
    "df_metrics_total = calculate_absolute_metrics(\n",
    "    df_recprice_prepared[condition_on_recprice].copy(),\n",
    "    df_orders_with_recprice[condition_on_orders].copy(),\n",
    "    df_bids_prepared[condition_on_bids].copy(),\n",
    "    group_cols=['group_name', 'switch_start_dttm', 'switch_finish_dttm'],\n",
    ")\n",
    "\n",
    "metrics_total_tbl = get_switchback_results(df_metrics_total, alpha=0.05)[\n",
    "    ['metric', 'control_value', 'experimental_value', 'uplift_rel', 'pvalue', 'is_significant']\n",
    "]\n",
    "\n",
    "metrics_total_tbl"
   ]
  },
  {
   "cell_type": "code",
   "execution_count": null,
   "metadata": {},
   "outputs": [],
   "source": []
  }
 ],
 "metadata": {
  "kernelspec": {
   "display_name": "py38",
   "language": "python",
   "name": "python3"
  },
  "language_info": {
   "codemirror_mode": {
    "name": "ipython",
    "version": 3
   },
   "file_extension": ".py",
   "mimetype": "text/x-python",
   "name": "python",
   "nbconvert_exporter": "python",
   "pygments_lexer": "ipython3",
   "version": "3.8.19"
  }
 },
 "nbformat": 4,
 "nbformat_minor": 2
}
