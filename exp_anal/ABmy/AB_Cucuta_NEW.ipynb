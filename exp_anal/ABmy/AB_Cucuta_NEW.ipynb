{
 "cells": [
  {
   "cell_type": "markdown",
   "metadata": {},
   "source": [
    "# AB Results: Bad Bids "
   ]
  },
  {
   "cell_type": "code",
   "execution_count": 1,
   "metadata": {},
   "outputs": [],
   "source": [
    "%load_ext autoreload\n",
    "%autoreload 2"
   ]
  },
  {
   "cell_type": "code",
   "execution_count": 2,
   "metadata": {},
   "outputs": [],
   "source": [
    "import pathlib\n",
    "import warnings\n",
    "warnings.filterwarnings(\"ignore\")\n",
    "\n",
    "import pathlib\n",
    "import pandas as pd\n",
    "from pathlib import Path\n",
    "import numpy as np\n",
    "from datetime import timedelta\n",
    "\n",
    "import matplotlib.pyplot as plt\n",
    "import seaborn as sns\n",
    "import plotly.express as px\n",
    "from plotly.subplots import make_subplots\n",
    "import plotly.graph_objects as go\n",
    "import plotly.offline as pyo\n",
    "import mmh3\n",
    "from typing import Dict\n",
    "\n",
    "\n",
    "\n",
    "from src.download_AB import download_experiment_data, download_recprice_data, download_order_data, download_bid_data\n",
    "from src.metrics_AB import calculate_absolute_metrics, get_AB_results, calculate_ratio_metrics\n",
    "from src.prepare import prepare_recprice_data, prepare_order_data, prepare_bid_data, get_orders_with_recprice_df, get_hex\n",
    "from src.visualization import plot_switches_matrix, plot_conversions_by_time, plot_prices_by_time\n",
    "from src.visualization import plot_metric_by_time, plot_metric_by_hex"
   ]
  },
  {
   "cell_type": "markdown",
   "metadata": {},
   "source": [
    "## __Cucuta [-, 4196]__\n",
    "\n",
    "- https://ab.aws.indriverapp.com/switchbacks/new_order/-----"
   ]
  },
  {
   "cell_type": "markdown",
   "metadata": {},
   "source": [
    "### Костыли"
   ]
  },
  {
   "cell_type": "code",
   "execution_count": 3,
   "metadata": {},
   "outputs": [],
   "source": [
    "# salt - рандомная строка длиной 8 хранится в experiment.salt\n",
    "# distribution_map - словарь вида {\"GroupA\": 50, \"Control\": 50}, где сумма значений должна быть 100\n",
    "#  Порядок важен! Control всегда последний\n",
    "def group_name(split_id: str, salt: str, distribution_map: Dict[str, int]):\n",
    "    if sum(distribution_map.values()) != 100:\n",
    "        raise Exception(\"Incorrect distribution\")\n",
    "\n",
    "    if list(distribution_map.keys())[-1] != \"Control\":\n",
    "        raise Exception(\"Last group should be Control\")\n",
    "\n",
    "    if len(salt) != 8:\n",
    "        raise Exception(\"Incorrect salt\")\n",
    "\n",
    "    # Хэш по соль экспа + split_id (id пользователя или девайса)\n",
    "    murmur_hash: int = mmh3.hash(f\"{salt}{split_id}\", 1, False)\n",
    "    reminder = murmur_hash % 100\n",
    "    s = 0\n",
    "    for k, v in distribution_map.items():\n",
    "        s += v\n",
    "        if reminder < s:\n",
    "            return k"
   ]
  },
  {
   "cell_type": "markdown",
   "metadata": {},
   "source": [
    "### Parameters"
   ]
  },
  {
   "cell_type": "markdown",
   "metadata": {},
   "source": [
    "Bad Bids Experiment Specific Parameters"
   ]
  },
  {
   "cell_type": "code",
   "execution_count": 4,
   "metadata": {},
   "outputs": [],
   "source": [
    "t = 244\n",
    "alpha = 0.125"
   ]
  },
  {
   "cell_type": "markdown",
   "metadata": {},
   "source": [
    "Mutable"
   ]
  },
  {
   "cell_type": "code",
   "execution_count": 5,
   "metadata": {},
   "outputs": [],
   "source": [
    "EXP_ID = 2640\n",
    "USER_NAME = 'nusuev_ab'+str(EXP_ID)\n",
    "\n",
    "ORDER_TYPE = 'auto_econom'\n",
    "ORDER_TYPE_ID = 1\n",
    "\n",
    "DAYS_BEFORE = 15"
   ]
  },
  {
   "cell_type": "markdown",
   "metadata": {},
   "source": [
    "Immutable"
   ]
  },
  {
   "cell_type": "code",
   "execution_count": 6,
   "metadata": {},
   "outputs": [],
   "source": [
    "DATA_ROOT_PATH = pathlib.Path(f'data/exp_id={EXP_ID}')\n",
    "if not DATA_ROOT_PATH.exists():\n",
    "    DATA_ROOT_PATH.mkdir(parents=True, exist_ok=True)\n",
    "    \n",
    "\n",
    "PLOT_ROOT_PATH = pathlib.Path(f'data/exp_id={EXP_ID}/plots')\n",
    "if not PLOT_ROOT_PATH.exists():\n",
    "    PLOT_ROOT_PATH.mkdir(parents=True, exist_ok=True)"
   ]
  },
  {
   "cell_type": "markdown",
   "metadata": {},
   "source": [
    "### __Experiment Data__"
   ]
  },
  {
   "cell_type": "markdown",
   "metadata": {},
   "source": [
    "#### Download"
   ]
  },
  {
   "cell_type": "code",
   "execution_count": 7,
   "metadata": {},
   "outputs": [
    {
     "name": "stdout",
     "output_type": "stream",
     "text": [
      "\n",
      "    before_start_date: 2025-02-13\n",
      "    exp_start_date: 2025-02-28\n",
      "    exp_stop_date: 2025-03-28\n",
      "    city_id: 4196\n",
      "    \n"
     ]
    }
   ],
   "source": [
    "df_exp = download_experiment_data(exp_id=EXP_ID, user_name=USER_NAME)\n",
    "\n",
    "# df_exp['hour'] = df_exp['switch_start_dttm'].dt.hour\n",
    "# df_exp['hour'] = df_exp['hour'].astype('category')\n",
    "# df_exp['weekday_name'] = df_exp['switch_start_dttm'].dt.day_name()\n",
    "# df_exp['weekday_name'] = df_exp['weekday_name'].astype('category')\n",
    "\n",
    "df_exp.to_parquet(DATA_ROOT_PATH / 'df_exp.pqt')\n",
    "\n",
    "EXP_START_DATE = df_exp.utc_start_dttm.dt.date.astype('str').iloc[0]\n",
    "EXP_STOP_DATE = df_exp.utc_finish_dttm.dt.date.astype('str').iloc[0]\n",
    "BEFORE_START_DATE = (df_exp.utc_start_dttm.dt.date - timedelta(days=DAYS_BEFORE)).astype('str').iloc[0]\n",
    "CITY_ID = df_exp.city_id.iloc[0]\n",
    "# EXP_NAME = df_exp.exp_name.iloc[0]\n",
    "\n",
    "EXP_SALT = df_exp['exp_salt'].iloc[0]\n",
    "DISTRIBUTION_MAP = {\"GroupA\": 50, \"Control\": 50}\n",
    "\n",
    "print(\n",
    "    f\"\"\"\n",
    "    before_start_date: {BEFORE_START_DATE}\n",
    "    exp_start_date: {EXP_START_DATE}\n",
    "    exp_stop_date: {EXP_STOP_DATE}\n",
    "    city_id: {CITY_ID}\n",
    "    \"\"\"\n",
    ")"
   ]
  },
  {
   "cell_type": "markdown",
   "metadata": {},
   "source": [
    "#### Check Validity"
   ]
  },
  {
   "cell_type": "markdown",
   "metadata": {},
   "source": [
    "Switch Splitting. Total."
   ]
  },
  {
   "cell_type": "code",
   "execution_count": 8,
   "metadata": {},
   "outputs": [
    {
     "data": {
      "text/html": [
       "<div>\n",
       "<style scoped>\n",
       "    .dataframe tbody tr th:only-of-type {\n",
       "        vertical-align: middle;\n",
       "    }\n",
       "\n",
       "    .dataframe tbody tr th {\n",
       "        vertical-align: top;\n",
       "    }\n",
       "\n",
       "    .dataframe thead th {\n",
       "        text-align: right;\n",
       "    }\n",
       "</style>\n",
       "<table border=\"1\" class=\"dataframe\">\n",
       "  <thead>\n",
       "    <tr style=\"text-align: right;\">\n",
       "      <th></th>\n",
       "      <th>exp_id</th>\n",
       "      <th>city_id</th>\n",
       "      <th>multiple_cities</th>\n",
       "      <th>status</th>\n",
       "      <th>utc_start_dttm</th>\n",
       "      <th>utc_finish_dttm</th>\n",
       "      <th>exp_salt</th>\n",
       "      <th>conditions</th>\n",
       "      <th>utc_start_dttm_unix</th>\n",
       "    </tr>\n",
       "  </thead>\n",
       "  <tbody>\n",
       "    <tr>\n",
       "      <th>0</th>\n",
       "      <td>2640</td>\n",
       "      <td>4196</td>\n",
       "      <td>False</td>\n",
       "      <td>completed</td>\n",
       "      <td>2025-02-28 13:15:00+00:00</td>\n",
       "      <td>2025-03-28 13:15:00+00:00</td>\n",
       "      <td>G82FXbXL</td>\n",
       "      <td>{\"and\": [{\"or\": [{\"==\": [{\"var\": \"order_type_i...</td>\n",
       "      <td>1740748500</td>\n",
       "    </tr>\n",
       "  </tbody>\n",
       "</table>\n",
       "</div>"
      ],
      "text/plain": [
       "   exp_id  city_id  multiple_cities     status            utc_start_dttm  \\\n",
       "0    2640     4196            False  completed 2025-02-28 13:15:00+00:00   \n",
       "\n",
       "            utc_finish_dttm  exp_salt  \\\n",
       "0 2025-03-28 13:15:00+00:00  G82FXbXL   \n",
       "\n",
       "                                          conditions  utc_start_dttm_unix  \n",
       "0  {\"and\": [{\"or\": [{\"==\": [{\"var\": \"order_type_i...           1740748500  "
      ]
     },
     "execution_count": 8,
     "metadata": {},
     "output_type": "execute_result"
    }
   ],
   "source": [
    "df_exp"
   ]
  },
  {
   "cell_type": "code",
   "execution_count": 9,
   "metadata": {},
   "outputs": [
    {
     "ename": "KeyError",
     "evalue": "'group_name'",
     "output_type": "error",
     "traceback": [
      "\u001b[0;31m---------------------------------------------------------------------------\u001b[0m",
      "\u001b[0;31mKeyError\u001b[0m                                  Traceback (most recent call last)",
      "Cell \u001b[0;32mIn[9], line 1\u001b[0m\n\u001b[0;32m----> 1\u001b[0m \u001b[43mdf_exp\u001b[49m\u001b[38;5;241;43m.\u001b[39;49m\u001b[43mgroupby\u001b[49m\u001b[43m(\u001b[49m\u001b[38;5;124;43m'\u001b[39;49m\u001b[38;5;124;43mgroup_name\u001b[39;49m\u001b[38;5;124;43m'\u001b[39;49m\u001b[43m)\u001b[49m\u001b[38;5;241m.\u001b[39msize()\n",
      "File \u001b[0;32m~/miniconda3/envs/py38/lib/python3.8/site-packages/pandas/core/frame.py:8252\u001b[0m, in \u001b[0;36mDataFrame.groupby\u001b[0;34m(self, by, axis, level, as_index, sort, group_keys, observed, dropna)\u001b[0m\n\u001b[1;32m   8249\u001b[0m     \u001b[38;5;28;01mraise\u001b[39;00m \u001b[38;5;167;01mTypeError\u001b[39;00m(\u001b[38;5;124m\"\u001b[39m\u001b[38;5;124mYou have to supply one of \u001b[39m\u001b[38;5;124m'\u001b[39m\u001b[38;5;124mby\u001b[39m\u001b[38;5;124m'\u001b[39m\u001b[38;5;124m and \u001b[39m\u001b[38;5;124m'\u001b[39m\u001b[38;5;124mlevel\u001b[39m\u001b[38;5;124m'\u001b[39m\u001b[38;5;124m\"\u001b[39m)\n\u001b[1;32m   8250\u001b[0m axis \u001b[38;5;241m=\u001b[39m \u001b[38;5;28mself\u001b[39m\u001b[38;5;241m.\u001b[39m_get_axis_number(axis)\n\u001b[0;32m-> 8252\u001b[0m \u001b[38;5;28;01mreturn\u001b[39;00m \u001b[43mDataFrameGroupBy\u001b[49m\u001b[43m(\u001b[49m\n\u001b[1;32m   8253\u001b[0m \u001b[43m    \u001b[49m\u001b[43mobj\u001b[49m\u001b[38;5;241;43m=\u001b[39;49m\u001b[38;5;28;43mself\u001b[39;49m\u001b[43m,\u001b[49m\n\u001b[1;32m   8254\u001b[0m \u001b[43m    \u001b[49m\u001b[43mkeys\u001b[49m\u001b[38;5;241;43m=\u001b[39;49m\u001b[43mby\u001b[49m\u001b[43m,\u001b[49m\n\u001b[1;32m   8255\u001b[0m \u001b[43m    \u001b[49m\u001b[43maxis\u001b[49m\u001b[38;5;241;43m=\u001b[39;49m\u001b[43maxis\u001b[49m\u001b[43m,\u001b[49m\n\u001b[1;32m   8256\u001b[0m \u001b[43m    \u001b[49m\u001b[43mlevel\u001b[49m\u001b[38;5;241;43m=\u001b[39;49m\u001b[43mlevel\u001b[49m\u001b[43m,\u001b[49m\n\u001b[1;32m   8257\u001b[0m \u001b[43m    \u001b[49m\u001b[43mas_index\u001b[49m\u001b[38;5;241;43m=\u001b[39;49m\u001b[43mas_index\u001b[49m\u001b[43m,\u001b[49m\n\u001b[1;32m   8258\u001b[0m \u001b[43m    \u001b[49m\u001b[43msort\u001b[49m\u001b[38;5;241;43m=\u001b[39;49m\u001b[43msort\u001b[49m\u001b[43m,\u001b[49m\n\u001b[1;32m   8259\u001b[0m \u001b[43m    \u001b[49m\u001b[43mgroup_keys\u001b[49m\u001b[38;5;241;43m=\u001b[39;49m\u001b[43mgroup_keys\u001b[49m\u001b[43m,\u001b[49m\n\u001b[1;32m   8260\u001b[0m \u001b[43m    \u001b[49m\u001b[43mobserved\u001b[49m\u001b[38;5;241;43m=\u001b[39;49m\u001b[43mobserved\u001b[49m\u001b[43m,\u001b[49m\n\u001b[1;32m   8261\u001b[0m \u001b[43m    \u001b[49m\u001b[43mdropna\u001b[49m\u001b[38;5;241;43m=\u001b[39;49m\u001b[43mdropna\u001b[49m\u001b[43m,\u001b[49m\n\u001b[1;32m   8262\u001b[0m \u001b[43m\u001b[49m\u001b[43m)\u001b[49m\n",
      "File \u001b[0;32m~/miniconda3/envs/py38/lib/python3.8/site-packages/pandas/core/groupby/groupby.py:931\u001b[0m, in \u001b[0;36mGroupBy.__init__\u001b[0;34m(self, obj, keys, axis, level, grouper, exclusions, selection, as_index, sort, group_keys, observed, dropna)\u001b[0m\n\u001b[1;32m    928\u001b[0m \u001b[38;5;28mself\u001b[39m\u001b[38;5;241m.\u001b[39mdropna \u001b[38;5;241m=\u001b[39m dropna\n\u001b[1;32m    930\u001b[0m \u001b[38;5;28;01mif\u001b[39;00m grouper \u001b[38;5;129;01mis\u001b[39;00m \u001b[38;5;28;01mNone\u001b[39;00m:\n\u001b[0;32m--> 931\u001b[0m     grouper, exclusions, obj \u001b[38;5;241m=\u001b[39m \u001b[43mget_grouper\u001b[49m\u001b[43m(\u001b[49m\n\u001b[1;32m    932\u001b[0m \u001b[43m        \u001b[49m\u001b[43mobj\u001b[49m\u001b[43m,\u001b[49m\n\u001b[1;32m    933\u001b[0m \u001b[43m        \u001b[49m\u001b[43mkeys\u001b[49m\u001b[43m,\u001b[49m\n\u001b[1;32m    934\u001b[0m \u001b[43m        \u001b[49m\u001b[43maxis\u001b[49m\u001b[38;5;241;43m=\u001b[39;49m\u001b[43maxis\u001b[49m\u001b[43m,\u001b[49m\n\u001b[1;32m    935\u001b[0m \u001b[43m        \u001b[49m\u001b[43mlevel\u001b[49m\u001b[38;5;241;43m=\u001b[39;49m\u001b[43mlevel\u001b[49m\u001b[43m,\u001b[49m\n\u001b[1;32m    936\u001b[0m \u001b[43m        \u001b[49m\u001b[43msort\u001b[49m\u001b[38;5;241;43m=\u001b[39;49m\u001b[43msort\u001b[49m\u001b[43m,\u001b[49m\n\u001b[1;32m    937\u001b[0m \u001b[43m        \u001b[49m\u001b[43mobserved\u001b[49m\u001b[38;5;241;43m=\u001b[39;49m\u001b[43mobserved\u001b[49m\u001b[43m,\u001b[49m\n\u001b[1;32m    938\u001b[0m \u001b[43m        \u001b[49m\u001b[43mdropna\u001b[49m\u001b[38;5;241;43m=\u001b[39;49m\u001b[38;5;28;43mself\u001b[39;49m\u001b[38;5;241;43m.\u001b[39;49m\u001b[43mdropna\u001b[49m\u001b[43m,\u001b[49m\n\u001b[1;32m    939\u001b[0m \u001b[43m    \u001b[49m\u001b[43m)\u001b[49m\n\u001b[1;32m    941\u001b[0m \u001b[38;5;28mself\u001b[39m\u001b[38;5;241m.\u001b[39mobj \u001b[38;5;241m=\u001b[39m obj\n\u001b[1;32m    942\u001b[0m \u001b[38;5;28mself\u001b[39m\u001b[38;5;241m.\u001b[39maxis \u001b[38;5;241m=\u001b[39m obj\u001b[38;5;241m.\u001b[39m_get_axis_number(axis)\n",
      "File \u001b[0;32m~/miniconda3/envs/py38/lib/python3.8/site-packages/pandas/core/groupby/grouper.py:985\u001b[0m, in \u001b[0;36mget_grouper\u001b[0;34m(obj, key, axis, level, sort, observed, validate, dropna)\u001b[0m\n\u001b[1;32m    983\u001b[0m         in_axis, level, gpr \u001b[38;5;241m=\u001b[39m \u001b[38;5;28;01mFalse\u001b[39;00m, gpr, \u001b[38;5;28;01mNone\u001b[39;00m\n\u001b[1;32m    984\u001b[0m     \u001b[38;5;28;01melse\u001b[39;00m:\n\u001b[0;32m--> 985\u001b[0m         \u001b[38;5;28;01mraise\u001b[39;00m \u001b[38;5;167;01mKeyError\u001b[39;00m(gpr)\n\u001b[1;32m    986\u001b[0m \u001b[38;5;28;01melif\u001b[39;00m \u001b[38;5;28misinstance\u001b[39m(gpr, Grouper) \u001b[38;5;129;01mand\u001b[39;00m gpr\u001b[38;5;241m.\u001b[39mkey \u001b[38;5;129;01mis\u001b[39;00m \u001b[38;5;129;01mnot\u001b[39;00m \u001b[38;5;28;01mNone\u001b[39;00m:\n\u001b[1;32m    987\u001b[0m     \u001b[38;5;66;03m# Add key to exclusions\u001b[39;00m\n\u001b[1;32m    988\u001b[0m     exclusions\u001b[38;5;241m.\u001b[39madd(gpr\u001b[38;5;241m.\u001b[39mkey)\n",
      "\u001b[0;31mKeyError\u001b[0m: 'group_name'"
     ]
    }
   ],
   "source": [
    "df_exp.groupby('group_name').size()"
   ]
  },
  {
   "cell_type": "markdown",
   "metadata": {},
   "source": [
    "### __Metrics Data__"
   ]
  },
  {
   "cell_type": "markdown",
   "metadata": {},
   "source": [
    "#### Recprice"
   ]
  },
  {
   "cell_type": "code",
   "execution_count": 10,
   "metadata": {},
   "outputs": [],
   "source": [
    "df_recprice = download_recprice_data(\n",
    "    start_date=BEFORE_START_DATE,\n",
    "    stop_date=EXP_STOP_DATE,\n",
    "    city_id=CITY_ID,\n",
    "    user_name=USER_NAME,\n",
    "    # printBool=False\n",
    ")\n",
    "\n",
    "# Применяем функцию group_name к каждой строке, используя user_id как split_id\n",
    "df_recprice['recprice_group_name'] = df_recprice.apply(\n",
    "    lambda row: 'Before' if row['utc_recprice_dttm'] < pd.Timestamp(EXP_START_DATE, tz='UTC') \n",
    "    else group_name(row['user_id'], EXP_SALT, DISTRIBUTION_MAP),\n",
    "    axis=1\n",
    ")\n",
    "\n",
    "df_recprice.to_parquet(DATA_ROOT_PATH / 'df_recprice.pqt')"
   ]
  },
  {
   "cell_type": "code",
   "execution_count": 11,
   "metadata": {},
   "outputs": [],
   "source": [
    "df_recprice = pd.read_parquet(DATA_ROOT_PATH / 'df_recprice.pqt')\n",
    "df_recprice_prepared = prepare_recprice_data(df_recprice)\n",
    "df_recprice_prepared.to_parquet(DATA_ROOT_PATH / 'df_recprice_prepared.pqt')"
   ]
  },
  {
   "cell_type": "markdown",
   "metadata": {},
   "source": [
    "#### Bids"
   ]
  },
  {
   "cell_type": "code",
   "execution_count": 12,
   "metadata": {},
   "outputs": [],
   "source": [
    "df_bids = download_bid_data(\n",
    "    start_date=BEFORE_START_DATE,\n",
    "    stop_date=EXP_STOP_DATE,\n",
    "    city_id=CITY_ID,\n",
    "    user_name=USER_NAME,\n",
    "    # printBool=False\n",
    ")\n",
    "\n",
    "# Применяем функцию group_name к каждой строке, используя user_id как split_id\n",
    "df_bids['bid_group_name'] = df_bids.apply(\n",
    "    lambda row: 'Before' if row['utc_order_dttm'] < pd.Timestamp(EXP_START_DATE, tz='UTC') \n",
    "    else group_name(row['user_id'], EXP_SALT, DISTRIBUTION_MAP),\n",
    "    axis=1\n",
    ")\n",
    "\n",
    "df_bids.to_parquet(DATA_ROOT_PATH / 'df_bids.pqt')"
   ]
  },
  {
   "cell_type": "code",
   "execution_count": 13,
   "metadata": {},
   "outputs": [],
   "source": [
    "df_bids = pd.read_parquet(DATA_ROOT_PATH / 'df_bids.pqt')\n",
    "df_bids_prepared = prepare_bid_data(df_bids)\n",
    "df_bids_prepared.to_parquet(DATA_ROOT_PATH / 'df_bids_prepared.pqt')"
   ]
  },
  {
   "cell_type": "markdown",
   "metadata": {},
   "source": [
    "#### Orders (with recprice)"
   ]
  },
  {
   "cell_type": "code",
   "execution_count": 14,
   "metadata": {},
   "outputs": [],
   "source": [
    "df_orders = download_order_data(\n",
    "    start_date=BEFORE_START_DATE,\n",
    "    stop_date=EXP_STOP_DATE,\n",
    "    city_id=CITY_ID,\n",
    "    user_name=USER_NAME,\n",
    "    # printBool=False\n",
    ")\n",
    "\n",
    "# Применяем функцию group_name к каждой строке, используя user_id как split_id\n",
    "df_orders['order_group_name'] = df_orders.apply(\n",
    "    lambda row: 'Before' if row['utc_order_dttm'] < pd.Timestamp(EXP_START_DATE, tz='UTC') \n",
    "    else group_name(row['user_id'], EXP_SALT, DISTRIBUTION_MAP),\n",
    "    axis=1\n",
    ")\n",
    "\n",
    "df_orders.to_parquet(DATA_ROOT_PATH / 'df_orders.pqt')"
   ]
  },
  {
   "cell_type": "code",
   "execution_count": 15,
   "metadata": {},
   "outputs": [],
   "source": [
    "df_orders = pd.read_parquet(DATA_ROOT_PATH / 'df_orders.pqt')\n",
    "df_orders_prepared = prepare_order_data(df_orders)\n",
    "df_orders_prepared.to_parquet(DATA_ROOT_PATH / 'df_orders_prepared.pqt')"
   ]
  },
  {
   "cell_type": "code",
   "execution_count": 16,
   "metadata": {},
   "outputs": [
    {
     "name": "stdout",
     "output_type": "stream",
     "text": [
      "только уникальные ордера? – True\n",
      "доля оставшихся ордеров: 0.9697\n"
     ]
    }
   ],
   "source": [
    "df_orders_with_recprice = get_orders_with_recprice_df(df_orders_prepared, df_recprice_prepared)\n",
    "df_orders_with_recprice['group_name'] = df_orders_with_recprice['recprice_group_name']\n",
    "df_orders_with_recprice.to_parquet(DATA_ROOT_PATH / 'df_orders_with_recprice.pqt')"
   ]
  },
  {
   "cell_type": "markdown",
   "metadata": {},
   "source": [
    "### __Results__"
   ]
  },
  {
   "cell_type": "markdown",
   "metadata": {},
   "source": [
    "#### Get Data"
   ]
  },
  {
   "cell_type": "code",
   "execution_count": 17,
   "metadata": {},
   "outputs": [],
   "source": [
    "try:\n",
    "    del df_recprice_prepared, df_orders_with_recprice, df_bids_prepared\n",
    "    del df_recprice, df_orders, df_bids\n",
    "except:\n",
    "    pass\n",
    "\n",
    "df_recprice_prepared = pd.read_parquet(DATA_ROOT_PATH / 'df_recprice_prepared.pqt')\n",
    "df_orders_with_recprice = pd.read_parquet(DATA_ROOT_PATH / 'df_orders_with_recprice.pqt')\n",
    "df_bids_prepared = pd.read_parquet(DATA_ROOT_PATH / 'df_bids_prepared.pqt')"
   ]
  },
  {
   "cell_type": "markdown",
   "metadata": {},
   "source": [
    "#### Total Results"
   ]
  },
  {
   "cell_type": "code",
   "execution_count": 18,
   "metadata": {},
   "outputs": [
    {
     "data": {
      "text/html": [
       "<div>\n",
       "<style scoped>\n",
       "    .dataframe tbody tr th:only-of-type {\n",
       "        vertical-align: middle;\n",
       "    }\n",
       "\n",
       "    .dataframe tbody tr th {\n",
       "        vertical-align: top;\n",
       "    }\n",
       "\n",
       "    .dataframe thead th {\n",
       "        text-align: right;\n",
       "    }\n",
       "</style>\n",
       "<table border=\"1\" class=\"dataframe\">\n",
       "  <thead>\n",
       "    <tr style=\"text-align: right;\">\n",
       "      <th></th>\n",
       "      <th>metric</th>\n",
       "      <th>control_value</th>\n",
       "      <th>experimental_value</th>\n",
       "      <th>uplift_rel</th>\n",
       "      <th>pvalue</th>\n",
       "      <th>is_significant</th>\n",
       "    </tr>\n",
       "  </thead>\n",
       "  <tbody>\n",
       "    <tr>\n",
       "      <th>0</th>\n",
       "      <td>drivers_per_order</td>\n",
       "      <td>2.158959</td>\n",
       "      <td>2.156357</td>\n",
       "      <td>-0.001205</td>\n",
       "      <td>0.503646</td>\n",
       "      <td>False</td>\n",
       "    </tr>\n",
       "    <tr>\n",
       "      <th>1</th>\n",
       "      <td>bids_per_order</td>\n",
       "      <td>2.513711</td>\n",
       "      <td>2.517022</td>\n",
       "      <td>0.001317</td>\n",
       "      <td>0.547782</td>\n",
       "      <td>False</td>\n",
       "    </tr>\n",
       "    <tr>\n",
       "      <th>2</th>\n",
       "      <td>bids_per_driver</td>\n",
       "      <td>1.164317</td>\n",
       "      <td>1.167256</td>\n",
       "      <td>0.002525</td>\n",
       "      <td>0.007658</td>\n",
       "      <td>True</td>\n",
       "    </tr>\n",
       "    <tr>\n",
       "      <th>3</th>\n",
       "      <td>bids_per_order_with_bid</td>\n",
       "      <td>2.772797</td>\n",
       "      <td>2.780240</td>\n",
       "      <td>0.002684</td>\n",
       "      <td>0.194284</td>\n",
       "      <td>False</td>\n",
       "    </tr>\n",
       "    <tr>\n",
       "      <th>4</th>\n",
       "      <td>bids_per_done_order</td>\n",
       "      <td>2.645025</td>\n",
       "      <td>2.648241</td>\n",
       "      <td>0.001216</td>\n",
       "      <td>0.604742</td>\n",
       "      <td>False</td>\n",
       "    </tr>\n",
       "  </tbody>\n",
       "</table>\n",
       "</div>"
      ],
      "text/plain": [
       "                    metric  control_value  experimental_value  uplift_rel  \\\n",
       "0        drivers_per_order       2.158959            2.156357   -0.001205   \n",
       "1           bids_per_order       2.513711            2.517022    0.001317   \n",
       "2          bids_per_driver       1.164317            1.167256    0.002525   \n",
       "3  bids_per_order_with_bid       2.772797            2.780240    0.002684   \n",
       "4      bids_per_done_order       2.645025            2.648241    0.001216   \n",
       "\n",
       "     pvalue  is_significant  \n",
       "0  0.503646           False  \n",
       "1  0.547782           False  \n",
       "2  0.007658            True  \n",
       "3  0.194284           False  \n",
       "4  0.604742           False  "
      ]
     },
     "execution_count": 18,
     "metadata": {},
     "output_type": "execute_result"
    }
   ],
   "source": [
    "pd.reset_option('display.max_rows')\n",
    "\n",
    "df_metrics_total = calculate_absolute_metrics(\n",
    "    df_recprice_prepared,\n",
    "    df_orders_with_recprice,\n",
    "    df_bids_prepared,\n",
    "    group_cols=['group_name', 'order_uuid'],\n",
    ")\n",
    "\n",
    "metrics_total_tbl = get_AB_results(df_metrics_total, alpha=0.05)[\n",
    "    ['metric', 'control_value', 'experimental_value', 'uplift_rel', 'pvalue', 'is_significant']\n",
    "]\n",
    "\n",
    "metrics_total_tbl.head()"
   ]
  },
  {
   "cell_type": "code",
   "execution_count": 24,
   "metadata": {},
   "outputs": [
    {
     "data": {
      "text/html": [
       "<div>\n",
       "<style scoped>\n",
       "    .dataframe tbody tr th:only-of-type {\n",
       "        vertical-align: middle;\n",
       "    }\n",
       "\n",
       "    .dataframe tbody tr th {\n",
       "        vertical-align: top;\n",
       "    }\n",
       "\n",
       "    .dataframe thead th {\n",
       "        text-align: right;\n",
       "    }\n",
       "</style>\n",
       "<table border=\"1\" class=\"dataframe\">\n",
       "  <thead>\n",
       "    <tr style=\"text-align: right;\">\n",
       "      <th></th>\n",
       "      <th>metric</th>\n",
       "      <th>control_value</th>\n",
       "      <th>experimental_value</th>\n",
       "      <th>uplift_rel</th>\n",
       "      <th>pvalue</th>\n",
       "      <th>is_significant</th>\n",
       "    </tr>\n",
       "  </thead>\n",
       "  <tbody>\n",
       "    <tr>\n",
       "      <th>0</th>\n",
       "      <td>drivers_per_order</td>\n",
       "      <td>2.173707</td>\n",
       "      <td>2.171585</td>\n",
       "      <td>-0.000976</td>\n",
       "      <td>0.611214</td>\n",
       "      <td>False</td>\n",
       "    </tr>\n",
       "    <tr>\n",
       "      <th>1</th>\n",
       "      <td>bids_per_order</td>\n",
       "      <td>2.540495</td>\n",
       "      <td>2.543543</td>\n",
       "      <td>0.001200</td>\n",
       "      <td>0.609009</td>\n",
       "      <td>False</td>\n",
       "    </tr>\n",
       "    <tr>\n",
       "      <th>2</th>\n",
       "      <td>bids_per_driver</td>\n",
       "      <td>1.168738</td>\n",
       "      <td>1.171284</td>\n",
       "      <td>0.002178</td>\n",
       "      <td>0.031988</td>\n",
       "      <td>True</td>\n",
       "    </tr>\n",
       "    <tr>\n",
       "      <th>3</th>\n",
       "      <td>bids_per_order_with_bid</td>\n",
       "      <td>2.787510</td>\n",
       "      <td>2.796225</td>\n",
       "      <td>0.003127</td>\n",
       "      <td>0.159371</td>\n",
       "      <td>False</td>\n",
       "    </tr>\n",
       "    <tr>\n",
       "      <th>4</th>\n",
       "      <td>bids_per_done_order</td>\n",
       "      <td>2.652990</td>\n",
       "      <td>2.658433</td>\n",
       "      <td>0.002052</td>\n",
       "      <td>0.415397</td>\n",
       "      <td>False</td>\n",
       "    </tr>\n",
       "  </tbody>\n",
       "</table>\n",
       "</div>"
      ],
      "text/plain": [
       "                    metric  control_value  experimental_value  uplift_rel  \\\n",
       "0        drivers_per_order       2.173707            2.171585   -0.000976   \n",
       "1           bids_per_order       2.540495            2.543543    0.001200   \n",
       "2          bids_per_driver       1.168738            1.171284    0.002178   \n",
       "3  bids_per_order_with_bid       2.787510            2.796225    0.003127   \n",
       "4      bids_per_done_order       2.652990            2.658433    0.002052   \n",
       "\n",
       "     pvalue  is_significant  \n",
       "0  0.611214           False  \n",
       "1  0.609009           False  \n",
       "2  0.031988            True  \n",
       "3  0.159371           False  \n",
       "4  0.415397           False  "
      ]
     },
     "execution_count": 24,
     "metadata": {},
     "output_type": "execute_result"
    }
   ],
   "source": [
    "condition_on_recprice = df_recprice_prepared.order_type_id == ORDER_TYPE_ID\n",
    "condition_on_orders = df_orders_with_recprice.order_type == ORDER_TYPE\n",
    "condition_on_bids = df_bids_prepared.order_type == ORDER_TYPE\n",
    "\n",
    "pd.reset_option('display.max_rows')\n",
    "\n",
    "df_metrics_total = calculate_absolute_metrics(\n",
    "    df_recprice_prepared[condition_on_recprice].copy(),\n",
    "    df_orders_with_recprice[condition_on_orders].copy(),\n",
    "    df_bids_prepared[condition_on_bids].copy(),\n",
    "    group_cols=['group_name', 'order_uuid'],\n",
    ")\n",
    "\n",
    "metrics_total_tbl = get_AB_results(df_metrics_total, alpha=0.05)[\n",
    "    ['metric', 'control_value', 'experimental_value', 'uplift_rel', 'pvalue', 'is_significant']\n",
    "]\n",
    "\n",
    "metrics_total_tbl.head()"
   ]
  },
  {
   "cell_type": "code",
   "execution_count": null,
   "metadata": {},
   "outputs": [],
   "source": [
    "plot_normalized_distributions(df_metrics_grouped, \n",
    "                              plot_root_path=PLOT_ROOT_PATH,\n",
    "                              is_before=True,\n",
    "                              is_show=True,)"
   ]
  },
  {
   "cell_type": "code",
   "execution_count": null,
   "metadata": {},
   "outputs": [],
   "source": [
    "condition_on_recprice = df_recprice_prepared.order_type_id == ORDER_TYPE_ID\n",
    "condition_on_orders = df_orders_with_recprice.order_type == ORDER_TYPE\n",
    "condition_on_bids = df_bids_prepared.order_type == ORDER_TYPE\n",
    "\n",
    "# Calculate Absolute Metrics\n",
    "df_metrics_grouped = calculate_absolute_metrics(\n",
    "    df_recprice_prepared[condition_on_recprice].copy(),\n",
    "    df_orders_with_recprice[condition_on_orders].copy(),\n",
    "    df_bids_prepared[condition_on_bids].copy(),\n",
    "    group_cols=GROUP_COLS,\n",
    ")\n",
    "\n",
    "# Calculate Ratio Metrics\n",
    "df_metrics_grouped = calculate_ratio_metrics(df_metrics_grouped)"
   ]
  },
  {
   "cell_type": "code",
   "execution_count": null,
   "metadata": {},
   "outputs": [],
   "source": [
    "plot_normalized_distributions(df_metrics_grouped, \n",
    "                              plot_root_path=PLOT_ROOT_PATH,\n",
    "                              is_before=True,\n",
    "                              is_show=True,)"
   ]
  },
  {
   "cell_type": "code",
   "execution_count": null,
   "metadata": {},
   "outputs": [],
   "source": [
    "condition_on_recprice = df_recprice_prepared.order_type_id == ORDER_TYPE_ID\n",
    "condition_on_orders = df_orders_with_recprice.order_type == ORDER_TYPE\n",
    "condition_on_bids = df_bids_prepared.order_type == ORDER_TYPE\n",
    "\n",
    "# Calculate Absolute Metrics\n",
    "df_metrics_grouped = calculate_absolute_metrics(\n",
    "    df_recprice_prepared[condition_on_recprice].copy(),\n",
    "    df_orders_with_recprice[condition_on_orders].copy(),\n",
    "    df_bids_prepared[condition_on_bids].copy(),\n",
    "    group_cols=GROUP_COLS,\n",
    ")\n",
    "\n",
    "# Calculate Ratio Metrics\n",
    "df_metrics_grouped = calculate_ratio_metrics(df_metrics_grouped)"
   ]
  },
  {
   "cell_type": "code",
   "execution_count": null,
   "metadata": {},
   "outputs": [],
   "source": [
    "plot_normalized_distributions(df_metrics_grouped, \n",
    "                              plot_root_path=PLOT_ROOT_PATH,\n",
    "                              is_before=True,\n",
    "                              is_show=True,)"
   ]
  },
  {
   "cell_type": "markdown",
   "metadata": {},
   "source": [
    "#### Results by Segment"
   ]
  },
  {
   "cell_type": "code",
   "execution_count": 19,
   "metadata": {},
   "outputs": [],
   "source": [
    "condition_on_recprice = df_recprice_prepared.order_type_id == ORDER_TYPE_ID\n",
    "condition_on_orders = df_orders_with_recprice.order_type == ORDER_TYPE\n",
    "condition_on_bids = df_bids_prepared.order_type == ORDER_TYPE"
   ]
  },
  {
   "cell_type": "code",
   "execution_count": null,
   "metadata": {},
   "outputs": [],
   "source": [
    "pd.set_option('display.max_rows', None)\n",
    "\n",
    "df_metrics_total = calculate_absolute_metrics(\n",
    "    df_recprice_prepared[condition_on_recprice].copy(),\n",
    "    df_orders_with_recprice[condition_on_orders].copy(),\n",
    "    df_bids_prepared[condition_on_bids].copy(),\n",
    "    group_cols=['group_name', 'switch_start_dttm', 'switch_finish_dttm'],\n",
    ")\n",
    "\n",
    "metrics_total_tbl = get_switchback_results(df_metrics_total, alpha=0.05)[\n",
    "    ['metric', 'control_value', 'experimental_value', 'uplift_rel', 'pvalue', 'is_significant']\n",
    "]\n",
    "\n",
    "metrics_total_tbl.to_csv(DATA_ROOT_PATH / 'metrics_total_tbl.csv', index=False)\n",
    "print(f\"\"\"csv file saved to {DATA_ROOT_PATH / 'metrics_total_tbl.csv'}\"\"\")\n",
    "metrics_total_tbl"
   ]
  },
  {
   "cell_type": "markdown",
   "metadata": {},
   "source": [
    "#### __Plots__"
   ]
  },
  {
   "cell_type": "markdown",
   "metadata": {},
   "source": [
    "##### Heatmap of the Algorithm"
   ]
  },
  {
   "cell_type": "markdown",
   "metadata": {},
   "source": [
    "Prepare Data"
   ]
  },
  {
   "cell_type": "code",
   "execution_count": null,
   "metadata": {},
   "outputs": [],
   "source": [
    "df_bids_filtered = df_bids_prepared.dropna(\n",
    "    subset=['eta', 'duration_in_min', 'price_highrate_value', 'price_start_value', 'available_prices_currency']\n",
    ")\n",
    "df_bids_filtered = add_algo_name_new(df_bids_filtered, t, alpha)"
   ]
  },
  {
   "cell_type": "markdown",
   "metadata": {},
   "source": [
    "Check Validity"
   ]
  },
  {
   "cell_type": "code",
   "execution_count": null,
   "metadata": {},
   "outputs": [],
   "source": [
    "# Создаем три разных подсчета\n",
    "total_counts = df_bids_filtered.groupby('group_name').size()\n",
    "mph_counts = df_bids_filtered[df_bids_filtered['bidding_algorithm_name'] == 'bid_mph'].groupby('group_name').size()\n",
    "algo_mph_counts = df_bids_filtered[df_bids_filtered['algo_name_new'] == 'algo_bid_mph'].groupby('group_name').size()\n",
    "\n",
    "# Объединяем результаты в один датафрейм\n",
    "result = pd.DataFrame({\n",
    "    'Всего строк': total_counts,\n",
    "    'Строк bid_mph': mph_counts,\n",
    "    'Строк algo_bid_mph': algo_mph_counts\n",
    "})\n",
    "\n",
    "# Заполняем NaN нулями, если какие-то группы не имеют значений\n",
    "result = result.fillna(0).astype(int)\n",
    "\n",
    "# Сортируем по общему количеству строк\n",
    "result = result.sort_values('Всего строк', ascending=False)\n",
    "\n",
    "print(\"Распределение по group_name:\")\n",
    "print(result)\n",
    "\n",
    "# Добавим итоговую строку\n",
    "print(\"\\nИтого:\")\n",
    "print(result.sum())\n",
    "\n",
    "del total_counts, mph_counts, algo_mph_counts, result"
   ]
  },
  {
   "cell_type": "markdown",
   "metadata": {},
   "source": [
    "Heatmap"
   ]
  },
  {
   "cell_type": "code",
   "execution_count": null,
   "metadata": {},
   "outputs": [],
   "source": [
    "condition_on_bids = df_bids_filtered.order_type == ORDER_TYPE\n",
    "plot_algo_heatmap(df_bids_filtered[condition_on_bids].copy(), min_samples=20)  # показать только бины с 20+ записями"
   ]
  },
  {
   "cell_type": "markdown",
   "metadata": {},
   "source": [
    "##### Time Series"
   ]
  },
  {
   "cell_type": "markdown",
   "metadata": {},
   "source": [
    "Get Data"
   ]
  },
  {
   "cell_type": "code",
   "execution_count": null,
   "metadata": {},
   "outputs": [],
   "source": [
    "GROUP_COLS = ['group_name', 'time']"
   ]
  },
  {
   "cell_type": "code",
   "execution_count": null,
   "metadata": {},
   "outputs": [],
   "source": [
    "condition_on_recprice = df_recprice_prepared.order_type_id == ORDER_TYPE_ID\n",
    "condition_on_orders = df_orders_with_recprice.order_type == ORDER_TYPE\n",
    "condition_on_bids = df_bids_prepared.order_type == ORDER_TYPE\n",
    "\n",
    "# Calculate Absolute Metrics\n",
    "df_metrics_grouped = calculate_absolute_metrics(\n",
    "    df_recprice_prepared[condition_on_recprice].copy(),\n",
    "    df_orders_with_recprice[condition_on_orders].copy(),\n",
    "    df_bids_prepared[condition_on_bids].copy(),\n",
    "    group_cols=GROUP_COLS,\n",
    ")\n",
    "\n",
    "# Calculate Ratio Metrics\n",
    "df_metrics_grouped = calculate_ratio_metrics(df_metrics_grouped)"
   ]
  },
  {
   "cell_type": "markdown",
   "metadata": {},
   "source": [
    "Conversions"
   ]
  },
  {
   "cell_type": "code",
   "execution_count": null,
   "metadata": {},
   "outputs": [],
   "source": [
    "plot_conversions_by_time(\n",
    "    df_metrics_grouped,\n",
    "    grouped_column='time',\n",
    "    plot_root_path=PLOT_ROOT_PATH,\n",
    "    is_before=True,\n",
    "    is_show=True,\n",
    ")"
   ]
  },
  {
   "cell_type": "markdown",
   "metadata": {},
   "source": [
    "Prices"
   ]
  },
  {
   "cell_type": "code",
   "execution_count": null,
   "metadata": {},
   "outputs": [],
   "source": [
    "plot_prices_by_time(\n",
    "    df_metrics_grouped,\n",
    "    grouped_column='time',\n",
    "    plot_root_path=PLOT_ROOT_PATH,\n",
    "    is_before=True,\n",
    "    is_show=True,\n",
    ")"
   ]
  },
  {
   "cell_type": "markdown",
   "metadata": {},
   "source": [
    "Times"
   ]
  },
  {
   "cell_type": "code",
   "execution_count": null,
   "metadata": {},
   "outputs": [],
   "source": [
    "plot_times_by_time(\n",
    "    df_metrics_grouped,\n",
    "    grouped_column='time',\n",
    "    plot_root_path=PLOT_ROOT_PATH,\n",
    "    is_before=True,\n",
    "    is_show=True\n",
    ")"
   ]
  },
  {
   "cell_type": "markdown",
   "metadata": {},
   "source": [
    "#### Results by Duration"
   ]
  },
  {
   "cell_type": "code",
   "execution_count": null,
   "metadata": {},
   "outputs": [],
   "source": [
    "print(f\"\"\"Included ETA: {t}sec\"\"\")"
   ]
  },
  {
   "cell_type": "code",
   "execution_count": 31,
   "metadata": {},
   "outputs": [],
   "source": [
    "condition_on_recprice = (df_recprice_prepared.order_type_id == ORDER_TYPE_ID) & (df_recprice_prepared.log_duration_in_min <= t/60)\n",
    "condition_on_orders = (df_orders_with_recprice.order_type == ORDER_TYPE) & (df_orders_with_recprice.log_duration_in_min <= t/60)\n",
    "condition_on_bids = (df_bids_prepared.order_type == ORDER_TYPE) & (df_bids_prepared.duration_in_min <= t/60)"
   ]
  },
  {
   "cell_type": "code",
   "execution_count": null,
   "metadata": {},
   "outputs": [],
   "source": [
    "pd.set_option('display.max_rows', None)\n",
    "\n",
    "df_metrics_total = calculate_absolute_metrics(\n",
    "    df_recprice_prepared[condition_on_recprice].copy(),\n",
    "    df_orders_with_recprice[condition_on_orders].copy(),\n",
    "    df_bids_prepared[condition_on_bids].copy(),\n",
    "    group_cols=['group_name', 'switch_start_dttm', 'switch_finish_dttm'],\n",
    ")\n",
    "\n",
    "metrics_total_tbl = get_switchback_results(df_metrics_total, alpha=0.05)[\n",
    "    ['metric', 'control_value', 'experimental_value', 'uplift_rel', 'pvalue', 'is_significant']\n",
    "]\n",
    "\n",
    "metrics_total_tbl.to_csv(DATA_ROOT_PATH / 'metrics_total_tbl.csv', index=False)\n",
    "print(f\"\"\"csv file saved to {DATA_ROOT_PATH / 'metrics_total_tbl.csv'}\"\"\")\n",
    "metrics_total_tbl"
   ]
  },
  {
   "cell_type": "markdown",
   "metadata": {},
   "source": [
    "#### __Plots__"
   ]
  },
  {
   "cell_type": "markdown",
   "metadata": {},
   "source": [
    "##### Time Series"
   ]
  },
  {
   "cell_type": "markdown",
   "metadata": {},
   "source": [
    "Get Data"
   ]
  },
  {
   "cell_type": "code",
   "execution_count": 37,
   "metadata": {},
   "outputs": [],
   "source": [
    "GROUP_COLS = ['group_name', 'time']"
   ]
  },
  {
   "cell_type": "code",
   "execution_count": 38,
   "metadata": {},
   "outputs": [],
   "source": [
    "condition_on_recprice = (df_recprice_prepared.order_type_id == ORDER_TYPE_ID) & (df_recprice_prepared.log_duration_in_min <= t/60)\n",
    "condition_on_orders = (df_orders_with_recprice.order_type == ORDER_TYPE) & (df_orders_with_recprice.log_duration_in_min <= t/60)\n",
    "condition_on_bids = (df_bids_prepared.order_type == ORDER_TYPE) & (df_bids_prepared.duration_in_min <= t/60)\n",
    "\n",
    "# Calculate Absolute Metrics\n",
    "df_metrics_grouped = calculate_absolute_metrics(\n",
    "    df_recprice_prepared[condition_on_recprice].copy(),\n",
    "    df_orders_with_recprice[condition_on_orders].copy(),\n",
    "    df_bids_prepared[condition_on_bids].copy(),\n",
    "    group_cols=GROUP_COLS,\n",
    ")\n",
    "\n",
    "# Calculate Ratio Metrics\n",
    "df_metrics_grouped = calculate_ratio_metrics(df_metrics_grouped)"
   ]
  },
  {
   "cell_type": "markdown",
   "metadata": {},
   "source": [
    "Conversions"
   ]
  },
  {
   "cell_type": "code",
   "execution_count": null,
   "metadata": {},
   "outputs": [],
   "source": [
    "plot_conversions_by_time(\n",
    "    df_metrics_grouped,\n",
    "    grouped_column='time',\n",
    "    plot_root_path=PLOT_ROOT_PATH,\n",
    "    is_before=True,\n",
    "    is_show=True,\n",
    ")"
   ]
  },
  {
   "cell_type": "markdown",
   "metadata": {},
   "source": [
    "Prices"
   ]
  },
  {
   "cell_type": "code",
   "execution_count": null,
   "metadata": {},
   "outputs": [],
   "source": [
    "plot_prices_by_time(\n",
    "    df_metrics_grouped,\n",
    "    grouped_column='time',\n",
    "    plot_root_path=PLOT_ROOT_PATH,\n",
    "    is_before=True,\n",
    "    is_show=True,\n",
    ")"
   ]
  },
  {
   "cell_type": "markdown",
   "metadata": {},
   "source": [
    "Times"
   ]
  },
  {
   "cell_type": "code",
   "execution_count": null,
   "metadata": {},
   "outputs": [],
   "source": [
    "plot_times_by_time(\n",
    "    df_metrics_grouped,\n",
    "    grouped_column='time',\n",
    "    plot_root_path=PLOT_ROOT_PATH,\n",
    "    is_before=True,\n",
    "    is_show=True\n",
    ")"
   ]
  },
  {
   "cell_type": "markdown",
   "metadata": {},
   "source": [
    "# Foot note"
   ]
  },
  {
   "cell_type": "code",
   "execution_count": null,
   "metadata": {},
   "outputs": [],
   "source": []
  }
 ],
 "metadata": {
  "kernelspec": {
   "display_name": "py38",
   "language": "python",
   "name": "python3"
  },
  "language_info": {
   "codemirror_mode": {
    "name": "ipython",
    "version": 3
   },
   "file_extension": ".py",
   "mimetype": "text/x-python",
   "name": "python",
   "nbconvert_exporter": "python",
   "pygments_lexer": "ipython3",
   "version": "3.8.19"
  }
 },
 "nbformat": 4,
 "nbformat_minor": 2
}
