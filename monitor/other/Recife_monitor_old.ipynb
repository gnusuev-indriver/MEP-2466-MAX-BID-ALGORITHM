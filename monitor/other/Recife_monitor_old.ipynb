{
 "cells": [
  {
   "cell_type": "markdown",
   "metadata": {},
   "source": [
    "# BidMPH v2 Monitor <br> Recife"
   ]
  },
  {
   "cell_type": "markdown",
   "metadata": {},
   "source": [
    "## Imports"
   ]
  },
  {
   "cell_type": "code",
   "execution_count": 34,
   "metadata": {},
   "outputs": [
    {
     "name": "stdout",
     "output_type": "stream",
     "text": [
      "The autoreload extension is already loaded. To reload it, use:\n",
      "  %reload_ext autoreload\n"
     ]
    }
   ],
   "source": [
    "%load_ext autoreload\n",
    "%autoreload 2"
   ]
  },
  {
   "cell_type": "code",
   "execution_count": 35,
   "metadata": {},
   "outputs": [],
   "source": [
    "import pprint\n",
    "import pathlib\n",
    "import numpy as np\n",
    "import pandas as pd\n",
    "import matplotlib.pyplot as plt\n",
    "from src.download import download_bid_data_1, download_bid_data\n",
    "from src.calculations import share_bidding_algorithm, share_bid_price_matches, share_available_prices_length, share_bid_price_matches_by_len"
   ]
  },
  {
   "cell_type": "markdown",
   "metadata": {},
   "source": [
    "## Parameters"
   ]
  },
  {
   "cell_type": "code",
   "execution_count": 36,
   "metadata": {},
   "outputs": [],
   "source": [
    "CITY_ID = 4373"
   ]
  },
  {
   "cell_type": "code",
   "execution_count": 37,
   "metadata": {},
   "outputs": [],
   "source": [
    "DATA_ROOT_PATH = pathlib.Path(f'data/city_id={CITY_ID}')\n",
    "if not DATA_ROOT_PATH.exists():\n",
    "    DATA_ROOT_PATH.mkdir(parents=True, exist_ok=True)"
   ]
  },
  {
   "cell_type": "markdown",
   "metadata": {},
   "source": [
    "## Downlaoad"
   ]
  },
  {
   "cell_type": "markdown",
   "metadata": {},
   "source": [
    "total"
   ]
  },
  {
   "cell_type": "code",
   "execution_count": 38,
   "metadata": {},
   "outputs": [
    {
     "name": "stdout",
     "output_type": "stream",
     "text": [
      "df_total saved as recife_total_bids.csv\n"
     ]
    }
   ],
   "source": [
    "df_total = download_bid_data_1('2025-02-28', '2025-06-20', 4373, printBool=False)\n",
    "df_total.to_csv(DATA_ROOT_PATH / 'recife_total_bids.csv', index=False)\n",
    "print('df_total saved as recife_total_bids.csv')"
   ]
  },
  {
   "cell_type": "markdown",
   "metadata": {},
   "source": [
    "df0 ('Before')"
   ]
  },
  {
   "cell_type": "code",
   "execution_count": 39,
   "metadata": {},
   "outputs": [
    {
     "name": "stdout",
     "output_type": "stream",
     "text": [
      "From 2025-02-28 00:00:08+00:00 \n",
      " to 2025-03-28 23:59:59+00:00\n",
      "df0 saved as recife_old_bids.csv\n"
     ]
    }
   ],
   "source": [
    "df0 = download_bid_data('2025-02-28', '2025-03-28', 4373, printBool=False)\n",
    "df0.to_csv(DATA_ROOT_PATH / 'recife_old_bids.csv', index=False)\n",
    "print(\n",
    "    'From', df0['utc_bid_dttm'].min(), \n",
    "    '\\n to', df0['utc_bid_dttm'].max()\n",
    ")\n",
    "print('df0 saved as recife_old_bids.csv')"
   ]
  },
  {
   "cell_type": "markdown",
   "metadata": {},
   "source": [
    "df1 ('Test')"
   ]
  },
  {
   "cell_type": "code",
   "execution_count": 40,
   "metadata": {},
   "outputs": [
    {
     "name": "stdout",
     "output_type": "stream",
     "text": [
      "From 2025-05-05 00:00:08+00:00 \n",
      " to 2025-05-22 07:53:43+00:00\n",
      "df1 saved as recife_df1.csv\n"
     ]
    }
   ],
   "source": [
    "df1 = download_bid_data('2025-05-05', '2025-06-20', 4373, printBool=False)\n",
    "df1.to_csv(DATA_ROOT_PATH / 'recife_df1.csv', index=False)\n",
    "print(\n",
    "    'From', df1['utc_bid_dttm'].min(), \n",
    "    '\\n to', df1['utc_bid_dttm'].max()\n",
    ")\n",
    "print('df1 saved as recife_df1.csv')"
   ]
  },
  {
   "cell_type": "markdown",
   "metadata": {},
   "source": [
    "## Process Data"
   ]
  },
  {
   "cell_type": "code",
   "execution_count": 41,
   "metadata": {},
   "outputs": [],
   "source": [
    "def parse_prices(s):\n",
    "    if isinstance(s, str) and s.startswith('[') and s.endswith(']'):\n",
    "        items = s.strip('[]').split()\n",
    "        return [float(item) for item in items] if items and items[0] != '' else []\n",
    "    else:\n",
    "        return []  # для None или некорректных значений"
   ]
  },
  {
   "cell_type": "markdown",
   "metadata": {},
   "source": [
    "total"
   ]
  },
  {
   "cell_type": "code",
   "execution_count": 42,
   "metadata": {},
   "outputs": [],
   "source": [
    "df_total = pd.read_csv(DATA_ROOT_PATH / 'recife_total_bids.csv')\n",
    "\n",
    "df_total = df_total[df_total['order_type'] == 'moto_econom']\n",
    "df_total['bidding_algorithm_name'] = df_total['bidding_algorithm_name'].replace(np.nan, 'empty field')\n",
    "# df_total['available_prices_currency'] = df_total['available_prices_currency'].apply(parse_prices)"
   ]
  },
  {
   "cell_type": "code",
   "execution_count": 43,
   "metadata": {},
   "outputs": [],
   "source": [
    "# Убедитесь, что utc_bid_dttm — это datetime\n",
    "df_total['utc_bid_dttm'] = pd.to_datetime(df_total['utc_bid_dttm'])\n",
    "\n",
    "# Добавим колонку с датой (без времени)\n",
    "df_total['date'] = df_total['utc_bid_dttm'].dt.date\n",
    "\n",
    "# Группируем по дате и алгоритму, считаем количество\n",
    "counts = df_total.groupby(['date', 'bidding_algorithm_name']).size().reset_index(name='count')\n",
    "\n",
    "# Считаем общее количество по дням\n",
    "total_per_day = df_total.groupby('date').size().reset_index(name='total')\n",
    "\n",
    "# Объединяем, чтобы получить долю\n",
    "counts = counts.merge(total_per_day, on='date')\n",
    "counts['share'] = counts['count'] / counts['total']\n",
    "\n",
    "# Пивотируем для удобства построения\n",
    "pivot = counts.pivot(index='date', columns='bidding_algorithm_name', values='share').fillna(0)"
   ]
  },
  {
   "cell_type": "markdown",
   "metadata": {},
   "source": [
    "df0"
   ]
  },
  {
   "cell_type": "code",
   "execution_count": 44,
   "metadata": {},
   "outputs": [
    {
     "name": "stderr",
     "output_type": "stream",
     "text": [
      "/var/folders/6c/836pxtdj6t54m3v9r8r7z5fm0000gp/T/ipykernel_94691/1407909384.py:1: DtypeWarning: Columns (6) have mixed types. Specify dtype option on import or set low_memory=False.\n",
      "  df0 = pd.read_csv(DATA_ROOT_PATH / 'recife_old_bids.csv')\n"
     ]
    }
   ],
   "source": [
    "df0 = pd.read_csv(DATA_ROOT_PATH / 'recife_old_bids.csv')\n",
    "df0 = df0[df0['order_type'] == 'moto_econom']\n",
    "df0['bidding_algorithm_name'] = df0['bidding_algorithm_name'].replace(np.nan, 'empty field')\n",
    "df0['available_prices_currency'] = df0['available_prices_currency'].apply(parse_prices)"
   ]
  },
  {
   "cell_type": "markdown",
   "metadata": {},
   "source": [
    "df1"
   ]
  },
  {
   "cell_type": "code",
   "execution_count": 45,
   "metadata": {},
   "outputs": [
    {
     "name": "stderr",
     "output_type": "stream",
     "text": [
      "/var/folders/6c/836pxtdj6t54m3v9r8r7z5fm0000gp/T/ipykernel_94691/536811888.py:1: DtypeWarning: Columns (34) have mixed types. Specify dtype option on import or set low_memory=False.\n",
      "  df1 = pd.read_csv(DATA_ROOT_PATH / 'recife_df1.csv')\n"
     ]
    }
   ],
   "source": [
    "df1 = pd.read_csv(DATA_ROOT_PATH / 'recife_df1.csv')\n",
    "df1 = df1[df1['order_type'] == 'moto_econom']\n",
    "df1['bidding_algorithm_name'] = df1['bidding_algorithm_name'].replace(np.nan, 'empty field')\n",
    "df1['available_prices_currency'] = df1['available_prices_currency'].apply(parse_prices)"
   ]
  },
  {
   "cell_type": "markdown",
   "metadata": {},
   "source": [
    "## Result"
   ]
  },
  {
   "cell_type": "code",
   "execution_count": 46,
   "metadata": {},
   "outputs": [],
   "source": [
    "def format_dict(d, precision=4):\n",
    "    return {k: round(v, precision) if isinstance(v, float) else v for k, v in d.items()}"
   ]
  },
  {
   "cell_type": "markdown",
   "metadata": {},
   "source": [
    "total"
   ]
  },
  {
   "cell_type": "code",
   "execution_count": 47,
   "metadata": {},
   "outputs": [
    {
     "data": {
      "image/png": "[encoded data removed]",
      "text/plain": [
       "<Figure size 1200x600 with 1 Axes>"
      ]
     },
     "metadata": {},
     "output_type": "display_data"
    }
   ],
   "source": [
    "# Строим график\n",
    "pivot.plot(kind='line', marker='o', figsize=(12, 6))\n",
    "plt.title('Доля каждого bidding_algorithm_name по дням')\n",
    "plt.ylabel('Доля')\n",
    "plt.xlabel('Дата')\n",
    "plt.grid(True)\n",
    "plt.legend(title='bidding_algorithm_name')\n",
    "plt.tight_layout()\n",
    "plt.show()"
   ]
  },
  {
   "cell_type": "markdown",
   "metadata": {},
   "source": [
    "df0"
   ]
  },
  {
   "cell_type": "code",
   "execution_count": 48,
   "metadata": {},
   "outputs": [
    {
     "data": {
      "text/plain": [
       "array(['empty field', 'bid_mph', 'with_recprice'], dtype=object)"
      ]
     },
     "execution_count": 48,
     "metadata": {},
     "output_type": "execute_result"
    }
   ],
   "source": [
    "df0['bidding_algorithm_name'].unique()"
   ]
  },
  {
   "cell_type": "code",
   "execution_count": 49,
   "metadata": {},
   "outputs": [],
   "source": [
    "share_algo = share_bidding_algorithm(df0)\n",
    "share_matches = share_bid_price_matches(df0, algo_names=['empty field'], len_max=3)\n",
    "share_lengths = share_available_prices_length(df0, algo_names=['empty field'])\n",
    "share_matches_by_len = share_bid_price_matches_by_len(df0, algo_names=['empty field'], len_max=3)"
   ]
  },
  {
   "cell_type": "code",
   "execution_count": 50,
   "metadata": {},
   "outputs": [
    {
     "name": "stdout",
     "output_type": "stream",
     "text": [
      "Доля строк с нужным алгоритмом:\n",
      "{'bid_mph': 0.0,\n",
      " 'empty field': 0.9999,\n",
      " 'with_recprice': 0.0001}\n",
      "Максимальное кол-во шагов:\n",
      "10\n",
      "Доли длин available_prices_currency:\n",
      "{'len_0': 0.0,\n",
      " 'len_1': 0.0,\n",
      " 'len_10': 0.0,\n",
      " 'len_2': 0.1084,\n",
      " 'len_3': 0.8916,\n",
      " 'len_4': 0.0,\n",
      " 'len_5': 0.0,\n",
      " 'len_6': 0.0,\n",
      " 'len_7': 0.0,\n",
      " 'len_8': 0.0,\n",
      " 'len_9': 0.0,\n",
      " 'total': 2379939}\n",
      "Доли совпадений с SP/1/2/3 ценой и доли завершенных заказов:\n",
      "{'above_last': {'done_share': 0.0313,\n",
      "                'share': 0.2691},\n",
      " 'between_0_1': {'done_share': 0.1635,\n",
      "                 'share': 0.0067},\n",
      " 'between_1_2': {'done_share': 0.0922,\n",
      "                 'share': 0.0299},\n",
      " 'between_2_3': {'done_share': 0.0,\n",
      "                 'share': 0.0},\n",
      " 'match_first': {'done_share': 0.2446,\n",
      "                 'share': 0.0946},\n",
      " 'match_second': {'done_share': 0.1594,\n",
      "                  'share': 0.2067},\n",
      " 'match_sp': {'done_share': 0.4066,\n",
      "              'share': 0.1782},\n",
      " 'match_third': {'done_share': 0.0768,\n",
      "                 'share': 0.207}}\n",
      "Доли совпадений с SP/1/2/3 ценой и доли завершенных заказов внутри каждой длины:\n",
      "{'len_2': {'above_last': {'done_share': 0.0452,\n",
      "                          'share': 0.2747},\n",
      "           'between_0_1': {'done_share': 0.1729,\n",
      "                           'share': 0.008},\n",
      "           'match_first': {'done_share': 0.2675,\n",
      "                           'share': 0.1373},\n",
      "           'match_second': {'done_share': 0.137,\n",
      "                            'share': 0.3554},\n",
      "           'match_sp': {'done_share': 0.4882,\n",
      "                        'share': 0.2223},\n",
      "           'match_third': {'done_share': nan,\n",
      "                           'share': 0.0}},\n",
      " 'len_3': {'above_last': {'done_share': 0.0296,\n",
      "                          'share': 0.2685},\n",
      "           'between_0_1': {'done_share': 0.1621,\n",
      "                           'share': 0.0065},\n",
      "           'between_1_2': {'done_share': 0.0922,\n",
      "                           'share': 0.0335},\n",
      "           'match_first': {'done_share': 0.2403,\n",
      "                           'share': 0.0894},\n",
      "           'match_second': {'done_share': 0.1645,\n",
      "                            'share': 0.1887},\n",
      "           'match_sp': {'done_share': 0.3939,\n",
      "                        'share': 0.1729},\n",
      "           'match_third': {'done_share': 0.0768,\n",
      "                           'share': 0.2322}}}\n"
     ]
    }
   ],
   "source": [
    "print('Доля строк с нужным алгоритмом:')\n",
    "pprint.pprint(format_dict(share_algo, 4), width=1)\n",
    "\n",
    "print('Максимальное кол-во шагов:')\n",
    "print(round(df0['available_prices_currency'].apply(len).max(), 0))\n",
    "\n",
    "print('Доли длин available_prices_currency:')\n",
    "pprint.pprint(format_dict(share_lengths, 4), width=1)\n",
    "\n",
    "print('Доли совпадений с SP/1/2/3 ценой и доли завершенных заказов:')\n",
    "formatted_share_matches = {}\n",
    "for k, v in share_matches.items():\n",
    "    if isinstance(v, dict):\n",
    "        formatted_share_matches[k] = {\n",
    "            'share': round(v['share'], 4),\n",
    "            'done_share': round(v['done_share'], 4)\n",
    "        }\n",
    "    else:\n",
    "        formatted_share_matches[k] = round(v, 4)\n",
    "pprint.pprint(formatted_share_matches, width=1)\n",
    "\n",
    "print('Доли совпадений с SP/1/2/3 ценой и доли завершенных заказов внутри каждой длины:')\n",
    "formatted_share_matches_by_len = {}\n",
    "for len_key, len_dict in share_matches_by_len.items():\n",
    "    formatted_share_matches_by_len[len_key] = {}\n",
    "    for k, v in len_dict.items():\n",
    "        if isinstance(v, dict):\n",
    "            formatted_share_matches_by_len[len_key][k] = {\n",
    "                'share': round(v['share'], 4),\n",
    "                'done_share': round(v['done_share'], 4)\n",
    "            }\n",
    "        else:\n",
    "            formatted_share_matches_by_len[len_key][k] = round(v, 4)\n",
    "pprint.pprint(formatted_share_matches_by_len, width=1)"
   ]
  },
  {
   "cell_type": "code",
   "execution_count": 51,
   "metadata": {},
   "outputs": [
    {
     "name": "stdout",
     "output_type": "stream",
     "text": [
      "0.18594342123894772 0.09460998790305129 0.20673302971210605 0.20703976026276305\n"
     ]
    }
   ],
   "source": [
    "print(\n",
    "    len(df0[(df0['option_number'] == 'startprice') & (df0['bidding_algorithm_name'] == 'empty field')])/len(df0[df0['bidding_algorithm_name'] == 'empty field']),\n",
    "    len(df0[(df0['option_number'] == 'option 1') & (df0['bidding_algorithm_name'] == 'empty field')])/len(df0[df0['bidding_algorithm_name'] == 'empty field']),\n",
    "    len(df0[(df0['option_number'] == 'option 2') & (df0['bidding_algorithm_name'] == 'empty field')])/len(df0[df0['bidding_algorithm_name'] == 'empty field']),\n",
    "    len(df0[(df0['option_number'] == 'option 3') & (df0['bidding_algorithm_name'] == 'empty field')])/len(df0[df0['bidding_algorithm_name'] == 'empty field']),\n",
    "    )"
   ]
  },
  {
   "cell_type": "markdown",
   "metadata": {},
   "source": [
    "df1"
   ]
  },
  {
   "cell_type": "code",
   "execution_count": 52,
   "metadata": {},
   "outputs": [
    {
     "data": {
      "text/plain": [
       "array(['bid_mph_no_exposure_recalculated', 'bid_mph_no_exposure_default',\n",
       "       'empty field'], dtype=object)"
      ]
     },
     "execution_count": 52,
     "metadata": {},
     "output_type": "execute_result"
    }
   ],
   "source": [
    "df1['bidding_algorithm_name'].unique()"
   ]
  },
  {
   "cell_type": "code",
   "execution_count": 53,
   "metadata": {},
   "outputs": [],
   "source": [
    "share_algo = share_bidding_algorithm(df1)\n",
    "share_matches = share_bid_price_matches(df1, algo_names=['empty field'], len_max=3)\n",
    "share_lengths = share_available_prices_length(df1, algo_names=['empty field'])\n",
    "share_matches_by_len = share_bid_price_matches_by_len(df1, algo_names=['empty field'], len_max=3)"
   ]
  },
  {
   "cell_type": "code",
   "execution_count": 54,
   "metadata": {},
   "outputs": [
    {
     "name": "stdout",
     "output_type": "stream",
     "text": [
      "Доля строк с нужным алгоритмом:\n",
      "{'bid_mph_no_exposure_default': 0.1283,\n",
      " 'bid_mph_no_exposure_recalculated': 0.2961,\n",
      " 'empty field': 0.5756}\n",
      "Максимальное кол-во шагов:\n",
      "3\n",
      "Доли длин available_prices_currency:\n",
      "{'len_0': 0.0,\n",
      " 'len_1': 0.0,\n",
      " 'len_2': 0.0952,\n",
      " 'len_3': 0.9048,\n",
      " 'total': 694340}\n",
      "Доли совпадений с SP/1/2/3 ценой и доли завершенных заказов:\n",
      "{'above_last': {'done_share': 0.0342,\n",
      "                'share': 0.2465},\n",
      " 'between_0_1': {'done_share': 0.146,\n",
      "                 'share': 0.0077},\n",
      " 'between_1_2': {'done_share': 0.09,\n",
      "                 'share': 0.0309},\n",
      " 'match_first': {'done_share': 0.2375,\n",
      "                 'share': 0.1054},\n",
      " 'match_second': {'done_share': 0.1542,\n",
      "                  'share': 0.2046},\n",
      " 'match_sp': {'done_share': 0.3971,\n",
      "              'share': 0.1959},\n",
      " 'match_third': {'done_share': 0.0768,\n",
      "                 'share': 0.2002}}\n",
      "Доли совпадений с SP/1/2/3 ценой и доли завершенных заказов внутри каждой длины:\n",
      "{'len_2': {'above_last': {'done_share': 0.0501,\n",
      "                          'share': 0.2999},\n",
      "           'between_0_1': {'done_share': 0.1515,\n",
      "                           'share': 0.008},\n",
      "           'match_first': {'done_share': 0.2737,\n",
      "                           'share': 0.1358},\n",
      "           'match_second': {'done_share': 0.1409,\n",
      "                            'share': 0.3358},\n",
      "           'match_sp': {'done_share': 0.4834,\n",
      "                        'share': 0.2203},\n",
      "           'match_third': {'done_share': nan,\n",
      "                           'share': 0.0}},\n",
      " 'len_3': {'above_last': {'done_share': 0.0321,\n",
      "                          'share': 0.2409},\n",
      "           'between_0_1': {'done_share': 0.1454,\n",
      "                           'share': 0.0077},\n",
      "           'between_1_2': {'done_share': 0.09,\n",
      "                           'share': 0.0342},\n",
      "           'match_first': {'done_share': 0.2324,\n",
      "                           'share': 0.1021},\n",
      "           'match_second': {'done_share': 0.1566,\n",
      "                            'share': 0.1908},\n",
      "           'match_sp': {'done_share': 0.3867,\n",
      "                        'share': 0.1934},\n",
      "           'match_third': {'done_share': 0.0768,\n",
      "                           'share': 0.2212}}}\n"
     ]
    }
   ],
   "source": [
    "print('Доля строк с нужным алгоритмом:')\n",
    "pprint.pprint(format_dict(share_algo, 4), width=1)\n",
    "\n",
    "print('Максимальное кол-во шагов:')\n",
    "print(round(df1['available_prices_currency'].apply(len).max(), 0))\n",
    "\n",
    "print('Доли длин available_prices_currency:')\n",
    "pprint.pprint(format_dict(share_lengths, 4), width=1)\n",
    "\n",
    "print('Доли совпадений с SP/1/2/3 ценой и доли завершенных заказов:')\n",
    "formatted_share_matches = {}\n",
    "for k, v in share_matches.items():\n",
    "    if isinstance(v, dict):\n",
    "        formatted_share_matches[k] = {\n",
    "            'share': round(v['share'], 4),\n",
    "            'done_share': round(v['done_share'], 4)\n",
    "        }\n",
    "    else:\n",
    "        formatted_share_matches[k] = round(v, 4)\n",
    "pprint.pprint(formatted_share_matches, width=1)\n",
    "\n",
    "print('Доли совпадений с SP/1/2/3 ценой и доли завершенных заказов внутри каждой длины:')\n",
    "formatted_share_matches_by_len = {}\n",
    "for len_key, len_dict in share_matches_by_len.items():\n",
    "    formatted_share_matches_by_len[len_key] = {}\n",
    "    for k, v in len_dict.items():\n",
    "        if isinstance(v, dict):\n",
    "            formatted_share_matches_by_len[len_key][k] = {\n",
    "                'share': round(v['share'], 4),\n",
    "                'done_share': round(v['done_share'], 4)\n",
    "            }\n",
    "        else:\n",
    "            formatted_share_matches_by_len[len_key][k] = round(v, 4)\n",
    "pprint.pprint(formatted_share_matches_by_len, width=1)"
   ]
  },
  {
   "cell_type": "code",
   "execution_count": 55,
   "metadata": {},
   "outputs": [],
   "source": [
    "share_algo = share_bidding_algorithm(df1)\n",
    "share_matches = share_bid_price_matches(df1, algo_names=['bid_mph_no_exposure_recalculated', \n",
    "                                                         'bid_mph_no_exposure_default'], len_max=3)\n",
    "share_lengths = share_available_prices_length(df1, algo_names=['bid_mph_no_exposure_recalculated', \n",
    "                                                               'bid_mph_no_exposure_default'])\n",
    "share_matches_by_len = share_bid_price_matches_by_len(df1, algo_names=['bid_mph_no_exposure_recalculated', \n",
    "                                                                       'bid_mph_no_exposure_default'], len_max=3)"
   ]
  },
  {
   "cell_type": "code",
   "execution_count": 56,
   "metadata": {},
   "outputs": [
    {
     "name": "stdout",
     "output_type": "stream",
     "text": [
      "Доля строк с нужным алгоритмом:\n",
      "{'bid_mph_no_exposure_default': 0.1283,\n",
      " 'bid_mph_no_exposure_recalculated': 0.2961,\n",
      " 'empty field': 0.5756}\n",
      "Максимальное кол-во шагов:\n",
      "3\n",
      "Доли длин available_prices_currency:\n",
      "{'len_0': 0.0,\n",
      " 'len_1': 0.1696,\n",
      " 'len_2': 0.4195,\n",
      " 'len_3': 0.4109,\n",
      " 'total': 511865}\n",
      "Доли совпадений с SP/1/2/3 ценой и доли завершенных заказов:\n",
      "{'above_last': {'done_share': 0.0598,\n",
      "                'share': 0.3693},\n",
      " 'between_0_1': {'done_share': 0.1392,\n",
      "                 'share': 0.0035},\n",
      " 'between_1_2': {'done_share': 0.0896,\n",
      "                 'share': 0.0119},\n",
      " 'match_first': {'done_share': 0.2422,\n",
      "                 'share': 0.1279},\n",
      " 'match_second': {'done_share': 0.1619,\n",
      "                  'share': 0.1767},\n",
      " 'match_sp': {'done_share': 0.3904,\n",
      "              'share': 0.2038},\n",
      " 'match_third': {'done_share': 0.0677,\n",
      "                 'share': 0.0973}}\n",
      "Доли совпадений с SP/1/2/3 ценой и доли завершенных заказов внутри каждой длины:\n",
      "{'len_1': {'above_last': {'done_share': 0.1075,\n",
      "                          'share': 0.4597},\n",
      "           'match_first': {'done_share': 0.2546,\n",
      "                           'share': 0.2741},\n",
      "           'match_second': {'done_share': nan,\n",
      "                            'share': 0.0},\n",
      "           'match_sp': {'done_share': 0.4433,\n",
      "                        'share': 0.256},\n",
      "           'match_third': {'done_share': nan,\n",
      "                           'share': 0.0}},\n",
      " 'len_2': {'above_last': {'done_share': 0.0654,\n",
      "                          'share': 0.3732},\n",
      "           'between_0_1': {'done_share': 0.1129,\n",
      "                           'share': 0.0026},\n",
      "           'match_first': {'done_share': 0.2408,\n",
      "                           'share': 0.1166},\n",
      "           'match_second': {'done_share': 0.1668,\n",
      "                            'share': 0.247},\n",
      "           'match_sp': {'done_share': 0.3754,\n",
      "                        'share': 0.2468},\n",
      "           'match_third': {'done_share': nan,\n",
      "                           'share': 0.0}},\n",
      " 'len_3': {'above_last': {'done_share': 0.0258,\n",
      "                          'share': 0.328},\n",
      "           'between_0_1': {'done_share': 0.1506,\n",
      "                           'share': 0.006},\n",
      "           'between_1_2': {'done_share': 0.0896,\n",
      "                           'share': 0.0289},\n",
      "           'match_first': {'done_share': 0.2264,\n",
      "                           'share': 0.0792},\n",
      "           'match_second': {'done_share': 0.1548,\n",
      "                            'share': 0.1778},\n",
      "           'match_sp': {'done_share': 0.3774,\n",
      "                        'share': 0.1383},\n",
      "           'match_third': {'done_share': 0.0677,\n",
      "                           'share': 0.2369}}}\n"
     ]
    }
   ],
   "source": [
    "print('Доля строк с нужным алгоритмом:')\n",
    "pprint.pprint(format_dict(share_algo, 4), width=1)\n",
    "\n",
    "print('Максимальное кол-во шагов:')\n",
    "print(round(df1['available_prices_currency'].apply(len).max(), 0))\n",
    "\n",
    "print('Доли длин available_prices_currency:')\n",
    "pprint.pprint(format_dict(share_lengths, 4), width=1)\n",
    "\n",
    "print('Доли совпадений с SP/1/2/3 ценой и доли завершенных заказов:')\n",
    "formatted_share_matches = {}\n",
    "for k, v in share_matches.items():\n",
    "    if isinstance(v, dict):\n",
    "        formatted_share_matches[k] = {\n",
    "            'share': round(v['share'], 4),\n",
    "            'done_share': round(v['done_share'], 4)\n",
    "        }\n",
    "    else:\n",
    "        formatted_share_matches[k] = round(v, 4)\n",
    "pprint.pprint(formatted_share_matches, width=1)\n",
    "\n",
    "print('Доли совпадений с SP/1/2/3 ценой и доли завершенных заказов внутри каждой длины:')\n",
    "formatted_share_matches_by_len = {}\n",
    "for len_key, len_dict in share_matches_by_len.items():\n",
    "    formatted_share_matches_by_len[len_key] = {}\n",
    "    for k, v in len_dict.items():\n",
    "        if isinstance(v, dict):\n",
    "            formatted_share_matches_by_len[len_key][k] = {\n",
    "                'share': round(v['share'], 4),\n",
    "                'done_share': round(v['done_share'], 4)\n",
    "            }\n",
    "        else:\n",
    "            formatted_share_matches_by_len[len_key][k] = round(v, 4)\n",
    "pprint.pprint(formatted_share_matches_by_len, width=1)"
   ]
  },
  {
   "cell_type": "code",
   "execution_count": null,
   "metadata": {},
   "outputs": [],
   "source": []
  }
 ],
 "metadata": {
  "kernelspec": {
   "display_name": "py38",
   "language": "python",
   "name": "python3"
  },
  "language_info": {
   "codemirror_mode": {
    "name": "ipython",
    "version": 3
   },
   "file_extension": ".py",
   "mimetype": "text/x-python",
   "name": "python",
   "nbconvert_exporter": "python",
   "pygments_lexer": "ipython3",
   "version": "3.8.19"
  }
 },
 "nbformat": 4,
 "nbformat_minor": 2
}
