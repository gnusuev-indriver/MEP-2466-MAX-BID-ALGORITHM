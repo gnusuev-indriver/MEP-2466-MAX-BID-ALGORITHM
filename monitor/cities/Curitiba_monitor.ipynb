{
 "cells": [
  {
   "cell_type": "markdown",
   "metadata": {},
   "source": [
    "# BidMPH v2 Monitor <br> Curitiba"
   ]
  },
  {
   "cell_type": "markdown",
   "metadata": {},
   "source": [
    "## Imports"
   ]
  },
  {
   "cell_type": "code",
   "execution_count": 53,
   "metadata": {},
   "outputs": [
    {
     "name": "stdout",
     "output_type": "stream",
     "text": [
      "The autoreload extension is already loaded. To reload it, use:\n",
      "  %reload_ext autoreload\n"
     ]
    }
   ],
   "source": [
    "%load_ext autoreload\n",
    "%autoreload 2"
   ]
  },
  {
   "cell_type": "code",
   "execution_count": null,
   "metadata": {},
   "outputs": [],
   "source": [
    "import sys\n",
    "import os\n",
    "# Add the monitor directory to Python path\n",
    "sys.path.append(os.path.dirname(os.getcwd()))"
   ]
  },
  {
   "cell_type": "code",
   "execution_count": 54,
   "metadata": {},
   "outputs": [],
   "source": [
    "import pprint\n",
    "import pathlib\n",
    "import numpy as np\n",
    "import pandas as pd\n",
    "import matplotlib.pyplot as plt\n",
    "from src.download import download_bid_data_1, download_bid_data\n",
    "from src.calculations import share_bidding_algorithm, share_bid_price_matches, share_available_prices_length, share_bid_price_matches_by_len"
   ]
  },
  {
   "cell_type": "markdown",
   "metadata": {},
   "source": [
    "## Parameters"
   ]
  },
  {
   "cell_type": "code",
   "execution_count": 55,
   "metadata": {},
   "outputs": [],
   "source": [
    "CITY_ID = 4376\n",
    "CITY_NAME = 'Curitiba'\n",
    "ORDER_TYPE = 'auto_econom'"
   ]
  },
  {
   "cell_type": "code",
   "execution_count": 56,
   "metadata": {},
   "outputs": [],
   "source": [
    "DATA_ROOT_PATH = pathlib.Path(f'data/city_id={CITY_ID}')\n",
    "if not DATA_ROOT_PATH.exists():\n",
    "    DATA_ROOT_PATH.mkdir(parents=True, exist_ok=True)"
   ]
  },
  {
   "cell_type": "markdown",
   "metadata": {},
   "source": [
    "## Downlaoad"
   ]
  },
  {
   "cell_type": "markdown",
   "metadata": {},
   "source": [
    "total"
   ]
  },
  {
   "cell_type": "code",
   "execution_count": 57,
   "metadata": {},
   "outputs": [
    {
     "name": "stdout",
     "output_type": "stream",
     "text": [
      "df_total saved as Curitiba_total_bids.csv\n"
     ]
    }
   ],
   "source": [
    "start_date = '2025-05-01'\n",
    "end_date = '2025-06-20'\n",
    "\n",
    "df_total = download_bid_data_1(start_date, end_date, CITY_ID, printBool=False)\n",
    "df_total.to_csv(DATA_ROOT_PATH / f'{CITY_NAME}_total_bids.csv', index=False)\n",
    "print(f'df_total saved as {CITY_NAME}_total_bids.csv')"
   ]
  },
  {
   "cell_type": "markdown",
   "metadata": {},
   "source": [
    "df0 ('Before')"
   ]
  },
  {
   "cell_type": "code",
   "execution_count": 58,
   "metadata": {},
   "outputs": [
    {
     "name": "stdout",
     "output_type": "stream",
     "text": [
      "From 2025-05-01 00:00:17+00:00 \n",
      " to 2025-05-19 23:59:59+00:00\n",
      "df0 saved as Curitiba_before_bids.csv\n"
     ]
    }
   ],
   "source": [
    "start_date = '2025-05-01'\n",
    "end_date = '2025-05-19'\n",
    "\n",
    "df0 = download_bid_data(start_date, end_date, CITY_ID, printBool=False)\n",
    "df0.to_csv(DATA_ROOT_PATH / f'{CITY_NAME}_before_bids.csv', index=False)\n",
    "print(\n",
    "    'From', df0['utc_bid_dttm'].min(), \n",
    "    '\\n to', df0['utc_bid_dttm'].max()\n",
    ")\n",
    "print(f'df0 saved as {CITY_NAME}_before_bids.csv')"
   ]
  },
  {
   "cell_type": "markdown",
   "metadata": {},
   "source": [
    "df1 ('Test')"
   ]
  },
  {
   "cell_type": "code",
   "execution_count": 59,
   "metadata": {},
   "outputs": [
    {
     "name": "stdout",
     "output_type": "stream",
     "text": [
      "From 2025-05-20 00:00:14+00:00 \n",
      " to 2025-05-22 07:48:35+00:00\n",
      "df1 saved as Curitiba_test_bids.csv\n"
     ]
    }
   ],
   "source": [
    "start_date = '2025-05-20'\n",
    "end_date = '2025-06-20'\n",
    "\n",
    "df1 = download_bid_data(start_date, end_date, CITY_ID, printBool=False)\n",
    "df1.to_csv(DATA_ROOT_PATH / f'{CITY_NAME}_test_bids.csv', index=False)\n",
    "print(\n",
    "    'From', df1['utc_bid_dttm'].min(), \n",
    "    '\\n to', df1['utc_bid_dttm'].max()\n",
    ")\n",
    "print(f'df1 saved as {CITY_NAME}_test_bids.csv')"
   ]
  },
  {
   "cell_type": "markdown",
   "metadata": {},
   "source": [
    "## Process Data"
   ]
  },
  {
   "cell_type": "code",
   "execution_count": 60,
   "metadata": {},
   "outputs": [],
   "source": [
    "def parse_prices(s):\n",
    "    if isinstance(s, str) and s.startswith('[') and s.endswith(']'):\n",
    "        items = s.strip('[]').split()\n",
    "        return [float(item) for item in items] if items and items[0] != '' else []\n",
    "    else:\n",
    "        return []  # для None или некорректных значений"
   ]
  },
  {
   "cell_type": "markdown",
   "metadata": {},
   "source": [
    "total"
   ]
  },
  {
   "cell_type": "code",
   "execution_count": 61,
   "metadata": {},
   "outputs": [],
   "source": [
    "df_total = pd.read_csv(DATA_ROOT_PATH / f'{CITY_NAME}_total_bids.csv')\n",
    "\n",
    "df_total = df_total[df_total['order_type'] == ORDER_TYPE]\n",
    "df_total['bidding_algorithm_name'] = df_total['bidding_algorithm_name'].replace(np.nan, 'empty field')\n",
    "# df_total['available_prices_currency'] = df_total['available_prices_currency'].apply(parse_prices)"
   ]
  },
  {
   "cell_type": "code",
   "execution_count": 62,
   "metadata": {},
   "outputs": [],
   "source": [
    "# Убедитесь, что utc_bid_dttm — это datetime\n",
    "df_total['utc_bid_dttm'] = pd.to_datetime(df_total['utc_bid_dttm'])\n",
    "\n",
    "# Добавим колонку с датой (без времени)\n",
    "df_total['date'] = df_total['utc_bid_dttm'].dt.date\n",
    "\n",
    "# Группируем по дате и алгоритму, считаем количество\n",
    "counts = df_total.groupby(['date', 'bidding_algorithm_name']).size().reset_index(name='count')\n",
    "\n",
    "# Считаем общее количество по дням\n",
    "total_per_day = df_total.groupby('date').size().reset_index(name='total')\n",
    "\n",
    "# Объединяем, чтобы получить долю\n",
    "counts = counts.merge(total_per_day, on='date')\n",
    "counts['share'] = counts['count'] / counts['total']\n",
    "\n",
    "# Пивотируем для удобства построения\n",
    "pivot = counts.pivot(index='date', columns='bidding_algorithm_name', values='share').fillna(0)"
   ]
  },
  {
   "cell_type": "markdown",
   "metadata": {},
   "source": [
    "df0"
   ]
  },
  {
   "cell_type": "code",
   "execution_count": 63,
   "metadata": {},
   "outputs": [],
   "source": [
    "df0 = pd.read_csv(DATA_ROOT_PATH / f'{CITY_NAME}_before_bids.csv')\n",
    "df0 = df0[df0['order_type'] == ORDER_TYPE]\n",
    "df0['bidding_algorithm_name'] = df0['bidding_algorithm_name'].replace(np.nan, 'empty field')\n",
    "df0['available_prices_currency'] = df0['available_prices_currency'].apply(parse_prices)"
   ]
  },
  {
   "cell_type": "markdown",
   "metadata": {},
   "source": [
    "df1"
   ]
  },
  {
   "cell_type": "code",
   "execution_count": 64,
   "metadata": {},
   "outputs": [
    {
     "name": "stderr",
     "output_type": "stream",
     "text": [
      "/var/folders/6c/836pxtdj6t54m3v9r8r7z5fm0000gp/T/ipykernel_28436/1741608400.py:1: DtypeWarning: Columns (34) have mixed types. Specify dtype option on import or set low_memory=False.\n",
      "  df1 = pd.read_csv(DATA_ROOT_PATH / f'{CITY_NAME}_test_bids.csv')\n"
     ]
    }
   ],
   "source": [
    "df1 = pd.read_csv(DATA_ROOT_PATH / f'{CITY_NAME}_test_bids.csv')\n",
    "df1 = df1[df1['order_type'] == ORDER_TYPE]\n",
    "df1['bidding_algorithm_name'] = df1['bidding_algorithm_name'].replace(np.nan, 'empty field')\n",
    "df1['available_prices_currency'] = df1['available_prices_currency'].apply(parse_prices)"
   ]
  },
  {
   "cell_type": "markdown",
   "metadata": {},
   "source": [
    "## Result"
   ]
  },
  {
   "cell_type": "code",
   "execution_count": 65,
   "metadata": {},
   "outputs": [],
   "source": [
    "def format_dict(d, precision=4):\n",
    "    return {k: round(v, precision) if isinstance(v, float) else v for k, v in d.items()}"
   ]
  },
  {
   "cell_type": "markdown",
   "metadata": {},
   "source": [
    "total"
   ]
  },
  {
   "cell_type": "code",
   "execution_count": 66,
   "metadata": {},
   "outputs": [
    {
     "data": {
      "image/png": "[encoded data removed]",
      "text/plain": [
       "<Figure size 1200x600 with 1 Axes>"
      ]
     },
     "metadata": {},
     "output_type": "display_data"
    }
   ],
   "source": [
    "# Строим график\n",
    "pivot.plot(kind='line', marker='o', figsize=(12, 6))\n",
    "plt.title('Доля каждого bidding_algorithm_name по дням')\n",
    "plt.ylabel('Доля')\n",
    "plt.xlabel('Дата')\n",
    "plt.grid(True)\n",
    "plt.legend(title='bidding_algorithm_name')\n",
    "plt.tight_layout()\n",
    "plt.show()"
   ]
  },
  {
   "cell_type": "markdown",
   "metadata": {},
   "source": [
    "df0"
   ]
  },
  {
   "cell_type": "code",
   "execution_count": 67,
   "metadata": {},
   "outputs": [
    {
     "data": {
      "text/plain": [
       "array(['empty field'], dtype=object)"
      ]
     },
     "execution_count": 67,
     "metadata": {},
     "output_type": "execute_result"
    }
   ],
   "source": [
    "df0['bidding_algorithm_name'].unique()"
   ]
  },
  {
   "cell_type": "code",
   "execution_count": 68,
   "metadata": {},
   "outputs": [],
   "source": [
    "share_algo = share_bidding_algorithm(df0)\n",
    "share_matches = share_bid_price_matches(df0, algo_names=['empty field'], len_max=3)\n",
    "share_lengths = share_available_prices_length(df0, algo_names=['empty field'])\n",
    "share_matches_by_len = share_bid_price_matches_by_len(df0, algo_names=['empty field'], len_max=3)"
   ]
  },
  {
   "cell_type": "code",
   "execution_count": 69,
   "metadata": {},
   "outputs": [
    {
     "name": "stdout",
     "output_type": "stream",
     "text": [
      "Доля строк с нужным алгоритмом:\n",
      "{'empty field': 1.0}\n",
      "Максимальное кол-во шагов:\n",
      "10\n",
      "Доли длин available_prices_currency:\n",
      "{'len_0': 0.0,\n",
      " 'len_1': 0.0,\n",
      " 'len_10': 0.9248,\n",
      " 'len_2': 0.0,\n",
      " 'len_3': 0.0,\n",
      " 'len_4': 0.0,\n",
      " 'len_5': 0.0,\n",
      " 'len_6': 0.0002,\n",
      " 'len_7': 0.0002,\n",
      " 'len_8': 0.0392,\n",
      " 'len_9': 0.0356,\n",
      " 'total': 1777293}\n",
      "Доли совпадений с SP/1/2/3 ценой и доли завершенных заказов:\n",
      "{'above_last': {'done_share': nan,\n",
      "                'share': 0.0},\n",
      " 'between_0_1': {'done_share': 0.4,\n",
      "                 'share': 0.0},\n",
      " 'between_1_2': {'done_share': 0.6,\n",
      "                 'share': 0.0},\n",
      " 'between_2_3': {'done_share': nan,\n",
      "                 'share': 0.0},\n",
      " 'match_first': {'done_share': 0.2662,\n",
      "                 'share': 0.1163},\n",
      " 'match_second': {'done_share': 0.1661,\n",
      "                  'share': 0.1922},\n",
      " 'match_sp': {'done_share': 0.4736,\n",
      "              'share': 0.1806},\n",
      " 'match_third': {'done_share': 0.0941,\n",
      "                 'share': 0.1833}}\n",
      "Доли совпадений с SP/1/2/3 ценой и доли завершенных заказов внутри каждой длины:\n",
      "{}\n"
     ]
    }
   ],
   "source": [
    "print('Доля строк с нужным алгоритмом:')\n",
    "pprint.pprint(format_dict(share_algo, 4), width=1)\n",
    "\n",
    "print('Максимальное кол-во шагов:')\n",
    "print(round(df0['available_prices_currency'].apply(len).max(), 0))\n",
    "\n",
    "print('Доли длин available_prices_currency:')\n",
    "pprint.pprint(format_dict(share_lengths, 4), width=1)\n",
    "\n",
    "print('Доли совпадений с SP/1/2/3 ценой и доли завершенных заказов:')\n",
    "formatted_share_matches = {}\n",
    "for k, v in share_matches.items():\n",
    "    if isinstance(v, dict):\n",
    "        formatted_share_matches[k] = {\n",
    "            'share': round(v['share'], 4),\n",
    "            'done_share': round(v['done_share'], 4)\n",
    "        }\n",
    "    else:\n",
    "        formatted_share_matches[k] = round(v, 4)\n",
    "pprint.pprint(formatted_share_matches, width=1)\n",
    "\n",
    "print('Доли совпадений с SP/1/2/3 ценой и доли завершенных заказов внутри каждой длины:')\n",
    "formatted_share_matches_by_len = {}\n",
    "for len_key, len_dict in share_matches_by_len.items():\n",
    "    formatted_share_matches_by_len[len_key] = {}\n",
    "    for k, v in len_dict.items():\n",
    "        if isinstance(v, dict):\n",
    "            formatted_share_matches_by_len[len_key][k] = {\n",
    "                'share': round(v['share'], 4),\n",
    "                'done_share': round(v['done_share'], 4)\n",
    "            }\n",
    "        else:\n",
    "            formatted_share_matches_by_len[len_key][k] = round(v, 4)\n",
    "pprint.pprint(formatted_share_matches_by_len, width=1)"
   ]
  },
  {
   "cell_type": "code",
   "execution_count": 70,
   "metadata": {},
   "outputs": [
    {
     "name": "stdout",
     "output_type": "stream",
     "text": [
      "0.18175956356098855 0.11629933837583337 0.19215852422757532 0.18333949438837602\n"
     ]
    }
   ],
   "source": [
    "print(\n",
    "    len(df0[(df0['option_number'] == 'startprice') & (df0['bidding_algorithm_name'] == 'empty field')])/len(df0[df0['bidding_algorithm_name'] == 'empty field']),\n",
    "    len(df0[(df0['option_number'] == 'option 1') & (df0['bidding_algorithm_name'] == 'empty field')])/len(df0[df0['bidding_algorithm_name'] == 'empty field']),\n",
    "    len(df0[(df0['option_number'] == 'option 2') & (df0['bidding_algorithm_name'] == 'empty field')])/len(df0[df0['bidding_algorithm_name'] == 'empty field']),\n",
    "    len(df0[(df0['option_number'] == 'option 3') & (df0['bidding_algorithm_name'] == 'empty field')])/len(df0[df0['bidding_algorithm_name'] == 'empty field']),\n",
    "    )"
   ]
  },
  {
   "cell_type": "markdown",
   "metadata": {},
   "source": [
    "df1"
   ]
  },
  {
   "cell_type": "code",
   "execution_count": 71,
   "metadata": {},
   "outputs": [
    {
     "data": {
      "text/plain": [
       "array(['empty field', 'bid_mph_no_exposure_recalculated',\n",
       "       'bid_mph_no_exposure_default', 'bid_mph_recalculated'],\n",
       "      dtype=object)"
      ]
     },
     "execution_count": 71,
     "metadata": {},
     "output_type": "execute_result"
    }
   ],
   "source": [
    "df1['bidding_algorithm_name'].unique()"
   ]
  },
  {
   "cell_type": "code",
   "execution_count": 72,
   "metadata": {},
   "outputs": [],
   "source": [
    "share_algo = share_bidding_algorithm(df1)\n",
    "share_matches = share_bid_price_matches(df1, algo_names=['empty field'], len_max=3)\n",
    "share_lengths = share_available_prices_length(df1, algo_names=['empty field'])\n",
    "share_matches_by_len = share_bid_price_matches_by_len(df1, algo_names=['empty field'], len_max=3)"
   ]
  },
  {
   "cell_type": "code",
   "execution_count": 73,
   "metadata": {},
   "outputs": [
    {
     "name": "stdout",
     "output_type": "stream",
     "text": [
      "Доля строк с нужным алгоритмом:\n",
      "{'bid_mph_no_exposure_default': 0.007,\n",
      " 'bid_mph_no_exposure_recalculated': 0.3865,\n",
      " 'bid_mph_recalculated': 0.0,\n",
      " 'empty field': 0.6065}\n",
      "Максимальное кол-во шагов:\n",
      "10\n",
      "Доли длин available_prices_currency:\n",
      "{'len_0': 0.0,\n",
      " 'len_1': 0.0,\n",
      " 'len_10': 0.9119,\n",
      " 'len_2': 0.0,\n",
      " 'len_3': 0.0,\n",
      " 'len_4': 0.0,\n",
      " 'len_5': 0.0,\n",
      " 'len_6': 0.0002,\n",
      " 'len_7': 0.0003,\n",
      " 'len_8': 0.0474,\n",
      " 'len_9': 0.0401,\n",
      " 'total': 109028}\n",
      "Доли совпадений с SP/1/2/3 ценой и доли завершенных заказов:\n",
      "{'above_last': {'done_share': nan,\n",
      "                'share': 0.0},\n",
      " 'between_0_1': {'done_share': nan,\n",
      "                 'share': 0.0},\n",
      " 'between_1_2': {'done_share': nan,\n",
      "                 'share': 0.0},\n",
      " 'between_2_3': {'done_share': nan,\n",
      "                 'share': 0.0},\n",
      " 'match_first': {'done_share': 0.267,\n",
      "                 'share': 0.1145},\n",
      " 'match_second': {'done_share': 0.1629,\n",
      "                  'share': 0.1938},\n",
      " 'match_sp': {'done_share': 0.4782,\n",
      "              'share': 0.1682},\n",
      " 'match_third': {'done_share': 0.0925,\n",
      "                 'share': 0.188}}\n",
      "Доли совпадений с SP/1/2/3 ценой и доли завершенных заказов внутри каждой длины:\n",
      "{}\n"
     ]
    }
   ],
   "source": [
    "print('Доля строк с нужным алгоритмом:')\n",
    "pprint.pprint(format_dict(share_algo, 4), width=1)\n",
    "\n",
    "print('Максимальное кол-во шагов:')\n",
    "print(round(df1['available_prices_currency'].apply(len).max(), 0))\n",
    "\n",
    "print('Доли длин available_prices_currency:')\n",
    "pprint.pprint(format_dict(share_lengths, 4), width=1)\n",
    "\n",
    "print('Доли совпадений с SP/1/2/3 ценой и доли завершенных заказов:')\n",
    "formatted_share_matches = {}\n",
    "for k, v in share_matches.items():\n",
    "    if isinstance(v, dict):\n",
    "        formatted_share_matches[k] = {\n",
    "            'share': round(v['share'], 4),\n",
    "            'done_share': round(v['done_share'], 4)\n",
    "        }\n",
    "    else:\n",
    "        formatted_share_matches[k] = round(v, 4)\n",
    "pprint.pprint(formatted_share_matches, width=1)\n",
    "\n",
    "print('Доли совпадений с SP/1/2/3 ценой и доли завершенных заказов внутри каждой длины:')\n",
    "formatted_share_matches_by_len = {}\n",
    "for len_key, len_dict in share_matches_by_len.items():\n",
    "    formatted_share_matches_by_len[len_key] = {}\n",
    "    for k, v in len_dict.items():\n",
    "        if isinstance(v, dict):\n",
    "            formatted_share_matches_by_len[len_key][k] = {\n",
    "                'share': round(v['share'], 4),\n",
    "                'done_share': round(v['done_share'], 4)\n",
    "            }\n",
    "        else:\n",
    "            formatted_share_matches_by_len[len_key][k] = round(v, 4)\n",
    "pprint.pprint(formatted_share_matches_by_len, width=1)"
   ]
  },
  {
   "cell_type": "code",
   "execution_count": 74,
   "metadata": {},
   "outputs": [],
   "source": [
    "share_algo = share_bidding_algorithm(df1)\n",
    "share_matches = share_bid_price_matches(df1, algo_names=['bid_mph_no_exposure_recalculated', \n",
    "                                                         'bid_mph_no_exposure_default'], len_max=3)\n",
    "share_lengths = share_available_prices_length(df1, algo_names=['bid_mph_no_exposure_recalculated', \n",
    "                                                               'bid_mph_no_exposure_default'])\n",
    "share_matches_by_len = share_bid_price_matches_by_len(df1, algo_names=['bid_mph_no_exposure_recalculated', \n",
    "                                                                       'bid_mph_no_exposure_default'], len_max=3)"
   ]
  },
  {
   "cell_type": "code",
   "execution_count": 75,
   "metadata": {},
   "outputs": [
    {
     "name": "stdout",
     "output_type": "stream",
     "text": [
      "Доля строк с нужным алгоритмом:\n",
      "{'bid_mph_no_exposure_default': 0.007,\n",
      " 'bid_mph_no_exposure_recalculated': 0.3865,\n",
      " 'bid_mph_recalculated': 0.0,\n",
      " 'empty field': 0.6065}\n",
      "Максимальное кол-во шагов:\n",
      "10\n",
      "Доли длин available_prices_currency:\n",
      "{'len_0': 0.0,\n",
      " 'len_1': 0.0,\n",
      " 'len_10': 0.0214,\n",
      " 'len_2': 0.4491,\n",
      " 'len_3': 0.1311,\n",
      " 'len_4': 0.1189,\n",
      " 'len_5': 0.1364,\n",
      " 'len_6': 0.0788,\n",
      " 'len_7': 0.0331,\n",
      " 'len_8': 0.0198,\n",
      " 'len_9': 0.0114,\n",
      " 'total': 70743}\n",
      "Доли совпадений с SP/1/2/3 ценой и доли завершенных заказов:\n",
      "{'above_last': {'done_share': nan,\n",
      "                'share': 0.0},\n",
      " 'between_0_1': {'done_share': nan,\n",
      "                 'share': 0.0},\n",
      " 'between_1_2': {'done_share': nan,\n",
      "                 'share': 0.0},\n",
      " 'between_2_3': {'done_share': nan,\n",
      "                 'share': 0.0},\n",
      " 'match_first': {'done_share': 0.2561,\n",
      "                 'share': 0.1493},\n",
      " 'match_second': {'done_share': 0.1499,\n",
      "                  'share': 0.3347},\n",
      " 'match_sp': {'done_share': 0.477,\n",
      "              'share': 0.1991},\n",
      " 'match_third': {'done_share': 0.0714,\n",
      "                 'share': 0.1453}}\n",
      "Доли совпадений с SP/1/2/3 ценой и доли завершенных заказов внутри каждой длины:\n",
      "{'len_2': {'above_last': {'done_share': nan,\n",
      "                          'share': 0.0},\n",
      "           'between_0_1': {'done_share': nan,\n",
      "                           'share': 0.0},\n",
      "           'match_first': {'done_share': 0.2702,\n",
      "                           'share': 0.213},\n",
      "           'match_second': {'done_share': 0.1554,\n",
      "                            'share': 0.4952},\n",
      "           'match_sp': {'done_share': 0.4897,\n",
      "                        'share': 0.2899},\n",
      "           'match_third': {'done_share': nan,\n",
      "                           'share': 0.0}},\n",
      " 'len_3': {'above_last': {'done_share': nan,\n",
      "                          'share': 0.0},\n",
      "           'between_0_1': {'done_share': nan,\n",
      "                           'share': 0.0},\n",
      "           'between_1_2': {'done_share': nan,\n",
      "                           'share': 0.0},\n",
      "           'match_first': {'done_share': 0.1963,\n",
      "                           'share': 0.151},\n",
      "           'match_second': {'done_share': 0.1005,\n",
      "                            'share': 0.2607},\n",
      "           'match_sp': {'done_share': 0.42,\n",
      "                        'share': 0.1738},\n",
      "           'match_third': {'done_share': 0.062,\n",
      "                           'share': 0.4173}}}\n"
     ]
    }
   ],
   "source": [
    "print('Доля строк с нужным алгоритмом:')\n",
    "pprint.pprint(format_dict(share_algo, 4), width=1)\n",
    "\n",
    "print('Максимальное кол-во шагов:')\n",
    "print(round(df1['available_prices_currency'].apply(len).max(), 0))\n",
    "\n",
    "print('Доли длин available_prices_currency:')\n",
    "pprint.pprint(format_dict(share_lengths, 4), width=1)\n",
    "\n",
    "print('Доли совпадений с SP/1/2/3 ценой и доли завершенных заказов:')\n",
    "formatted_share_matches = {}\n",
    "for k, v in share_matches.items():\n",
    "    if isinstance(v, dict):\n",
    "        formatted_share_matches[k] = {\n",
    "            'share': round(v['share'], 4),\n",
    "            'done_share': round(v['done_share'], 4)\n",
    "        }\n",
    "    else:\n",
    "        formatted_share_matches[k] = round(v, 4)\n",
    "pprint.pprint(formatted_share_matches, width=1)\n",
    "\n",
    "print('Доли совпадений с SP/1/2/3 ценой и доли завершенных заказов внутри каждой длины:')\n",
    "formatted_share_matches_by_len = {}\n",
    "for len_key, len_dict in share_matches_by_len.items():\n",
    "    formatted_share_matches_by_len[len_key] = {}\n",
    "    for k, v in len_dict.items():\n",
    "        if isinstance(v, dict):\n",
    "            formatted_share_matches_by_len[len_key][k] = {\n",
    "                'share': round(v['share'], 4),\n",
    "                'done_share': round(v['done_share'], 4)\n",
    "            }\n",
    "        else:\n",
    "            formatted_share_matches_by_len[len_key][k] = round(v, 4)\n",
    "pprint.pprint(formatted_share_matches_by_len, width=1)"
   ]
  },
  {
   "cell_type": "code",
   "execution_count": null,
   "metadata": {},
   "outputs": [],
   "source": []
  }
 ],
 "metadata": {
  "kernelspec": {
   "display_name": "py38",
   "language": "python",
   "name": "python3"
  },
  "language_info": {
   "codemirror_mode": {
    "name": "ipython",
    "version": 3
   },
   "file_extension": ".py",
   "mimetype": "text/x-python",
   "name": "python",
   "nbconvert_exporter": "python",
   "pygments_lexer": "ipython3",
   "version": "3.8.19"
  }
 },
 "nbformat": 4,
 "nbformat_minor": 2
}
