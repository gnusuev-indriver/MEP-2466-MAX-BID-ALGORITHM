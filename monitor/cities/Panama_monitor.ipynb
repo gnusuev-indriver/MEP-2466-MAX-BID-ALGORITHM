{
 "cells": [
  {
   "cell_type": "markdown",
   "metadata": {},
   "source": [
    "# BidMPH v2 Monitor <br> Panama"
   ]
  },
  {
   "cell_type": "markdown",
   "metadata": {},
   "source": [
    "## Imports"
   ]
  },
  {
   "cell_type": "code",
   "execution_count": 82,
   "metadata": {},
   "outputs": [
    {
     "name": "stdout",
     "output_type": "stream",
     "text": [
      "The autoreload extension is already loaded. To reload it, use:\n",
      "  %reload_ext autoreload\n"
     ]
    }
   ],
   "source": [
    "%load_ext autoreload\n",
    "%autoreload 2"
   ]
  },
  {
   "cell_type": "code",
   "execution_count": null,
   "metadata": {},
   "outputs": [],
   "source": [
    "import sys\n",
    "import os\n",
    "# Add the monitor directory to Python path\n",
    "sys.path.append(os.path.dirname(os.getcwd()))"
   ]
  },
  {
   "cell_type": "code",
   "execution_count": 83,
   "metadata": {},
   "outputs": [],
   "source": [
    "import pprint\n",
    "import pathlib\n",
    "import numpy as np\n",
    "import pandas as pd\n",
    "import matplotlib.pyplot as plt\n",
    "from src.download import download_bid_data_1, download_bid_data\n",
    "from src.calculations import share_bidding_algorithm, share_bid_price_matches, share_available_prices_length, share_bid_price_matches_by_len"
   ]
  },
  {
   "cell_type": "markdown",
   "metadata": {},
   "source": [
    "## Parameters"
   ]
  },
  {
   "cell_type": "code",
   "execution_count": 84,
   "metadata": {},
   "outputs": [],
   "source": [
    "CITY_ID = 5548\n",
    "CITY_NAME = 'Panama'\n",
    "ORDER_TYPE = 'auto_econom'"
   ]
  },
  {
   "cell_type": "code",
   "execution_count": 85,
   "metadata": {},
   "outputs": [],
   "source": [
    "DATA_ROOT_PATH = pathlib.Path(f'data/city_id={CITY_ID}')\n",
    "if not DATA_ROOT_PATH.exists():\n",
    "    DATA_ROOT_PATH.mkdir(parents=True, exist_ok=True)"
   ]
  },
  {
   "cell_type": "markdown",
   "metadata": {},
   "source": [
    "## Downlaoad"
   ]
  },
  {
   "cell_type": "markdown",
   "metadata": {},
   "source": [
    "total"
   ]
  },
  {
   "cell_type": "code",
   "execution_count": 86,
   "metadata": {},
   "outputs": [
    {
     "name": "stdout",
     "output_type": "stream",
     "text": [
      "df_total saved as Panama_total_bids.csv\n"
     ]
    }
   ],
   "source": [
    "start_date = '2025-05-01'\n",
    "end_date = '2025-06-20'\n",
    "\n",
    "df_total = download_bid_data_1(start_date, end_date, CITY_ID, printBool=False)\n",
    "df_total.to_csv(DATA_ROOT_PATH / f'{CITY_NAME}_total_bids.csv', index=False)\n",
    "print(f'df_total saved as {CITY_NAME}_total_bids.csv')"
   ]
  },
  {
   "cell_type": "markdown",
   "metadata": {},
   "source": [
    "df0 ('Before')"
   ]
  },
  {
   "cell_type": "code",
   "execution_count": 87,
   "metadata": {},
   "outputs": [
    {
     "name": "stdout",
     "output_type": "stream",
     "text": [
      "From 2025-05-01 00:00:14+00:00 \n",
      " to 2025-05-19 23:59:59+00:00\n",
      "df0 saved as Panama_before_bids.csv\n"
     ]
    }
   ],
   "source": [
    "start_date = '2025-05-01'\n",
    "end_date = '2025-05-19'\n",
    "\n",
    "df0 = download_bid_data(start_date, end_date, CITY_ID, printBool=False)\n",
    "df0.to_csv(DATA_ROOT_PATH / f'{CITY_NAME}_before_bids.csv', index=False)\n",
    "print(\n",
    "    'From', df0['utc_bid_dttm'].min(), \n",
    "    '\\n to', df0['utc_bid_dttm'].max()\n",
    ")\n",
    "print(f'df0 saved as {CITY_NAME}_before_bids.csv')"
   ]
  },
  {
   "cell_type": "markdown",
   "metadata": {},
   "source": [
    "df1 ('Test')"
   ]
  },
  {
   "cell_type": "code",
   "execution_count": 88,
   "metadata": {},
   "outputs": [
    {
     "name": "stdout",
     "output_type": "stream",
     "text": [
      "From 2025-05-20 00:00:07+00:00 \n",
      " to 2025-05-22 07:48:14+00:00\n",
      "df1 saved as Panama_test_bids.csv\n"
     ]
    }
   ],
   "source": [
    "start_date = '2025-05-20'\n",
    "end_date = '2025-06-20'\n",
    "\n",
    "df1 = download_bid_data(start_date, end_date, CITY_ID, printBool=False)\n",
    "df1.to_csv(DATA_ROOT_PATH / f'{CITY_NAME}_test_bids.csv', index=False)\n",
    "print(\n",
    "    'From', df1['utc_bid_dttm'].min(), \n",
    "    '\\n to', df1['utc_bid_dttm'].max()\n",
    ")\n",
    "print(f'df1 saved as {CITY_NAME}_test_bids.csv')"
   ]
  },
  {
   "cell_type": "markdown",
   "metadata": {},
   "source": [
    "## Process Data"
   ]
  },
  {
   "cell_type": "code",
   "execution_count": 89,
   "metadata": {},
   "outputs": [],
   "source": [
    "def parse_prices(s):\n",
    "    if isinstance(s, str) and s.startswith('[') and s.endswith(']'):\n",
    "        items = s.strip('[]').split()\n",
    "        return [float(item) for item in items] if items and items[0] != '' else []\n",
    "    else:\n",
    "        return []  # для None или некорректных значений"
   ]
  },
  {
   "cell_type": "markdown",
   "metadata": {},
   "source": [
    "total"
   ]
  },
  {
   "cell_type": "code",
   "execution_count": 90,
   "metadata": {},
   "outputs": [],
   "source": [
    "df_total = pd.read_csv(DATA_ROOT_PATH / f'{CITY_NAME}_total_bids.csv')\n",
    "\n",
    "df_total = df_total[df_total['order_type'] == ORDER_TYPE]\n",
    "df_total['bidding_algorithm_name'] = df_total['bidding_algorithm_name'].replace(np.nan, 'empty field')\n",
    "# df_total['available_prices_currency'] = df_total['available_prices_currency'].apply(parse_prices)"
   ]
  },
  {
   "cell_type": "code",
   "execution_count": 91,
   "metadata": {},
   "outputs": [],
   "source": [
    "# Убедитесь, что utc_bid_dttm — это datetime\n",
    "df_total['utc_bid_dttm'] = pd.to_datetime(df_total['utc_bid_dttm'])\n",
    "\n",
    "# Добавим колонку с датой (без времени)\n",
    "df_total['date'] = df_total['utc_bid_dttm'].dt.date\n",
    "\n",
    "# Группируем по дате и алгоритму, считаем количество\n",
    "counts = df_total.groupby(['date', 'bidding_algorithm_name']).size().reset_index(name='count')\n",
    "\n",
    "# Считаем общее количество по дням\n",
    "total_per_day = df_total.groupby('date').size().reset_index(name='total')\n",
    "\n",
    "# Объединяем, чтобы получить долю\n",
    "counts = counts.merge(total_per_day, on='date')\n",
    "counts['share'] = counts['count'] / counts['total']\n",
    "\n",
    "# Пивотируем для удобства построения\n",
    "pivot = counts.pivot(index='date', columns='bidding_algorithm_name', values='share').fillna(0)"
   ]
  },
  {
   "cell_type": "markdown",
   "metadata": {},
   "source": [
    "df0"
   ]
  },
  {
   "cell_type": "code",
   "execution_count": 92,
   "metadata": {},
   "outputs": [],
   "source": [
    "df0 = pd.read_csv(DATA_ROOT_PATH / f'{CITY_NAME}_before_bids.csv')\n",
    "df0 = df0[df0['order_type'] == ORDER_TYPE]\n",
    "df0['bidding_algorithm_name'] = df0['bidding_algorithm_name'].replace(np.nan, 'empty field')\n",
    "df0['available_prices_currency'] = df0['available_prices_currency'].apply(parse_prices)"
   ]
  },
  {
   "cell_type": "markdown",
   "metadata": {},
   "source": [
    "df1"
   ]
  },
  {
   "cell_type": "code",
   "execution_count": 93,
   "metadata": {},
   "outputs": [
    {
     "name": "stderr",
     "output_type": "stream",
     "text": [
      "/var/folders/6c/836pxtdj6t54m3v9r8r7z5fm0000gp/T/ipykernel_28365/1741608400.py:1: DtypeWarning: Columns (34) have mixed types. Specify dtype option on import or set low_memory=False.\n",
      "  df1 = pd.read_csv(DATA_ROOT_PATH / f'{CITY_NAME}_test_bids.csv')\n"
     ]
    }
   ],
   "source": [
    "df1 = pd.read_csv(DATA_ROOT_PATH / f'{CITY_NAME}_test_bids.csv')\n",
    "df1 = df1[df1['order_type'] == ORDER_TYPE]\n",
    "df1['bidding_algorithm_name'] = df1['bidding_algorithm_name'].replace(np.nan, 'empty field')\n",
    "df1['available_prices_currency'] = df1['available_prices_currency'].apply(parse_prices)"
   ]
  },
  {
   "cell_type": "markdown",
   "metadata": {},
   "source": [
    "## Result"
   ]
  },
  {
   "cell_type": "code",
   "execution_count": 94,
   "metadata": {},
   "outputs": [],
   "source": [
    "def format_dict(d, precision=4):\n",
    "    return {k: round(v, precision) if isinstance(v, float) else v for k, v in d.items()}"
   ]
  },
  {
   "cell_type": "markdown",
   "metadata": {},
   "source": [
    "total"
   ]
  },
  {
   "cell_type": "code",
   "execution_count": 95,
   "metadata": {},
   "outputs": [
    {
     "data": {
      "image/png": "[encoded data removed]",
      "text/plain": [
       "<Figure size 1200x600 with 1 Axes>"
      ]
     },
     "metadata": {},
     "output_type": "display_data"
    }
   ],
   "source": [
    "# Строим график\n",
    "pivot.plot(kind='line', marker='o', figsize=(12, 6))\n",
    "plt.title('Доля каждого bidding_algorithm_name по дням')\n",
    "plt.ylabel('Доля')\n",
    "plt.xlabel('Дата')\n",
    "plt.grid(True)\n",
    "plt.legend(title='bidding_algorithm_name')\n",
    "plt.tight_layout()\n",
    "plt.show()"
   ]
  },
  {
   "cell_type": "markdown",
   "metadata": {},
   "source": [
    "df0"
   ]
  },
  {
   "cell_type": "code",
   "execution_count": 96,
   "metadata": {},
   "outputs": [
    {
     "data": {
      "text/plain": [
       "array(['empty field'], dtype=object)"
      ]
     },
     "execution_count": 96,
     "metadata": {},
     "output_type": "execute_result"
    }
   ],
   "source": [
    "df0['bidding_algorithm_name'].unique()"
   ]
  },
  {
   "cell_type": "code",
   "execution_count": 97,
   "metadata": {},
   "outputs": [],
   "source": [
    "share_algo = share_bidding_algorithm(df0)\n",
    "share_matches = share_bid_price_matches(df0, algo_names=['empty field'], len_max=3)\n",
    "share_lengths = share_available_prices_length(df0, algo_names=['empty field'])\n",
    "share_matches_by_len = share_bid_price_matches_by_len(df0, algo_names=['empty field'], len_max=3)"
   ]
  },
  {
   "cell_type": "code",
   "execution_count": 98,
   "metadata": {},
   "outputs": [
    {
     "name": "stdout",
     "output_type": "stream",
     "text": [
      "Доля строк с нужным алгоритмом:\n",
      "{'empty field': 1.0}\n",
      "Максимальное кол-во шагов:\n",
      "3\n",
      "Доли длин available_prices_currency:\n",
      "{'len_0': 0.0,\n",
      " 'len_1': 0.0,\n",
      " 'len_2': 0.0,\n",
      " 'len_3': 0.9999,\n",
      " 'total': 2893923}\n",
      "Доли совпадений с SP/1/2/3 ценой и доли завершенных заказов:\n",
      "{'above_last': {'done_share': 0.25,\n",
      "                'share': 0.0},\n",
      " 'between_0_1': {'done_share': 0.5385,\n",
      "                 'share': 0.0},\n",
      " 'between_1_2': {'done_share': 0.5,\n",
      "                 'share': 0.0},\n",
      " 'match_first': {'done_share': 0.2165,\n",
      "                 'share': 0.0867},\n",
      " 'match_second': {'done_share': 0.1167,\n",
      "                  'share': 0.167},\n",
      " 'match_sp': {'done_share': 0.4589,\n",
      "              'share': 0.5659},\n",
      " 'match_third': {'done_share': 0.055,\n",
      "                 'share': 0.1754}}\n",
      "Доли совпадений с SP/1/2/3 ценой и доли завершенных заказов внутри каждой длины:\n",
      "{'len_1': {'above_last': {'done_share': nan,\n",
      "                          'share': 0.0},\n",
      "           'match_first': {'done_share': 0.0081,\n",
      "                           'share': 0.8921},\n",
      "           'match_second': {'done_share': nan,\n",
      "                            'share': 0.0},\n",
      "           'match_sp': {'done_share': 0.0077,\n",
      "                        'share': 0.9353},\n",
      "           'match_third': {'done_share': nan,\n",
      "                           'share': 0.0}},\n",
      " 'len_2': {'above_last': {'done_share': nan,\n",
      "                          'share': 0.0},\n",
      "           'between_0_1': {'done_share': nan,\n",
      "                           'share': 0.0},\n",
      "           'match_first': {'done_share': 0.0,\n",
      "                           'share': 0.0227},\n",
      "           'match_second': {'done_share': 0.0,\n",
      "                            'share': 0.5},\n",
      "           'match_sp': {'done_share': 0.0,\n",
      "                        'share': 0.4773},\n",
      "           'match_third': {'done_share': nan,\n",
      "                           'share': 0.0}},\n",
      " 'len_3': {'above_last': {'done_share': 0.25,\n",
      "                          'share': 0.0},\n",
      "           'between_0_1': {'done_share': 0.5385,\n",
      "                           'share': 0.0},\n",
      "           'between_1_2': {'done_share': 0.5,\n",
      "                           'share': 0.0},\n",
      "           'match_first': {'done_share': 0.2166,\n",
      "                           'share': 0.0867},\n",
      "           'match_second': {'done_share': 0.1167,\n",
      "                            'share': 0.167},\n",
      "           'match_sp': {'done_share': 0.4589,\n",
      "                        'share': 0.5659},\n",
      "           'match_third': {'done_share': 0.055,\n",
      "                           'share': 0.1754}}}\n"
     ]
    }
   ],
   "source": [
    "print('Доля строк с нужным алгоритмом:')\n",
    "pprint.pprint(format_dict(share_algo, 4), width=1)\n",
    "\n",
    "print('Максимальное кол-во шагов:')\n",
    "print(round(df0['available_prices_currency'].apply(len).max(), 0))\n",
    "\n",
    "print('Доли длин available_prices_currency:')\n",
    "pprint.pprint(format_dict(share_lengths, 4), width=1)\n",
    "\n",
    "print('Доли совпадений с SP/1/2/3 ценой и доли завершенных заказов:')\n",
    "formatted_share_matches = {}\n",
    "for k, v in share_matches.items():\n",
    "    if isinstance(v, dict):\n",
    "        formatted_share_matches[k] = {\n",
    "            'share': round(v['share'], 4),\n",
    "            'done_share': round(v['done_share'], 4)\n",
    "        }\n",
    "    else:\n",
    "        formatted_share_matches[k] = round(v, 4)\n",
    "pprint.pprint(formatted_share_matches, width=1)\n",
    "\n",
    "print('Доли совпадений с SP/1/2/3 ценой и доли завершенных заказов внутри каждой длины:')\n",
    "formatted_share_matches_by_len = {}\n",
    "for len_key, len_dict in share_matches_by_len.items():\n",
    "    formatted_share_matches_by_len[len_key] = {}\n",
    "    for k, v in len_dict.items():\n",
    "        if isinstance(v, dict):\n",
    "            formatted_share_matches_by_len[len_key][k] = {\n",
    "                'share': round(v['share'], 4),\n",
    "                'done_share': round(v['done_share'], 4)\n",
    "            }\n",
    "        else:\n",
    "            formatted_share_matches_by_len[len_key][k] = round(v, 4)\n",
    "pprint.pprint(formatted_share_matches_by_len, width=1)"
   ]
  },
  {
   "cell_type": "code",
   "execution_count": 99,
   "metadata": {},
   "outputs": [
    {
     "name": "stdout",
     "output_type": "stream",
     "text": [
      "0.5708742077795436 0.08673693114847907 0.16701791996538953 0.1753571190387581\n"
     ]
    }
   ],
   "source": [
    "print(\n",
    "    len(df0[(df0['option_number'] == 'startprice') & (df0['bidding_algorithm_name'] == 'empty field')])/len(df0[df0['bidding_algorithm_name'] == 'empty field']),\n",
    "    len(df0[(df0['option_number'] == 'option 1') & (df0['bidding_algorithm_name'] == 'empty field')])/len(df0[df0['bidding_algorithm_name'] == 'empty field']),\n",
    "    len(df0[(df0['option_number'] == 'option 2') & (df0['bidding_algorithm_name'] == 'empty field')])/len(df0[df0['bidding_algorithm_name'] == 'empty field']),\n",
    "    len(df0[(df0['option_number'] == 'option 3') & (df0['bidding_algorithm_name'] == 'empty field')])/len(df0[df0['bidding_algorithm_name'] == 'empty field']),\n",
    "    )"
   ]
  },
  {
   "cell_type": "markdown",
   "metadata": {},
   "source": [
    "df1"
   ]
  },
  {
   "cell_type": "code",
   "execution_count": 100,
   "metadata": {},
   "outputs": [
    {
     "data": {
      "text/plain": [
       "array(['empty field', 'bid_mph_recalculated', 'bid_mph_default'],\n",
       "      dtype=object)"
      ]
     },
     "execution_count": 100,
     "metadata": {},
     "output_type": "execute_result"
    }
   ],
   "source": [
    "df1['bidding_algorithm_name'].unique()"
   ]
  },
  {
   "cell_type": "code",
   "execution_count": 101,
   "metadata": {},
   "outputs": [],
   "source": [
    "share_algo = share_bidding_algorithm(df1)\n",
    "share_matches = share_bid_price_matches(df1, algo_names=['empty field'], len_max=3)\n",
    "share_lengths = share_available_prices_length(df1, algo_names=['empty field'])\n",
    "share_matches_by_len = share_bid_price_matches_by_len(df1, algo_names=['empty field'], len_max=3)"
   ]
  },
  {
   "cell_type": "code",
   "execution_count": 102,
   "metadata": {},
   "outputs": [
    {
     "name": "stdout",
     "output_type": "stream",
     "text": [
      "Доля строк с нужным алгоритмом:\n",
      "{'bid_mph_default': 0.1162,\n",
      " 'bid_mph_recalculated': 0.2571,\n",
      " 'empty field': 0.6266}\n",
      "Максимальное кол-во шагов:\n",
      "3\n",
      "Доли длин available_prices_currency:\n",
      "{'len_0': 0.0,\n",
      " 'len_1': 0.0,\n",
      " 'len_2': 0.0,\n",
      " 'len_3': 1.0,\n",
      " 'total': 206201}\n",
      "Доли совпадений с SP/1/2/3 ценой и доли завершенных заказов:\n",
      "{'above_last': {'done_share': nan,\n",
      "                'share': 0.0},\n",
      " 'between_0_1': {'done_share': 0.0,\n",
      "                 'share': 0.0},\n",
      " 'between_1_2': {'done_share': 1.0,\n",
      "                 'share': 0.0},\n",
      " 'match_first': {'done_share': 0.2124,\n",
      "                 'share': 0.085},\n",
      " 'match_second': {'done_share': 0.1127,\n",
      "                  'share': 0.166},\n",
      " 'match_sp': {'done_share': 0.4504,\n",
      "              'share': 0.5741},\n",
      " 'match_third': {'done_share': 0.0517,\n",
      "                 'share': 0.1704}}\n",
      "Доли совпадений с SP/1/2/3 ценой и доли завершенных заказов внутри каждой длины:\n",
      "{'len_1': {'above_last': {'done_share': nan,\n",
      "                          'share': 0.0},\n",
      "           'match_first': {'done_share': 0.0,\n",
      "                           'share': 1.0},\n",
      "           'match_second': {'done_share': nan,\n",
      "                            'share': 0.0},\n",
      "           'match_sp': {'done_share': 0.0,\n",
      "                        'share': 1.0},\n",
      "           'match_third': {'done_share': nan,\n",
      "                           'share': 0.0}},\n",
      " 'len_3': {'above_last': {'done_share': nan,\n",
      "                          'share': 0.0},\n",
      "           'between_0_1': {'done_share': 0.0,\n",
      "                           'share': 0.0},\n",
      "           'between_1_2': {'done_share': 1.0,\n",
      "                           'share': 0.0},\n",
      "           'match_first': {'done_share': 0.2125,\n",
      "                           'share': 0.085},\n",
      "           'match_second': {'done_share': 0.1127,\n",
      "                            'share': 0.166},\n",
      "           'match_sp': {'done_share': 0.4504,\n",
      "                        'share': 0.5741},\n",
      "           'match_third': {'done_share': 0.0517,\n",
      "                           'share': 0.1704}}}\n"
     ]
    }
   ],
   "source": [
    "print('Доля строк с нужным алгоритмом:')\n",
    "pprint.pprint(format_dict(share_algo, 4), width=1)\n",
    "\n",
    "print('Максимальное кол-во шагов:')\n",
    "print(round(df1['available_prices_currency'].apply(len).max(), 0))\n",
    "\n",
    "print('Доли длин available_prices_currency:')\n",
    "pprint.pprint(format_dict(share_lengths, 4), width=1)\n",
    "\n",
    "print('Доли совпадений с SP/1/2/3 ценой и доли завершенных заказов:')\n",
    "formatted_share_matches = {}\n",
    "for k, v in share_matches.items():\n",
    "    if isinstance(v, dict):\n",
    "        formatted_share_matches[k] = {\n",
    "            'share': round(v['share'], 4),\n",
    "            'done_share': round(v['done_share'], 4)\n",
    "        }\n",
    "    else:\n",
    "        formatted_share_matches[k] = round(v, 4)\n",
    "pprint.pprint(formatted_share_matches, width=1)\n",
    "\n",
    "print('Доли совпадений с SP/1/2/3 ценой и доли завершенных заказов внутри каждой длины:')\n",
    "formatted_share_matches_by_len = {}\n",
    "for len_key, len_dict in share_matches_by_len.items():\n",
    "    formatted_share_matches_by_len[len_key] = {}\n",
    "    for k, v in len_dict.items():\n",
    "        if isinstance(v, dict):\n",
    "            formatted_share_matches_by_len[len_key][k] = {\n",
    "                'share': round(v['share'], 4),\n",
    "                'done_share': round(v['done_share'], 4)\n",
    "            }\n",
    "        else:\n",
    "            formatted_share_matches_by_len[len_key][k] = round(v, 4)\n",
    "pprint.pprint(formatted_share_matches_by_len, width=1)"
   ]
  },
  {
   "cell_type": "code",
   "execution_count": 103,
   "metadata": {},
   "outputs": [],
   "source": [
    "share_algo = share_bidding_algorithm(df1)\n",
    "share_matches = share_bid_price_matches(df1, algo_names=['bid_mph_recalculated', \n",
    "                                                         'bid_mph_default'], len_max=3)\n",
    "share_lengths = share_available_prices_length(df1, algo_names=['bid_mph_recalculated', \n",
    "                                                               'bid_mph_default'])\n",
    "share_matches_by_len = share_bid_price_matches_by_len(df1, algo_names=['bid_mph_recalculated', \n",
    "                                                                       'bid_mph_no_exposure_default'], len_max=3)"
   ]
  },
  {
   "cell_type": "code",
   "execution_count": 104,
   "metadata": {},
   "outputs": [
    {
     "name": "stdout",
     "output_type": "stream",
     "text": [
      "Доля строк с нужным алгоритмом:\n",
      "{'bid_mph_default': 0.1162,\n",
      " 'bid_mph_recalculated': 0.2571,\n",
      " 'empty field': 0.6266}\n",
      "Максимальное кол-во шагов:\n",
      "3\n",
      "Доли длин available_prices_currency:\n",
      "{'len_0': 0.0,\n",
      " 'len_1': 0.0001,\n",
      " 'len_2': 0.0,\n",
      " 'len_3': 0.9999,\n",
      " 'total': 122860}\n",
      "Доли совпадений с SP/1/2/3 ценой и доли завершенных заказов:\n",
      "{'above_last': {'done_share': nan,\n",
      "                'share': 0.0},\n",
      " 'between_0_1': {'done_share': 1.0,\n",
      "                 'share': 0.0},\n",
      " 'between_1_2': {'done_share': 0.5,\n",
      "                 'share': 0.0},\n",
      " 'match_first': {'done_share': 0.2222,\n",
      "                 'share': 0.0628},\n",
      " 'match_second': {'done_share': 0.1324,\n",
      "                  'share': 0.1533},\n",
      " 'match_sp': {'done_share': 0.4485,\n",
      "              'share': 0.5821},\n",
      " 'match_third': {'done_share': 0.079,\n",
      "                 'share': 0.1977}}\n",
      "Доли совпадений с SP/1/2/3 ценой и доли завершенных заказов внутри каждой длины:\n",
      "{'len_3': {'above_last': {'done_share': nan,\n",
      "                          'share': 0.0},\n",
      "           'between_0_1': {'done_share': 1.0,\n",
      "                           'share': 0.0},\n",
      "           'between_1_2': {'done_share': 0.5,\n",
      "                           'share': 0.0},\n",
      "           'match_first': {'done_share': 0.223,\n",
      "                           'share': 0.061},\n",
      "           'match_second': {'done_share': 0.1476,\n",
      "                            'share': 0.1329},\n",
      "           'match_sp': {'done_share': 0.4383,\n",
      "                        'share': 0.6321},\n",
      "           'match_third': {'done_share': 0.1016,\n",
      "                           'share': 0.1698}}}\n"
     ]
    }
   ],
   "source": [
    "print('Доля строк с нужным алгоритмом:')\n",
    "pprint.pprint(format_dict(share_algo, 4), width=1)\n",
    "\n",
    "print('Максимальное кол-во шагов:')\n",
    "print(round(df1['available_prices_currency'].apply(len).max(), 0))\n",
    "\n",
    "print('Доли длин available_prices_currency:')\n",
    "pprint.pprint(format_dict(share_lengths, 4), width=1)\n",
    "\n",
    "print('Доли совпадений с SP/1/2/3 ценой и доли завершенных заказов:')\n",
    "formatted_share_matches = {}\n",
    "for k, v in share_matches.items():\n",
    "    if isinstance(v, dict):\n",
    "        formatted_share_matches[k] = {\n",
    "            'share': round(v['share'], 4),\n",
    "            'done_share': round(v['done_share'], 4)\n",
    "        }\n",
    "    else:\n",
    "        formatted_share_matches[k] = round(v, 4)\n",
    "pprint.pprint(formatted_share_matches, width=1)\n",
    "\n",
    "print('Доли совпадений с SP/1/2/3 ценой и доли завершенных заказов внутри каждой длины:')\n",
    "formatted_share_matches_by_len = {}\n",
    "for len_key, len_dict in share_matches_by_len.items():\n",
    "    formatted_share_matches_by_len[len_key] = {}\n",
    "    for k, v in len_dict.items():\n",
    "        if isinstance(v, dict):\n",
    "            formatted_share_matches_by_len[len_key][k] = {\n",
    "                'share': round(v['share'], 4),\n",
    "                'done_share': round(v['done_share'], 4)\n",
    "            }\n",
    "        else:\n",
    "            formatted_share_matches_by_len[len_key][k] = round(v, 4)\n",
    "pprint.pprint(formatted_share_matches_by_len, width=1)"
   ]
  },
  {
   "cell_type": "code",
   "execution_count": null,
   "metadata": {},
   "outputs": [],
   "source": []
  }
 ],
 "metadata": {
  "kernelspec": {
   "display_name": "py38",
   "language": "python",
   "name": "python3"
  },
  "language_info": {
   "codemirror_mode": {
    "name": "ipython",
    "version": 3
   },
   "file_extension": ".py",
   "mimetype": "text/x-python",
   "name": "python",
   "nbconvert_exporter": "python",
   "pygments_lexer": "ipython3",
   "version": "3.8.19"
  }
 },
 "nbformat": 4,
 "nbformat_minor": 2
}
