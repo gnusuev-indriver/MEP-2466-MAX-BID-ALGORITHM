{
 "cells": [
  {
   "cell_type": "code",
   "execution_count": 13,
   "metadata": {},
   "outputs": [
    {
     "name": "stdout",
     "output_type": "stream",
     "text": [
      "The autoreload extension is already loaded. To reload it, use:\n",
      "  %reload_ext autoreload\n"
     ]
    }
   ],
   "source": [
    "%load_ext autoreload\n",
    "%autoreload 2\n",
    "\n",
    "import pandas as pd\n",
    "from get_data_copy import get_data\n",
    "import plotly.express as px"
   ]
  },
  {
   "cell_type": "code",
   "execution_count": 2,
   "metadata": {},
   "outputs": [],
   "source": [
    "def get_city_params(city_params):\n",
    "    print(city_params)\n",
    "    for city_id, params in city_params.items():\n",
    "        # Если у города несколько конфигураций (как у 4373)\n",
    "        if isinstance(params, list):\n",
    "            for config in params:\n",
    "                yield city_id, config['eta'], config['type_name'][0]\n",
    "        # Для городов с одной конфигурацией\n",
    "        else:\n",
    "            yield city_id, params['eta'], params['type_name'][0]\n",
    "\n",
    "def city_data(city_params):\n",
    "    all_city_data = []\n",
    "\n",
    "    for city_id, eta, type_name in get_city_params(city_params):\n",
    "        print(f\"{city_id}, {eta}, {type_name}\")\n",
    "        print(f'{city_id}...')\n",
    "        df_temp = get_data(start_date='2025-02-01', stop_date='2025-02-28', \n",
    "                           pickup_eta_minutes=eta, \n",
    "                           city_id=city_id,\n",
    "                           type_name=type_name)\n",
    "        print(f'{city_id} done')\n",
    "        all_city_data.append(df_temp)\n",
    "\n",
    "    return pd.concat(all_city_data, ignore_index=True)"
   ]
  },
  {
   "cell_type": "code",
   "execution_count": 3,
   "metadata": {},
   "outputs": [],
   "source": [
    "city_params = {\n",
    "    4515: {'eta': 4.07, 'type_name': [\"'auto_econom'\"]},\n",
    "    4180: {'eta': 4.24, 'type_name': [\"'auto_econom'\"]},\n",
    "    4373: [\n",
    "        {'eta': 6.10, 'type_name': [\"'moto_econom'\"]},  \n",
    "        {'eta': 7.48, 'type_name': [\"'auto_econom'\"]}\n",
    "    ],\n",
    "    4196: {'eta': 5.12, 'type_name': [\"'auto_econom'\"]},\n",
    "    4241: {'eta': 3.75, 'type_name': [\"'auto_econom'\"]}\n",
    "}"
   ]
  },
  {
   "cell_type": "code",
   "execution_count": 5,
   "metadata": {},
   "outputs": [
    {
     "name": "stdout",
     "output_type": "stream",
     "text": [
      "{4515: {'eta': 4.07, 'type_name': [\"'auto_econom'\"]}, 4180: {'eta': 4.24, 'type_name': [\"'auto_econom'\"]}, 4373: [{'eta': 6.1, 'type_name': [\"'moto_econom'\"]}, {'eta': 7.48, 'type_name': [\"'auto_econom'\"]}], 4196: {'eta': 5.12, 'type_name': [\"'auto_econom'\"]}, 4241: {'eta': 3.75, 'type_name': [\"'auto_econom'\"]}}\n",
      "4515, 4.07, 'auto_econom'\n",
      "4515...\n",
      "4515 done\n",
      "4180, 4.24, 'auto_econom'\n",
      "4180...\n",
      "4180 done\n",
      "4373, 6.1, 'moto_econom'\n",
      "4373...\n",
      "4373 done\n",
      "4373, 7.48, 'auto_econom'\n",
      "4373...\n",
      "4373 done\n",
      "4196, 5.12, 'auto_econom'\n",
      "4196...\n",
      "4196 done\n",
      "4241, 3.75, 'auto_econom'\n",
      "4241...\n",
      "4241 done\n"
     ]
    },
    {
     "data": {
      "text/html": [
       "<div>\n",
       "<style scoped>\n",
       "    .dataframe tbody tr th:only-of-type {\n",
       "        vertical-align: middle;\n",
       "    }\n",
       "\n",
       "    .dataframe tbody tr th {\n",
       "        vertical-align: top;\n",
       "    }\n",
       "\n",
       "    .dataframe thead th {\n",
       "        text-align: right;\n",
       "    }\n",
       "</style>\n",
       "<table border=\"1\" class=\"dataframe\">\n",
       "  <thead>\n",
       "    <tr style=\"text-align: right;\">\n",
       "      <th></th>\n",
       "      <th>0</th>\n",
       "      <th>1</th>\n",
       "      <th>2</th>\n",
       "      <th>3</th>\n",
       "      <th>4</th>\n",
       "      <th>5</th>\n",
       "    </tr>\n",
       "  </thead>\n",
       "  <tbody>\n",
       "    <tr>\n",
       "      <th>city_id</th>\n",
       "      <td>4515</td>\n",
       "      <td>4180</td>\n",
       "      <td>4373</td>\n",
       "      <td>4373</td>\n",
       "      <td>4196</td>\n",
       "      <td>4241</td>\n",
       "    </tr>\n",
       "    <tr>\n",
       "      <th>type_name</th>\n",
       "      <td>auto_econom</td>\n",
       "      <td>auto_econom</td>\n",
       "      <td>moto_econom</td>\n",
       "      <td>auto_econom</td>\n",
       "      <td>auto_econom</td>\n",
       "      <td>auto_econom</td>\n",
       "    </tr>\n",
       "    <tr>\n",
       "      <th>rides_cnt</th>\n",
       "      <td>901525</td>\n",
       "      <td>599401</td>\n",
       "      <td>377337</td>\n",
       "      <td>288311</td>\n",
       "      <td>408601</td>\n",
       "      <td>903357</td>\n",
       "    </tr>\n",
       "    <tr>\n",
       "      <th>t_param</th>\n",
       "      <td>4.07</td>\n",
       "      <td>4.24</td>\n",
       "      <td>6.1</td>\n",
       "      <td>7.48</td>\n",
       "      <td>5.12</td>\n",
       "      <td>3.75</td>\n",
       "    </tr>\n",
       "    <tr>\n",
       "      <th>badbids_share_00</th>\n",
       "      <td>0.726889</td>\n",
       "      <td>0.663652</td>\n",
       "      <td>0.724388</td>\n",
       "      <td>0.794904</td>\n",
       "      <td>0.796652</td>\n",
       "      <td>0.674566</td>\n",
       "    </tr>\n",
       "    <tr>\n",
       "      <th>badbid_ratio_avg_00</th>\n",
       "      <td>1.195608</td>\n",
       "      <td>1.163848</td>\n",
       "      <td>1.330198</td>\n",
       "      <td>1.393964</td>\n",
       "      <td>1.255654</td>\n",
       "      <td>1.186291</td>\n",
       "    </tr>\n",
       "    <tr>\n",
       "      <th>rides_at_risk_00</th>\n",
       "      <td>0.636433</td>\n",
       "      <td>0.578085</td>\n",
       "      <td>0.649756</td>\n",
       "      <td>0.72735</td>\n",
       "      <td>0.732646</td>\n",
       "      <td>0.564442</td>\n",
       "    </tr>\n",
       "    <tr>\n",
       "      <th>badbids_share_05</th>\n",
       "      <td>0.615007</td>\n",
       "      <td>0.513415</td>\n",
       "      <td>0.648904</td>\n",
       "      <td>0.738093</td>\n",
       "      <td>0.697589</td>\n",
       "      <td>0.587461</td>\n",
       "    </tr>\n",
       "    <tr>\n",
       "      <th>badbid_ratio_avg_05</th>\n",
       "      <td>1.227881</td>\n",
       "      <td>1.20541</td>\n",
       "      <td>1.366117</td>\n",
       "      <td>1.422268</td>\n",
       "      <td>1.289247</td>\n",
       "      <td>1.209533</td>\n",
       "    </tr>\n",
       "    <tr>\n",
       "      <th>rides_at_risk_05</th>\n",
       "      <td>0.483838</td>\n",
       "      <td>0.388148</td>\n",
       "      <td>0.54507</td>\n",
       "      <td>0.651487</td>\n",
       "      <td>0.589529</td>\n",
       "      <td>0.46579</td>\n",
       "    </tr>\n",
       "    <tr>\n",
       "      <th>badbids_share_10</th>\n",
       "      <td>0.513233</td>\n",
       "      <td>0.411824</td>\n",
       "      <td>0.578205</td>\n",
       "      <td>0.677056</td>\n",
       "      <td>0.599567</td>\n",
       "      <td>0.457874</td>\n",
       "    </tr>\n",
       "    <tr>\n",
       "      <th>badbid_ratio_avg_10</th>\n",
       "      <td>1.258048</td>\n",
       "      <td>1.237749</td>\n",
       "      <td>1.40168</td>\n",
       "      <td>1.453514</td>\n",
       "      <td>1.324355</td>\n",
       "      <td>1.247454</td>\n",
       "    </tr>\n",
       "    <tr>\n",
       "      <th>rides_at_risk_10</th>\n",
       "      <td>0.373782</td>\n",
       "      <td>0.282108</td>\n",
       "      <td>0.458935</td>\n",
       "      <td>0.578199</td>\n",
       "      <td>0.455023</td>\n",
       "      <td>0.319818</td>\n",
       "    </tr>\n",
       "    <tr>\n",
       "      <th>badbids_share_125</th>\n",
       "      <td>0.463903</td>\n",
       "      <td>0.352196</td>\n",
       "      <td>0.541519</td>\n",
       "      <td>0.644416</td>\n",
       "      <td>0.546976</td>\n",
       "      <td>0.411515</td>\n",
       "    </tr>\n",
       "    <tr>\n",
       "      <th>badbid_ratio_avg_125</th>\n",
       "      <td>1.273549</td>\n",
       "      <td>1.258868</td>\n",
       "      <td>1.421273</td>\n",
       "      <td>1.470785</td>\n",
       "      <td>1.344783</td>\n",
       "      <td>1.262654</td>\n",
       "    </tr>\n",
       "    <tr>\n",
       "      <th>rides_at_risk_125</th>\n",
       "      <td>0.325759</td>\n",
       "      <td>0.227078</td>\n",
       "      <td>0.417205</td>\n",
       "      <td>0.53898</td>\n",
       "      <td>0.392074</td>\n",
       "      <td>0.27755</td>\n",
       "    </tr>\n",
       "    <tr>\n",
       "      <th>badbids_share_15</th>\n",
       "      <td>0.421153</td>\n",
       "      <td>0.300787</td>\n",
       "      <td>0.5079</td>\n",
       "      <td>0.611587</td>\n",
       "      <td>0.502219</td>\n",
       "      <td>0.364713</td>\n",
       "    </tr>\n",
       "    <tr>\n",
       "      <th>badbid_ratio_avg_15</th>\n",
       "      <td>1.287382</td>\n",
       "      <td>1.279693</td>\n",
       "      <td>1.440054</td>\n",
       "      <td>1.488678</td>\n",
       "      <td>1.363238</td>\n",
       "      <td>1.278703</td>\n",
       "    </tr>\n",
       "    <tr>\n",
       "      <th>rides_at_risk_15</th>\n",
       "      <td>0.28918</td>\n",
       "      <td>0.183466</td>\n",
       "      <td>0.38282</td>\n",
       "      <td>0.502107</td>\n",
       "      <td>0.341632</td>\n",
       "      <td>0.236476</td>\n",
       "    </tr>\n",
       "  </tbody>\n",
       "</table>\n",
       "</div>"
      ],
      "text/plain": [
       "                                0            1            2            3  \\\n",
       "city_id                      4515         4180         4373         4373   \n",
       "type_name             auto_econom  auto_econom  moto_econom  auto_econom   \n",
       "rides_cnt                  901525       599401       377337       288311   \n",
       "t_param                      4.07         4.24          6.1         7.48   \n",
       "badbids_share_00         0.726889     0.663652     0.724388     0.794904   \n",
       "badbid_ratio_avg_00      1.195608     1.163848     1.330198     1.393964   \n",
       "rides_at_risk_00         0.636433     0.578085     0.649756      0.72735   \n",
       "badbids_share_05         0.615007     0.513415     0.648904     0.738093   \n",
       "badbid_ratio_avg_05      1.227881      1.20541     1.366117     1.422268   \n",
       "rides_at_risk_05         0.483838     0.388148      0.54507     0.651487   \n",
       "badbids_share_10         0.513233     0.411824     0.578205     0.677056   \n",
       "badbid_ratio_avg_10      1.258048     1.237749      1.40168     1.453514   \n",
       "rides_at_risk_10         0.373782     0.282108     0.458935     0.578199   \n",
       "badbids_share_125        0.463903     0.352196     0.541519     0.644416   \n",
       "badbid_ratio_avg_125     1.273549     1.258868     1.421273     1.470785   \n",
       "rides_at_risk_125        0.325759     0.227078     0.417205      0.53898   \n",
       "badbids_share_15         0.421153     0.300787       0.5079     0.611587   \n",
       "badbid_ratio_avg_15      1.287382     1.279693     1.440054     1.488678   \n",
       "rides_at_risk_15          0.28918     0.183466      0.38282     0.502107   \n",
       "\n",
       "                                4            5  \n",
       "city_id                      4196         4241  \n",
       "type_name             auto_econom  auto_econom  \n",
       "rides_cnt                  408601       903357  \n",
       "t_param                      5.12         3.75  \n",
       "badbids_share_00         0.796652     0.674566  \n",
       "badbid_ratio_avg_00      1.255654     1.186291  \n",
       "rides_at_risk_00         0.732646     0.564442  \n",
       "badbids_share_05         0.697589     0.587461  \n",
       "badbid_ratio_avg_05      1.289247     1.209533  \n",
       "rides_at_risk_05         0.589529      0.46579  \n",
       "badbids_share_10         0.599567     0.457874  \n",
       "badbid_ratio_avg_10      1.324355     1.247454  \n",
       "rides_at_risk_10         0.455023     0.319818  \n",
       "badbids_share_125        0.546976     0.411515  \n",
       "badbid_ratio_avg_125     1.344783     1.262654  \n",
       "rides_at_risk_125        0.392074      0.27755  \n",
       "badbids_share_15         0.502219     0.364713  \n",
       "badbid_ratio_avg_15      1.363238     1.278703  \n",
       "rides_at_risk_15         0.341632     0.236476  "
      ]
     },
     "execution_count": 5,
     "metadata": {},
     "output_type": "execute_result"
    }
   ],
   "source": [
    "df = city_data(city_params)\n",
    "df.to_csv(\"/Users/georgiinusuev/PycharmProjects/work/badbids/exp_cities/output.csv\", index=False)\n",
    "df.transpose()"
   ]
  },
  {
   "cell_type": "code",
   "execution_count": null,
   "metadata": {},
   "outputs": [
    {
     "data": {
      "text/html": [
       "<div>\n",
       "<style scoped>\n",
       "    .dataframe tbody tr th:only-of-type {\n",
       "        vertical-align: middle;\n",
       "    }\n",
       "\n",
       "    .dataframe tbody tr th {\n",
       "        vertical-align: top;\n",
       "    }\n",
       "\n",
       "    .dataframe thead th {\n",
       "        text-align: right;\n",
       "    }\n",
       "</style>\n",
       "<table border=\"1\" class=\"dataframe\">\n",
       "  <thead>\n",
       "    <tr style=\"text-align: right;\">\n",
       "      <th></th>\n",
       "      <th>city</th>\n",
       "      <th>type</th>\n",
       "      <th>t_param</th>\n",
       "      <th>param</th>\n",
       "      <th>badbids_share</th>\n",
       "      <th>rides_at_risk</th>\n",
       "    </tr>\n",
       "  </thead>\n",
       "  <tbody>\n",
       "    <tr>\n",
       "      <th>5</th>\n",
       "      <td>4180</td>\n",
       "      <td>auto_econom</td>\n",
       "      <td>4.24</td>\n",
       "      <td>0%</td>\n",
       "      <td>0.663652</td>\n",
       "      <td>0.578085</td>\n",
       "    </tr>\n",
       "    <tr>\n",
       "      <th>6</th>\n",
       "      <td>4180</td>\n",
       "      <td>auto_econom</td>\n",
       "      <td>4.24</td>\n",
       "      <td>5%</td>\n",
       "      <td>0.513415</td>\n",
       "      <td>0.388148</td>\n",
       "    </tr>\n",
       "    <tr>\n",
       "      <th>7</th>\n",
       "      <td>4180</td>\n",
       "      <td>auto_econom</td>\n",
       "      <td>4.24</td>\n",
       "      <td>10%</td>\n",
       "      <td>0.411824</td>\n",
       "      <td>0.282108</td>\n",
       "    </tr>\n",
       "    <tr>\n",
       "      <th>8</th>\n",
       "      <td>4180</td>\n",
       "      <td>auto_econom</td>\n",
       "      <td>4.24</td>\n",
       "      <td>12.50%</td>\n",
       "      <td>0.352196</td>\n",
       "      <td>0.227078</td>\n",
       "    </tr>\n",
       "    <tr>\n",
       "      <th>9</th>\n",
       "      <td>4180</td>\n",
       "      <td>auto_econom</td>\n",
       "      <td>4.24</td>\n",
       "      <td>15%</td>\n",
       "      <td>0.300787</td>\n",
       "      <td>0.183466</td>\n",
       "    </tr>\n",
       "    <tr>\n",
       "      <th>20</th>\n",
       "      <td>4196</td>\n",
       "      <td>auto_econom</td>\n",
       "      <td>5.12</td>\n",
       "      <td>0%</td>\n",
       "      <td>0.796652</td>\n",
       "      <td>0.732646</td>\n",
       "    </tr>\n",
       "    <tr>\n",
       "      <th>21</th>\n",
       "      <td>4196</td>\n",
       "      <td>auto_econom</td>\n",
       "      <td>5.12</td>\n",
       "      <td>5%</td>\n",
       "      <td>0.697589</td>\n",
       "      <td>0.589529</td>\n",
       "    </tr>\n",
       "    <tr>\n",
       "      <th>22</th>\n",
       "      <td>4196</td>\n",
       "      <td>auto_econom</td>\n",
       "      <td>5.12</td>\n",
       "      <td>10%</td>\n",
       "      <td>0.599567</td>\n",
       "      <td>0.455023</td>\n",
       "    </tr>\n",
       "    <tr>\n",
       "      <th>23</th>\n",
       "      <td>4196</td>\n",
       "      <td>auto_econom</td>\n",
       "      <td>5.12</td>\n",
       "      <td>12.50%</td>\n",
       "      <td>0.546976</td>\n",
       "      <td>0.392074</td>\n",
       "    </tr>\n",
       "    <tr>\n",
       "      <th>24</th>\n",
       "      <td>4196</td>\n",
       "      <td>auto_econom</td>\n",
       "      <td>5.12</td>\n",
       "      <td>15%</td>\n",
       "      <td>0.502219</td>\n",
       "      <td>0.341632</td>\n",
       "    </tr>\n",
       "    <tr>\n",
       "      <th>25</th>\n",
       "      <td>4241</td>\n",
       "      <td>auto_econom</td>\n",
       "      <td>3.75</td>\n",
       "      <td>0%</td>\n",
       "      <td>0.674566</td>\n",
       "      <td>0.564442</td>\n",
       "    </tr>\n",
       "    <tr>\n",
       "      <th>26</th>\n",
       "      <td>4241</td>\n",
       "      <td>auto_econom</td>\n",
       "      <td>3.75</td>\n",
       "      <td>5%</td>\n",
       "      <td>0.587461</td>\n",
       "      <td>0.465790</td>\n",
       "    </tr>\n",
       "    <tr>\n",
       "      <th>27</th>\n",
       "      <td>4241</td>\n",
       "      <td>auto_econom</td>\n",
       "      <td>3.75</td>\n",
       "      <td>10%</td>\n",
       "      <td>0.457874</td>\n",
       "      <td>0.319818</td>\n",
       "    </tr>\n",
       "    <tr>\n",
       "      <th>28</th>\n",
       "      <td>4241</td>\n",
       "      <td>auto_econom</td>\n",
       "      <td>3.75</td>\n",
       "      <td>12.50%</td>\n",
       "      <td>0.411515</td>\n",
       "      <td>0.277550</td>\n",
       "    </tr>\n",
       "    <tr>\n",
       "      <th>29</th>\n",
       "      <td>4241</td>\n",
       "      <td>auto_econom</td>\n",
       "      <td>3.75</td>\n",
       "      <td>15%</td>\n",
       "      <td>0.364713</td>\n",
       "      <td>0.236476</td>\n",
       "    </tr>\n",
       "    <tr>\n",
       "      <th>15</th>\n",
       "      <td>4373</td>\n",
       "      <td>auto_econom</td>\n",
       "      <td>7.48</td>\n",
       "      <td>0%</td>\n",
       "      <td>0.794904</td>\n",
       "      <td>0.727350</td>\n",
       "    </tr>\n",
       "    <tr>\n",
       "      <th>16</th>\n",
       "      <td>4373</td>\n",
       "      <td>auto_econom</td>\n",
       "      <td>7.48</td>\n",
       "      <td>5%</td>\n",
       "      <td>0.738093</td>\n",
       "      <td>0.651487</td>\n",
       "    </tr>\n",
       "    <tr>\n",
       "      <th>17</th>\n",
       "      <td>4373</td>\n",
       "      <td>auto_econom</td>\n",
       "      <td>7.48</td>\n",
       "      <td>10%</td>\n",
       "      <td>0.677056</td>\n",
       "      <td>0.578199</td>\n",
       "    </tr>\n",
       "    <tr>\n",
       "      <th>18</th>\n",
       "      <td>4373</td>\n",
       "      <td>auto_econom</td>\n",
       "      <td>7.48</td>\n",
       "      <td>12.50%</td>\n",
       "      <td>0.644416</td>\n",
       "      <td>0.538980</td>\n",
       "    </tr>\n",
       "    <tr>\n",
       "      <th>19</th>\n",
       "      <td>4373</td>\n",
       "      <td>auto_econom</td>\n",
       "      <td>7.48</td>\n",
       "      <td>15%</td>\n",
       "      <td>0.611587</td>\n",
       "      <td>0.502107</td>\n",
       "    </tr>\n",
       "    <tr>\n",
       "      <th>10</th>\n",
       "      <td>4373</td>\n",
       "      <td>moto_econom</td>\n",
       "      <td>6.10</td>\n",
       "      <td>0%</td>\n",
       "      <td>0.724388</td>\n",
       "      <td>0.649756</td>\n",
       "    </tr>\n",
       "    <tr>\n",
       "      <th>11</th>\n",
       "      <td>4373</td>\n",
       "      <td>moto_econom</td>\n",
       "      <td>6.10</td>\n",
       "      <td>5%</td>\n",
       "      <td>0.648904</td>\n",
       "      <td>0.545070</td>\n",
       "    </tr>\n",
       "    <tr>\n",
       "      <th>12</th>\n",
       "      <td>4373</td>\n",
       "      <td>moto_econom</td>\n",
       "      <td>6.10</td>\n",
       "      <td>10%</td>\n",
       "      <td>0.578205</td>\n",
       "      <td>0.458935</td>\n",
       "    </tr>\n",
       "    <tr>\n",
       "      <th>13</th>\n",
       "      <td>4373</td>\n",
       "      <td>moto_econom</td>\n",
       "      <td>6.10</td>\n",
       "      <td>12.50%</td>\n",
       "      <td>0.541519</td>\n",
       "      <td>0.417205</td>\n",
       "    </tr>\n",
       "    <tr>\n",
       "      <th>14</th>\n",
       "      <td>4373</td>\n",
       "      <td>moto_econom</td>\n",
       "      <td>6.10</td>\n",
       "      <td>15%</td>\n",
       "      <td>0.507900</td>\n",
       "      <td>0.382820</td>\n",
       "    </tr>\n",
       "    <tr>\n",
       "      <th>0</th>\n",
       "      <td>4515</td>\n",
       "      <td>auto_econom</td>\n",
       "      <td>4.07</td>\n",
       "      <td>0%</td>\n",
       "      <td>0.726889</td>\n",
       "      <td>0.636433</td>\n",
       "    </tr>\n",
       "    <tr>\n",
       "      <th>1</th>\n",
       "      <td>4515</td>\n",
       "      <td>auto_econom</td>\n",
       "      <td>4.07</td>\n",
       "      <td>5%</td>\n",
       "      <td>0.615007</td>\n",
       "      <td>0.483838</td>\n",
       "    </tr>\n",
       "    <tr>\n",
       "      <th>2</th>\n",
       "      <td>4515</td>\n",
       "      <td>auto_econom</td>\n",
       "      <td>4.07</td>\n",
       "      <td>10%</td>\n",
       "      <td>0.513233</td>\n",
       "      <td>0.373782</td>\n",
       "    </tr>\n",
       "    <tr>\n",
       "      <th>3</th>\n",
       "      <td>4515</td>\n",
       "      <td>auto_econom</td>\n",
       "      <td>4.07</td>\n",
       "      <td>12.50%</td>\n",
       "      <td>0.463903</td>\n",
       "      <td>0.325759</td>\n",
       "    </tr>\n",
       "    <tr>\n",
       "      <th>4</th>\n",
       "      <td>4515</td>\n",
       "      <td>auto_econom</td>\n",
       "      <td>4.07</td>\n",
       "      <td>15%</td>\n",
       "      <td>0.421153</td>\n",
       "      <td>0.289180</td>\n",
       "    </tr>\n",
       "  </tbody>\n",
       "</table>\n",
       "</div>"
      ],
      "text/plain": [
       "    city         type  t_param   param  badbids_share  rides_at_risk\n",
       "5   4180  auto_econom     4.24      0%       0.663652       0.578085\n",
       "6   4180  auto_econom     4.24      5%       0.513415       0.388148\n",
       "7   4180  auto_econom     4.24     10%       0.411824       0.282108\n",
       "8   4180  auto_econom     4.24  12.50%       0.352196       0.227078\n",
       "9   4180  auto_econom     4.24     15%       0.300787       0.183466\n",
       "20  4196  auto_econom     5.12      0%       0.796652       0.732646\n",
       "21  4196  auto_econom     5.12      5%       0.697589       0.589529\n",
       "22  4196  auto_econom     5.12     10%       0.599567       0.455023\n",
       "23  4196  auto_econom     5.12  12.50%       0.546976       0.392074\n",
       "24  4196  auto_econom     5.12     15%       0.502219       0.341632\n",
       "25  4241  auto_econom     3.75      0%       0.674566       0.564442\n",
       "26  4241  auto_econom     3.75      5%       0.587461       0.465790\n",
       "27  4241  auto_econom     3.75     10%       0.457874       0.319818\n",
       "28  4241  auto_econom     3.75  12.50%       0.411515       0.277550\n",
       "29  4241  auto_econom     3.75     15%       0.364713       0.236476\n",
       "15  4373  auto_econom     7.48      0%       0.794904       0.727350\n",
       "16  4373  auto_econom     7.48      5%       0.738093       0.651487\n",
       "17  4373  auto_econom     7.48     10%       0.677056       0.578199\n",
       "18  4373  auto_econom     7.48  12.50%       0.644416       0.538980\n",
       "19  4373  auto_econom     7.48     15%       0.611587       0.502107\n",
       "10  4373  moto_econom     6.10      0%       0.724388       0.649756\n",
       "11  4373  moto_econom     6.10      5%       0.648904       0.545070\n",
       "12  4373  moto_econom     6.10     10%       0.578205       0.458935\n",
       "13  4373  moto_econom     6.10  12.50%       0.541519       0.417205\n",
       "14  4373  moto_econom     6.10     15%       0.507900       0.382820\n",
       "0   4515  auto_econom     4.07      0%       0.726889       0.636433\n",
       "1   4515  auto_econom     4.07      5%       0.615007       0.483838\n",
       "2   4515  auto_econom     4.07     10%       0.513233       0.373782\n",
       "3   4515  auto_econom     4.07  12.50%       0.463903       0.325759\n",
       "4   4515  auto_econom     4.07     15%       0.421153       0.289180"
      ]
     },
     "execution_count": 11,
     "metadata": {},
     "output_type": "execute_result"
    }
   ],
   "source": [
    "def create_data_dict(df, city_params, cities=None, types=None, alphas=[\"0%\", \"5%\", \"10%\", \"12.50%\", \"15%\"]):\n",
    "    # Функция для преобразования процента в формат колонки\n",
    "    def param_to_column_suffix(p):\n",
    "        p = p.replace(\"%\", \"\").replace(\".\", \"\")\n",
    "        if p == \"0\":\n",
    "            return \"00\"\n",
    "        elif p == \"5\":\n",
    "            return \"05\"\n",
    "        elif p == \"10\":\n",
    "            return \"10\"\n",
    "        elif p == \"1250\":\n",
    "            return \"125\"\n",
    "        elif p == \"15\":\n",
    "            return \"15\"\n",
    "        return p\n",
    "    \n",
    "    # Функция для получения eta по city_id и type_name\n",
    "    def get_eta(city_id, type_name):\n",
    "        params = city_params[city_id]\n",
    "        if isinstance(params, list):\n",
    "            # Для городов с несколькими конфигурациями\n",
    "            for config in params:\n",
    "                if config['type_name'][0].strip(\"'\") == type_name:\n",
    "                    return config['eta']\n",
    "        else:\n",
    "            # Для городов с одной конфигурацией\n",
    "            if params['type_name'][0].strip(\"'\") == type_name:\n",
    "                return params['eta']\n",
    "        return None\n",
    "    \n",
    "    # Фильтруем данные\n",
    "    mask = True\n",
    "    if cities:\n",
    "        mask = mask & (df['city_id'].isin(cities))\n",
    "    if types:\n",
    "        mask = mask & (df['type_name'].isin(types))\n",
    "    df_filtered = df[mask]\n",
    "    \n",
    "    # Создаем списки для каждого города и типа\n",
    "    data = {\n",
    "        \"city\": [],\n",
    "        \"type\": [],\n",
    "        \"t_param\": [],\n",
    "        \"param\": [],\n",
    "        \"badbids_share\": [],\n",
    "        \"rides_at_risk\": []\n",
    "    }\n",
    "    \n",
    "    # Для каждой строки в отфильтрованных данных\n",
    "    for _, row in df_filtered.iterrows():\n",
    "        city_id = int(row['city_id'])\n",
    "        type_name = row['type_name']\n",
    "        eta = get_eta(city_id, type_name)\n",
    "        \n",
    "        data[\"city\"].extend([str(city_id)] * len(alphas))\n",
    "        data[\"type\"].extend([type_name] * len(alphas))\n",
    "        data[\"t_param\"].extend([eta] * len(alphas))\n",
    "        data[\"param\"].extend(alphas)\n",
    "        data[\"badbids_share\"].extend([\n",
    "            row[f'badbids_share_{param_to_column_suffix(p)}'] \n",
    "            for p in alphas\n",
    "        ])\n",
    "        data[\"rides_at_risk\"].extend([\n",
    "            row[f'rides_at_risk_{param_to_column_suffix(p)}'] \n",
    "            for p in alphas\n",
    "        ])\n",
    "    \n",
    "    return pd.DataFrame(data)\n",
    "\n",
    "# Использование:\n",
    "df_result = create_data_dict(df, \n",
    "                           city_params,\n",
    "                           types=['auto_econom'] + \n",
    "                                 (['moto_econom'] if 4373 in df['city_id'].unique() else []))\n",
    "\n",
    "# Сортируем результат\n",
    "df_result = df_result.sort_values(['city', 'type', 'param'], \n",
    "                                key=lambda x: x.map(lambda p: float(p.replace('%', ''))) if x.name == 'param' else x)\n",
    "\n",
    "df_result"
   ]
  },
  {
   "cell_type": "code",
   "execution_count": 14,
   "metadata": {},
   "outputs": [
    {
     "data": {
      "application/vnd.plotly.v1+json": {
       "config": {
        "plotlyServerURL": "https://plot.ly"
       },
       "data": [
        {
         "customdata": [
          "0%",
          "5%",
          "10%",
          "12.50%",
          "15%",
          "0%",
          "5%",
          "10%",
          "12.50%",
          "15%",
          "0%",
          "5%",
          "10%",
          "12.50%",
          "15%",
          "0%",
          "5%",
          "10%",
          "12.50%",
          "15%",
          "0%",
          "5%",
          "10%",
          "12.50%",
          "15%",
          "0%",
          "5%",
          "10%",
          "12.50%",
          "15%"
         ],
         "hovertemplate": "<b>City:</b> %{color}<br><b>Bad Bids Share:</b> %{x}<br><b>Rides at Risk:</b> %{y}<br><b>Alpha Parameter:</b> %{customdata}",
         "legendgroup": "4180",
         "marker": {
          "color": "#636efa",
          "symbol": "circle"
         },
         "mode": "markers",
         "name": "4180",
         "orientation": "v",
         "showlegend": true,
         "type": "scatter",
         "x": {
          "bdata": "kPrdEqQ85T8dmud/5W3gP0rGPttUW9o/3etik2GK1j8mhCPIGUDTPw==",
          "dtype": "f8"
         },
         "xaxis": "x",
         "y": {
          "bdata": "fpabEa1/4j/KMkOdaNfYP8x0wP0PDtI/l6gFZ+cQzT+xk+1/1HvHPw==",
          "dtype": "f8"
         },
         "yaxis": "y"
        },
        {
         "customdata": [
          "0%",
          "5%",
          "10%",
          "12.50%",
          "15%",
          "0%",
          "5%",
          "10%",
          "12.50%",
          "15%",
          "0%",
          "5%",
          "10%",
          "12.50%",
          "15%",
          "0%",
          "5%",
          "10%",
          "12.50%",
          "15%",
          "0%",
          "5%",
          "10%",
          "12.50%",
          "15%",
          "0%",
          "5%",
          "10%",
          "12.50%",
          "15%"
         ],
         "hovertemplate": "<b>City:</b> %{color}<br><b>Bad Bids Share:</b> %{x}<br><b>Rides at Risk:</b> %{y}<br><b>Alpha Parameter:</b> %{customdata}",
         "legendgroup": "4196",
         "marker": {
          "color": "#EF553B",
          "symbol": "circle"
         },
         "mode": "markers",
         "name": "4196",
         "orientation": "v",
         "showlegend": true,
         "type": "scatter",
         "x": {
          "bdata": "TWdaPC1+6T/cjs/qplLmP9CahqmnL+M/enKnttOA4T8hNqrtLRLgPw==",
          "dtype": "f8"
         },
         "xaxis": "x",
         "y": {
          "bdata": "PIwHmdZx5z9DlVY1a93iP9SsvUwaH90/2b6lTr8X2T+7ASGmSt3VPw==",
          "dtype": "f8"
         },
         "yaxis": "y"
        },
        {
         "customdata": [
          "0%",
          "5%",
          "10%",
          "12.50%",
          "15%",
          "0%",
          "5%",
          "10%",
          "12.50%",
          "15%",
          "0%",
          "5%",
          "10%",
          "12.50%",
          "15%",
          "0%",
          "5%",
          "10%",
          "12.50%",
          "15%",
          "0%",
          "5%",
          "10%",
          "12.50%",
          "15%",
          "0%",
          "5%",
          "10%",
          "12.50%",
          "15%"
         ],
         "hovertemplate": "<b>City:</b> %{color}<br><b>Bad Bids Share:</b> %{x}<br><b>Rides at Risk:</b> %{y}<br><b>Alpha Parameter:</b> %{customdata}",
         "legendgroup": "4241",
         "marker": {
          "color": "#00cc96",
          "symbol": "circle"
         },
         "mode": "markers",
         "name": "4241",
         "orientation": "v",
         "showlegend": true,
         "type": "scatter",
         "x": {
          "bdata": "yYTtdAqW5T9OE8gGfMziP0ov7IjOTd0/mHZ3lURW2j/TcBmvdFfXPw==",
          "dtype": "f8"
         },
         "xaxis": "x",
         "y": {
          "bdata": "e2gjhukP4j/tCtxzgs/dPzfT47Xmd9Q/Rk/RTWLD0T+N5/8k1kTOPw==",
          "dtype": "f8"
         },
         "yaxis": "y"
        },
        {
         "customdata": [
          "0%",
          "5%",
          "10%",
          "12.50%",
          "15%",
          "0%",
          "5%",
          "10%",
          "12.50%",
          "15%",
          "0%",
          "5%",
          "10%",
          "12.50%",
          "15%",
          "0%",
          "5%",
          "10%",
          "12.50%",
          "15%",
          "0%",
          "5%",
          "10%",
          "12.50%",
          "15%",
          "0%",
          "5%",
          "10%",
          "12.50%",
          "15%"
         ],
         "hovertemplate": "<b>City:</b> %{color}<br><b>Bad Bids Share:</b> %{x}<br><b>Rides at Risk:</b> %{y}<br><b>Alpha Parameter:</b> %{customdata}",
         "legendgroup": "4373",
         "marker": {
          "color": "#ab63fa",
          "symbol": "circle"
         },
         "mode": "markers",
         "name": "4373",
         "orientation": "v",
         "showlegend": true,
         "type": "scatter",
         "x": {
          "bdata": "dmKCddpv6T9mRyxQdJ7nP/H6xsRxquU/xUs6DQ6f5D+V8IGJHpLjP74aT/wuLuc/QJ3zUtPD5D8MdD15qIDiP4SrxRQfVOE/lN7VY7hA4D8=",
          "dtype": "f8"
         },
         "xaxis": "x",
         "y": {
          "bdata": "UyTzdnNG5z+pqcs4/NjkP0qR2jqagOI/0KKr+1M/4T9EVH/oQhHgP6ngEzXNyuQ/2tUvNDZx4T9AJNErL1/dP5NmX+Z9s9o/mm5CyR2A2D8=",
          "dtype": "f8"
         },
         "yaxis": "y"
        },
        {
         "customdata": [
          "0%",
          "5%",
          "10%",
          "12.50%",
          "15%",
          "0%",
          "5%",
          "10%",
          "12.50%",
          "15%",
          "0%",
          "5%",
          "10%",
          "12.50%",
          "15%",
          "0%",
          "5%",
          "10%",
          "12.50%",
          "15%",
          "0%",
          "5%",
          "10%",
          "12.50%",
          "15%",
          "0%",
          "5%",
          "10%",
          "12.50%",
          "15%"
         ],
         "hovertemplate": "<b>City:</b> %{color}<br><b>Bad Bids Share:</b> %{x}<br><b>Rides at Risk:</b> %{y}<br><b>Alpha Parameter:</b> %{customdata}",
         "legendgroup": "4515",
         "marker": {
          "color": "#FFA15A",
          "symbol": "circle"
         },
         "mode": "markers",
         "name": "4515",
         "orientation": "v",
         "showlegend": true,
         "type": "scatter",
         "x": {
          "bdata": "ZIYcCaxC5z8L38WLI67jP9FINCVobOA/uXdPmZWw3T81XisnLPTaPw==",
          "dtype": "f8"
         },
         "xaxis": "x",
         "y": {
          "bdata": "URMcIqhd5D/+V5NpM/feP+vwwi8M7Nc/8OzR0jzZ1D9+hELV7IHSPw==",
          "dtype": "f8"
         },
         "yaxis": "y"
        }
       ],
       "layout": {
        "legend": {
         "title": {
          "text": "City ID"
         },
         "tracegroupgap": 0
        },
        "template": {
         "data": {
          "bar": [
           {
            "error_x": {
             "color": "#2a3f5f"
            },
            "error_y": {
             "color": "#2a3f5f"
            },
            "marker": {
             "line": {
              "color": "#E5ECF6",
              "width": 0.5
             },
             "pattern": {
              "fillmode": "overlay",
              "size": 10,
              "solidity": 0.2
             }
            },
            "type": "bar"
           }
          ],
          "barpolar": [
           {
            "marker": {
             "line": {
              "color": "#E5ECF6",
              "width": 0.5
             },
             "pattern": {
              "fillmode": "overlay",
              "size": 10,
              "solidity": 0.2
             }
            },
            "type": "barpolar"
           }
          ],
          "carpet": [
           {
            "aaxis": {
             "endlinecolor": "#2a3f5f",
             "gridcolor": "white",
             "linecolor": "white",
             "minorgridcolor": "white",
             "startlinecolor": "#2a3f5f"
            },
            "baxis": {
             "endlinecolor": "#2a3f5f",
             "gridcolor": "white",
             "linecolor": "white",
             "minorgridcolor": "white",
             "startlinecolor": "#2a3f5f"
            },
            "type": "carpet"
           }
          ],
          "choropleth": [
           {
            "colorbar": {
             "outlinewidth": 0,
             "ticks": ""
            },
            "type": "choropleth"
           }
          ],
          "contour": [
           {
            "colorbar": {
             "outlinewidth": 0,
             "ticks": ""
            },
            "colorscale": [
             [
              0,
              "#0d0887"
             ],
             [
              0.1111111111111111,
              "#46039f"
             ],
             [
              0.2222222222222222,
              "#7201a8"
             ],
             [
              0.3333333333333333,
              "#9c179e"
             ],
             [
              0.4444444444444444,
              "#bd3786"
             ],
             [
              0.5555555555555556,
              "#d8576b"
             ],
             [
              0.6666666666666666,
              "#ed7953"
             ],
             [
              0.7777777777777778,
              "#fb9f3a"
             ],
             [
              0.8888888888888888,
              "#fdca26"
             ],
             [
              1,
              "#f0f921"
             ]
            ],
            "type": "contour"
           }
          ],
          "contourcarpet": [
           {
            "colorbar": {
             "outlinewidth": 0,
             "ticks": ""
            },
            "type": "contourcarpet"
           }
          ],
          "heatmap": [
           {
            "colorbar": {
             "outlinewidth": 0,
             "ticks": ""
            },
            "colorscale": [
             [
              0,
              "#0d0887"
             ],
             [
              0.1111111111111111,
              "#46039f"
             ],
             [
              0.2222222222222222,
              "#7201a8"
             ],
             [
              0.3333333333333333,
              "#9c179e"
             ],
             [
              0.4444444444444444,
              "#bd3786"
             ],
             [
              0.5555555555555556,
              "#d8576b"
             ],
             [
              0.6666666666666666,
              "#ed7953"
             ],
             [
              0.7777777777777778,
              "#fb9f3a"
             ],
             [
              0.8888888888888888,
              "#fdca26"
             ],
             [
              1,
              "#f0f921"
             ]
            ],
            "type": "heatmap"
           }
          ],
          "histogram": [
           {
            "marker": {
             "pattern": {
              "fillmode": "overlay",
              "size": 10,
              "solidity": 0.2
             }
            },
            "type": "histogram"
           }
          ],
          "histogram2d": [
           {
            "colorbar": {
             "outlinewidth": 0,
             "ticks": ""
            },
            "colorscale": [
             [
              0,
              "#0d0887"
             ],
             [
              0.1111111111111111,
              "#46039f"
             ],
             [
              0.2222222222222222,
              "#7201a8"
             ],
             [
              0.3333333333333333,
              "#9c179e"
             ],
             [
              0.4444444444444444,
              "#bd3786"
             ],
             [
              0.5555555555555556,
              "#d8576b"
             ],
             [
              0.6666666666666666,
              "#ed7953"
             ],
             [
              0.7777777777777778,
              "#fb9f3a"
             ],
             [
              0.8888888888888888,
              "#fdca26"
             ],
             [
              1,
              "#f0f921"
             ]
            ],
            "type": "histogram2d"
           }
          ],
          "histogram2dcontour": [
           {
            "colorbar": {
             "outlinewidth": 0,
             "ticks": ""
            },
            "colorscale": [
             [
              0,
              "#0d0887"
             ],
             [
              0.1111111111111111,
              "#46039f"
             ],
             [
              0.2222222222222222,
              "#7201a8"
             ],
             [
              0.3333333333333333,
              "#9c179e"
             ],
             [
              0.4444444444444444,
              "#bd3786"
             ],
             [
              0.5555555555555556,
              "#d8576b"
             ],
             [
              0.6666666666666666,
              "#ed7953"
             ],
             [
              0.7777777777777778,
              "#fb9f3a"
             ],
             [
              0.8888888888888888,
              "#fdca26"
             ],
             [
              1,
              "#f0f921"
             ]
            ],
            "type": "histogram2dcontour"
           }
          ],
          "mesh3d": [
           {
            "colorbar": {
             "outlinewidth": 0,
             "ticks": ""
            },
            "type": "mesh3d"
           }
          ],
          "parcoords": [
           {
            "line": {
             "colorbar": {
              "outlinewidth": 0,
              "ticks": ""
             }
            },
            "type": "parcoords"
           }
          ],
          "pie": [
           {
            "automargin": true,
            "type": "pie"
           }
          ],
          "scatter": [
           {
            "fillpattern": {
             "fillmode": "overlay",
             "size": 10,
             "solidity": 0.2
            },
            "type": "scatter"
           }
          ],
          "scatter3d": [
           {
            "line": {
             "colorbar": {
              "outlinewidth": 0,
              "ticks": ""
             }
            },
            "marker": {
             "colorbar": {
              "outlinewidth": 0,
              "ticks": ""
             }
            },
            "type": "scatter3d"
           }
          ],
          "scattercarpet": [
           {
            "marker": {
             "colorbar": {
              "outlinewidth": 0,
              "ticks": ""
             }
            },
            "type": "scattercarpet"
           }
          ],
          "scattergeo": [
           {
            "marker": {
             "colorbar": {
              "outlinewidth": 0,
              "ticks": ""
             }
            },
            "type": "scattergeo"
           }
          ],
          "scattergl": [
           {
            "marker": {
             "colorbar": {
              "outlinewidth": 0,
              "ticks": ""
             }
            },
            "type": "scattergl"
           }
          ],
          "scattermap": [
           {
            "marker": {
             "colorbar": {
              "outlinewidth": 0,
              "ticks": ""
             }
            },
            "type": "scattermap"
           }
          ],
          "scattermapbox": [
           {
            "marker": {
             "colorbar": {
              "outlinewidth": 0,
              "ticks": ""
             }
            },
            "type": "scattermapbox"
           }
          ],
          "scatterpolar": [
           {
            "marker": {
             "colorbar": {
              "outlinewidth": 0,
              "ticks": ""
             }
            },
            "type": "scatterpolar"
           }
          ],
          "scatterpolargl": [
           {
            "marker": {
             "colorbar": {
              "outlinewidth": 0,
              "ticks": ""
             }
            },
            "type": "scatterpolargl"
           }
          ],
          "scatterternary": [
           {
            "marker": {
             "colorbar": {
              "outlinewidth": 0,
              "ticks": ""
             }
            },
            "type": "scatterternary"
           }
          ],
          "surface": [
           {
            "colorbar": {
             "outlinewidth": 0,
             "ticks": ""
            },
            "colorscale": [
             [
              0,
              "#0d0887"
             ],
             [
              0.1111111111111111,
              "#46039f"
             ],
             [
              0.2222222222222222,
              "#7201a8"
             ],
             [
              0.3333333333333333,
              "#9c179e"
             ],
             [
              0.4444444444444444,
              "#bd3786"
             ],
             [
              0.5555555555555556,
              "#d8576b"
             ],
             [
              0.6666666666666666,
              "#ed7953"
             ],
             [
              0.7777777777777778,
              "#fb9f3a"
             ],
             [
              0.8888888888888888,
              "#fdca26"
             ],
             [
              1,
              "#f0f921"
             ]
            ],
            "type": "surface"
           }
          ],
          "table": [
           {
            "cells": {
             "fill": {
              "color": "#EBF0F8"
             },
             "line": {
              "color": "white"
             }
            },
            "header": {
             "fill": {
              "color": "#C8D4E3"
             },
             "line": {
              "color": "white"
             }
            },
            "type": "table"
           }
          ]
         },
         "layout": {
          "annotationdefaults": {
           "arrowcolor": "#2a3f5f",
           "arrowhead": 0,
           "arrowwidth": 1
          },
          "autotypenumbers": "strict",
          "coloraxis": {
           "colorbar": {
            "outlinewidth": 0,
            "ticks": ""
           }
          },
          "colorscale": {
           "diverging": [
            [
             0,
             "#8e0152"
            ],
            [
             0.1,
             "#c51b7d"
            ],
            [
             0.2,
             "#de77ae"
            ],
            [
             0.3,
             "#f1b6da"
            ],
            [
             0.4,
             "#fde0ef"
            ],
            [
             0.5,
             "#f7f7f7"
            ],
            [
             0.6,
             "#e6f5d0"
            ],
            [
             0.7,
             "#b8e186"
            ],
            [
             0.8,
             "#7fbc41"
            ],
            [
             0.9,
             "#4d9221"
            ],
            [
             1,
             "#276419"
            ]
           ],
           "sequential": [
            [
             0,
             "#0d0887"
            ],
            [
             0.1111111111111111,
             "#46039f"
            ],
            [
             0.2222222222222222,
             "#7201a8"
            ],
            [
             0.3333333333333333,
             "#9c179e"
            ],
            [
             0.4444444444444444,
             "#bd3786"
            ],
            [
             0.5555555555555556,
             "#d8576b"
            ],
            [
             0.6666666666666666,
             "#ed7953"
            ],
            [
             0.7777777777777778,
             "#fb9f3a"
            ],
            [
             0.8888888888888888,
             "#fdca26"
            ],
            [
             1,
             "#f0f921"
            ]
           ],
           "sequentialminus": [
            [
             0,
             "#0d0887"
            ],
            [
             0.1111111111111111,
             "#46039f"
            ],
            [
             0.2222222222222222,
             "#7201a8"
            ],
            [
             0.3333333333333333,
             "#9c179e"
            ],
            [
             0.4444444444444444,
             "#bd3786"
            ],
            [
             0.5555555555555556,
             "#d8576b"
            ],
            [
             0.6666666666666666,
             "#ed7953"
            ],
            [
             0.7777777777777778,
             "#fb9f3a"
            ],
            [
             0.8888888888888888,
             "#fdca26"
            ],
            [
             1,
             "#f0f921"
            ]
           ]
          },
          "colorway": [
           "#636efa",
           "#EF553B",
           "#00cc96",
           "#ab63fa",
           "#FFA15A",
           "#19d3f3",
           "#FF6692",
           "#B6E880",
           "#FF97FF",
           "#FECB52"
          ],
          "font": {
           "color": "#2a3f5f"
          },
          "geo": {
           "bgcolor": "white",
           "lakecolor": "white",
           "landcolor": "#E5ECF6",
           "showlakes": true,
           "showland": true,
           "subunitcolor": "white"
          },
          "hoverlabel": {
           "align": "left"
          },
          "hovermode": "closest",
          "mapbox": {
           "style": "light"
          },
          "paper_bgcolor": "white",
          "plot_bgcolor": "#E5ECF6",
          "polar": {
           "angularaxis": {
            "gridcolor": "white",
            "linecolor": "white",
            "ticks": ""
           },
           "bgcolor": "#E5ECF6",
           "radialaxis": {
            "gridcolor": "white",
            "linecolor": "white",
            "ticks": ""
           }
          },
          "scene": {
           "xaxis": {
            "backgroundcolor": "#E5ECF6",
            "gridcolor": "white",
            "gridwidth": 2,
            "linecolor": "white",
            "showbackground": true,
            "ticks": "",
            "zerolinecolor": "white"
           },
           "yaxis": {
            "backgroundcolor": "#E5ECF6",
            "gridcolor": "white",
            "gridwidth": 2,
            "linecolor": "white",
            "showbackground": true,
            "ticks": "",
            "zerolinecolor": "white"
           },
           "zaxis": {
            "backgroundcolor": "#E5ECF6",
            "gridcolor": "white",
            "gridwidth": 2,
            "linecolor": "white",
            "showbackground": true,
            "ticks": "",
            "zerolinecolor": "white"
           }
          },
          "shapedefaults": {
           "line": {
            "color": "#2a3f5f"
           }
          },
          "ternary": {
           "aaxis": {
            "gridcolor": "white",
            "linecolor": "white",
            "ticks": ""
           },
           "baxis": {
            "gridcolor": "white",
            "linecolor": "white",
            "ticks": ""
           },
           "bgcolor": "#E5ECF6",
           "caxis": {
            "gridcolor": "white",
            "linecolor": "white",
            "ticks": ""
           }
          },
          "title": {
           "x": 0.05
          },
          "xaxis": {
           "automargin": true,
           "gridcolor": "white",
           "linecolor": "white",
           "ticks": "",
           "title": {
            "standoff": 15
           },
           "zerolinecolor": "white",
           "zerolinewidth": 2
          },
          "yaxis": {
           "automargin": true,
           "gridcolor": "white",
           "linecolor": "white",
           "ticks": "",
           "title": {
            "standoff": 15
           },
           "zerolinecolor": "white",
           "zerolinewidth": 2
          }
         }
        },
        "title": {
         "text": "Bad Bids Share vs Rides at Risk"
        },
        "xaxis": {
         "anchor": "y",
         "domain": [
          0,
          1
         ],
         "title": {
          "text": "Bad Bids Share"
         }
        },
        "yaxis": {
         "anchor": "x",
         "domain": [
          0,
          1
         ],
         "title": {
          "text": "Rides at Risk"
         }
        }
       }
      }
     },
     "metadata": {},
     "output_type": "display_data"
    }
   ],
   "source": [
    "# Создание DataFrame\n",
    "df_plot= pd.DataFrame(df_result)\n",
    "\n",
    "# Визуализация\n",
    "fig = px.scatter(df_plot, x=\"badbids_share\", y=\"rides_at_risk\", color=\"city\",\n",
    "                 title=\"Bad Bids Share vs Rides at Risk\",\n",
    "                 labels={\"param\": \"Alpha Parameter\", \"badbids_share\": \"Bad Bids Share\", \n",
    "                         \"rides_at_risk\": \"Rides at Risk\", \"city\": \"City ID\"})\n",
    "\n",
    "# Добавляем param в hover template\n",
    "fig.update_traces(hovertemplate=\"<b>City:</b> %{color}<br>\" + \n",
    "                                \"<b>Bad Bids Share:</b> %{x}<br>\" +\n",
    "                                \"<b>Rides at Risk:</b> %{y}<br>\" +\n",
    "                                \"<b>Alpha Parameter:</b> %{customdata}\",\n",
    "                  customdata=df_plot[\"param\"])\n",
    "\n",
    "fig.show()"
   ]
  },
  {
   "cell_type": "code",
   "execution_count": 48,
   "metadata": {},
   "outputs": [
    {
     "data": {
      "application/vnd.plotly.v1+json": {
       "config": {
        "plotlyServerURL": "https://plot.ly"
       },
       "data": [
        {
         "customdata": [
          [
           "4180",
           "0%"
          ],
          [
           "4180",
           "5%"
          ],
          [
           "4180",
           "10%"
          ],
          [
           "4180",
           "12.50%"
          ],
          [
           "4180",
           "15%"
          ],
          [
           "4196",
           "0%"
          ],
          [
           "4196",
           "5%"
          ],
          [
           "4196",
           "10%"
          ],
          [
           "4196",
           "12.50%"
          ],
          [
           "4196",
           "15%"
          ],
          [
           "4241",
           "0%"
          ],
          [
           "4241",
           "5%"
          ],
          [
           "4241",
           "10%"
          ],
          [
           "4241",
           "12.50%"
          ],
          [
           "4241",
           "15%"
          ],
          [
           "4373",
           "0%"
          ],
          [
           "4373",
           "5%"
          ],
          [
           "4373",
           "10%"
          ],
          [
           "4373",
           "12.50%"
          ],
          [
           "4373",
           "15%"
          ],
          [
           "4373",
           "0%"
          ],
          [
           "4373",
           "5%"
          ],
          [
           "4373",
           "10%"
          ],
          [
           "4373",
           "12.50%"
          ],
          [
           "4373",
           "15%"
          ],
          [
           "4515",
           "0%"
          ],
          [
           "4515",
           "5%"
          ],
          [
           "4515",
           "10%"
          ],
          [
           "4515",
           "12.50%"
          ],
          [
           "4515",
           "15%"
          ],
          [
           "other",
           "0%"
          ],
          [
           "other",
           "0%"
          ],
          [
           "other",
           "0%"
          ],
          [
           "other",
           "0%"
          ],
          [
           "other",
           "0%"
          ],
          [
           "other",
           "0%"
          ],
          [
           "other",
           "0%"
          ],
          [
           "other",
           "0%"
          ],
          [
           "other",
           "0%"
          ],
          [
           "other",
           "0%"
          ],
          [
           "other",
           "0%"
          ],
          [
           "other",
           "0%"
          ],
          [
           "other",
           "0%"
          ],
          [
           "other",
           "0%"
          ],
          [
           "other",
           "0%"
          ],
          [
           "other",
           "0%"
          ],
          [
           "other",
           "0%"
          ],
          [
           "other",
           "0%"
          ],
          [
           "other",
           "0%"
          ],
          [
           "other",
           "0%"
          ],
          [
           "other",
           "0%"
          ],
          [
           "other",
           "0%"
          ],
          [
           "other",
           "0%"
          ],
          [
           "other",
           "0%"
          ],
          [
           "other",
           "0%"
          ],
          [
           "other",
           "0%"
          ],
          [
           "other",
           "0%"
          ],
          [
           "other",
           "0%"
          ],
          [
           "other",
           "0%"
          ],
          [
           "other",
           "0%"
          ],
          [
           "other",
           "0%"
          ],
          [
           "other",
           "0%"
          ],
          [
           "other",
           "0%"
          ],
          [
           "other",
           "0%"
          ],
          [
           "other",
           "0%"
          ],
          [
           "other",
           "0%"
          ],
          [
           "other",
           "0%"
          ],
          [
           "other",
           "0%"
          ],
          [
           "other",
           "0%"
          ],
          [
           "other",
           "0%"
          ],
          [
           "other",
           "0%"
          ],
          [
           "other",
           "0%"
          ],
          [
           "other",
           "0%"
          ],
          [
           "other",
           "0%"
          ],
          [
           "other",
           "0%"
          ],
          [
           "other",
           "0%"
          ],
          [
           "other",
           "0%"
          ],
          [
           "other",
           "0%"
          ],
          [
           "other",
           "0%"
          ],
          [
           "other",
           "0%"
          ],
          [
           "other",
           "0%"
          ],
          [
           "other",
           "0%"
          ],
          [
           "other",
           "0%"
          ],
          [
           "other",
           "0%"
          ],
          [
           "other",
           "0%"
          ],
          [
           "other",
           "0%"
          ],
          [
           "other",
           "0%"
          ],
          [
           "other",
           "0%"
          ],
          [
           "other",
           "0%"
          ],
          [
           "other",
           "0%"
          ],
          [
           "other",
           "0%"
          ],
          [
           "other",
           "0%"
          ]
         ],
         "hovertemplate": "<b>Bad Bids Share:</b> %{x}<br><b>Rides at Risk:</b> %{y}<br><b>Alpha Parameter:</b> %{customdata[1]}",
         "legendgroup": "4180_auto_econom",
         "marker": {
          "color": "#636efa",
          "opacity": 1,
          "symbol": "circle"
         },
         "mode": "markers",
         "name": "4180_auto_econom",
         "orientation": "v",
         "showlegend": true,
         "type": "scatter",
         "x": {
          "bdata": "kPrdEqQ85T8dmud/5W3gP0rGPttUW9o/3etik2GK1j8mhCPIGUDTPw==",
          "dtype": "f8"
         },
         "xaxis": "x",
         "y": {
          "bdata": "fpabEa1/4j/KMkOdaNfYP8x0wP0PDtI/l6gFZ+cQzT+xk+1/1HvHPw==",
          "dtype": "f8"
         },
         "yaxis": "y"
        },
        {
         "customdata": [
          [
           "4180",
           "0%"
          ],
          [
           "4180",
           "5%"
          ],
          [
           "4180",
           "10%"
          ],
          [
           "4180",
           "12.50%"
          ],
          [
           "4180",
           "15%"
          ],
          [
           "4196",
           "0%"
          ],
          [
           "4196",
           "5%"
          ],
          [
           "4196",
           "10%"
          ],
          [
           "4196",
           "12.50%"
          ],
          [
           "4196",
           "15%"
          ],
          [
           "4241",
           "0%"
          ],
          [
           "4241",
           "5%"
          ],
          [
           "4241",
           "10%"
          ],
          [
           "4241",
           "12.50%"
          ],
          [
           "4241",
           "15%"
          ],
          [
           "4373",
           "0%"
          ],
          [
           "4373",
           "5%"
          ],
          [
           "4373",
           "10%"
          ],
          [
           "4373",
           "12.50%"
          ],
          [
           "4373",
           "15%"
          ],
          [
           "4373",
           "0%"
          ],
          [
           "4373",
           "5%"
          ],
          [
           "4373",
           "10%"
          ],
          [
           "4373",
           "12.50%"
          ],
          [
           "4373",
           "15%"
          ],
          [
           "4515",
           "0%"
          ],
          [
           "4515",
           "5%"
          ],
          [
           "4515",
           "10%"
          ],
          [
           "4515",
           "12.50%"
          ],
          [
           "4515",
           "15%"
          ],
          [
           "other",
           "0%"
          ],
          [
           "other",
           "0%"
          ],
          [
           "other",
           "0%"
          ],
          [
           "other",
           "0%"
          ],
          [
           "other",
           "0%"
          ],
          [
           "other",
           "0%"
          ],
          [
           "other",
           "0%"
          ],
          [
           "other",
           "0%"
          ],
          [
           "other",
           "0%"
          ],
          [
           "other",
           "0%"
          ],
          [
           "other",
           "0%"
          ],
          [
           "other",
           "0%"
          ],
          [
           "other",
           "0%"
          ],
          [
           "other",
           "0%"
          ],
          [
           "other",
           "0%"
          ],
          [
           "other",
           "0%"
          ],
          [
           "other",
           "0%"
          ],
          [
           "other",
           "0%"
          ],
          [
           "other",
           "0%"
          ],
          [
           "other",
           "0%"
          ],
          [
           "other",
           "0%"
          ],
          [
           "other",
           "0%"
          ],
          [
           "other",
           "0%"
          ],
          [
           "other",
           "0%"
          ],
          [
           "other",
           "0%"
          ],
          [
           "other",
           "0%"
          ],
          [
           "other",
           "0%"
          ],
          [
           "other",
           "0%"
          ],
          [
           "other",
           "0%"
          ],
          [
           "other",
           "0%"
          ],
          [
           "other",
           "0%"
          ],
          [
           "other",
           "0%"
          ],
          [
           "other",
           "0%"
          ],
          [
           "other",
           "0%"
          ],
          [
           "other",
           "0%"
          ],
          [
           "other",
           "0%"
          ],
          [
           "other",
           "0%"
          ],
          [
           "other",
           "0%"
          ],
          [
           "other",
           "0%"
          ],
          [
           "other",
           "0%"
          ],
          [
           "other",
           "0%"
          ],
          [
           "other",
           "0%"
          ],
          [
           "other",
           "0%"
          ],
          [
           "other",
           "0%"
          ],
          [
           "other",
           "0%"
          ],
          [
           "other",
           "0%"
          ],
          [
           "other",
           "0%"
          ],
          [
           "other",
           "0%"
          ],
          [
           "other",
           "0%"
          ],
          [
           "other",
           "0%"
          ],
          [
           "other",
           "0%"
          ],
          [
           "other",
           "0%"
          ],
          [
           "other",
           "0%"
          ],
          [
           "other",
           "0%"
          ],
          [
           "other",
           "0%"
          ],
          [
           "other",
           "0%"
          ],
          [
           "other",
           "0%"
          ],
          [
           "other",
           "0%"
          ],
          [
           "other",
           "0%"
          ],
          [
           "other",
           "0%"
          ],
          [
           "other",
           "0%"
          ],
          [
           "other",
           "0%"
          ]
         ],
         "hovertemplate": "<b>Bad Bids Share:</b> %{x}<br><b>Rides at Risk:</b> %{y}<br><b>Alpha Parameter:</b> %{customdata[1]}",
         "legendgroup": "4196_auto_econom",
         "marker": {
          "color": "#EF553B",
          "opacity": 1,
          "symbol": "circle"
         },
         "mode": "markers",
         "name": "4196_auto_econom",
         "orientation": "v",
         "showlegend": true,
         "type": "scatter",
         "x": {
          "bdata": "TWdaPC1+6T/cjs/qplLmP9CahqmnL+M/enKnttOA4T8hNqrtLRLgPw==",
          "dtype": "f8"
         },
         "xaxis": "x",
         "y": {
          "bdata": "PIwHmdZx5z9DlVY1a93iP9SsvUwaH90/2b6lTr8X2T+7ASGmSt3VPw==",
          "dtype": "f8"
         },
         "yaxis": "y"
        },
        {
         "customdata": [
          [
           "4180",
           "0%"
          ],
          [
           "4180",
           "5%"
          ],
          [
           "4180",
           "10%"
          ],
          [
           "4180",
           "12.50%"
          ],
          [
           "4180",
           "15%"
          ],
          [
           "4196",
           "0%"
          ],
          [
           "4196",
           "5%"
          ],
          [
           "4196",
           "10%"
          ],
          [
           "4196",
           "12.50%"
          ],
          [
           "4196",
           "15%"
          ],
          [
           "4241",
           "0%"
          ],
          [
           "4241",
           "5%"
          ],
          [
           "4241",
           "10%"
          ],
          [
           "4241",
           "12.50%"
          ],
          [
           "4241",
           "15%"
          ],
          [
           "4373",
           "0%"
          ],
          [
           "4373",
           "5%"
          ],
          [
           "4373",
           "10%"
          ],
          [
           "4373",
           "12.50%"
          ],
          [
           "4373",
           "15%"
          ],
          [
           "4373",
           "0%"
          ],
          [
           "4373",
           "5%"
          ],
          [
           "4373",
           "10%"
          ],
          [
           "4373",
           "12.50%"
          ],
          [
           "4373",
           "15%"
          ],
          [
           "4515",
           "0%"
          ],
          [
           "4515",
           "5%"
          ],
          [
           "4515",
           "10%"
          ],
          [
           "4515",
           "12.50%"
          ],
          [
           "4515",
           "15%"
          ],
          [
           "other",
           "0%"
          ],
          [
           "other",
           "0%"
          ],
          [
           "other",
           "0%"
          ],
          [
           "other",
           "0%"
          ],
          [
           "other",
           "0%"
          ],
          [
           "other",
           "0%"
          ],
          [
           "other",
           "0%"
          ],
          [
           "other",
           "0%"
          ],
          [
           "other",
           "0%"
          ],
          [
           "other",
           "0%"
          ],
          [
           "other",
           "0%"
          ],
          [
           "other",
           "0%"
          ],
          [
           "other",
           "0%"
          ],
          [
           "other",
           "0%"
          ],
          [
           "other",
           "0%"
          ],
          [
           "other",
           "0%"
          ],
          [
           "other",
           "0%"
          ],
          [
           "other",
           "0%"
          ],
          [
           "other",
           "0%"
          ],
          [
           "other",
           "0%"
          ],
          [
           "other",
           "0%"
          ],
          [
           "other",
           "0%"
          ],
          [
           "other",
           "0%"
          ],
          [
           "other",
           "0%"
          ],
          [
           "other",
           "0%"
          ],
          [
           "other",
           "0%"
          ],
          [
           "other",
           "0%"
          ],
          [
           "other",
           "0%"
          ],
          [
           "other",
           "0%"
          ],
          [
           "other",
           "0%"
          ],
          [
           "other",
           "0%"
          ],
          [
           "other",
           "0%"
          ],
          [
           "other",
           "0%"
          ],
          [
           "other",
           "0%"
          ],
          [
           "other",
           "0%"
          ],
          [
           "other",
           "0%"
          ],
          [
           "other",
           "0%"
          ],
          [
           "other",
           "0%"
          ],
          [
           "other",
           "0%"
          ],
          [
           "other",
           "0%"
          ],
          [
           "other",
           "0%"
          ],
          [
           "other",
           "0%"
          ],
          [
           "other",
           "0%"
          ],
          [
           "other",
           "0%"
          ],
          [
           "other",
           "0%"
          ],
          [
           "other",
           "0%"
          ],
          [
           "other",
           "0%"
          ],
          [
           "other",
           "0%"
          ],
          [
           "other",
           "0%"
          ],
          [
           "other",
           "0%"
          ],
          [
           "other",
           "0%"
          ],
          [
           "other",
           "0%"
          ],
          [
           "other",
           "0%"
          ],
          [
           "other",
           "0%"
          ],
          [
           "other",
           "0%"
          ],
          [
           "other",
           "0%"
          ],
          [
           "other",
           "0%"
          ],
          [
           "other",
           "0%"
          ],
          [
           "other",
           "0%"
          ],
          [
           "other",
           "0%"
          ],
          [
           "other",
           "0%"
          ],
          [
           "other",
           "0%"
          ]
         ],
         "hovertemplate": "<b>Bad Bids Share:</b> %{x}<br><b>Rides at Risk:</b> %{y}<br><b>Alpha Parameter:</b> %{customdata[1]}",
         "legendgroup": "4241_auto_econom",
         "marker": {
          "color": "#00cc96",
          "opacity": 1,
          "symbol": "circle"
         },
         "mode": "markers",
         "name": "4241_auto_econom",
         "orientation": "v",
         "showlegend": true,
         "type": "scatter",
         "x": {
          "bdata": "yYTtdAqW5T9OE8gGfMziP0ov7IjOTd0/mHZ3lURW2j/TcBmvdFfXPw==",
          "dtype": "f8"
         },
         "xaxis": "x",
         "y": {
          "bdata": "e2gjhukP4j/tCtxzgs/dPzfT47Xmd9Q/Rk/RTWLD0T+N5/8k1kTOPw==",
          "dtype": "f8"
         },
         "yaxis": "y"
        },
        {
         "customdata": [
          [
           "4180",
           "0%"
          ],
          [
           "4180",
           "5%"
          ],
          [
           "4180",
           "10%"
          ],
          [
           "4180",
           "12.50%"
          ],
          [
           "4180",
           "15%"
          ],
          [
           "4196",
           "0%"
          ],
          [
           "4196",
           "5%"
          ],
          [
           "4196",
           "10%"
          ],
          [
           "4196",
           "12.50%"
          ],
          [
           "4196",
           "15%"
          ],
          [
           "4241",
           "0%"
          ],
          [
           "4241",
           "5%"
          ],
          [
           "4241",
           "10%"
          ],
          [
           "4241",
           "12.50%"
          ],
          [
           "4241",
           "15%"
          ],
          [
           "4373",
           "0%"
          ],
          [
           "4373",
           "5%"
          ],
          [
           "4373",
           "10%"
          ],
          [
           "4373",
           "12.50%"
          ],
          [
           "4373",
           "15%"
          ],
          [
           "4373",
           "0%"
          ],
          [
           "4373",
           "5%"
          ],
          [
           "4373",
           "10%"
          ],
          [
           "4373",
           "12.50%"
          ],
          [
           "4373",
           "15%"
          ],
          [
           "4515",
           "0%"
          ],
          [
           "4515",
           "5%"
          ],
          [
           "4515",
           "10%"
          ],
          [
           "4515",
           "12.50%"
          ],
          [
           "4515",
           "15%"
          ],
          [
           "other",
           "0%"
          ],
          [
           "other",
           "0%"
          ],
          [
           "other",
           "0%"
          ],
          [
           "other",
           "0%"
          ],
          [
           "other",
           "0%"
          ],
          [
           "other",
           "0%"
          ],
          [
           "other",
           "0%"
          ],
          [
           "other",
           "0%"
          ],
          [
           "other",
           "0%"
          ],
          [
           "other",
           "0%"
          ],
          [
           "other",
           "0%"
          ],
          [
           "other",
           "0%"
          ],
          [
           "other",
           "0%"
          ],
          [
           "other",
           "0%"
          ],
          [
           "other",
           "0%"
          ],
          [
           "other",
           "0%"
          ],
          [
           "other",
           "0%"
          ],
          [
           "other",
           "0%"
          ],
          [
           "other",
           "0%"
          ],
          [
           "other",
           "0%"
          ],
          [
           "other",
           "0%"
          ],
          [
           "other",
           "0%"
          ],
          [
           "other",
           "0%"
          ],
          [
           "other",
           "0%"
          ],
          [
           "other",
           "0%"
          ],
          [
           "other",
           "0%"
          ],
          [
           "other",
           "0%"
          ],
          [
           "other",
           "0%"
          ],
          [
           "other",
           "0%"
          ],
          [
           "other",
           "0%"
          ],
          [
           "other",
           "0%"
          ],
          [
           "other",
           "0%"
          ],
          [
           "other",
           "0%"
          ],
          [
           "other",
           "0%"
          ],
          [
           "other",
           "0%"
          ],
          [
           "other",
           "0%"
          ],
          [
           "other",
           "0%"
          ],
          [
           "other",
           "0%"
          ],
          [
           "other",
           "0%"
          ],
          [
           "other",
           "0%"
          ],
          [
           "other",
           "0%"
          ],
          [
           "other",
           "0%"
          ],
          [
           "other",
           "0%"
          ],
          [
           "other",
           "0%"
          ],
          [
           "other",
           "0%"
          ],
          [
           "other",
           "0%"
          ],
          [
           "other",
           "0%"
          ],
          [
           "other",
           "0%"
          ],
          [
           "other",
           "0%"
          ],
          [
           "other",
           "0%"
          ],
          [
           "other",
           "0%"
          ],
          [
           "other",
           "0%"
          ],
          [
           "other",
           "0%"
          ],
          [
           "other",
           "0%"
          ],
          [
           "other",
           "0%"
          ],
          [
           "other",
           "0%"
          ],
          [
           "other",
           "0%"
          ],
          [
           "other",
           "0%"
          ],
          [
           "other",
           "0%"
          ],
          [
           "other",
           "0%"
          ],
          [
           "other",
           "0%"
          ],
          [
           "other",
           "0%"
          ]
         ],
         "hovertemplate": "<b>Bad Bids Share:</b> %{x}<br><b>Rides at Risk:</b> %{y}<br><b>Alpha Parameter:</b> %{customdata[1]}",
         "legendgroup": "4373_auto_econom",
         "marker": {
          "color": "#ab63fa",
          "opacity": 1,
          "symbol": "circle"
         },
         "mode": "markers",
         "name": "4373_auto_econom",
         "orientation": "v",
         "showlegend": true,
         "type": "scatter",
         "x": {
          "bdata": "dmKCddpv6T9mRyxQdJ7nP/H6xsRxquU/xUs6DQ6f5D+V8IGJHpLjPw==",
          "dtype": "f8"
         },
         "xaxis": "x",
         "y": {
          "bdata": "UyTzdnNG5z+pqcs4/NjkP0qR2jqagOI/0KKr+1M/4T9EVH/oQhHgPw==",
          "dtype": "f8"
         },
         "yaxis": "y"
        },
        {
         "customdata": [
          [
           "4180",
           "0%"
          ],
          [
           "4180",
           "5%"
          ],
          [
           "4180",
           "10%"
          ],
          [
           "4180",
           "12.50%"
          ],
          [
           "4180",
           "15%"
          ],
          [
           "4196",
           "0%"
          ],
          [
           "4196",
           "5%"
          ],
          [
           "4196",
           "10%"
          ],
          [
           "4196",
           "12.50%"
          ],
          [
           "4196",
           "15%"
          ],
          [
           "4241",
           "0%"
          ],
          [
           "4241",
           "5%"
          ],
          [
           "4241",
           "10%"
          ],
          [
           "4241",
           "12.50%"
          ],
          [
           "4241",
           "15%"
          ],
          [
           "4373",
           "0%"
          ],
          [
           "4373",
           "5%"
          ],
          [
           "4373",
           "10%"
          ],
          [
           "4373",
           "12.50%"
          ],
          [
           "4373",
           "15%"
          ],
          [
           "4373",
           "0%"
          ],
          [
           "4373",
           "5%"
          ],
          [
           "4373",
           "10%"
          ],
          [
           "4373",
           "12.50%"
          ],
          [
           "4373",
           "15%"
          ],
          [
           "4515",
           "0%"
          ],
          [
           "4515",
           "5%"
          ],
          [
           "4515",
           "10%"
          ],
          [
           "4515",
           "12.50%"
          ],
          [
           "4515",
           "15%"
          ],
          [
           "other",
           "0%"
          ],
          [
           "other",
           "0%"
          ],
          [
           "other",
           "0%"
          ],
          [
           "other",
           "0%"
          ],
          [
           "other",
           "0%"
          ],
          [
           "other",
           "0%"
          ],
          [
           "other",
           "0%"
          ],
          [
           "other",
           "0%"
          ],
          [
           "other",
           "0%"
          ],
          [
           "other",
           "0%"
          ],
          [
           "other",
           "0%"
          ],
          [
           "other",
           "0%"
          ],
          [
           "other",
           "0%"
          ],
          [
           "other",
           "0%"
          ],
          [
           "other",
           "0%"
          ],
          [
           "other",
           "0%"
          ],
          [
           "other",
           "0%"
          ],
          [
           "other",
           "0%"
          ],
          [
           "other",
           "0%"
          ],
          [
           "other",
           "0%"
          ],
          [
           "other",
           "0%"
          ],
          [
           "other",
           "0%"
          ],
          [
           "other",
           "0%"
          ],
          [
           "other",
           "0%"
          ],
          [
           "other",
           "0%"
          ],
          [
           "other",
           "0%"
          ],
          [
           "other",
           "0%"
          ],
          [
           "other",
           "0%"
          ],
          [
           "other",
           "0%"
          ],
          [
           "other",
           "0%"
          ],
          [
           "other",
           "0%"
          ],
          [
           "other",
           "0%"
          ],
          [
           "other",
           "0%"
          ],
          [
           "other",
           "0%"
          ],
          [
           "other",
           "0%"
          ],
          [
           "other",
           "0%"
          ],
          [
           "other",
           "0%"
          ],
          [
           "other",
           "0%"
          ],
          [
           "other",
           "0%"
          ],
          [
           "other",
           "0%"
          ],
          [
           "other",
           "0%"
          ],
          [
           "other",
           "0%"
          ],
          [
           "other",
           "0%"
          ],
          [
           "other",
           "0%"
          ],
          [
           "other",
           "0%"
          ],
          [
           "other",
           "0%"
          ],
          [
           "other",
           "0%"
          ],
          [
           "other",
           "0%"
          ],
          [
           "other",
           "0%"
          ],
          [
           "other",
           "0%"
          ],
          [
           "other",
           "0%"
          ],
          [
           "other",
           "0%"
          ],
          [
           "other",
           "0%"
          ],
          [
           "other",
           "0%"
          ],
          [
           "other",
           "0%"
          ],
          [
           "other",
           "0%"
          ],
          [
           "other",
           "0%"
          ],
          [
           "other",
           "0%"
          ],
          [
           "other",
           "0%"
          ],
          [
           "other",
           "0%"
          ],
          [
           "other",
           "0%"
          ],
          [
           "other",
           "0%"
          ]
         ],
         "hovertemplate": "<b>Bad Bids Share:</b> %{x}<br><b>Rides at Risk:</b> %{y}<br><b>Alpha Parameter:</b> %{customdata[1]}",
         "legendgroup": "4373_moto_econom",
         "marker": {
          "color": "#FFA15A",
          "opacity": 1,
          "symbol": "circle"
         },
         "mode": "markers",
         "name": "4373_moto_econom",
         "orientation": "v",
         "showlegend": true,
         "type": "scatter",
         "x": {
          "bdata": "vhpP/C4u5z9AnfNS08PkPwx0PXmogOI/hKvFFB9U4T+U3tVjuEDgPw==",
          "dtype": "f8"
         },
         "xaxis": "x",
         "y": {
          "bdata": "qeATNc3K5D/a1S80NnHhP0Ak0SsvX90/k2Zf5n2z2j+abkLJHYDYPw==",
          "dtype": "f8"
         },
         "yaxis": "y"
        },
        {
         "customdata": [
          [
           "4180",
           "0%"
          ],
          [
           "4180",
           "5%"
          ],
          [
           "4180",
           "10%"
          ],
          [
           "4180",
           "12.50%"
          ],
          [
           "4180",
           "15%"
          ],
          [
           "4196",
           "0%"
          ],
          [
           "4196",
           "5%"
          ],
          [
           "4196",
           "10%"
          ],
          [
           "4196",
           "12.50%"
          ],
          [
           "4196",
           "15%"
          ],
          [
           "4241",
           "0%"
          ],
          [
           "4241",
           "5%"
          ],
          [
           "4241",
           "10%"
          ],
          [
           "4241",
           "12.50%"
          ],
          [
           "4241",
           "15%"
          ],
          [
           "4373",
           "0%"
          ],
          [
           "4373",
           "5%"
          ],
          [
           "4373",
           "10%"
          ],
          [
           "4373",
           "12.50%"
          ],
          [
           "4373",
           "15%"
          ],
          [
           "4373",
           "0%"
          ],
          [
           "4373",
           "5%"
          ],
          [
           "4373",
           "10%"
          ],
          [
           "4373",
           "12.50%"
          ],
          [
           "4373",
           "15%"
          ],
          [
           "4515",
           "0%"
          ],
          [
           "4515",
           "5%"
          ],
          [
           "4515",
           "10%"
          ],
          [
           "4515",
           "12.50%"
          ],
          [
           "4515",
           "15%"
          ],
          [
           "other",
           "0%"
          ],
          [
           "other",
           "0%"
          ],
          [
           "other",
           "0%"
          ],
          [
           "other",
           "0%"
          ],
          [
           "other",
           "0%"
          ],
          [
           "other",
           "0%"
          ],
          [
           "other",
           "0%"
          ],
          [
           "other",
           "0%"
          ],
          [
           "other",
           "0%"
          ],
          [
           "other",
           "0%"
          ],
          [
           "other",
           "0%"
          ],
          [
           "other",
           "0%"
          ],
          [
           "other",
           "0%"
          ],
          [
           "other",
           "0%"
          ],
          [
           "other",
           "0%"
          ],
          [
           "other",
           "0%"
          ],
          [
           "other",
           "0%"
          ],
          [
           "other",
           "0%"
          ],
          [
           "other",
           "0%"
          ],
          [
           "other",
           "0%"
          ],
          [
           "other",
           "0%"
          ],
          [
           "other",
           "0%"
          ],
          [
           "other",
           "0%"
          ],
          [
           "other",
           "0%"
          ],
          [
           "other",
           "0%"
          ],
          [
           "other",
           "0%"
          ],
          [
           "other",
           "0%"
          ],
          [
           "other",
           "0%"
          ],
          [
           "other",
           "0%"
          ],
          [
           "other",
           "0%"
          ],
          [
           "other",
           "0%"
          ],
          [
           "other",
           "0%"
          ],
          [
           "other",
           "0%"
          ],
          [
           "other",
           "0%"
          ],
          [
           "other",
           "0%"
          ],
          [
           "other",
           "0%"
          ],
          [
           "other",
           "0%"
          ],
          [
           "other",
           "0%"
          ],
          [
           "other",
           "0%"
          ],
          [
           "other",
           "0%"
          ],
          [
           "other",
           "0%"
          ],
          [
           "other",
           "0%"
          ],
          [
           "other",
           "0%"
          ],
          [
           "other",
           "0%"
          ],
          [
           "other",
           "0%"
          ],
          [
           "other",
           "0%"
          ],
          [
           "other",
           "0%"
          ],
          [
           "other",
           "0%"
          ],
          [
           "other",
           "0%"
          ],
          [
           "other",
           "0%"
          ],
          [
           "other",
           "0%"
          ],
          [
           "other",
           "0%"
          ],
          [
           "other",
           "0%"
          ],
          [
           "other",
           "0%"
          ],
          [
           "other",
           "0%"
          ],
          [
           "other",
           "0%"
          ],
          [
           "other",
           "0%"
          ],
          [
           "other",
           "0%"
          ],
          [
           "other",
           "0%"
          ],
          [
           "other",
           "0%"
          ],
          [
           "other",
           "0%"
          ],
          [
           "other",
           "0%"
          ]
         ],
         "hovertemplate": "<b>Bad Bids Share:</b> %{x}<br><b>Rides at Risk:</b> %{y}<br><b>Alpha Parameter:</b> %{customdata[1]}",
         "legendgroup": "4515_auto_econom",
         "marker": {
          "color": "#19d3f3",
          "opacity": 1,
          "symbol": "circle"
         },
         "mode": "markers",
         "name": "4515_auto_econom",
         "orientation": "v",
         "showlegend": true,
         "type": "scatter",
         "x": {
          "bdata": "ZIYcCaxC5z8L38WLI67jP9FINCVobOA/uXdPmZWw3T81XisnLPTaPw==",
          "dtype": "f8"
         },
         "xaxis": "x",
         "y": {
          "bdata": "URMcIqhd5D/+V5NpM/feP+vwwi8M7Nc/8OzR0jzZ1D9+hELV7IHSPw==",
          "dtype": "f8"
         },
         "yaxis": "y"
        },
        {
         "customdata": [
          [
           "4180",
           "0%"
          ],
          [
           "4180",
           "5%"
          ],
          [
           "4180",
           "10%"
          ],
          [
           "4180",
           "12.50%"
          ],
          [
           "4180",
           "15%"
          ],
          [
           "4196",
           "0%"
          ],
          [
           "4196",
           "5%"
          ],
          [
           "4196",
           "10%"
          ],
          [
           "4196",
           "12.50%"
          ],
          [
           "4196",
           "15%"
          ],
          [
           "4241",
           "0%"
          ],
          [
           "4241",
           "5%"
          ],
          [
           "4241",
           "10%"
          ],
          [
           "4241",
           "12.50%"
          ],
          [
           "4241",
           "15%"
          ],
          [
           "4373",
           "0%"
          ],
          [
           "4373",
           "5%"
          ],
          [
           "4373",
           "10%"
          ],
          [
           "4373",
           "12.50%"
          ],
          [
           "4373",
           "15%"
          ],
          [
           "4373",
           "0%"
          ],
          [
           "4373",
           "5%"
          ],
          [
           "4373",
           "10%"
          ],
          [
           "4373",
           "12.50%"
          ],
          [
           "4373",
           "15%"
          ],
          [
           "4515",
           "0%"
          ],
          [
           "4515",
           "5%"
          ],
          [
           "4515",
           "10%"
          ],
          [
           "4515",
           "12.50%"
          ],
          [
           "4515",
           "15%"
          ],
          [
           "other",
           "0%"
          ],
          [
           "other",
           "0%"
          ],
          [
           "other",
           "0%"
          ],
          [
           "other",
           "0%"
          ],
          [
           "other",
           "0%"
          ],
          [
           "other",
           "0%"
          ],
          [
           "other",
           "0%"
          ],
          [
           "other",
           "0%"
          ],
          [
           "other",
           "0%"
          ],
          [
           "other",
           "0%"
          ],
          [
           "other",
           "0%"
          ],
          [
           "other",
           "0%"
          ],
          [
           "other",
           "0%"
          ],
          [
           "other",
           "0%"
          ],
          [
           "other",
           "0%"
          ],
          [
           "other",
           "0%"
          ],
          [
           "other",
           "0%"
          ],
          [
           "other",
           "0%"
          ],
          [
           "other",
           "0%"
          ],
          [
           "other",
           "0%"
          ],
          [
           "other",
           "0%"
          ],
          [
           "other",
           "0%"
          ],
          [
           "other",
           "0%"
          ],
          [
           "other",
           "0%"
          ],
          [
           "other",
           "0%"
          ],
          [
           "other",
           "0%"
          ],
          [
           "other",
           "0%"
          ],
          [
           "other",
           "0%"
          ],
          [
           "other",
           "0%"
          ],
          [
           "other",
           "0%"
          ],
          [
           "other",
           "0%"
          ],
          [
           "other",
           "0%"
          ],
          [
           "other",
           "0%"
          ],
          [
           "other",
           "0%"
          ],
          [
           "other",
           "0%"
          ],
          [
           "other",
           "0%"
          ],
          [
           "other",
           "0%"
          ],
          [
           "other",
           "0%"
          ],
          [
           "other",
           "0%"
          ],
          [
           "other",
           "0%"
          ],
          [
           "other",
           "0%"
          ],
          [
           "other",
           "0%"
          ],
          [
           "other",
           "0%"
          ],
          [
           "other",
           "0%"
          ],
          [
           "other",
           "0%"
          ],
          [
           "other",
           "0%"
          ],
          [
           "other",
           "0%"
          ],
          [
           "other",
           "0%"
          ],
          [
           "other",
           "0%"
          ],
          [
           "other",
           "0%"
          ],
          [
           "other",
           "0%"
          ],
          [
           "other",
           "0%"
          ],
          [
           "other",
           "0%"
          ],
          [
           "other",
           "0%"
          ],
          [
           "other",
           "0%"
          ],
          [
           "other",
           "0%"
          ],
          [
           "other",
           "0%"
          ],
          [
           "other",
           "0%"
          ],
          [
           "other",
           "0%"
          ],
          [
           "other",
           "0%"
          ],
          [
           "other",
           "0%"
          ],
          [
           "other",
           "0%"
          ]
         ],
         "hovertemplate": "<b>Bad Bids Share:</b> %{x}<br><b>Rides at Risk:</b> %{y}<br><b>Alpha Parameter:</b> %{customdata[1]}",
         "legendgroup": "other_nan",
         "marker": {
          "color": "#FF6692",
          "opacity": 1,
          "symbol": "circle"
         },
         "mode": "markers",
         "name": "other_nan",
         "orientation": "v",
         "showlegend": true,
         "type": "scatter",
         "x": {
          "bdata": "sp3vp8ZL6z9eukkMAivrPzeJQWDl0Oo/mG4Sg8DK6T9OYhBYObToP3sUrkfheug/16NwPQrX5z9aZDvfT43nP1pkO99Pjec/hxbZzvdT5z+HFtnO91PnP4cW2c73U+c/30+Nl24S5z8K16NwPQrnPwrXo3A9Cuc/Di2yne+n5j89CtejcD3mP5MYBFYOLeY/vp8aL90k5j8X2c73U+PlP5qZmZmZmeU/8KfGSzeJ5T/y0k1iEFjlPx1aZDvfT+U/nu+nxks35T/4U+Olm8TkP6RwPQrXo+Q/+n5qvHST5D8lBoGVQ4vkP1TjpZvEIOQ/qvHSTWIQ5D/VeOkmMQjkPwIrhxbZzuM/LbKd76fG4z+DwMqhRbbjP4PAyqFFtuM/BoGVQ4ts4z8xCKwcWmTjP2Dl0CLb+eI/jZduEoPA4j/jpZvEILDiPzm0yHa+n+I/O99PjZdu4j/n+6nx0k3iPz0K16NwPeI/PzVeukkM4j8bL90kBoHhP3Noke18P+E/TDeJQWDl4D93vp8aL93gP1g5tMh2vt8/WDm0yHa+3z8EVg4tsp3fPwwCK4cW2d4/wcqhRbbz3T8X2c73U+PdPyGwcmiR7dw/001iEFg53D/fT42XbhLbP5qZmZmZmdk/TmIQWDm02D9mZmZmZmbWPw==",
          "dtype": "f8"
         },
         "xaxis": "x",
         "y": {
          "bdata": "H4XrUbge6T9zaJHtfD/pP1g5tMh2vuc/kxgEVg4t5j+amZmZmZnlPyUGgZVDi+Q/NV66SQwC5z8EVg4tsp3jPyGwcmiR7eQ/ZDvfT42X4j9g5dAi2/niPyuHFtnO9+M/16NwPQrX4z8rhxbZzvfjP+58PzVeuuE/O99PjZdu4j+PwvUoXI/iP/T91HjpJuE/gZVDi2zn4z81XrpJDALjP8l2vp8aL+E/EFg5tMh24j+YbhKDwMrhP8/3U+Olm+A/bef7qfHS5T/LoUW28/3gP3sUrkfheuA/YhBYObTI3j/HSzeJQWDdP7x0kxgEVt4/exSuR+F64D/+1HjpJjHgP6RwPQrXo+A/tMh2vp8a3z+4HoXrUbjePx+F61G4Ht0/exSuR+F63D/RItv5fmrcPylcj8L1KNw/g8DKoUW22z9zaJHtfD/dPzVeukkMAts/hxbZzvdT2z/6fmq8dJPkPyPb+X5qvOA/L90kBoGV2z+e76fGSzfZP7pJDAIrh94/cT0K16Nw1T9U46WbxCDgP/LSTWIQWNk/nMQgsHJo2T+mm8QgsHLYP4cW2c73U9M/PQrXo3A92j9iEFg5tMjWP9NNYhBYOdQ/N4lBYOXQ0j9qvHSTGATeP0a28/3UeNE/K4cW2c732z8tsp3vp8bLPw==",
          "dtype": "f8"
         },
         "yaxis": "y"
        },
        {
         "line": {
          "color": "black",
          "dash": "dash",
          "width": 2
         },
         "mode": "lines",
         "name": "Regression Line",
         "type": "scatter",
         "x": {
          "bdata": "AAAAAAAAAAC2It6iWaWBP7Yi3qJZpZE/ETRNdAZ4mj+2It6iWaWhP2SrlQuwDqY/ETRNdAZ4qj++vATdXOGuP7Yi3qJZpbE/Dec51wTasz9kq5ULsA62P7pv8T9bQ7g/ETRNdAZ4uj9o+Kiosay8P768BN1c4b4/i0CwCASLwD+2It6iWaXBP+EEDD2vv8I/Dec51wTawz84yWdxWvTEP2SrlQuwDsY/j43DpQUpxz+6b/E/W0PIP+ZRH9qwXck/ETRNdAZ4yj88FnsOXJLLP2j4qKixrMw/k9rWQgfHzT++vATdXOHOP+qeMney+88/i0CwCASL0D+gMcfVLhjRP7Yi3qJZpdE/zBP1b4Qy0j/hBAw9r7/SP/f1IgraTNM/Dec51wTa0z8i2FCkL2fUPzjJZ3Fa9NQ/Trp+PoWB1T9kq5ULsA7WP3mcrNjam9Y/j43DpQUp1z+lftpyMLbXP7pv8T9bQ9g/0GAIDYbQ2D/mUR/asF3ZP/tCNqfb6tk/ETRNdAZ42j8nJWRBMQXbPzwWew5ckts/UgeS24Yf3D9o+KiosazcP33pv3XcOd0/k9rWQgfH3T+py+0PMlTeP768BN1c4d4/1K0bqodu3z/qnjJ3svvfPwDIJKJuROA/i0CwCASL4D8VuTtvmdHgP6Axx9UuGOE/K6pSPMRe4T+2It6iWaXhP0GbaQnv6+E/zBP1b4Qy4j9XjIDWGXniP+EEDD2vv+I/bH2Xo0QG4z/39SIK2kzjP4JurnBvk+M/Dec51wTa4z+YX8U9miDkPyLYUKQvZ+Q/rVDcCsWt5D84yWdxWvTkP8NB89fvOuU/Trp+PoWB5T/ZMgqlGsjlP2SrlQuwDuY/7iMhckVV5j95nKzY2pvmPwQVOD9w4uY/j43DpQUp5z8aBk8Mm2/nP6V+2nIwtuc/L/dl2cX85z+6b/E/W0PoP0XofKbwieg/0GAIDYbQ6D9b2ZNzGxfpP+ZRH9qwXek/cMqqQEak6T/7Qjan2+rpP4a7wQ1xMeo/ETRNdAZ46j+crNjam77qPyclZEExBes/sp3vp8ZL6z8=",
          "dtype": "f8"
         },
         "y": {
          "bdata": "AAAAAAAAAACf/itrTCR4P5/+K2tMJIg/9/5gUDkbkj+f/itrTCSYP0f+9oVfLZ4/9/5gUDkboj/Lfsbdwh+lP5/+K2tMJKg/c36R+NUoqz9H/vaFXy2uPw0/ron0mLA/9/5gUDkbsj/hvhMXfp2zP8t+xt3CH7U/tT55pAeitj+f/itrTCS4P4i+3jGRprk/c36R+NUouz9cPkS/Gqu8P0f+9oVfLb4/Mb6pTKSvvz8NP66J9JjAPwKfB+0WWsE/9/5gUDkbwj/sXrqzW9zCP+G+Exd+ncM/1h5teqBexD/Lfsbdwh/FP8DeH0Hl4MU/tT55pAeixj+pntIHKmPHP5/+K2tMJMg/lF6Fzm7lyD+Ivt4xkabJP34eOJWzZ8o/c36R+NUoyz9n3upb+OnLP1w+RL8aq8w/Up6dIj1szT9H/vaFXy3OPzteUOmB7s4/Mb6pTKSvzz8TjwFYYzjQPw0/ron0mNA/CO9au4X50D8CnwftFlrRP/xOtB6outE/9/5gUDkb0j/yrg2CynvSP+xeurNb3NI/5g5n5ew80z/hvhMXfp3TP9tuwEgP/tM/1h5teqBe1D/RzhmsMb/UP8t+xt3CH9U/xS5zD1SA1T/A3h9B5eDVP7uOzHJ2QdY/tT55pAei1j+v7iXWmALXP6me0gcqY9c/pE5/ObvD1z+f/itrTCTYP5mu2JzdhNg/lF6Fzm7l2D+PDjIAAEbZP4i+3jGRptk/g26LYyIH2j9+HjiVs2faP3jO5MZEyNo/c36R+NUo2z9uLj4qZ4nbP2fe6lv46ds/Yo6XjYlK3D9cPkS/GqvcP1fu8PCrC90/Up6dIj1s3T9MTkpUzszdP0f+9oVfLd4/QK6jt/CN3j87XlDpge7ePzYO/RoTT98/Mb6pTKSv3z8WNyu/GgjgPxOPAVhjOOA/EOfX8Kto4D8NP66J9JjgPwqXhCI9yeA/CO9au4X54D8FRzFUzinhPwKfB+0WWuE///bdhV+K4T/8TrQeqLrhP/qmirfw6uE/9/5gUDkb4j/0VjfpgUviP/KuDYLKe+I/7wbkGhOs4j8=",
          "dtype": "f8"
         }
        }
       ],
       "layout": {
        "legend": {
         "title": {
          "text": "City and Type"
         },
         "tracegroupgap": 0
        },
        "template": {
         "data": {
          "bar": [
           {
            "error_x": {
             "color": "#2a3f5f"
            },
            "error_y": {
             "color": "#2a3f5f"
            },
            "marker": {
             "line": {
              "color": "#E5ECF6",
              "width": 0.5
             },
             "pattern": {
              "fillmode": "overlay",
              "size": 10,
              "solidity": 0.2
             }
            },
            "type": "bar"
           }
          ],
          "barpolar": [
           {
            "marker": {
             "line": {
              "color": "#E5ECF6",
              "width": 0.5
             },
             "pattern": {
              "fillmode": "overlay",
              "size": 10,
              "solidity": 0.2
             }
            },
            "type": "barpolar"
           }
          ],
          "carpet": [
           {
            "aaxis": {
             "endlinecolor": "#2a3f5f",
             "gridcolor": "white",
             "linecolor": "white",
             "minorgridcolor": "white",
             "startlinecolor": "#2a3f5f"
            },
            "baxis": {
             "endlinecolor": "#2a3f5f",
             "gridcolor": "white",
             "linecolor": "white",
             "minorgridcolor": "white",
             "startlinecolor": "#2a3f5f"
            },
            "type": "carpet"
           }
          ],
          "choropleth": [
           {
            "colorbar": {
             "outlinewidth": 0,
             "ticks": ""
            },
            "type": "choropleth"
           }
          ],
          "contour": [
           {
            "colorbar": {
             "outlinewidth": 0,
             "ticks": ""
            },
            "colorscale": [
             [
              0,
              "#0d0887"
             ],
             [
              0.1111111111111111,
              "#46039f"
             ],
             [
              0.2222222222222222,
              "#7201a8"
             ],
             [
              0.3333333333333333,
              "#9c179e"
             ],
             [
              0.4444444444444444,
              "#bd3786"
             ],
             [
              0.5555555555555556,
              "#d8576b"
             ],
             [
              0.6666666666666666,
              "#ed7953"
             ],
             [
              0.7777777777777778,
              "#fb9f3a"
             ],
             [
              0.8888888888888888,
              "#fdca26"
             ],
             [
              1,
              "#f0f921"
             ]
            ],
            "type": "contour"
           }
          ],
          "contourcarpet": [
           {
            "colorbar": {
             "outlinewidth": 0,
             "ticks": ""
            },
            "type": "contourcarpet"
           }
          ],
          "heatmap": [
           {
            "colorbar": {
             "outlinewidth": 0,
             "ticks": ""
            },
            "colorscale": [
             [
              0,
              "#0d0887"
             ],
             [
              0.1111111111111111,
              "#46039f"
             ],
             [
              0.2222222222222222,
              "#7201a8"
             ],
             [
              0.3333333333333333,
              "#9c179e"
             ],
             [
              0.4444444444444444,
              "#bd3786"
             ],
             [
              0.5555555555555556,
              "#d8576b"
             ],
             [
              0.6666666666666666,
              "#ed7953"
             ],
             [
              0.7777777777777778,
              "#fb9f3a"
             ],
             [
              0.8888888888888888,
              "#fdca26"
             ],
             [
              1,
              "#f0f921"
             ]
            ],
            "type": "heatmap"
           }
          ],
          "histogram": [
           {
            "marker": {
             "pattern": {
              "fillmode": "overlay",
              "size": 10,
              "solidity": 0.2
             }
            },
            "type": "histogram"
           }
          ],
          "histogram2d": [
           {
            "colorbar": {
             "outlinewidth": 0,
             "ticks": ""
            },
            "colorscale": [
             [
              0,
              "#0d0887"
             ],
             [
              0.1111111111111111,
              "#46039f"
             ],
             [
              0.2222222222222222,
              "#7201a8"
             ],
             [
              0.3333333333333333,
              "#9c179e"
             ],
             [
              0.4444444444444444,
              "#bd3786"
             ],
             [
              0.5555555555555556,
              "#d8576b"
             ],
             [
              0.6666666666666666,
              "#ed7953"
             ],
             [
              0.7777777777777778,
              "#fb9f3a"
             ],
             [
              0.8888888888888888,
              "#fdca26"
             ],
             [
              1,
              "#f0f921"
             ]
            ],
            "type": "histogram2d"
           }
          ],
          "histogram2dcontour": [
           {
            "colorbar": {
             "outlinewidth": 0,
             "ticks": ""
            },
            "colorscale": [
             [
              0,
              "#0d0887"
             ],
             [
              0.1111111111111111,
              "#46039f"
             ],
             [
              0.2222222222222222,
              "#7201a8"
             ],
             [
              0.3333333333333333,
              "#9c179e"
             ],
             [
              0.4444444444444444,
              "#bd3786"
             ],
             [
              0.5555555555555556,
              "#d8576b"
             ],
             [
              0.6666666666666666,
              "#ed7953"
             ],
             [
              0.7777777777777778,
              "#fb9f3a"
             ],
             [
              0.8888888888888888,
              "#fdca26"
             ],
             [
              1,
              "#f0f921"
             ]
            ],
            "type": "histogram2dcontour"
           }
          ],
          "mesh3d": [
           {
            "colorbar": {
             "outlinewidth": 0,
             "ticks": ""
            },
            "type": "mesh3d"
           }
          ],
          "parcoords": [
           {
            "line": {
             "colorbar": {
              "outlinewidth": 0,
              "ticks": ""
             }
            },
            "type": "parcoords"
           }
          ],
          "pie": [
           {
            "automargin": true,
            "type": "pie"
           }
          ],
          "scatter": [
           {
            "fillpattern": {
             "fillmode": "overlay",
             "size": 10,
             "solidity": 0.2
            },
            "type": "scatter"
           }
          ],
          "scatter3d": [
           {
            "line": {
             "colorbar": {
              "outlinewidth": 0,
              "ticks": ""
             }
            },
            "marker": {
             "colorbar": {
              "outlinewidth": 0,
              "ticks": ""
             }
            },
            "type": "scatter3d"
           }
          ],
          "scattercarpet": [
           {
            "marker": {
             "colorbar": {
              "outlinewidth": 0,
              "ticks": ""
             }
            },
            "type": "scattercarpet"
           }
          ],
          "scattergeo": [
           {
            "marker": {
             "colorbar": {
              "outlinewidth": 0,
              "ticks": ""
             }
            },
            "type": "scattergeo"
           }
          ],
          "scattergl": [
           {
            "marker": {
             "colorbar": {
              "outlinewidth": 0,
              "ticks": ""
             }
            },
            "type": "scattergl"
           }
          ],
          "scattermap": [
           {
            "marker": {
             "colorbar": {
              "outlinewidth": 0,
              "ticks": ""
             }
            },
            "type": "scattermap"
           }
          ],
          "scattermapbox": [
           {
            "marker": {
             "colorbar": {
              "outlinewidth": 0,
              "ticks": ""
             }
            },
            "type": "scattermapbox"
           }
          ],
          "scatterpolar": [
           {
            "marker": {
             "colorbar": {
              "outlinewidth": 0,
              "ticks": ""
             }
            },
            "type": "scatterpolar"
           }
          ],
          "scatterpolargl": [
           {
            "marker": {
             "colorbar": {
              "outlinewidth": 0,
              "ticks": ""
             }
            },
            "type": "scatterpolargl"
           }
          ],
          "scatterternary": [
           {
            "marker": {
             "colorbar": {
              "outlinewidth": 0,
              "ticks": ""
             }
            },
            "type": "scatterternary"
           }
          ],
          "surface": [
           {
            "colorbar": {
             "outlinewidth": 0,
             "ticks": ""
            },
            "colorscale": [
             [
              0,
              "#0d0887"
             ],
             [
              0.1111111111111111,
              "#46039f"
             ],
             [
              0.2222222222222222,
              "#7201a8"
             ],
             [
              0.3333333333333333,
              "#9c179e"
             ],
             [
              0.4444444444444444,
              "#bd3786"
             ],
             [
              0.5555555555555556,
              "#d8576b"
             ],
             [
              0.6666666666666666,
              "#ed7953"
             ],
             [
              0.7777777777777778,
              "#fb9f3a"
             ],
             [
              0.8888888888888888,
              "#fdca26"
             ],
             [
              1,
              "#f0f921"
             ]
            ],
            "type": "surface"
           }
          ],
          "table": [
           {
            "cells": {
             "fill": {
              "color": "#EBF0F8"
             },
             "line": {
              "color": "white"
             }
            },
            "header": {
             "fill": {
              "color": "#C8D4E3"
             },
             "line": {
              "color": "white"
             }
            },
            "type": "table"
           }
          ]
         },
         "layout": {
          "annotationdefaults": {
           "arrowcolor": "#2a3f5f",
           "arrowhead": 0,
           "arrowwidth": 1
          },
          "autotypenumbers": "strict",
          "coloraxis": {
           "colorbar": {
            "outlinewidth": 0,
            "ticks": ""
           }
          },
          "colorscale": {
           "diverging": [
            [
             0,
             "#8e0152"
            ],
            [
             0.1,
             "#c51b7d"
            ],
            [
             0.2,
             "#de77ae"
            ],
            [
             0.3,
             "#f1b6da"
            ],
            [
             0.4,
             "#fde0ef"
            ],
            [
             0.5,
             "#f7f7f7"
            ],
            [
             0.6,
             "#e6f5d0"
            ],
            [
             0.7,
             "#b8e186"
            ],
            [
             0.8,
             "#7fbc41"
            ],
            [
             0.9,
             "#4d9221"
            ],
            [
             1,
             "#276419"
            ]
           ],
           "sequential": [
            [
             0,
             "#0d0887"
            ],
            [
             0.1111111111111111,
             "#46039f"
            ],
            [
             0.2222222222222222,
             "#7201a8"
            ],
            [
             0.3333333333333333,
             "#9c179e"
            ],
            [
             0.4444444444444444,
             "#bd3786"
            ],
            [
             0.5555555555555556,
             "#d8576b"
            ],
            [
             0.6666666666666666,
             "#ed7953"
            ],
            [
             0.7777777777777778,
             "#fb9f3a"
            ],
            [
             0.8888888888888888,
             "#fdca26"
            ],
            [
             1,
             "#f0f921"
            ]
           ],
           "sequentialminus": [
            [
             0,
             "#0d0887"
            ],
            [
             0.1111111111111111,
             "#46039f"
            ],
            [
             0.2222222222222222,
             "#7201a8"
            ],
            [
             0.3333333333333333,
             "#9c179e"
            ],
            [
             0.4444444444444444,
             "#bd3786"
            ],
            [
             0.5555555555555556,
             "#d8576b"
            ],
            [
             0.6666666666666666,
             "#ed7953"
            ],
            [
             0.7777777777777778,
             "#fb9f3a"
            ],
            [
             0.8888888888888888,
             "#fdca26"
            ],
            [
             1,
             "#f0f921"
            ]
           ]
          },
          "colorway": [
           "#636efa",
           "#EF553B",
           "#00cc96",
           "#ab63fa",
           "#FFA15A",
           "#19d3f3",
           "#FF6692",
           "#B6E880",
           "#FF97FF",
           "#FECB52"
          ],
          "font": {
           "color": "#2a3f5f"
          },
          "geo": {
           "bgcolor": "white",
           "lakecolor": "white",
           "landcolor": "#E5ECF6",
           "showlakes": true,
           "showland": true,
           "subunitcolor": "white"
          },
          "hoverlabel": {
           "align": "left"
          },
          "hovermode": "closest",
          "mapbox": {
           "style": "light"
          },
          "paper_bgcolor": "white",
          "plot_bgcolor": "#E5ECF6",
          "polar": {
           "angularaxis": {
            "gridcolor": "white",
            "linecolor": "white",
            "ticks": ""
           },
           "bgcolor": "#E5ECF6",
           "radialaxis": {
            "gridcolor": "white",
            "linecolor": "white",
            "ticks": ""
           }
          },
          "scene": {
           "xaxis": {
            "backgroundcolor": "#E5ECF6",
            "gridcolor": "white",
            "gridwidth": 2,
            "linecolor": "white",
            "showbackground": true,
            "ticks": "",
            "zerolinecolor": "white"
           },
           "yaxis": {
            "backgroundcolor": "#E5ECF6",
            "gridcolor": "white",
            "gridwidth": 2,
            "linecolor": "white",
            "showbackground": true,
            "ticks": "",
            "zerolinecolor": "white"
           },
           "zaxis": {
            "backgroundcolor": "#E5ECF6",
            "gridcolor": "white",
            "gridwidth": 2,
            "linecolor": "white",
            "showbackground": true,
            "ticks": "",
            "zerolinecolor": "white"
           }
          },
          "shapedefaults": {
           "line": {
            "color": "#2a3f5f"
           }
          },
          "ternary": {
           "aaxis": {
            "gridcolor": "white",
            "linecolor": "white",
            "ticks": ""
           },
           "baxis": {
            "gridcolor": "white",
            "linecolor": "white",
            "ticks": ""
           },
           "bgcolor": "#E5ECF6",
           "caxis": {
            "gridcolor": "white",
            "linecolor": "white",
            "ticks": ""
           }
          },
          "title": {
           "x": 0.05
          },
          "xaxis": {
           "automargin": true,
           "gridcolor": "white",
           "linecolor": "white",
           "ticks": "",
           "title": {
            "standoff": 15
           },
           "zerolinecolor": "white",
           "zerolinewidth": 2
          },
          "yaxis": {
           "automargin": true,
           "gridcolor": "white",
           "linecolor": "white",
           "ticks": "",
           "title": {
            "standoff": 15
           },
           "zerolinecolor": "white",
           "zerolinewidth": 2
          }
         }
        },
        "title": {
         "text": "Bad Bids Share vs Rides at Risk"
        },
        "xaxis": {
         "anchor": "y",
         "domain": [
          0,
          1
         ],
         "title": {
          "text": "Bad Bids Share"
         }
        },
        "yaxis": {
         "anchor": "x",
         "domain": [
          0,
          1
         ],
         "title": {
          "text": "Rides at Risk"
         }
        }
       }
      }
     },
     "metadata": {},
     "output_type": "display_data"
    }
   ],
   "source": [
    "# Load new data\n",
    "df_new = pd.read_csv(\"//Users/georgiinusuev/PycharmProjects/work/badbids/exp_cities/ME Bidding Leaderboard Feb 26 2025 t_param 4.csv\")\n",
    "df_new = df_new.dropna() \n",
    "df_new = df_new[df_new['rides_cnt'] >= 300000]\n",
    "df_new = df_new[~df_new.isin([0, 1]).any(axis=1)] \n",
    "df_new['city'] = 'other'\n",
    "df_new['param'] = '0%'\n",
    "df_new = df_new[df_new['type_name'] == 'auto_econom'][['city', 'param', 'badbids_share', 'rides_at_risk']]\n",
    "df_new = df_new.reset_index(drop=True)\n",
    "\n",
    "# Concatenate both datasets\n",
    "df_combined = pd.concat([df_plot, df_new], ignore_index=True)\n",
    "\n",
    "# Plot the graph\n",
    "# fig = px.scatter(df_combined, x=\"badbids_share\", y=\"rides_at_risk\", color=\"city\",\n",
    "#                  title=\"Bad Bids Share vs Rides at Risk\",\n",
    "#                  labels={\"param\": \"Alpha Parameter\", \"badbids_share\": \"Bad Bids Share\", \n",
    "#                          \"rides_at_risk\": \"Rides at Risk\", \"city\": \"City ID\"},\n",
    "#                  opacity=1.0)  \n",
    "\n",
    "df_combined['city_type'] = df_combined['city'].astype(str) + '_' + df_combined['type'].astype(str)\n",
    "fig = px.scatter(df_combined, x=\"badbids_share\", y=\"rides_at_risk\", color=\"city_type\",\n",
    "                 title=\"Bad Bids Share vs Rides at Risk\", \n",
    "                 labels={\"param\": \"Alpha Parameter\", \"badbids_share\": \"Bad Bids Share\",\n",
    "                         \"rides_at_risk\": \"Rides at Risk\", \"city_type\": \"City and Type\"},\n",
    "                 opacity=1.0)\n",
    "\n",
    "# Add hover template with param\n",
    "fig.update_traces(hovertemplate=\"<b>Bad Bids Share:</b> %{x}<br>\" +\n",
    "                                \"<b>Rides at Risk:</b> %{y}<br>\" +\n",
    "                                \"<b>Alpha Parameter:</b> %{customdata[1]}\",\n",
    "                  customdata=df_combined[[\"city\", \"param\"]].to_numpy())\n",
    "\n",
    "# # Make the new data dimmer\n",
    "# new_data_mask = df_combined[\"param\"] == 0\n",
    "# for trace, is_new_data in zip(fig.data, new_data_mask):\n",
    "#     if is_new_data:\n",
    "#         trace.opacity = 0.5  # Lower opacity for new points\n",
    "\n",
    "\n",
    "\n",
    "\n",
    "\n",
    "import numpy as np\n",
    "import plotly.graph_objects as go\n",
    "\n",
    "# Коэффициенты уравнения прямой y = k * x\n",
    "x1, y1 = 0.414221, 0.283353\n",
    "k = y1 / x1  # Наклон линии\n",
    "\n",
    "# Генерируем точки для линии регрессии\n",
    "x_line = np.linspace(0, df_combined[\"badbids_share\"].max(), 100)  # От 0 до максимального x\n",
    "y_line = k * x_line  # Вычисляем y по уравнению y = kx\n",
    "\n",
    "# Добавляем линию на график\n",
    "fig.add_trace(\n",
    "    go.Scatter(\n",
    "        x=x_line, y=y_line,\n",
    "        mode=\"lines\",\n",
    "        name=\"Regression Line\",\n",
    "        line=dict(color=\"black\", width=2, dash=\"dash\")\n",
    "    )\n",
    ")\n",
    "\n",
    "# fig.update_layout(\n",
    "#     xaxis=dict(range=[0.3, df_plot[\"badbids_share\"].max()]),  \n",
    "#     yaxis=dict(range=[0.2, df_plot[\"rides_at_risk\"].max()])\n",
    "# )\n",
    "\n",
    "fig.show()\n"
   ]
  },
  {
   "cell_type": "code",
   "execution_count": 49,
   "metadata": {},
   "outputs": [
    {
     "data": {
      "application/vnd.plotly.v1+json": {
       "config": {
        "plotlyServerURL": "https://plot.ly"
       },
       "data": [
        {
         "customdata": [
          [
           "4180",
           "0%"
          ],
          [
           "4180",
           "5%"
          ],
          [
           "4180",
           "10%"
          ],
          [
           "4180",
           "12.50%"
          ],
          [
           "4180",
           "15%"
          ],
          [
           "4196",
           "0%"
          ],
          [
           "4196",
           "5%"
          ],
          [
           "4196",
           "10%"
          ],
          [
           "4196",
           "12.50%"
          ],
          [
           "4196",
           "15%"
          ],
          [
           "4241",
           "0%"
          ],
          [
           "4241",
           "5%"
          ],
          [
           "4241",
           "10%"
          ],
          [
           "4241",
           "12.50%"
          ],
          [
           "4241",
           "15%"
          ],
          [
           "4373",
           "0%"
          ],
          [
           "4373",
           "5%"
          ],
          [
           "4373",
           "10%"
          ],
          [
           "4373",
           "12.50%"
          ],
          [
           "4373",
           "15%"
          ],
          [
           "4373",
           "0%"
          ],
          [
           "4373",
           "5%"
          ],
          [
           "4373",
           "10%"
          ],
          [
           "4373",
           "12.50%"
          ],
          [
           "4373",
           "15%"
          ],
          [
           "4515",
           "0%"
          ],
          [
           "4515",
           "5%"
          ],
          [
           "4515",
           "10%"
          ],
          [
           "4515",
           "12.50%"
          ],
          [
           "4515",
           "15%"
          ],
          [
           "other",
           "0%"
          ],
          [
           "other",
           "0%"
          ],
          [
           "other",
           "0%"
          ],
          [
           "other",
           "0%"
          ],
          [
           "other",
           "0%"
          ],
          [
           "other",
           "0%"
          ],
          [
           "other",
           "0%"
          ],
          [
           "other",
           "0%"
          ],
          [
           "other",
           "0%"
          ],
          [
           "other",
           "0%"
          ],
          [
           "other",
           "0%"
          ],
          [
           "other",
           "0%"
          ],
          [
           "other",
           "0%"
          ],
          [
           "other",
           "0%"
          ],
          [
           "other",
           "0%"
          ],
          [
           "other",
           "0%"
          ],
          [
           "other",
           "0%"
          ],
          [
           "other",
           "0%"
          ],
          [
           "other",
           "0%"
          ],
          [
           "other",
           "0%"
          ],
          [
           "other",
           "0%"
          ],
          [
           "other",
           "0%"
          ],
          [
           "other",
           "0%"
          ],
          [
           "other",
           "0%"
          ],
          [
           "other",
           "0%"
          ],
          [
           "other",
           "0%"
          ],
          [
           "other",
           "0%"
          ],
          [
           "other",
           "0%"
          ],
          [
           "other",
           "0%"
          ],
          [
           "other",
           "0%"
          ],
          [
           "other",
           "0%"
          ],
          [
           "other",
           "0%"
          ],
          [
           "other",
           "0%"
          ],
          [
           "other",
           "0%"
          ],
          [
           "other",
           "0%"
          ],
          [
           "other",
           "0%"
          ],
          [
           "other",
           "0%"
          ],
          [
           "other",
           "0%"
          ],
          [
           "other",
           "0%"
          ],
          [
           "other",
           "0%"
          ],
          [
           "other",
           "0%"
          ],
          [
           "other",
           "0%"
          ],
          [
           "other",
           "0%"
          ],
          [
           "other",
           "0%"
          ],
          [
           "other",
           "0%"
          ],
          [
           "other",
           "0%"
          ],
          [
           "other",
           "0%"
          ],
          [
           "other",
           "0%"
          ],
          [
           "other",
           "0%"
          ],
          [
           "other",
           "0%"
          ],
          [
           "other",
           "0%"
          ],
          [
           "other",
           "0%"
          ],
          [
           "other",
           "0%"
          ],
          [
           "other",
           "0%"
          ],
          [
           "other",
           "0%"
          ],
          [
           "other",
           "0%"
          ],
          [
           "other",
           "0%"
          ],
          [
           "other",
           "0%"
          ],
          [
           "other",
           "0%"
          ],
          [
           "other",
           "0%"
          ],
          [
           "other",
           "0%"
          ],
          [
           "other",
           "0%"
          ]
         ],
         "hovertemplate": "<b>Bad Bids Share:</b> %{x}<br><b>Rides at Risk:</b> %{y}<br><b>Alpha Parameter:</b> %{customdata[1]}",
         "legendgroup": "4180_auto_econom",
         "marker": {
          "color": "#636efa",
          "opacity": 1,
          "symbol": "circle"
         },
         "mode": "markers",
         "name": "4180_auto_econom",
         "orientation": "v",
         "showlegend": true,
         "type": "scatter",
         "x": {
          "bdata": "kPrdEqQ85T8dmud/5W3gP0rGPttUW9o/3etik2GK1j8mhCPIGUDTPw==",
          "dtype": "f8"
         },
         "xaxis": "x",
         "y": {
          "bdata": "fpabEa1/4j/KMkOdaNfYP8x0wP0PDtI/l6gFZ+cQzT+xk+1/1HvHPw==",
          "dtype": "f8"
         },
         "yaxis": "y"
        },
        {
         "customdata": [
          [
           "4180",
           "0%"
          ],
          [
           "4180",
           "5%"
          ],
          [
           "4180",
           "10%"
          ],
          [
           "4180",
           "12.50%"
          ],
          [
           "4180",
           "15%"
          ],
          [
           "4196",
           "0%"
          ],
          [
           "4196",
           "5%"
          ],
          [
           "4196",
           "10%"
          ],
          [
           "4196",
           "12.50%"
          ],
          [
           "4196",
           "15%"
          ],
          [
           "4241",
           "0%"
          ],
          [
           "4241",
           "5%"
          ],
          [
           "4241",
           "10%"
          ],
          [
           "4241",
           "12.50%"
          ],
          [
           "4241",
           "15%"
          ],
          [
           "4373",
           "0%"
          ],
          [
           "4373",
           "5%"
          ],
          [
           "4373",
           "10%"
          ],
          [
           "4373",
           "12.50%"
          ],
          [
           "4373",
           "15%"
          ],
          [
           "4373",
           "0%"
          ],
          [
           "4373",
           "5%"
          ],
          [
           "4373",
           "10%"
          ],
          [
           "4373",
           "12.50%"
          ],
          [
           "4373",
           "15%"
          ],
          [
           "4515",
           "0%"
          ],
          [
           "4515",
           "5%"
          ],
          [
           "4515",
           "10%"
          ],
          [
           "4515",
           "12.50%"
          ],
          [
           "4515",
           "15%"
          ],
          [
           "other",
           "0%"
          ],
          [
           "other",
           "0%"
          ],
          [
           "other",
           "0%"
          ],
          [
           "other",
           "0%"
          ],
          [
           "other",
           "0%"
          ],
          [
           "other",
           "0%"
          ],
          [
           "other",
           "0%"
          ],
          [
           "other",
           "0%"
          ],
          [
           "other",
           "0%"
          ],
          [
           "other",
           "0%"
          ],
          [
           "other",
           "0%"
          ],
          [
           "other",
           "0%"
          ],
          [
           "other",
           "0%"
          ],
          [
           "other",
           "0%"
          ],
          [
           "other",
           "0%"
          ],
          [
           "other",
           "0%"
          ],
          [
           "other",
           "0%"
          ],
          [
           "other",
           "0%"
          ],
          [
           "other",
           "0%"
          ],
          [
           "other",
           "0%"
          ],
          [
           "other",
           "0%"
          ],
          [
           "other",
           "0%"
          ],
          [
           "other",
           "0%"
          ],
          [
           "other",
           "0%"
          ],
          [
           "other",
           "0%"
          ],
          [
           "other",
           "0%"
          ],
          [
           "other",
           "0%"
          ],
          [
           "other",
           "0%"
          ],
          [
           "other",
           "0%"
          ],
          [
           "other",
           "0%"
          ],
          [
           "other",
           "0%"
          ],
          [
           "other",
           "0%"
          ],
          [
           "other",
           "0%"
          ],
          [
           "other",
           "0%"
          ],
          [
           "other",
           "0%"
          ],
          [
           "other",
           "0%"
          ],
          [
           "other",
           "0%"
          ],
          [
           "other",
           "0%"
          ],
          [
           "other",
           "0%"
          ],
          [
           "other",
           "0%"
          ],
          [
           "other",
           "0%"
          ],
          [
           "other",
           "0%"
          ],
          [
           "other",
           "0%"
          ],
          [
           "other",
           "0%"
          ],
          [
           "other",
           "0%"
          ],
          [
           "other",
           "0%"
          ],
          [
           "other",
           "0%"
          ],
          [
           "other",
           "0%"
          ],
          [
           "other",
           "0%"
          ],
          [
           "other",
           "0%"
          ],
          [
           "other",
           "0%"
          ],
          [
           "other",
           "0%"
          ],
          [
           "other",
           "0%"
          ],
          [
           "other",
           "0%"
          ],
          [
           "other",
           "0%"
          ],
          [
           "other",
           "0%"
          ],
          [
           "other",
           "0%"
          ],
          [
           "other",
           "0%"
          ],
          [
           "other",
           "0%"
          ],
          [
           "other",
           "0%"
          ],
          [
           "other",
           "0%"
          ],
          [
           "other",
           "0%"
          ]
         ],
         "hovertemplate": "<b>Bad Bids Share:</b> %{x}<br><b>Rides at Risk:</b> %{y}<br><b>Alpha Parameter:</b> %{customdata[1]}",
         "legendgroup": "4196_auto_econom",
         "marker": {
          "color": "#EF553B",
          "opacity": 1,
          "symbol": "circle"
         },
         "mode": "markers",
         "name": "4196_auto_econom",
         "orientation": "v",
         "showlegend": true,
         "type": "scatter",
         "x": {
          "bdata": "TWdaPC1+6T/cjs/qplLmP9CahqmnL+M/enKnttOA4T8hNqrtLRLgPw==",
          "dtype": "f8"
         },
         "xaxis": "x",
         "y": {
          "bdata": "PIwHmdZx5z9DlVY1a93iP9SsvUwaH90/2b6lTr8X2T+7ASGmSt3VPw==",
          "dtype": "f8"
         },
         "yaxis": "y"
        },
        {
         "customdata": [
          [
           "4180",
           "0%"
          ],
          [
           "4180",
           "5%"
          ],
          [
           "4180",
           "10%"
          ],
          [
           "4180",
           "12.50%"
          ],
          [
           "4180",
           "15%"
          ],
          [
           "4196",
           "0%"
          ],
          [
           "4196",
           "5%"
          ],
          [
           "4196",
           "10%"
          ],
          [
           "4196",
           "12.50%"
          ],
          [
           "4196",
           "15%"
          ],
          [
           "4241",
           "0%"
          ],
          [
           "4241",
           "5%"
          ],
          [
           "4241",
           "10%"
          ],
          [
           "4241",
           "12.50%"
          ],
          [
           "4241",
           "15%"
          ],
          [
           "4373",
           "0%"
          ],
          [
           "4373",
           "5%"
          ],
          [
           "4373",
           "10%"
          ],
          [
           "4373",
           "12.50%"
          ],
          [
           "4373",
           "15%"
          ],
          [
           "4373",
           "0%"
          ],
          [
           "4373",
           "5%"
          ],
          [
           "4373",
           "10%"
          ],
          [
           "4373",
           "12.50%"
          ],
          [
           "4373",
           "15%"
          ],
          [
           "4515",
           "0%"
          ],
          [
           "4515",
           "5%"
          ],
          [
           "4515",
           "10%"
          ],
          [
           "4515",
           "12.50%"
          ],
          [
           "4515",
           "15%"
          ],
          [
           "other",
           "0%"
          ],
          [
           "other",
           "0%"
          ],
          [
           "other",
           "0%"
          ],
          [
           "other",
           "0%"
          ],
          [
           "other",
           "0%"
          ],
          [
           "other",
           "0%"
          ],
          [
           "other",
           "0%"
          ],
          [
           "other",
           "0%"
          ],
          [
           "other",
           "0%"
          ],
          [
           "other",
           "0%"
          ],
          [
           "other",
           "0%"
          ],
          [
           "other",
           "0%"
          ],
          [
           "other",
           "0%"
          ],
          [
           "other",
           "0%"
          ],
          [
           "other",
           "0%"
          ],
          [
           "other",
           "0%"
          ],
          [
           "other",
           "0%"
          ],
          [
           "other",
           "0%"
          ],
          [
           "other",
           "0%"
          ],
          [
           "other",
           "0%"
          ],
          [
           "other",
           "0%"
          ],
          [
           "other",
           "0%"
          ],
          [
           "other",
           "0%"
          ],
          [
           "other",
           "0%"
          ],
          [
           "other",
           "0%"
          ],
          [
           "other",
           "0%"
          ],
          [
           "other",
           "0%"
          ],
          [
           "other",
           "0%"
          ],
          [
           "other",
           "0%"
          ],
          [
           "other",
           "0%"
          ],
          [
           "other",
           "0%"
          ],
          [
           "other",
           "0%"
          ],
          [
           "other",
           "0%"
          ],
          [
           "other",
           "0%"
          ],
          [
           "other",
           "0%"
          ],
          [
           "other",
           "0%"
          ],
          [
           "other",
           "0%"
          ],
          [
           "other",
           "0%"
          ],
          [
           "other",
           "0%"
          ],
          [
           "other",
           "0%"
          ],
          [
           "other",
           "0%"
          ],
          [
           "other",
           "0%"
          ],
          [
           "other",
           "0%"
          ],
          [
           "other",
           "0%"
          ],
          [
           "other",
           "0%"
          ],
          [
           "other",
           "0%"
          ],
          [
           "other",
           "0%"
          ],
          [
           "other",
           "0%"
          ],
          [
           "other",
           "0%"
          ],
          [
           "other",
           "0%"
          ],
          [
           "other",
           "0%"
          ],
          [
           "other",
           "0%"
          ],
          [
           "other",
           "0%"
          ],
          [
           "other",
           "0%"
          ],
          [
           "other",
           "0%"
          ],
          [
           "other",
           "0%"
          ],
          [
           "other",
           "0%"
          ],
          [
           "other",
           "0%"
          ],
          [
           "other",
           "0%"
          ],
          [
           "other",
           "0%"
          ],
          [
           "other",
           "0%"
          ],
          [
           "other",
           "0%"
          ]
         ],
         "hovertemplate": "<b>Bad Bids Share:</b> %{x}<br><b>Rides at Risk:</b> %{y}<br><b>Alpha Parameter:</b> %{customdata[1]}",
         "legendgroup": "4241_auto_econom",
         "marker": {
          "color": "#00cc96",
          "opacity": 1,
          "symbol": "circle"
         },
         "mode": "markers",
         "name": "4241_auto_econom",
         "orientation": "v",
         "showlegend": true,
         "type": "scatter",
         "x": {
          "bdata": "yYTtdAqW5T9OE8gGfMziP0ov7IjOTd0/mHZ3lURW2j/TcBmvdFfXPw==",
          "dtype": "f8"
         },
         "xaxis": "x",
         "y": {
          "bdata": "e2gjhukP4j/tCtxzgs/dPzfT47Xmd9Q/Rk/RTWLD0T+N5/8k1kTOPw==",
          "dtype": "f8"
         },
         "yaxis": "y"
        },
        {
         "customdata": [
          [
           "4180",
           "0%"
          ],
          [
           "4180",
           "5%"
          ],
          [
           "4180",
           "10%"
          ],
          [
           "4180",
           "12.50%"
          ],
          [
           "4180",
           "15%"
          ],
          [
           "4196",
           "0%"
          ],
          [
           "4196",
           "5%"
          ],
          [
           "4196",
           "10%"
          ],
          [
           "4196",
           "12.50%"
          ],
          [
           "4196",
           "15%"
          ],
          [
           "4241",
           "0%"
          ],
          [
           "4241",
           "5%"
          ],
          [
           "4241",
           "10%"
          ],
          [
           "4241",
           "12.50%"
          ],
          [
           "4241",
           "15%"
          ],
          [
           "4373",
           "0%"
          ],
          [
           "4373",
           "5%"
          ],
          [
           "4373",
           "10%"
          ],
          [
           "4373",
           "12.50%"
          ],
          [
           "4373",
           "15%"
          ],
          [
           "4373",
           "0%"
          ],
          [
           "4373",
           "5%"
          ],
          [
           "4373",
           "10%"
          ],
          [
           "4373",
           "12.50%"
          ],
          [
           "4373",
           "15%"
          ],
          [
           "4515",
           "0%"
          ],
          [
           "4515",
           "5%"
          ],
          [
           "4515",
           "10%"
          ],
          [
           "4515",
           "12.50%"
          ],
          [
           "4515",
           "15%"
          ],
          [
           "other",
           "0%"
          ],
          [
           "other",
           "0%"
          ],
          [
           "other",
           "0%"
          ],
          [
           "other",
           "0%"
          ],
          [
           "other",
           "0%"
          ],
          [
           "other",
           "0%"
          ],
          [
           "other",
           "0%"
          ],
          [
           "other",
           "0%"
          ],
          [
           "other",
           "0%"
          ],
          [
           "other",
           "0%"
          ],
          [
           "other",
           "0%"
          ],
          [
           "other",
           "0%"
          ],
          [
           "other",
           "0%"
          ],
          [
           "other",
           "0%"
          ],
          [
           "other",
           "0%"
          ],
          [
           "other",
           "0%"
          ],
          [
           "other",
           "0%"
          ],
          [
           "other",
           "0%"
          ],
          [
           "other",
           "0%"
          ],
          [
           "other",
           "0%"
          ],
          [
           "other",
           "0%"
          ],
          [
           "other",
           "0%"
          ],
          [
           "other",
           "0%"
          ],
          [
           "other",
           "0%"
          ],
          [
           "other",
           "0%"
          ],
          [
           "other",
           "0%"
          ],
          [
           "other",
           "0%"
          ],
          [
           "other",
           "0%"
          ],
          [
           "other",
           "0%"
          ],
          [
           "other",
           "0%"
          ],
          [
           "other",
           "0%"
          ],
          [
           "other",
           "0%"
          ],
          [
           "other",
           "0%"
          ],
          [
           "other",
           "0%"
          ],
          [
           "other",
           "0%"
          ],
          [
           "other",
           "0%"
          ],
          [
           "other",
           "0%"
          ],
          [
           "other",
           "0%"
          ],
          [
           "other",
           "0%"
          ],
          [
           "other",
           "0%"
          ],
          [
           "other",
           "0%"
          ],
          [
           "other",
           "0%"
          ],
          [
           "other",
           "0%"
          ],
          [
           "other",
           "0%"
          ],
          [
           "other",
           "0%"
          ],
          [
           "other",
           "0%"
          ],
          [
           "other",
           "0%"
          ],
          [
           "other",
           "0%"
          ],
          [
           "other",
           "0%"
          ],
          [
           "other",
           "0%"
          ],
          [
           "other",
           "0%"
          ],
          [
           "other",
           "0%"
          ],
          [
           "other",
           "0%"
          ],
          [
           "other",
           "0%"
          ],
          [
           "other",
           "0%"
          ],
          [
           "other",
           "0%"
          ],
          [
           "other",
           "0%"
          ],
          [
           "other",
           "0%"
          ],
          [
           "other",
           "0%"
          ],
          [
           "other",
           "0%"
          ],
          [
           "other",
           "0%"
          ],
          [
           "other",
           "0%"
          ]
         ],
         "hovertemplate": "<b>Bad Bids Share:</b> %{x}<br><b>Rides at Risk:</b> %{y}<br><b>Alpha Parameter:</b> %{customdata[1]}",
         "legendgroup": "4373_auto_econom",
         "marker": {
          "color": "#ab63fa",
          "opacity": 1,
          "symbol": "circle"
         },
         "mode": "markers",
         "name": "4373_auto_econom",
         "orientation": "v",
         "showlegend": true,
         "type": "scatter",
         "x": {
          "bdata": "dmKCddpv6T9mRyxQdJ7nP/H6xsRxquU/xUs6DQ6f5D+V8IGJHpLjPw==",
          "dtype": "f8"
         },
         "xaxis": "x",
         "y": {
          "bdata": "UyTzdnNG5z+pqcs4/NjkP0qR2jqagOI/0KKr+1M/4T9EVH/oQhHgPw==",
          "dtype": "f8"
         },
         "yaxis": "y"
        },
        {
         "customdata": [
          [
           "4180",
           "0%"
          ],
          [
           "4180",
           "5%"
          ],
          [
           "4180",
           "10%"
          ],
          [
           "4180",
           "12.50%"
          ],
          [
           "4180",
           "15%"
          ],
          [
           "4196",
           "0%"
          ],
          [
           "4196",
           "5%"
          ],
          [
           "4196",
           "10%"
          ],
          [
           "4196",
           "12.50%"
          ],
          [
           "4196",
           "15%"
          ],
          [
           "4241",
           "0%"
          ],
          [
           "4241",
           "5%"
          ],
          [
           "4241",
           "10%"
          ],
          [
           "4241",
           "12.50%"
          ],
          [
           "4241",
           "15%"
          ],
          [
           "4373",
           "0%"
          ],
          [
           "4373",
           "5%"
          ],
          [
           "4373",
           "10%"
          ],
          [
           "4373",
           "12.50%"
          ],
          [
           "4373",
           "15%"
          ],
          [
           "4373",
           "0%"
          ],
          [
           "4373",
           "5%"
          ],
          [
           "4373",
           "10%"
          ],
          [
           "4373",
           "12.50%"
          ],
          [
           "4373",
           "15%"
          ],
          [
           "4515",
           "0%"
          ],
          [
           "4515",
           "5%"
          ],
          [
           "4515",
           "10%"
          ],
          [
           "4515",
           "12.50%"
          ],
          [
           "4515",
           "15%"
          ],
          [
           "other",
           "0%"
          ],
          [
           "other",
           "0%"
          ],
          [
           "other",
           "0%"
          ],
          [
           "other",
           "0%"
          ],
          [
           "other",
           "0%"
          ],
          [
           "other",
           "0%"
          ],
          [
           "other",
           "0%"
          ],
          [
           "other",
           "0%"
          ],
          [
           "other",
           "0%"
          ],
          [
           "other",
           "0%"
          ],
          [
           "other",
           "0%"
          ],
          [
           "other",
           "0%"
          ],
          [
           "other",
           "0%"
          ],
          [
           "other",
           "0%"
          ],
          [
           "other",
           "0%"
          ],
          [
           "other",
           "0%"
          ],
          [
           "other",
           "0%"
          ],
          [
           "other",
           "0%"
          ],
          [
           "other",
           "0%"
          ],
          [
           "other",
           "0%"
          ],
          [
           "other",
           "0%"
          ],
          [
           "other",
           "0%"
          ],
          [
           "other",
           "0%"
          ],
          [
           "other",
           "0%"
          ],
          [
           "other",
           "0%"
          ],
          [
           "other",
           "0%"
          ],
          [
           "other",
           "0%"
          ],
          [
           "other",
           "0%"
          ],
          [
           "other",
           "0%"
          ],
          [
           "other",
           "0%"
          ],
          [
           "other",
           "0%"
          ],
          [
           "other",
           "0%"
          ],
          [
           "other",
           "0%"
          ],
          [
           "other",
           "0%"
          ],
          [
           "other",
           "0%"
          ],
          [
           "other",
           "0%"
          ],
          [
           "other",
           "0%"
          ],
          [
           "other",
           "0%"
          ],
          [
           "other",
           "0%"
          ],
          [
           "other",
           "0%"
          ],
          [
           "other",
           "0%"
          ],
          [
           "other",
           "0%"
          ],
          [
           "other",
           "0%"
          ],
          [
           "other",
           "0%"
          ],
          [
           "other",
           "0%"
          ],
          [
           "other",
           "0%"
          ],
          [
           "other",
           "0%"
          ],
          [
           "other",
           "0%"
          ],
          [
           "other",
           "0%"
          ],
          [
           "other",
           "0%"
          ],
          [
           "other",
           "0%"
          ],
          [
           "other",
           "0%"
          ],
          [
           "other",
           "0%"
          ],
          [
           "other",
           "0%"
          ],
          [
           "other",
           "0%"
          ],
          [
           "other",
           "0%"
          ],
          [
           "other",
           "0%"
          ],
          [
           "other",
           "0%"
          ],
          [
           "other",
           "0%"
          ],
          [
           "other",
           "0%"
          ],
          [
           "other",
           "0%"
          ],
          [
           "other",
           "0%"
          ]
         ],
         "hovertemplate": "<b>Bad Bids Share:</b> %{x}<br><b>Rides at Risk:</b> %{y}<br><b>Alpha Parameter:</b> %{customdata[1]}",
         "legendgroup": "4373_moto_econom",
         "marker": {
          "color": "#FFA15A",
          "opacity": 1,
          "symbol": "circle"
         },
         "mode": "markers",
         "name": "4373_moto_econom",
         "orientation": "v",
         "showlegend": true,
         "type": "scatter",
         "x": {
          "bdata": "vhpP/C4u5z9AnfNS08PkPwx0PXmogOI/hKvFFB9U4T+U3tVjuEDgPw==",
          "dtype": "f8"
         },
         "xaxis": "x",
         "y": {
          "bdata": "qeATNc3K5D/a1S80NnHhP0Ak0SsvX90/k2Zf5n2z2j+abkLJHYDYPw==",
          "dtype": "f8"
         },
         "yaxis": "y"
        },
        {
         "customdata": [
          [
           "4180",
           "0%"
          ],
          [
           "4180",
           "5%"
          ],
          [
           "4180",
           "10%"
          ],
          [
           "4180",
           "12.50%"
          ],
          [
           "4180",
           "15%"
          ],
          [
           "4196",
           "0%"
          ],
          [
           "4196",
           "5%"
          ],
          [
           "4196",
           "10%"
          ],
          [
           "4196",
           "12.50%"
          ],
          [
           "4196",
           "15%"
          ],
          [
           "4241",
           "0%"
          ],
          [
           "4241",
           "5%"
          ],
          [
           "4241",
           "10%"
          ],
          [
           "4241",
           "12.50%"
          ],
          [
           "4241",
           "15%"
          ],
          [
           "4373",
           "0%"
          ],
          [
           "4373",
           "5%"
          ],
          [
           "4373",
           "10%"
          ],
          [
           "4373",
           "12.50%"
          ],
          [
           "4373",
           "15%"
          ],
          [
           "4373",
           "0%"
          ],
          [
           "4373",
           "5%"
          ],
          [
           "4373",
           "10%"
          ],
          [
           "4373",
           "12.50%"
          ],
          [
           "4373",
           "15%"
          ],
          [
           "4515",
           "0%"
          ],
          [
           "4515",
           "5%"
          ],
          [
           "4515",
           "10%"
          ],
          [
           "4515",
           "12.50%"
          ],
          [
           "4515",
           "15%"
          ],
          [
           "other",
           "0%"
          ],
          [
           "other",
           "0%"
          ],
          [
           "other",
           "0%"
          ],
          [
           "other",
           "0%"
          ],
          [
           "other",
           "0%"
          ],
          [
           "other",
           "0%"
          ],
          [
           "other",
           "0%"
          ],
          [
           "other",
           "0%"
          ],
          [
           "other",
           "0%"
          ],
          [
           "other",
           "0%"
          ],
          [
           "other",
           "0%"
          ],
          [
           "other",
           "0%"
          ],
          [
           "other",
           "0%"
          ],
          [
           "other",
           "0%"
          ],
          [
           "other",
           "0%"
          ],
          [
           "other",
           "0%"
          ],
          [
           "other",
           "0%"
          ],
          [
           "other",
           "0%"
          ],
          [
           "other",
           "0%"
          ],
          [
           "other",
           "0%"
          ],
          [
           "other",
           "0%"
          ],
          [
           "other",
           "0%"
          ],
          [
           "other",
           "0%"
          ],
          [
           "other",
           "0%"
          ],
          [
           "other",
           "0%"
          ],
          [
           "other",
           "0%"
          ],
          [
           "other",
           "0%"
          ],
          [
           "other",
           "0%"
          ],
          [
           "other",
           "0%"
          ],
          [
           "other",
           "0%"
          ],
          [
           "other",
           "0%"
          ],
          [
           "other",
           "0%"
          ],
          [
           "other",
           "0%"
          ],
          [
           "other",
           "0%"
          ],
          [
           "other",
           "0%"
          ],
          [
           "other",
           "0%"
          ],
          [
           "other",
           "0%"
          ],
          [
           "other",
           "0%"
          ],
          [
           "other",
           "0%"
          ],
          [
           "other",
           "0%"
          ],
          [
           "other",
           "0%"
          ],
          [
           "other",
           "0%"
          ],
          [
           "other",
           "0%"
          ],
          [
           "other",
           "0%"
          ],
          [
           "other",
           "0%"
          ],
          [
           "other",
           "0%"
          ],
          [
           "other",
           "0%"
          ],
          [
           "other",
           "0%"
          ],
          [
           "other",
           "0%"
          ],
          [
           "other",
           "0%"
          ],
          [
           "other",
           "0%"
          ],
          [
           "other",
           "0%"
          ],
          [
           "other",
           "0%"
          ],
          [
           "other",
           "0%"
          ],
          [
           "other",
           "0%"
          ],
          [
           "other",
           "0%"
          ],
          [
           "other",
           "0%"
          ],
          [
           "other",
           "0%"
          ],
          [
           "other",
           "0%"
          ],
          [
           "other",
           "0%"
          ],
          [
           "other",
           "0%"
          ],
          [
           "other",
           "0%"
          ]
         ],
         "hovertemplate": "<b>Bad Bids Share:</b> %{x}<br><b>Rides at Risk:</b> %{y}<br><b>Alpha Parameter:</b> %{customdata[1]}",
         "legendgroup": "4515_auto_econom",
         "marker": {
          "color": "#19d3f3",
          "opacity": 1,
          "symbol": "circle"
         },
         "mode": "markers",
         "name": "4515_auto_econom",
         "orientation": "v",
         "showlegend": true,
         "type": "scatter",
         "x": {
          "bdata": "ZIYcCaxC5z8L38WLI67jP9FINCVobOA/uXdPmZWw3T81XisnLPTaPw==",
          "dtype": "f8"
         },
         "xaxis": "x",
         "y": {
          "bdata": "URMcIqhd5D/+V5NpM/feP+vwwi8M7Nc/8OzR0jzZ1D9+hELV7IHSPw==",
          "dtype": "f8"
         },
         "yaxis": "y"
        },
        {
         "customdata": [
          [
           "4180",
           "0%"
          ],
          [
           "4180",
           "5%"
          ],
          [
           "4180",
           "10%"
          ],
          [
           "4180",
           "12.50%"
          ],
          [
           "4180",
           "15%"
          ],
          [
           "4196",
           "0%"
          ],
          [
           "4196",
           "5%"
          ],
          [
           "4196",
           "10%"
          ],
          [
           "4196",
           "12.50%"
          ],
          [
           "4196",
           "15%"
          ],
          [
           "4241",
           "0%"
          ],
          [
           "4241",
           "5%"
          ],
          [
           "4241",
           "10%"
          ],
          [
           "4241",
           "12.50%"
          ],
          [
           "4241",
           "15%"
          ],
          [
           "4373",
           "0%"
          ],
          [
           "4373",
           "5%"
          ],
          [
           "4373",
           "10%"
          ],
          [
           "4373",
           "12.50%"
          ],
          [
           "4373",
           "15%"
          ],
          [
           "4373",
           "0%"
          ],
          [
           "4373",
           "5%"
          ],
          [
           "4373",
           "10%"
          ],
          [
           "4373",
           "12.50%"
          ],
          [
           "4373",
           "15%"
          ],
          [
           "4515",
           "0%"
          ],
          [
           "4515",
           "5%"
          ],
          [
           "4515",
           "10%"
          ],
          [
           "4515",
           "12.50%"
          ],
          [
           "4515",
           "15%"
          ],
          [
           "other",
           "0%"
          ],
          [
           "other",
           "0%"
          ],
          [
           "other",
           "0%"
          ],
          [
           "other",
           "0%"
          ],
          [
           "other",
           "0%"
          ],
          [
           "other",
           "0%"
          ],
          [
           "other",
           "0%"
          ],
          [
           "other",
           "0%"
          ],
          [
           "other",
           "0%"
          ],
          [
           "other",
           "0%"
          ],
          [
           "other",
           "0%"
          ],
          [
           "other",
           "0%"
          ],
          [
           "other",
           "0%"
          ],
          [
           "other",
           "0%"
          ],
          [
           "other",
           "0%"
          ],
          [
           "other",
           "0%"
          ],
          [
           "other",
           "0%"
          ],
          [
           "other",
           "0%"
          ],
          [
           "other",
           "0%"
          ],
          [
           "other",
           "0%"
          ],
          [
           "other",
           "0%"
          ],
          [
           "other",
           "0%"
          ],
          [
           "other",
           "0%"
          ],
          [
           "other",
           "0%"
          ],
          [
           "other",
           "0%"
          ],
          [
           "other",
           "0%"
          ],
          [
           "other",
           "0%"
          ],
          [
           "other",
           "0%"
          ],
          [
           "other",
           "0%"
          ],
          [
           "other",
           "0%"
          ],
          [
           "other",
           "0%"
          ],
          [
           "other",
           "0%"
          ],
          [
           "other",
           "0%"
          ],
          [
           "other",
           "0%"
          ],
          [
           "other",
           "0%"
          ],
          [
           "other",
           "0%"
          ],
          [
           "other",
           "0%"
          ],
          [
           "other",
           "0%"
          ],
          [
           "other",
           "0%"
          ],
          [
           "other",
           "0%"
          ],
          [
           "other",
           "0%"
          ],
          [
           "other",
           "0%"
          ],
          [
           "other",
           "0%"
          ],
          [
           "other",
           "0%"
          ],
          [
           "other",
           "0%"
          ],
          [
           "other",
           "0%"
          ],
          [
           "other",
           "0%"
          ],
          [
           "other",
           "0%"
          ],
          [
           "other",
           "0%"
          ],
          [
           "other",
           "0%"
          ],
          [
           "other",
           "0%"
          ],
          [
           "other",
           "0%"
          ],
          [
           "other",
           "0%"
          ],
          [
           "other",
           "0%"
          ],
          [
           "other",
           "0%"
          ],
          [
           "other",
           "0%"
          ],
          [
           "other",
           "0%"
          ],
          [
           "other",
           "0%"
          ],
          [
           "other",
           "0%"
          ],
          [
           "other",
           "0%"
          ],
          [
           "other",
           "0%"
          ],
          [
           "other",
           "0%"
          ]
         ],
         "hovertemplate": "<b>Bad Bids Share:</b> %{x}<br><b>Rides at Risk:</b> %{y}<br><b>Alpha Parameter:</b> %{customdata[1]}",
         "legendgroup": "other_nan",
         "marker": {
          "color": "#FF6692",
          "opacity": 1,
          "symbol": "circle"
         },
         "mode": "markers",
         "name": "other_nan",
         "orientation": "v",
         "showlegend": true,
         "type": "scatter",
         "x": {
          "bdata": "sp3vp8ZL6z9eukkMAivrPzeJQWDl0Oo/mG4Sg8DK6T9OYhBYObToP3sUrkfheug/16NwPQrX5z9aZDvfT43nP1pkO99Pjec/hxbZzvdT5z+HFtnO91PnP4cW2c73U+c/30+Nl24S5z8K16NwPQrnPwrXo3A9Cuc/Di2yne+n5j89CtejcD3mP5MYBFYOLeY/vp8aL90k5j8X2c73U+PlP5qZmZmZmeU/8KfGSzeJ5T/y0k1iEFjlPx1aZDvfT+U/nu+nxks35T/4U+Olm8TkP6RwPQrXo+Q/+n5qvHST5D8lBoGVQ4vkP1TjpZvEIOQ/qvHSTWIQ5D/VeOkmMQjkPwIrhxbZzuM/LbKd76fG4z+DwMqhRbbjP4PAyqFFtuM/BoGVQ4ts4z8xCKwcWmTjP2Dl0CLb+eI/jZduEoPA4j/jpZvEILDiPzm0yHa+n+I/O99PjZdu4j/n+6nx0k3iPz0K16NwPeI/PzVeukkM4j8bL90kBoHhP3Noke18P+E/TDeJQWDl4D93vp8aL93gP1g5tMh2vt8/WDm0yHa+3z8EVg4tsp3fPwwCK4cW2d4/wcqhRbbz3T8X2c73U+PdPyGwcmiR7dw/001iEFg53D/fT42XbhLbP5qZmZmZmdk/TmIQWDm02D9mZmZmZmbWPw==",
          "dtype": "f8"
         },
         "xaxis": "x",
         "y": {
          "bdata": "H4XrUbge6T9zaJHtfD/pP1g5tMh2vuc/kxgEVg4t5j+amZmZmZnlPyUGgZVDi+Q/NV66SQwC5z8EVg4tsp3jPyGwcmiR7eQ/ZDvfT42X4j9g5dAi2/niPyuHFtnO9+M/16NwPQrX4z8rhxbZzvfjP+58PzVeuuE/O99PjZdu4j+PwvUoXI/iP/T91HjpJuE/gZVDi2zn4z81XrpJDALjP8l2vp8aL+E/EFg5tMh24j+YbhKDwMrhP8/3U+Olm+A/bef7qfHS5T/LoUW28/3gP3sUrkfheuA/YhBYObTI3j/HSzeJQWDdP7x0kxgEVt4/exSuR+F64D/+1HjpJjHgP6RwPQrXo+A/tMh2vp8a3z+4HoXrUbjePx+F61G4Ht0/exSuR+F63D/RItv5fmrcPylcj8L1KNw/g8DKoUW22z9zaJHtfD/dPzVeukkMAts/hxbZzvdT2z/6fmq8dJPkPyPb+X5qvOA/L90kBoGV2z+e76fGSzfZP7pJDAIrh94/cT0K16Nw1T9U46WbxCDgP/LSTWIQWNk/nMQgsHJo2T+mm8QgsHLYP4cW2c73U9M/PQrXo3A92j9iEFg5tMjWP9NNYhBYOdQ/N4lBYOXQ0j9qvHSTGATeP0a28/3UeNE/K4cW2c732z8tsp3vp8bLPw==",
          "dtype": "f8"
         },
         "yaxis": "y"
        },
        {
         "line": {
          "color": "black",
          "dash": "dash",
          "width": 2
         },
         "mode": "lines",
         "name": "Regression Line",
         "type": "scatter",
         "x": {
          "bdata": "AAAAAAAAAAC2It6iWaWBP7Yi3qJZpZE/ETRNdAZ4mj+2It6iWaWhP2SrlQuwDqY/ETRNdAZ4qj++vATdXOGuP7Yi3qJZpbE/Dec51wTasz9kq5ULsA62P7pv8T9bQ7g/ETRNdAZ4uj9o+Kiosay8P768BN1c4b4/i0CwCASLwD+2It6iWaXBP+EEDD2vv8I/Dec51wTawz84yWdxWvTEP2SrlQuwDsY/j43DpQUpxz+6b/E/W0PIP+ZRH9qwXck/ETRNdAZ4yj88FnsOXJLLP2j4qKixrMw/k9rWQgfHzT++vATdXOHOP+qeMney+88/i0CwCASL0D+gMcfVLhjRP7Yi3qJZpdE/zBP1b4Qy0j/hBAw9r7/SP/f1IgraTNM/Dec51wTa0z8i2FCkL2fUPzjJZ3Fa9NQ/Trp+PoWB1T9kq5ULsA7WP3mcrNjam9Y/j43DpQUp1z+lftpyMLbXP7pv8T9bQ9g/0GAIDYbQ2D/mUR/asF3ZP/tCNqfb6tk/ETRNdAZ42j8nJWRBMQXbPzwWew5ckts/UgeS24Yf3D9o+KiosazcP33pv3XcOd0/k9rWQgfH3T+py+0PMlTeP768BN1c4d4/1K0bqodu3z/qnjJ3svvfPwDIJKJuROA/i0CwCASL4D8VuTtvmdHgP6Axx9UuGOE/K6pSPMRe4T+2It6iWaXhP0GbaQnv6+E/zBP1b4Qy4j9XjIDWGXniP+EEDD2vv+I/bH2Xo0QG4z/39SIK2kzjP4JurnBvk+M/Dec51wTa4z+YX8U9miDkPyLYUKQvZ+Q/rVDcCsWt5D84yWdxWvTkP8NB89fvOuU/Trp+PoWB5T/ZMgqlGsjlP2SrlQuwDuY/7iMhckVV5j95nKzY2pvmPwQVOD9w4uY/j43DpQUp5z8aBk8Mm2/nP6V+2nIwtuc/L/dl2cX85z+6b/E/W0PoP0XofKbwieg/0GAIDYbQ6D9b2ZNzGxfpP+ZRH9qwXek/cMqqQEak6T/7Qjan2+rpP4a7wQ1xMeo/ETRNdAZ46j+crNjam77qPyclZEExBes/sp3vp8ZL6z8=",
          "dtype": "f8"
         },
         "y": {
          "bdata": "AAAAAAAAAACf/itrTCR4P5/+K2tMJIg/9/5gUDkbkj+f/itrTCSYP0f+9oVfLZ4/9/5gUDkboj/Lfsbdwh+lP5/+K2tMJKg/c36R+NUoqz9H/vaFXy2uPw0/ron0mLA/9/5gUDkbsj/hvhMXfp2zP8t+xt3CH7U/tT55pAeitj+f/itrTCS4P4i+3jGRprk/c36R+NUouz9cPkS/Gqu8P0f+9oVfLb4/Mb6pTKSvvz8NP66J9JjAPwKfB+0WWsE/9/5gUDkbwj/sXrqzW9zCP+G+Exd+ncM/1h5teqBexD/Lfsbdwh/FP8DeH0Hl4MU/tT55pAeixj+pntIHKmPHP5/+K2tMJMg/lF6Fzm7lyD+Ivt4xkabJP34eOJWzZ8o/c36R+NUoyz9n3upb+OnLP1w+RL8aq8w/Up6dIj1szT9H/vaFXy3OPzteUOmB7s4/Mb6pTKSvzz8TjwFYYzjQPw0/ron0mNA/CO9au4X50D8CnwftFlrRP/xOtB6outE/9/5gUDkb0j/yrg2CynvSP+xeurNb3NI/5g5n5ew80z/hvhMXfp3TP9tuwEgP/tM/1h5teqBe1D/RzhmsMb/UP8t+xt3CH9U/xS5zD1SA1T/A3h9B5eDVP7uOzHJ2QdY/tT55pAei1j+v7iXWmALXP6me0gcqY9c/pE5/ObvD1z+f/itrTCTYP5mu2JzdhNg/lF6Fzm7l2D+PDjIAAEbZP4i+3jGRptk/g26LYyIH2j9+HjiVs2faP3jO5MZEyNo/c36R+NUo2z9uLj4qZ4nbP2fe6lv46ds/Yo6XjYlK3D9cPkS/GqvcP1fu8PCrC90/Up6dIj1s3T9MTkpUzszdP0f+9oVfLd4/QK6jt/CN3j87XlDpge7ePzYO/RoTT98/Mb6pTKSv3z8WNyu/GgjgPxOPAVhjOOA/EOfX8Kto4D8NP66J9JjgPwqXhCI9yeA/CO9au4X54D8FRzFUzinhPwKfB+0WWuE///bdhV+K4T/8TrQeqLrhP/qmirfw6uE/9/5gUDkb4j/0VjfpgUviP/KuDYLKe+I/7wbkGhOs4j8=",
          "dtype": "f8"
         }
        },
        {
         "marker": {
          "color": "rgba(0,0,0,0)",
          "line": {
           "color": "red",
           "width": 2
          },
          "size": 12,
          "symbol": "square"
         },
         "mode": "markers",
         "name": "Highlighted Points",
         "type": "scatter",
         "x": {
          "bdata": "SsY+21Rb2j8hNqrtLRLgP5h2d5VEVto/lN7VY7hA4D+5d0+ZlbDdPw==",
          "dtype": "f8"
         },
         "y": {
          "bdata": "zHTA/Q8O0j+7ASGmSt3VP0ZP0U1iw9E/mm5CyR2A2D/w7NHSPNnUPw==",
          "dtype": "f8"
         }
        }
       ],
       "layout": {
        "height": 800,
        "legend": {
         "title": {
          "text": "City and Type"
         },
         "tracegroupgap": 0
        },
        "template": {
         "data": {
          "bar": [
           {
            "error_x": {
             "color": "#2a3f5f"
            },
            "error_y": {
             "color": "#2a3f5f"
            },
            "marker": {
             "line": {
              "color": "#E5ECF6",
              "width": 0.5
             },
             "pattern": {
              "fillmode": "overlay",
              "size": 10,
              "solidity": 0.2
             }
            },
            "type": "bar"
           }
          ],
          "barpolar": [
           {
            "marker": {
             "line": {
              "color": "#E5ECF6",
              "width": 0.5
             },
             "pattern": {
              "fillmode": "overlay",
              "size": 10,
              "solidity": 0.2
             }
            },
            "type": "barpolar"
           }
          ],
          "carpet": [
           {
            "aaxis": {
             "endlinecolor": "#2a3f5f",
             "gridcolor": "white",
             "linecolor": "white",
             "minorgridcolor": "white",
             "startlinecolor": "#2a3f5f"
            },
            "baxis": {
             "endlinecolor": "#2a3f5f",
             "gridcolor": "white",
             "linecolor": "white",
             "minorgridcolor": "white",
             "startlinecolor": "#2a3f5f"
            },
            "type": "carpet"
           }
          ],
          "choropleth": [
           {
            "colorbar": {
             "outlinewidth": 0,
             "ticks": ""
            },
            "type": "choropleth"
           }
          ],
          "contour": [
           {
            "colorbar": {
             "outlinewidth": 0,
             "ticks": ""
            },
            "colorscale": [
             [
              0,
              "#0d0887"
             ],
             [
              0.1111111111111111,
              "#46039f"
             ],
             [
              0.2222222222222222,
              "#7201a8"
             ],
             [
              0.3333333333333333,
              "#9c179e"
             ],
             [
              0.4444444444444444,
              "#bd3786"
             ],
             [
              0.5555555555555556,
              "#d8576b"
             ],
             [
              0.6666666666666666,
              "#ed7953"
             ],
             [
              0.7777777777777778,
              "#fb9f3a"
             ],
             [
              0.8888888888888888,
              "#fdca26"
             ],
             [
              1,
              "#f0f921"
             ]
            ],
            "type": "contour"
           }
          ],
          "contourcarpet": [
           {
            "colorbar": {
             "outlinewidth": 0,
             "ticks": ""
            },
            "type": "contourcarpet"
           }
          ],
          "heatmap": [
           {
            "colorbar": {
             "outlinewidth": 0,
             "ticks": ""
            },
            "colorscale": [
             [
              0,
              "#0d0887"
             ],
             [
              0.1111111111111111,
              "#46039f"
             ],
             [
              0.2222222222222222,
              "#7201a8"
             ],
             [
              0.3333333333333333,
              "#9c179e"
             ],
             [
              0.4444444444444444,
              "#bd3786"
             ],
             [
              0.5555555555555556,
              "#d8576b"
             ],
             [
              0.6666666666666666,
              "#ed7953"
             ],
             [
              0.7777777777777778,
              "#fb9f3a"
             ],
             [
              0.8888888888888888,
              "#fdca26"
             ],
             [
              1,
              "#f0f921"
             ]
            ],
            "type": "heatmap"
           }
          ],
          "histogram": [
           {
            "marker": {
             "pattern": {
              "fillmode": "overlay",
              "size": 10,
              "solidity": 0.2
             }
            },
            "type": "histogram"
           }
          ],
          "histogram2d": [
           {
            "colorbar": {
             "outlinewidth": 0,
             "ticks": ""
            },
            "colorscale": [
             [
              0,
              "#0d0887"
             ],
             [
              0.1111111111111111,
              "#46039f"
             ],
             [
              0.2222222222222222,
              "#7201a8"
             ],
             [
              0.3333333333333333,
              "#9c179e"
             ],
             [
              0.4444444444444444,
              "#bd3786"
             ],
             [
              0.5555555555555556,
              "#d8576b"
             ],
             [
              0.6666666666666666,
              "#ed7953"
             ],
             [
              0.7777777777777778,
              "#fb9f3a"
             ],
             [
              0.8888888888888888,
              "#fdca26"
             ],
             [
              1,
              "#f0f921"
             ]
            ],
            "type": "histogram2d"
           }
          ],
          "histogram2dcontour": [
           {
            "colorbar": {
             "outlinewidth": 0,
             "ticks": ""
            },
            "colorscale": [
             [
              0,
              "#0d0887"
             ],
             [
              0.1111111111111111,
              "#46039f"
             ],
             [
              0.2222222222222222,
              "#7201a8"
             ],
             [
              0.3333333333333333,
              "#9c179e"
             ],
             [
              0.4444444444444444,
              "#bd3786"
             ],
             [
              0.5555555555555556,
              "#d8576b"
             ],
             [
              0.6666666666666666,
              "#ed7953"
             ],
             [
              0.7777777777777778,
              "#fb9f3a"
             ],
             [
              0.8888888888888888,
              "#fdca26"
             ],
             [
              1,
              "#f0f921"
             ]
            ],
            "type": "histogram2dcontour"
           }
          ],
          "mesh3d": [
           {
            "colorbar": {
             "outlinewidth": 0,
             "ticks": ""
            },
            "type": "mesh3d"
           }
          ],
          "parcoords": [
           {
            "line": {
             "colorbar": {
              "outlinewidth": 0,
              "ticks": ""
             }
            },
            "type": "parcoords"
           }
          ],
          "pie": [
           {
            "automargin": true,
            "type": "pie"
           }
          ],
          "scatter": [
           {
            "fillpattern": {
             "fillmode": "overlay",
             "size": 10,
             "solidity": 0.2
            },
            "type": "scatter"
           }
          ],
          "scatter3d": [
           {
            "line": {
             "colorbar": {
              "outlinewidth": 0,
              "ticks": ""
             }
            },
            "marker": {
             "colorbar": {
              "outlinewidth": 0,
              "ticks": ""
             }
            },
            "type": "scatter3d"
           }
          ],
          "scattercarpet": [
           {
            "marker": {
             "colorbar": {
              "outlinewidth": 0,
              "ticks": ""
             }
            },
            "type": "scattercarpet"
           }
          ],
          "scattergeo": [
           {
            "marker": {
             "colorbar": {
              "outlinewidth": 0,
              "ticks": ""
             }
            },
            "type": "scattergeo"
           }
          ],
          "scattergl": [
           {
            "marker": {
             "colorbar": {
              "outlinewidth": 0,
              "ticks": ""
             }
            },
            "type": "scattergl"
           }
          ],
          "scattermap": [
           {
            "marker": {
             "colorbar": {
              "outlinewidth": 0,
              "ticks": ""
             }
            },
            "type": "scattermap"
           }
          ],
          "scattermapbox": [
           {
            "marker": {
             "colorbar": {
              "outlinewidth": 0,
              "ticks": ""
             }
            },
            "type": "scattermapbox"
           }
          ],
          "scatterpolar": [
           {
            "marker": {
             "colorbar": {
              "outlinewidth": 0,
              "ticks": ""
             }
            },
            "type": "scatterpolar"
           }
          ],
          "scatterpolargl": [
           {
            "marker": {
             "colorbar": {
              "outlinewidth": 0,
              "ticks": ""
             }
            },
            "type": "scatterpolargl"
           }
          ],
          "scatterternary": [
           {
            "marker": {
             "colorbar": {
              "outlinewidth": 0,
              "ticks": ""
             }
            },
            "type": "scatterternary"
           }
          ],
          "surface": [
           {
            "colorbar": {
             "outlinewidth": 0,
             "ticks": ""
            },
            "colorscale": [
             [
              0,
              "#0d0887"
             ],
             [
              0.1111111111111111,
              "#46039f"
             ],
             [
              0.2222222222222222,
              "#7201a8"
             ],
             [
              0.3333333333333333,
              "#9c179e"
             ],
             [
              0.4444444444444444,
              "#bd3786"
             ],
             [
              0.5555555555555556,
              "#d8576b"
             ],
             [
              0.6666666666666666,
              "#ed7953"
             ],
             [
              0.7777777777777778,
              "#fb9f3a"
             ],
             [
              0.8888888888888888,
              "#fdca26"
             ],
             [
              1,
              "#f0f921"
             ]
            ],
            "type": "surface"
           }
          ],
          "table": [
           {
            "cells": {
             "fill": {
              "color": "#EBF0F8"
             },
             "line": {
              "color": "white"
             }
            },
            "header": {
             "fill": {
              "color": "#C8D4E3"
             },
             "line": {
              "color": "white"
             }
            },
            "type": "table"
           }
          ]
         },
         "layout": {
          "annotationdefaults": {
           "arrowcolor": "#2a3f5f",
           "arrowhead": 0,
           "arrowwidth": 1
          },
          "autotypenumbers": "strict",
          "coloraxis": {
           "colorbar": {
            "outlinewidth": 0,
            "ticks": ""
           }
          },
          "colorscale": {
           "diverging": [
            [
             0,
             "#8e0152"
            ],
            [
             0.1,
             "#c51b7d"
            ],
            [
             0.2,
             "#de77ae"
            ],
            [
             0.3,
             "#f1b6da"
            ],
            [
             0.4,
             "#fde0ef"
            ],
            [
             0.5,
             "#f7f7f7"
            ],
            [
             0.6,
             "#e6f5d0"
            ],
            [
             0.7,
             "#b8e186"
            ],
            [
             0.8,
             "#7fbc41"
            ],
            [
             0.9,
             "#4d9221"
            ],
            [
             1,
             "#276419"
            ]
           ],
           "sequential": [
            [
             0,
             "#0d0887"
            ],
            [
             0.1111111111111111,
             "#46039f"
            ],
            [
             0.2222222222222222,
             "#7201a8"
            ],
            [
             0.3333333333333333,
             "#9c179e"
            ],
            [
             0.4444444444444444,
             "#bd3786"
            ],
            [
             0.5555555555555556,
             "#d8576b"
            ],
            [
             0.6666666666666666,
             "#ed7953"
            ],
            [
             0.7777777777777778,
             "#fb9f3a"
            ],
            [
             0.8888888888888888,
             "#fdca26"
            ],
            [
             1,
             "#f0f921"
            ]
           ],
           "sequentialminus": [
            [
             0,
             "#0d0887"
            ],
            [
             0.1111111111111111,
             "#46039f"
            ],
            [
             0.2222222222222222,
             "#7201a8"
            ],
            [
             0.3333333333333333,
             "#9c179e"
            ],
            [
             0.4444444444444444,
             "#bd3786"
            ],
            [
             0.5555555555555556,
             "#d8576b"
            ],
            [
             0.6666666666666666,
             "#ed7953"
            ],
            [
             0.7777777777777778,
             "#fb9f3a"
            ],
            [
             0.8888888888888888,
             "#fdca26"
            ],
            [
             1,
             "#f0f921"
            ]
           ]
          },
          "colorway": [
           "#636efa",
           "#EF553B",
           "#00cc96",
           "#ab63fa",
           "#FFA15A",
           "#19d3f3",
           "#FF6692",
           "#B6E880",
           "#FF97FF",
           "#FECB52"
          ],
          "font": {
           "color": "#2a3f5f"
          },
          "geo": {
           "bgcolor": "white",
           "lakecolor": "white",
           "landcolor": "#E5ECF6",
           "showlakes": true,
           "showland": true,
           "subunitcolor": "white"
          },
          "hoverlabel": {
           "align": "left"
          },
          "hovermode": "closest",
          "mapbox": {
           "style": "light"
          },
          "paper_bgcolor": "white",
          "plot_bgcolor": "#E5ECF6",
          "polar": {
           "angularaxis": {
            "gridcolor": "white",
            "linecolor": "white",
            "ticks": ""
           },
           "bgcolor": "#E5ECF6",
           "radialaxis": {
            "gridcolor": "white",
            "linecolor": "white",
            "ticks": ""
           }
          },
          "scene": {
           "xaxis": {
            "backgroundcolor": "#E5ECF6",
            "gridcolor": "white",
            "gridwidth": 2,
            "linecolor": "white",
            "showbackground": true,
            "ticks": "",
            "zerolinecolor": "white"
           },
           "yaxis": {
            "backgroundcolor": "#E5ECF6",
            "gridcolor": "white",
            "gridwidth": 2,
            "linecolor": "white",
            "showbackground": true,
            "ticks": "",
            "zerolinecolor": "white"
           },
           "zaxis": {
            "backgroundcolor": "#E5ECF6",
            "gridcolor": "white",
            "gridwidth": 2,
            "linecolor": "white",
            "showbackground": true,
            "ticks": "",
            "zerolinecolor": "white"
           }
          },
          "shapedefaults": {
           "line": {
            "color": "#2a3f5f"
           }
          },
          "ternary": {
           "aaxis": {
            "gridcolor": "white",
            "linecolor": "white",
            "ticks": ""
           },
           "baxis": {
            "gridcolor": "white",
            "linecolor": "white",
            "ticks": ""
           },
           "bgcolor": "#E5ECF6",
           "caxis": {
            "gridcolor": "white",
            "linecolor": "white",
            "ticks": ""
           }
          },
          "title": {
           "x": 0.05
          },
          "xaxis": {
           "automargin": true,
           "gridcolor": "white",
           "linecolor": "white",
           "ticks": "",
           "title": {
            "standoff": 15
           },
           "zerolinecolor": "white",
           "zerolinewidth": 2
          },
          "yaxis": {
           "automargin": true,
           "gridcolor": "white",
           "linecolor": "white",
           "ticks": "",
           "title": {
            "standoff": 15
           },
           "zerolinecolor": "white",
           "zerolinewidth": 2
          }
         }
        },
        "title": {
         "text": "Bad Bids Share vs Rides at Risk"
        },
        "width": 1200,
        "xaxis": {
         "anchor": "y",
         "domain": [
          0,
          1
         ],
         "title": {
          "text": "Bad Bids Share"
         }
        },
        "yaxis": {
         "anchor": "x",
         "domain": [
          0,
          1
         ],
         "title": {
          "text": "Rides at Risk"
         }
        }
       }
      }
     },
     "metadata": {},
     "output_type": "display_data"
    }
   ],
   "source": [
    "conditions = (\n",
    "    ((df_plot['city'] == '4515') & (df_plot['param'] == '12.50%') & (df_plot['type'] == 'auto_econom')) |  # Puerto Vallarta\n",
    "    ((df_plot['city'] == '4180') & (df_plot['param'] == '10%') & (df_plot['type'] == 'auto_econom')) |    # Veracruz\n",
    "    ((df_plot['city'] == '4196') & (df_plot['param'] == '15%') & (df_plot['type'] == 'auto_econom')) |  # Cucuta\n",
    "    ((df_plot['city'] == '4241') & (df_plot['param'] == '12.50%') & (df_plot['type'] == 'auto_econom')) |  # Tepic\n",
    "    ((df_plot['city'] == '4373') & (df_plot['param'] == '15%') & (df_plot['type'] == 'moto_econom'))   # \n",
    "    # ((df_plot['city'] == 4373) & (df_plot['param'] == 0.125) & (df_plot['type'] == 'moto_econom')) |  # \n",
    ")\n",
    "\n",
    "df_highlight = df_plot[conditions]\n",
    "\n",
    "fig.add_trace(go.Scatter(\n",
    "    x=df_highlight[\"badbids_share\"],\n",
    "    y=df_highlight[\"rides_at_risk\"],\n",
    "    mode=\"markers\",\n",
    "    marker=dict(\n",
    "        symbol=\"square\", \n",
    "        size=12, \n",
    "        color=\"rgba(0,0,0,0)\",  # Прозрачный цвет внутри\n",
    "        line=dict(width=2, color=\"red\")  # Красный контур\n",
    "    ),\n",
    "    name=\"Highlighted Points\"\n",
    "))\n",
    "\n",
    "fig.update_layout(\n",
    "    height=800,  # Высота в пикселях\n",
    "    width=1200,   # Ширина в пикселях\n",
    ")\n",
    "\n",
    "fig.show()"
   ]
  },
  {
   "cell_type": "code",
   "execution_count": 27,
   "metadata": {},
   "outputs": [
    {
     "data": {
      "text/plain": [
       "city                    4373\n",
       "type             moto_econom\n",
       "t_param                  6.1\n",
       "param                    15%\n",
       "badbids_share         0.5079\n",
       "rides_at_risk        0.38282\n",
       "Name: 14, dtype: object"
      ]
     },
     "execution_count": 27,
     "metadata": {},
     "output_type": "execute_result"
    }
   ],
   "source": [
    "df_result.loc[14]"
   ]
  },
  {
   "cell_type": "code",
   "execution_count": 137,
   "metadata": {},
   "outputs": [
    {
     "data": {
      "text/html": [
       "<div>\n",
       "<style scoped>\n",
       "    .dataframe tbody tr th:only-of-type {\n",
       "        vertical-align: middle;\n",
       "    }\n",
       "\n",
       "    .dataframe tbody tr th {\n",
       "        vertical-align: top;\n",
       "    }\n",
       "\n",
       "    .dataframe thead th {\n",
       "        text-align: right;\n",
       "    }\n",
       "</style>\n",
       "<table border=\"1\" class=\"dataframe\">\n",
       "  <thead>\n",
       "    <tr style=\"text-align: right;\">\n",
       "      <th></th>\n",
       "      <th>city</th>\n",
       "      <th>param</th>\n",
       "      <th>badbids_share</th>\n",
       "      <th>rides_at_risk</th>\n",
       "    </tr>\n",
       "  </thead>\n",
       "  <tbody>\n",
       "    <tr>\n",
       "      <th>14</th>\n",
       "      <td>5548</td>\n",
       "      <td>15%</td>\n",
       "      <td>0.349761</td>\n",
       "      <td>0.255538</td>\n",
       "    </tr>\n",
       "    <tr>\n",
       "      <th>7</th>\n",
       "      <td>4180</td>\n",
       "      <td>10%</td>\n",
       "      <td>0.414221</td>\n",
       "      <td>0.283353</td>\n",
       "    </tr>\n",
       "    <tr>\n",
       "      <th>23</th>\n",
       "      <td>4241</td>\n",
       "      <td>12.50%</td>\n",
       "      <td>0.418264</td>\n",
       "      <td>0.281517</td>\n",
       "    </tr>\n",
       "    <tr>\n",
       "      <th>3</th>\n",
       "      <td>4515</td>\n",
       "      <td>12.50%</td>\n",
       "      <td>0.464603</td>\n",
       "      <td>0.325644</td>\n",
       "    </tr>\n",
       "    <tr>\n",
       "      <th>19</th>\n",
       "      <td>4196</td>\n",
       "      <td>15%</td>\n",
       "      <td>0.504859</td>\n",
       "      <td>0.343482</td>\n",
       "    </tr>\n",
       "  </tbody>\n",
       "</table>\n",
       "</div>"
      ],
      "text/plain": [
       "    city   param  badbids_share  rides_at_risk\n",
       "14  5548     15%       0.349761       0.255538\n",
       "7   4180     10%       0.414221       0.283353\n",
       "23  4241  12.50%       0.418264       0.281517\n",
       "3   4515  12.50%       0.464603       0.325644\n",
       "19  4196     15%       0.504859       0.343482"
      ]
     },
     "execution_count": 137,
     "metadata": {},
     "output_type": "execute_result"
    }
   ],
   "source": [
    "df_highlight.sort_values(by=\"badbids_share\")"
   ]
  },
  {
   "cell_type": "code",
   "execution_count": 128,
   "metadata": {},
   "outputs": [
    {
     "data": {
      "text/html": [
       "<div>\n",
       "<style scoped>\n",
       "    .dataframe tbody tr th:only-of-type {\n",
       "        vertical-align: middle;\n",
       "    }\n",
       "\n",
       "    .dataframe tbody tr th {\n",
       "        vertical-align: top;\n",
       "    }\n",
       "\n",
       "    .dataframe thead th {\n",
       "        text-align: right;\n",
       "    }\n",
       "</style>\n",
       "<table border=\"1\" class=\"dataframe\">\n",
       "  <thead>\n",
       "    <tr style=\"text-align: right;\">\n",
       "      <th></th>\n",
       "      <th>city</th>\n",
       "      <th>param</th>\n",
       "      <th>badbids_share</th>\n",
       "      <th>rides_at_risk</th>\n",
       "    </tr>\n",
       "  </thead>\n",
       "  <tbody>\n",
       "    <tr>\n",
       "      <th>0</th>\n",
       "      <td>4515</td>\n",
       "      <td>0%</td>\n",
       "      <td>0.726504</td>\n",
       "      <td>0.634496</td>\n",
       "    </tr>\n",
       "    <tr>\n",
       "      <th>1</th>\n",
       "      <td>4515</td>\n",
       "      <td>5%</td>\n",
       "      <td>0.615343</td>\n",
       "      <td>0.482935</td>\n",
       "    </tr>\n",
       "    <tr>\n",
       "      <th>2</th>\n",
       "      <td>4515</td>\n",
       "      <td>10%</td>\n",
       "      <td>0.514078</td>\n",
       "      <td>0.373735</td>\n",
       "    </tr>\n",
       "    <tr>\n",
       "      <th>3</th>\n",
       "      <td>4515</td>\n",
       "      <td>12.50%</td>\n",
       "      <td>0.464603</td>\n",
       "      <td>0.325644</td>\n",
       "    </tr>\n",
       "    <tr>\n",
       "      <th>4</th>\n",
       "      <td>4515</td>\n",
       "      <td>15%</td>\n",
       "      <td>0.422331</td>\n",
       "      <td>0.289740</td>\n",
       "    </tr>\n",
       "    <tr>\n",
       "      <th>5</th>\n",
       "      <td>4180</td>\n",
       "      <td>0%</td>\n",
       "      <td>0.665002</td>\n",
       "      <td>0.578100</td>\n",
       "    </tr>\n",
       "    <tr>\n",
       "      <th>6</th>\n",
       "      <td>4180</td>\n",
       "      <td>5%</td>\n",
       "      <td>0.515468</td>\n",
       "      <td>0.388935</td>\n",
       "    </tr>\n",
       "    <tr>\n",
       "      <th>7</th>\n",
       "      <td>4180</td>\n",
       "      <td>10%</td>\n",
       "      <td>0.414221</td>\n",
       "      <td>0.283353</td>\n",
       "    </tr>\n",
       "    <tr>\n",
       "      <th>8</th>\n",
       "      <td>4180</td>\n",
       "      <td>12.50%</td>\n",
       "      <td>0.354519</td>\n",
       "      <td>0.228205</td>\n",
       "    </tr>\n",
       "    <tr>\n",
       "      <th>9</th>\n",
       "      <td>4180</td>\n",
       "      <td>15%</td>\n",
       "      <td>0.303058</td>\n",
       "      <td>0.184596</td>\n",
       "    </tr>\n",
       "    <tr>\n",
       "      <th>10</th>\n",
       "      <td>5548</td>\n",
       "      <td>0%</td>\n",
       "      <td>0.596496</td>\n",
       "      <td>0.534414</td>\n",
       "    </tr>\n",
       "    <tr>\n",
       "      <th>11</th>\n",
       "      <td>5548</td>\n",
       "      <td>5%</td>\n",
       "      <td>0.520094</td>\n",
       "      <td>0.444431</td>\n",
       "    </tr>\n",
       "    <tr>\n",
       "      <th>12</th>\n",
       "      <td>5548</td>\n",
       "      <td>10%</td>\n",
       "      <td>0.427281</td>\n",
       "      <td>0.334655</td>\n",
       "    </tr>\n",
       "    <tr>\n",
       "      <th>13</th>\n",
       "      <td>5548</td>\n",
       "      <td>12.50%</td>\n",
       "      <td>0.389931</td>\n",
       "      <td>0.294700</td>\n",
       "    </tr>\n",
       "    <tr>\n",
       "      <th>14</th>\n",
       "      <td>5548</td>\n",
       "      <td>15%</td>\n",
       "      <td>0.349761</td>\n",
       "      <td>0.255538</td>\n",
       "    </tr>\n",
       "    <tr>\n",
       "      <th>15</th>\n",
       "      <td>4196</td>\n",
       "      <td>0%</td>\n",
       "      <td>0.797754</td>\n",
       "      <td>0.733334</td>\n",
       "    </tr>\n",
       "    <tr>\n",
       "      <th>16</th>\n",
       "      <td>4196</td>\n",
       "      <td>5%</td>\n",
       "      <td>0.699251</td>\n",
       "      <td>0.590460</td>\n",
       "    </tr>\n",
       "    <tr>\n",
       "      <th>17</th>\n",
       "      <td>4196</td>\n",
       "      <td>10%</td>\n",
       "      <td>0.601929</td>\n",
       "      <td>0.456699</td>\n",
       "    </tr>\n",
       "    <tr>\n",
       "      <th>18</th>\n",
       "      <td>4196</td>\n",
       "      <td>12.50%</td>\n",
       "      <td>0.549638</td>\n",
       "      <td>0.394072</td>\n",
       "    </tr>\n",
       "    <tr>\n",
       "      <th>19</th>\n",
       "      <td>4196</td>\n",
       "      <td>15%</td>\n",
       "      <td>0.504859</td>\n",
       "      <td>0.343482</td>\n",
       "    </tr>\n",
       "    <tr>\n",
       "      <th>20</th>\n",
       "      <td>4241</td>\n",
       "      <td>0%</td>\n",
       "      <td>0.679242</td>\n",
       "      <td>0.567348</td>\n",
       "    </tr>\n",
       "    <tr>\n",
       "      <th>21</th>\n",
       "      <td>4241</td>\n",
       "      <td>5%</td>\n",
       "      <td>0.593425</td>\n",
       "      <td>0.469804</td>\n",
       "    </tr>\n",
       "    <tr>\n",
       "      <th>22</th>\n",
       "      <td>4241</td>\n",
       "      <td>10%</td>\n",
       "      <td>0.464047</td>\n",
       "      <td>0.323267</td>\n",
       "    </tr>\n",
       "    <tr>\n",
       "      <th>23</th>\n",
       "      <td>4241</td>\n",
       "      <td>12.50%</td>\n",
       "      <td>0.418264</td>\n",
       "      <td>0.281517</td>\n",
       "    </tr>\n",
       "    <tr>\n",
       "      <th>24</th>\n",
       "      <td>4241</td>\n",
       "      <td>15%</td>\n",
       "      <td>0.371245</td>\n",
       "      <td>0.240330</td>\n",
       "    </tr>\n",
       "  </tbody>\n",
       "</table>\n",
       "</div>"
      ],
      "text/plain": [
       "    city   param  badbids_share  rides_at_risk\n",
       "0   4515      0%       0.726504       0.634496\n",
       "1   4515      5%       0.615343       0.482935\n",
       "2   4515     10%       0.514078       0.373735\n",
       "3   4515  12.50%       0.464603       0.325644\n",
       "4   4515     15%       0.422331       0.289740\n",
       "5   4180      0%       0.665002       0.578100\n",
       "6   4180      5%       0.515468       0.388935\n",
       "7   4180     10%       0.414221       0.283353\n",
       "8   4180  12.50%       0.354519       0.228205\n",
       "9   4180     15%       0.303058       0.184596\n",
       "10  5548      0%       0.596496       0.534414\n",
       "11  5548      5%       0.520094       0.444431\n",
       "12  5548     10%       0.427281       0.334655\n",
       "13  5548  12.50%       0.389931       0.294700\n",
       "14  5548     15%       0.349761       0.255538\n",
       "15  4196      0%       0.797754       0.733334\n",
       "16  4196      5%       0.699251       0.590460\n",
       "17  4196     10%       0.601929       0.456699\n",
       "18  4196  12.50%       0.549638       0.394072\n",
       "19  4196     15%       0.504859       0.343482\n",
       "20  4241      0%       0.679242       0.567348\n",
       "21  4241      5%       0.593425       0.469804\n",
       "22  4241     10%       0.464047       0.323267\n",
       "23  4241  12.50%       0.418264       0.281517\n",
       "24  4241     15%       0.371245       0.240330"
      ]
     },
     "execution_count": 128,
     "metadata": {},
     "output_type": "execute_result"
    }
   ],
   "source": [
    "df_combined[:25]"
   ]
  },
  {
   "cell_type": "code",
   "execution_count": null,
   "metadata": {},
   "outputs": [],
   "source": []
  }
 ],
 "metadata": {
  "kernelspec": {
   "display_name": "py38",
   "language": "python",
   "name": "python3"
  },
  "language_info": {
   "codemirror_mode": {
    "name": "ipython",
    "version": 3
   },
   "file_extension": ".py",
   "mimetype": "text/x-python",
   "name": "python",
   "nbconvert_exporter": "python",
   "pygments_lexer": "ipython3",
   "version": "3.8.19"
  }
 },
 "nbformat": 4,
 "nbformat_minor": 2
}
